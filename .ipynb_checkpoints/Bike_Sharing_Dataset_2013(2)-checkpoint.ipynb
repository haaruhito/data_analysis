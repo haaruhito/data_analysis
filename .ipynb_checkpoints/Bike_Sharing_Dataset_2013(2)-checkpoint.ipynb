{
 "cells": [
  {
   "cell_type": "markdown",
   "metadata": {},
   "source": [
    "\n",
    "# <span style = \"color:blue\">Bike Sharing Dataset</span>\n",
    "==========================================\n",
    "\n",
    "\n",
    "Hadi Fanaee-T\n",
    "\n",
    "Laboratory of Artificial Intelligence and Decision Support (LIAAD), University of Porto\n",
    "INESC Porto, Campus da FEUP\n",
    "Rua Dr. Roberto Frias, 378\n",
    "4200 - 465 Porto, Portugal\n",
    "\n",
    "\n",
    "\n",
    "\n",
    "=========================================\n",
    "# <span style = \"color:blue\">Data Set</span>\n",
    "=========================================\n",
    "\n",
    "Renting bicycles is largely correlated to environment and seasons for instance day of week, hour of day, weather conditions, etc. The dataset is related to two-year historical log corresponding to years 2011 and 2012 from Capital Bikeshare system, Washington D.C., USA which is publicly available in http://capitalbikeshare.com/system-data. The dataset has been aggregated the data on two hourly and daily basis but for this analysis we have taken only dataset on hourly basis. Weather information are extracted from http://www.freemeteo.com. \n",
    "\n",
    "\n",
    "=========================================\n",
    "# <span style = \"color:blue\">License </span>\n",
    "=========================================\n",
    "\n",
    "Use of this dataset in publications must be cited to the following publication:\n",
    "\n",
    "[1] Fanaee-T, Hadi, and Gama, Joao, \"Event labeling combining ensemble detectors and background knowledge\", Progress in Artificial Intelligence (2013): pp. 1-15, Springer Berlin Heidelberg, doi:10.1007/s13748-013-0040-3.\n",
    "\n",
    "@article{\n",
    "\tyear={2013},\n",
    "\tissn={2192-6352},\n",
    "\tjournal={Progress in Artificial Intelligence},\n",
    "\tdoi={10.1007/s13748-013-0040-3},\n",
    "\ttitle={Event labeling combining ensemble detectors and background knowledge},\n",
    "\turl={http://dx.doi.org/10.1007/s13748-013-0040-3},\n",
    "\tpublisher={Springer Berlin Heidelberg},\n",
    "\tkeywords={Event labeling; Event detection; Ensemble learning; Background knowledge},\n",
    "\tauthor={Fanaee-T, Hadi and Gama, Joao},\n",
    "\tpages={1-15}\n",
    "}\n",
    "\n"
   ]
  },
  {
   "cell_type": "markdown",
   "metadata": {},
   "source": [
    "=========================================\n",
    "# <span style = \"color:blue\">Dataset characteristics</span>\n",
    "=========================================\t\n",
    "We have choosen hour.csv for the analysis. The variables used in the dataset are given below\n",
    "\n",
    "**instant** record index\n",
    "\n",
    "**dteday** : date\n",
    "\n",
    "**season** : season (1:springer, 2:summer, 3:fall, 4:winter)\n",
    "\n",
    "**yr** : year (0: 2011, 1:2012)\n",
    "\n",
    "**mnth** : month ( 1 to 12)\n",
    "\n",
    "**hr** : hour (0 to 23)\n",
    "\n",
    "**holiday** : weather day is holiday or not (extracted from \n",
    "\n",
    "http://dchr.dc.gov/page/holiday-schedule)\n",
    "\n",
    "**weekday** : day of the week (1 = Monday)\n",
    "\n",
    "**workingday** : if day is neither weekend nor holiday is 1, otherwise is 0.\n",
    "\n",
    "**weathersit** : \n",
    "\t\t- 1: Clear, Few clouds, Partly cloudy, Partly cloudy\n",
    "\t\t- 2: Mist + Cloudy, Mist + Broken clouds, Mist + Few clouds, Mist\n",
    "\t\t- 3: Light Snow, Light Rain + Thunderstorm + Scattered clouds, Light Rain + Scattered clouds\n",
    "\t\t- 4: Heavy Rain + Ice Pallets + Thunderstorm + Mist, Snow + Fog\n",
    "        \n",
    "**temp** : Normalized temperature in Celsius. The values are divided to 41 (max)\n",
    "\n",
    "**atemp**: Normalized feeling temperature in Celsius. The values are divided to 50 (max)\n",
    "\n",
    "**hum**: Normalized humidity. The values are divided to 100 (max)\n",
    "\n",
    "**windspeed**: Normalized wind speed. The values are divided to 67 (max)\n",
    "\n",
    "**casual**: count of casual users\n",
    "\n",
    "**registered**: count of registered users\n",
    "\n",
    "**cnt**: count of total rental bikes including both casual and registered\n"
   ]
  },
  {
   "cell_type": "markdown",
   "metadata": {},
   "source": [
    "<span style=\"background-color: #DAF7A6\">The aim of this project is to analyze the Hour.csv dataset. The analysis will be made based on the use of registered and casual bicycles in an hour, day, week, month, year,holidays and weather. We will also see correlation of different variables on the use of bicycles.</span>\n",
    "\n",
    "\n"
   ]
  },
  {
   "cell_type": "markdown",
   "metadata": {
    "ExecuteTime": {
     "end_time": "2020-12-05T17:00:08.928193Z",
     "start_time": "2020-12-05T17:00:08.924908Z"
    }
   },
   "source": [
    "# <span style=\"background-color: #CBBDB6\">Importing Libraries</span>"
   ]
  },
  {
   "cell_type": "code",
   "execution_count": 1,
   "metadata": {
    "ExecuteTime": {
     "end_time": "2020-12-10T11:13:47.406799Z",
     "start_time": "2020-12-10T11:13:44.736866Z"
    }
   },
   "outputs": [
    {
     "data": {
      "text/html": [
       "        <script type=\"text/javascript\">\n",
       "        window.PlotlyConfig = {MathJaxConfig: 'local'};\n",
       "        if (window.MathJax) {MathJax.Hub.Config({SVG: {font: \"STIX-Web\"}});}\n",
       "        if (typeof require !== 'undefined') {\n",
       "        require.undef(\"plotly\");\n",
       "        requirejs.config({\n",
       "            paths: {\n",
       "                'plotly': ['https://cdn.plot.ly/plotly-latest.min']\n",
       "            }\n",
       "        });\n",
       "        require(['plotly'], function(Plotly) {\n",
       "            window._Plotly = Plotly;\n",
       "        });\n",
       "        }\n",
       "        </script>\n",
       "        "
      ]
     },
     "metadata": {},
     "output_type": "display_data"
    },
    {
     "data": {
      "text/html": [
       "        <script type=\"text/javascript\">\n",
       "        window.PlotlyConfig = {MathJaxConfig: 'local'};\n",
       "        if (window.MathJax) {MathJax.Hub.Config({SVG: {font: \"STIX-Web\"}});}\n",
       "        if (typeof require !== 'undefined') {\n",
       "        require.undef(\"plotly\");\n",
       "        requirejs.config({\n",
       "            paths: {\n",
       "                'plotly': ['https://cdn.plot.ly/plotly-latest.min']\n",
       "            }\n",
       "        });\n",
       "        require(['plotly'], function(Plotly) {\n",
       "            window._Plotly = Plotly;\n",
       "        });\n",
       "        }\n",
       "        </script>\n",
       "        "
      ]
     },
     "metadata": {},
     "output_type": "display_data"
    }
   ],
   "source": [
    "import pandas as pd\n",
    "import numpy as np\n",
    "#%matplotlib inline\n",
    "#import matplotlib\n",
    "#import matplotlib.pyplot as plt\n",
    "#import seaborn as sns\n",
    "\n",
    "from plotly.offline import iplot, init_notebook_mode\n",
    "import cufflinks as cf\n",
    "init_notebook_mode(connected=True)\n",
    "cf.go_offline(connected=True)\n",
    "cf.set_config_file(theme=\"pearl\")\n"
   ]
  },
  {
   "cell_type": "markdown",
   "metadata": {},
   "source": [
    "# <span style=\"background-color: #CBBDB6\">Loading dataset"
   ]
  },
  {
   "cell_type": "code",
   "execution_count": 2,
   "metadata": {
    "ExecuteTime": {
     "end_time": "2020-12-10T11:13:47.543189Z",
     "start_time": "2020-12-10T11:13:47.412696Z"
    }
   },
   "outputs": [
    {
     "data": {
      "text/html": [
       "<div>\n",
       "<style scoped>\n",
       "    .dataframe tbody tr th:only-of-type {\n",
       "        vertical-align: middle;\n",
       "    }\n",
       "\n",
       "    .dataframe tbody tr th {\n",
       "        vertical-align: top;\n",
       "    }\n",
       "\n",
       "    .dataframe thead th {\n",
       "        text-align: right;\n",
       "    }\n",
       "</style>\n",
       "<table border=\"1\" class=\"dataframe\">\n",
       "  <thead>\n",
       "    <tr style=\"text-align: right;\">\n",
       "      <th></th>\n",
       "      <th>dteday</th>\n",
       "      <th>season</th>\n",
       "      <th>yr</th>\n",
       "      <th>mnth</th>\n",
       "      <th>hr</th>\n",
       "      <th>holiday</th>\n",
       "      <th>weekday</th>\n",
       "      <th>workingday</th>\n",
       "      <th>weathersit</th>\n",
       "      <th>temp</th>\n",
       "      <th>atemp</th>\n",
       "      <th>hum</th>\n",
       "      <th>windspeed</th>\n",
       "      <th>casual</th>\n",
       "      <th>registered</th>\n",
       "      <th>cnt</th>\n",
       "    </tr>\n",
       "    <tr>\n",
       "      <th>instant</th>\n",
       "      <th></th>\n",
       "      <th></th>\n",
       "      <th></th>\n",
       "      <th></th>\n",
       "      <th></th>\n",
       "      <th></th>\n",
       "      <th></th>\n",
       "      <th></th>\n",
       "      <th></th>\n",
       "      <th></th>\n",
       "      <th></th>\n",
       "      <th></th>\n",
       "      <th></th>\n",
       "      <th></th>\n",
       "      <th></th>\n",
       "      <th></th>\n",
       "    </tr>\n",
       "  </thead>\n",
       "  <tbody>\n",
       "    <tr>\n",
       "      <th>1</th>\n",
       "      <td>2011-01-01</td>\n",
       "      <td>1</td>\n",
       "      <td>0</td>\n",
       "      <td>1</td>\n",
       "      <td>0</td>\n",
       "      <td>0</td>\n",
       "      <td>6</td>\n",
       "      <td>0</td>\n",
       "      <td>1</td>\n",
       "      <td>0.24</td>\n",
       "      <td>0.2879</td>\n",
       "      <td>0.81</td>\n",
       "      <td>0.0000</td>\n",
       "      <td>3</td>\n",
       "      <td>13</td>\n",
       "      <td>16</td>\n",
       "    </tr>\n",
       "    <tr>\n",
       "      <th>2</th>\n",
       "      <td>2011-01-01</td>\n",
       "      <td>1</td>\n",
       "      <td>0</td>\n",
       "      <td>1</td>\n",
       "      <td>1</td>\n",
       "      <td>0</td>\n",
       "      <td>6</td>\n",
       "      <td>0</td>\n",
       "      <td>1</td>\n",
       "      <td>0.22</td>\n",
       "      <td>0.2727</td>\n",
       "      <td>0.80</td>\n",
       "      <td>0.0000</td>\n",
       "      <td>8</td>\n",
       "      <td>32</td>\n",
       "      <td>40</td>\n",
       "    </tr>\n",
       "    <tr>\n",
       "      <th>3</th>\n",
       "      <td>2011-01-01</td>\n",
       "      <td>1</td>\n",
       "      <td>0</td>\n",
       "      <td>1</td>\n",
       "      <td>2</td>\n",
       "      <td>0</td>\n",
       "      <td>6</td>\n",
       "      <td>0</td>\n",
       "      <td>1</td>\n",
       "      <td>0.22</td>\n",
       "      <td>0.2727</td>\n",
       "      <td>0.80</td>\n",
       "      <td>0.0000</td>\n",
       "      <td>5</td>\n",
       "      <td>27</td>\n",
       "      <td>32</td>\n",
       "    </tr>\n",
       "    <tr>\n",
       "      <th>4</th>\n",
       "      <td>2011-01-01</td>\n",
       "      <td>1</td>\n",
       "      <td>0</td>\n",
       "      <td>1</td>\n",
       "      <td>3</td>\n",
       "      <td>0</td>\n",
       "      <td>6</td>\n",
       "      <td>0</td>\n",
       "      <td>1</td>\n",
       "      <td>0.24</td>\n",
       "      <td>0.2879</td>\n",
       "      <td>0.75</td>\n",
       "      <td>0.0000</td>\n",
       "      <td>3</td>\n",
       "      <td>10</td>\n",
       "      <td>13</td>\n",
       "    </tr>\n",
       "    <tr>\n",
       "      <th>5</th>\n",
       "      <td>2011-01-01</td>\n",
       "      <td>1</td>\n",
       "      <td>0</td>\n",
       "      <td>1</td>\n",
       "      <td>4</td>\n",
       "      <td>0</td>\n",
       "      <td>6</td>\n",
       "      <td>0</td>\n",
       "      <td>1</td>\n",
       "      <td>0.24</td>\n",
       "      <td>0.2879</td>\n",
       "      <td>0.75</td>\n",
       "      <td>0.0000</td>\n",
       "      <td>0</td>\n",
       "      <td>1</td>\n",
       "      <td>1</td>\n",
       "    </tr>\n",
       "    <tr>\n",
       "      <th>...</th>\n",
       "      <td>...</td>\n",
       "      <td>...</td>\n",
       "      <td>...</td>\n",
       "      <td>...</td>\n",
       "      <td>...</td>\n",
       "      <td>...</td>\n",
       "      <td>...</td>\n",
       "      <td>...</td>\n",
       "      <td>...</td>\n",
       "      <td>...</td>\n",
       "      <td>...</td>\n",
       "      <td>...</td>\n",
       "      <td>...</td>\n",
       "      <td>...</td>\n",
       "      <td>...</td>\n",
       "      <td>...</td>\n",
       "    </tr>\n",
       "    <tr>\n",
       "      <th>17375</th>\n",
       "      <td>2012-12-31</td>\n",
       "      <td>1</td>\n",
       "      <td>1</td>\n",
       "      <td>12</td>\n",
       "      <td>19</td>\n",
       "      <td>0</td>\n",
       "      <td>1</td>\n",
       "      <td>1</td>\n",
       "      <td>2</td>\n",
       "      <td>0.26</td>\n",
       "      <td>0.2576</td>\n",
       "      <td>0.60</td>\n",
       "      <td>0.1642</td>\n",
       "      <td>11</td>\n",
       "      <td>108</td>\n",
       "      <td>119</td>\n",
       "    </tr>\n",
       "    <tr>\n",
       "      <th>17376</th>\n",
       "      <td>2012-12-31</td>\n",
       "      <td>1</td>\n",
       "      <td>1</td>\n",
       "      <td>12</td>\n",
       "      <td>20</td>\n",
       "      <td>0</td>\n",
       "      <td>1</td>\n",
       "      <td>1</td>\n",
       "      <td>2</td>\n",
       "      <td>0.26</td>\n",
       "      <td>0.2576</td>\n",
       "      <td>0.60</td>\n",
       "      <td>0.1642</td>\n",
       "      <td>8</td>\n",
       "      <td>81</td>\n",
       "      <td>89</td>\n",
       "    </tr>\n",
       "    <tr>\n",
       "      <th>17377</th>\n",
       "      <td>2012-12-31</td>\n",
       "      <td>1</td>\n",
       "      <td>1</td>\n",
       "      <td>12</td>\n",
       "      <td>21</td>\n",
       "      <td>0</td>\n",
       "      <td>1</td>\n",
       "      <td>1</td>\n",
       "      <td>1</td>\n",
       "      <td>0.26</td>\n",
       "      <td>0.2576</td>\n",
       "      <td>0.60</td>\n",
       "      <td>0.1642</td>\n",
       "      <td>7</td>\n",
       "      <td>83</td>\n",
       "      <td>90</td>\n",
       "    </tr>\n",
       "    <tr>\n",
       "      <th>17378</th>\n",
       "      <td>2012-12-31</td>\n",
       "      <td>1</td>\n",
       "      <td>1</td>\n",
       "      <td>12</td>\n",
       "      <td>22</td>\n",
       "      <td>0</td>\n",
       "      <td>1</td>\n",
       "      <td>1</td>\n",
       "      <td>1</td>\n",
       "      <td>0.26</td>\n",
       "      <td>0.2727</td>\n",
       "      <td>0.56</td>\n",
       "      <td>0.1343</td>\n",
       "      <td>13</td>\n",
       "      <td>48</td>\n",
       "      <td>61</td>\n",
       "    </tr>\n",
       "    <tr>\n",
       "      <th>17379</th>\n",
       "      <td>2012-12-31</td>\n",
       "      <td>1</td>\n",
       "      <td>1</td>\n",
       "      <td>12</td>\n",
       "      <td>23</td>\n",
       "      <td>0</td>\n",
       "      <td>1</td>\n",
       "      <td>1</td>\n",
       "      <td>1</td>\n",
       "      <td>0.26</td>\n",
       "      <td>0.2727</td>\n",
       "      <td>0.65</td>\n",
       "      <td>0.1343</td>\n",
       "      <td>12</td>\n",
       "      <td>37</td>\n",
       "      <td>49</td>\n",
       "    </tr>\n",
       "  </tbody>\n",
       "</table>\n",
       "<p>17379 rows × 16 columns</p>\n",
       "</div>"
      ],
      "text/plain": [
       "             dteday  season  yr  mnth  hr  holiday  weekday  workingday  \\\n",
       "instant                                                                   \n",
       "1        2011-01-01       1   0     1   0        0        6           0   \n",
       "2        2011-01-01       1   0     1   1        0        6           0   \n",
       "3        2011-01-01       1   0     1   2        0        6           0   \n",
       "4        2011-01-01       1   0     1   3        0        6           0   \n",
       "5        2011-01-01       1   0     1   4        0        6           0   \n",
       "...             ...     ...  ..   ...  ..      ...      ...         ...   \n",
       "17375    2012-12-31       1   1    12  19        0        1           1   \n",
       "17376    2012-12-31       1   1    12  20        0        1           1   \n",
       "17377    2012-12-31       1   1    12  21        0        1           1   \n",
       "17378    2012-12-31       1   1    12  22        0        1           1   \n",
       "17379    2012-12-31       1   1    12  23        0        1           1   \n",
       "\n",
       "         weathersit  temp   atemp   hum  windspeed  casual  registered  cnt  \n",
       "instant                                                                      \n",
       "1                 1  0.24  0.2879  0.81     0.0000       3          13   16  \n",
       "2                 1  0.22  0.2727  0.80     0.0000       8          32   40  \n",
       "3                 1  0.22  0.2727  0.80     0.0000       5          27   32  \n",
       "4                 1  0.24  0.2879  0.75     0.0000       3          10   13  \n",
       "5                 1  0.24  0.2879  0.75     0.0000       0           1    1  \n",
       "...             ...   ...     ...   ...        ...     ...         ...  ...  \n",
       "17375             2  0.26  0.2576  0.60     0.1642      11         108  119  \n",
       "17376             2  0.26  0.2576  0.60     0.1642       8          81   89  \n",
       "17377             1  0.26  0.2576  0.60     0.1642       7          83   90  \n",
       "17378             1  0.26  0.2727  0.56     0.1343      13          48   61  \n",
       "17379             1  0.26  0.2727  0.65     0.1343      12          37   49  \n",
       "\n",
       "[17379 rows x 16 columns]"
      ]
     },
     "execution_count": 2,
     "metadata": {},
     "output_type": "execute_result"
    }
   ],
   "source": [
    "bike_share = pd.read_csv(\"hour.csv\",sep=',',index_col='instant')\n",
    "bike_share"
   ]
  },
  {
   "cell_type": "markdown",
   "metadata": {},
   "source": [
    "## <span style=\"background-color: #CBBDB6\">Dropping some columns"
   ]
  },
  {
   "cell_type": "code",
   "execution_count": 3,
   "metadata": {
    "ExecuteTime": {
     "end_time": "2020-12-10T11:13:47.567257Z",
     "start_time": "2020-12-10T11:13:47.552688Z"
    }
   },
   "outputs": [],
   "source": [
    "bike_share= bike_share.drop(columns=['yr','mnth'])"
   ]
  },
  {
   "cell_type": "code",
   "execution_count": 4,
   "metadata": {
    "ExecuteTime": {
     "end_time": "2020-12-10T11:13:47.603834Z",
     "start_time": "2020-12-10T11:13:47.583097Z"
    }
   },
   "outputs": [
    {
     "data": {
      "text/html": [
       "<div>\n",
       "<style scoped>\n",
       "    .dataframe tbody tr th:only-of-type {\n",
       "        vertical-align: middle;\n",
       "    }\n",
       "\n",
       "    .dataframe tbody tr th {\n",
       "        vertical-align: top;\n",
       "    }\n",
       "\n",
       "    .dataframe thead th {\n",
       "        text-align: right;\n",
       "    }\n",
       "</style>\n",
       "<table border=\"1\" class=\"dataframe\">\n",
       "  <thead>\n",
       "    <tr style=\"text-align: right;\">\n",
       "      <th></th>\n",
       "      <th>dteday</th>\n",
       "      <th>season</th>\n",
       "      <th>hr</th>\n",
       "      <th>holiday</th>\n",
       "      <th>weekday</th>\n",
       "      <th>workingday</th>\n",
       "      <th>weathersit</th>\n",
       "      <th>temp</th>\n",
       "      <th>atemp</th>\n",
       "      <th>hum</th>\n",
       "      <th>windspeed</th>\n",
       "      <th>casual</th>\n",
       "      <th>registered</th>\n",
       "      <th>cnt</th>\n",
       "    </tr>\n",
       "    <tr>\n",
       "      <th>instant</th>\n",
       "      <th></th>\n",
       "      <th></th>\n",
       "      <th></th>\n",
       "      <th></th>\n",
       "      <th></th>\n",
       "      <th></th>\n",
       "      <th></th>\n",
       "      <th></th>\n",
       "      <th></th>\n",
       "      <th></th>\n",
       "      <th></th>\n",
       "      <th></th>\n",
       "      <th></th>\n",
       "      <th></th>\n",
       "    </tr>\n",
       "  </thead>\n",
       "  <tbody>\n",
       "    <tr>\n",
       "      <th>1</th>\n",
       "      <td>2011-01-01</td>\n",
       "      <td>1</td>\n",
       "      <td>0</td>\n",
       "      <td>0</td>\n",
       "      <td>6</td>\n",
       "      <td>0</td>\n",
       "      <td>1</td>\n",
       "      <td>0.24</td>\n",
       "      <td>0.2879</td>\n",
       "      <td>0.81</td>\n",
       "      <td>0.0</td>\n",
       "      <td>3</td>\n",
       "      <td>13</td>\n",
       "      <td>16</td>\n",
       "    </tr>\n",
       "    <tr>\n",
       "      <th>2</th>\n",
       "      <td>2011-01-01</td>\n",
       "      <td>1</td>\n",
       "      <td>1</td>\n",
       "      <td>0</td>\n",
       "      <td>6</td>\n",
       "      <td>0</td>\n",
       "      <td>1</td>\n",
       "      <td>0.22</td>\n",
       "      <td>0.2727</td>\n",
       "      <td>0.80</td>\n",
       "      <td>0.0</td>\n",
       "      <td>8</td>\n",
       "      <td>32</td>\n",
       "      <td>40</td>\n",
       "    </tr>\n",
       "    <tr>\n",
       "      <th>3</th>\n",
       "      <td>2011-01-01</td>\n",
       "      <td>1</td>\n",
       "      <td>2</td>\n",
       "      <td>0</td>\n",
       "      <td>6</td>\n",
       "      <td>0</td>\n",
       "      <td>1</td>\n",
       "      <td>0.22</td>\n",
       "      <td>0.2727</td>\n",
       "      <td>0.80</td>\n",
       "      <td>0.0</td>\n",
       "      <td>5</td>\n",
       "      <td>27</td>\n",
       "      <td>32</td>\n",
       "    </tr>\n",
       "    <tr>\n",
       "      <th>4</th>\n",
       "      <td>2011-01-01</td>\n",
       "      <td>1</td>\n",
       "      <td>3</td>\n",
       "      <td>0</td>\n",
       "      <td>6</td>\n",
       "      <td>0</td>\n",
       "      <td>1</td>\n",
       "      <td>0.24</td>\n",
       "      <td>0.2879</td>\n",
       "      <td>0.75</td>\n",
       "      <td>0.0</td>\n",
       "      <td>3</td>\n",
       "      <td>10</td>\n",
       "      <td>13</td>\n",
       "    </tr>\n",
       "    <tr>\n",
       "      <th>5</th>\n",
       "      <td>2011-01-01</td>\n",
       "      <td>1</td>\n",
       "      <td>4</td>\n",
       "      <td>0</td>\n",
       "      <td>6</td>\n",
       "      <td>0</td>\n",
       "      <td>1</td>\n",
       "      <td>0.24</td>\n",
       "      <td>0.2879</td>\n",
       "      <td>0.75</td>\n",
       "      <td>0.0</td>\n",
       "      <td>0</td>\n",
       "      <td>1</td>\n",
       "      <td>1</td>\n",
       "    </tr>\n",
       "  </tbody>\n",
       "</table>\n",
       "</div>"
      ],
      "text/plain": [
       "             dteday  season  hr  holiday  weekday  workingday  weathersit  \\\n",
       "instant                                                                     \n",
       "1        2011-01-01       1   0        0        6           0           1   \n",
       "2        2011-01-01       1   1        0        6           0           1   \n",
       "3        2011-01-01       1   2        0        6           0           1   \n",
       "4        2011-01-01       1   3        0        6           0           1   \n",
       "5        2011-01-01       1   4        0        6           0           1   \n",
       "\n",
       "         temp   atemp   hum  windspeed  casual  registered  cnt  \n",
       "instant                                                          \n",
       "1        0.24  0.2879  0.81        0.0       3          13   16  \n",
       "2        0.22  0.2727  0.80        0.0       8          32   40  \n",
       "3        0.22  0.2727  0.80        0.0       5          27   32  \n",
       "4        0.24  0.2879  0.75        0.0       3          10   13  \n",
       "5        0.24  0.2879  0.75        0.0       0           1    1  "
      ]
     },
     "execution_count": 4,
     "metadata": {},
     "output_type": "execute_result"
    }
   ],
   "source": [
    "bike_share.head()"
   ]
  },
  {
   "cell_type": "markdown",
   "metadata": {},
   "source": [
    "<span style=\"background-color: #DAF7A6\"> From the above table, we can see that the data has been collected every hour, 24 times a day starting from January 1 00:00, 2011 which is Saturday, the 6th day of the week. </span>"
   ]
  },
  {
   "cell_type": "markdown",
   "metadata": {},
   "source": [
    "# <span style=\"background-color: #CBBDB6\">Data Structure"
   ]
  },
  {
   "cell_type": "code",
   "execution_count": 5,
   "metadata": {
    "ExecuteTime": {
     "end_time": "2020-12-10T11:13:47.628857Z",
     "start_time": "2020-12-10T11:13:47.614451Z"
    }
   },
   "outputs": [
    {
     "data": {
      "text/plain": [
       "(17379, 14)"
      ]
     },
     "execution_count": 5,
     "metadata": {},
     "output_type": "execute_result"
    }
   ],
   "source": [
    "# Lets see the shape of the dataset\n",
    "bike_share.shape"
   ]
  },
  {
   "cell_type": "code",
   "execution_count": 6,
   "metadata": {
    "ExecuteTime": {
     "end_time": "2020-12-10T11:13:47.649850Z",
     "start_time": "2020-12-10T11:13:47.635392Z"
    }
   },
   "outputs": [
    {
     "data": {
      "text/plain": [
       "Index(['dteday', 'season', 'hr', 'holiday', 'weekday', 'workingday',\n",
       "       'weathersit', 'temp', 'atemp', 'hum', 'windspeed', 'casual',\n",
       "       'registered', 'cnt'],\n",
       "      dtype='object')"
      ]
     },
     "execution_count": 6,
     "metadata": {},
     "output_type": "execute_result"
    }
   ],
   "source": [
    "# Lets check the columns\n",
    "bike_share.columns"
   ]
  },
  {
   "cell_type": "code",
   "execution_count": 7,
   "metadata": {
    "ExecuteTime": {
     "end_time": "2020-12-10T11:13:47.688434Z",
     "start_time": "2020-12-10T11:13:47.656014Z"
    }
   },
   "outputs": [
    {
     "name": "stdout",
     "output_type": "stream",
     "text": [
      "<class 'pandas.core.frame.DataFrame'>\n",
      "Int64Index: 17379 entries, 1 to 17379\n",
      "Data columns (total 14 columns):\n",
      " #   Column      Non-Null Count  Dtype  \n",
      "---  ------      --------------  -----  \n",
      " 0   dteday      17379 non-null  object \n",
      " 1   season      17379 non-null  int64  \n",
      " 2   hr          17379 non-null  int64  \n",
      " 3   holiday     17379 non-null  int64  \n",
      " 4   weekday     17379 non-null  int64  \n",
      " 5   workingday  17379 non-null  int64  \n",
      " 6   weathersit  17379 non-null  int64  \n",
      " 7   temp        17379 non-null  float64\n",
      " 8   atemp       17379 non-null  float64\n",
      " 9   hum         17379 non-null  float64\n",
      " 10  windspeed   17379 non-null  float64\n",
      " 11  casual      17379 non-null  int64  \n",
      " 12  registered  17379 non-null  int64  \n",
      " 13  cnt         17379 non-null  int64  \n",
      "dtypes: float64(4), int64(9), object(1)\n",
      "memory usage: 2.0+ MB\n"
     ]
    }
   ],
   "source": [
    "# Lets check information of the dataset\n",
    "bike_share.info()"
   ]
  },
  {
   "cell_type": "markdown",
   "metadata": {},
   "source": [
    "\n",
    "<span style=\"background-color: #DAF7A6\">From the bike_share.info, we can see that there are 17379 rows and 16 different columns. There are 3 different data types used i.e. object, int64 and float64. We can also notice that there are no 'Null' values in the whole dataset. </span>"
   ]
  },
  {
   "cell_type": "code",
   "execution_count": 8,
   "metadata": {
    "ExecuteTime": {
     "end_time": "2020-12-10T11:13:47.719509Z",
     "start_time": "2020-12-10T11:13:47.698664Z"
    }
   },
   "outputs": [],
   "source": [
    "# Converting date as datetime format\n",
    "bike_share['dteday'] = bike_share['dteday'].astype('datetime64')\n"
   ]
  },
  {
   "cell_type": "code",
   "execution_count": 9,
   "metadata": {
    "ExecuteTime": {
     "end_time": "2020-12-10T11:13:47.807695Z",
     "start_time": "2020-12-10T11:13:47.727127Z"
    }
   },
   "outputs": [
    {
     "data": {
      "text/html": [
       "<div>\n",
       "<style scoped>\n",
       "    .dataframe tbody tr th:only-of-type {\n",
       "        vertical-align: middle;\n",
       "    }\n",
       "\n",
       "    .dataframe tbody tr th {\n",
       "        vertical-align: top;\n",
       "    }\n",
       "\n",
       "    .dataframe thead th {\n",
       "        text-align: right;\n",
       "    }\n",
       "</style>\n",
       "<table border=\"1\" class=\"dataframe\">\n",
       "  <thead>\n",
       "    <tr style=\"text-align: right;\">\n",
       "      <th></th>\n",
       "      <th>season</th>\n",
       "      <th>hr</th>\n",
       "      <th>holiday</th>\n",
       "      <th>weekday</th>\n",
       "      <th>workingday</th>\n",
       "      <th>weathersit</th>\n",
       "      <th>temp</th>\n",
       "      <th>atemp</th>\n",
       "      <th>hum</th>\n",
       "      <th>windspeed</th>\n",
       "      <th>casual</th>\n",
       "      <th>registered</th>\n",
       "      <th>cnt</th>\n",
       "    </tr>\n",
       "  </thead>\n",
       "  <tbody>\n",
       "    <tr>\n",
       "      <th>count</th>\n",
       "      <td>17379.000000</td>\n",
       "      <td>17379.000000</td>\n",
       "      <td>17379.000000</td>\n",
       "      <td>17379.000000</td>\n",
       "      <td>17379.000000</td>\n",
       "      <td>17379.000000</td>\n",
       "      <td>17379.000000</td>\n",
       "      <td>17379.000000</td>\n",
       "      <td>17379.000000</td>\n",
       "      <td>17379.000000</td>\n",
       "      <td>17379.000000</td>\n",
       "      <td>17379.000000</td>\n",
       "      <td>17379.000000</td>\n",
       "    </tr>\n",
       "    <tr>\n",
       "      <th>mean</th>\n",
       "      <td>2.501640</td>\n",
       "      <td>11.546752</td>\n",
       "      <td>0.028770</td>\n",
       "      <td>3.003683</td>\n",
       "      <td>0.682721</td>\n",
       "      <td>1.425283</td>\n",
       "      <td>0.496987</td>\n",
       "      <td>0.475775</td>\n",
       "      <td>0.627229</td>\n",
       "      <td>0.190098</td>\n",
       "      <td>35.676218</td>\n",
       "      <td>153.786869</td>\n",
       "      <td>189.463088</td>\n",
       "    </tr>\n",
       "    <tr>\n",
       "      <th>std</th>\n",
       "      <td>1.106918</td>\n",
       "      <td>6.914405</td>\n",
       "      <td>0.167165</td>\n",
       "      <td>2.005771</td>\n",
       "      <td>0.465431</td>\n",
       "      <td>0.639357</td>\n",
       "      <td>0.192556</td>\n",
       "      <td>0.171850</td>\n",
       "      <td>0.192930</td>\n",
       "      <td>0.122340</td>\n",
       "      <td>49.305030</td>\n",
       "      <td>151.357286</td>\n",
       "      <td>181.387599</td>\n",
       "    </tr>\n",
       "    <tr>\n",
       "      <th>min</th>\n",
       "      <td>1.000000</td>\n",
       "      <td>0.000000</td>\n",
       "      <td>0.000000</td>\n",
       "      <td>0.000000</td>\n",
       "      <td>0.000000</td>\n",
       "      <td>1.000000</td>\n",
       "      <td>0.020000</td>\n",
       "      <td>0.000000</td>\n",
       "      <td>0.000000</td>\n",
       "      <td>0.000000</td>\n",
       "      <td>0.000000</td>\n",
       "      <td>0.000000</td>\n",
       "      <td>1.000000</td>\n",
       "    </tr>\n",
       "    <tr>\n",
       "      <th>25%</th>\n",
       "      <td>2.000000</td>\n",
       "      <td>6.000000</td>\n",
       "      <td>0.000000</td>\n",
       "      <td>1.000000</td>\n",
       "      <td>0.000000</td>\n",
       "      <td>1.000000</td>\n",
       "      <td>0.340000</td>\n",
       "      <td>0.333300</td>\n",
       "      <td>0.480000</td>\n",
       "      <td>0.104500</td>\n",
       "      <td>4.000000</td>\n",
       "      <td>34.000000</td>\n",
       "      <td>40.000000</td>\n",
       "    </tr>\n",
       "    <tr>\n",
       "      <th>50%</th>\n",
       "      <td>3.000000</td>\n",
       "      <td>12.000000</td>\n",
       "      <td>0.000000</td>\n",
       "      <td>3.000000</td>\n",
       "      <td>1.000000</td>\n",
       "      <td>1.000000</td>\n",
       "      <td>0.500000</td>\n",
       "      <td>0.484800</td>\n",
       "      <td>0.630000</td>\n",
       "      <td>0.194000</td>\n",
       "      <td>17.000000</td>\n",
       "      <td>115.000000</td>\n",
       "      <td>142.000000</td>\n",
       "    </tr>\n",
       "    <tr>\n",
       "      <th>75%</th>\n",
       "      <td>3.000000</td>\n",
       "      <td>18.000000</td>\n",
       "      <td>0.000000</td>\n",
       "      <td>5.000000</td>\n",
       "      <td>1.000000</td>\n",
       "      <td>2.000000</td>\n",
       "      <td>0.660000</td>\n",
       "      <td>0.621200</td>\n",
       "      <td>0.780000</td>\n",
       "      <td>0.253700</td>\n",
       "      <td>48.000000</td>\n",
       "      <td>220.000000</td>\n",
       "      <td>281.000000</td>\n",
       "    </tr>\n",
       "    <tr>\n",
       "      <th>max</th>\n",
       "      <td>4.000000</td>\n",
       "      <td>23.000000</td>\n",
       "      <td>1.000000</td>\n",
       "      <td>6.000000</td>\n",
       "      <td>1.000000</td>\n",
       "      <td>4.000000</td>\n",
       "      <td>1.000000</td>\n",
       "      <td>1.000000</td>\n",
       "      <td>1.000000</td>\n",
       "      <td>0.850700</td>\n",
       "      <td>367.000000</td>\n",
       "      <td>886.000000</td>\n",
       "      <td>977.000000</td>\n",
       "    </tr>\n",
       "  </tbody>\n",
       "</table>\n",
       "</div>"
      ],
      "text/plain": [
       "             season            hr       holiday       weekday    workingday  \\\n",
       "count  17379.000000  17379.000000  17379.000000  17379.000000  17379.000000   \n",
       "mean       2.501640     11.546752      0.028770      3.003683      0.682721   \n",
       "std        1.106918      6.914405      0.167165      2.005771      0.465431   \n",
       "min        1.000000      0.000000      0.000000      0.000000      0.000000   \n",
       "25%        2.000000      6.000000      0.000000      1.000000      0.000000   \n",
       "50%        3.000000     12.000000      0.000000      3.000000      1.000000   \n",
       "75%        3.000000     18.000000      0.000000      5.000000      1.000000   \n",
       "max        4.000000     23.000000      1.000000      6.000000      1.000000   \n",
       "\n",
       "         weathersit          temp         atemp           hum     windspeed  \\\n",
       "count  17379.000000  17379.000000  17379.000000  17379.000000  17379.000000   \n",
       "mean       1.425283      0.496987      0.475775      0.627229      0.190098   \n",
       "std        0.639357      0.192556      0.171850      0.192930      0.122340   \n",
       "min        1.000000      0.020000      0.000000      0.000000      0.000000   \n",
       "25%        1.000000      0.340000      0.333300      0.480000      0.104500   \n",
       "50%        1.000000      0.500000      0.484800      0.630000      0.194000   \n",
       "75%        2.000000      0.660000      0.621200      0.780000      0.253700   \n",
       "max        4.000000      1.000000      1.000000      1.000000      0.850700   \n",
       "\n",
       "             casual    registered           cnt  \n",
       "count  17379.000000  17379.000000  17379.000000  \n",
       "mean      35.676218    153.786869    189.463088  \n",
       "std       49.305030    151.357286    181.387599  \n",
       "min        0.000000      0.000000      1.000000  \n",
       "25%        4.000000     34.000000     40.000000  \n",
       "50%       17.000000    115.000000    142.000000  \n",
       "75%       48.000000    220.000000    281.000000  \n",
       "max      367.000000    886.000000    977.000000  "
      ]
     },
     "execution_count": 9,
     "metadata": {},
     "output_type": "execute_result"
    }
   ],
   "source": [
    "# Let us check the description of the dataset\n",
    "bike_share.describe()"
   ]
  },
  {
   "cell_type": "markdown",
   "metadata": {},
   "source": [
    "# <span style=\"background-color: #CBBDB6\">Data Analysis"
   ]
  },
  {
   "cell_type": "code",
   "execution_count": 10,
   "metadata": {
    "ExecuteTime": {
     "end_time": "2020-12-10T11:13:47.830103Z",
     "start_time": "2020-12-10T11:13:47.818424Z"
    }
   },
   "outputs": [],
   "source": [
    "bikes= bike_share.set_index(keys='dteday')"
   ]
  },
  {
   "cell_type": "markdown",
   "metadata": {},
   "source": [
    "<span style=\"background-color: #DAF7A6\">The use of bicycles is highly related with weather, temperature and so on. The variables of the dataset is much correlated.</span>"
   ]
  },
  {
   "cell_type": "code",
   "execution_count": 11,
   "metadata": {
    "ExecuteTime": {
     "end_time": "2020-12-10T11:13:47.859490Z",
     "start_time": "2020-12-10T11:13:47.836307Z"
    }
   },
   "outputs": [],
   "source": [
    "corr_ = bikes.corr()\n",
    "#corr_"
   ]
  },
  {
   "cell_type": "code",
   "execution_count": 12,
   "metadata": {
    "ExecuteTime": {
     "end_time": "2020-12-10T11:13:48.718552Z",
     "start_time": "2020-12-10T11:13:47.863927Z"
    }
   },
   "outputs": [
    {
     "data": {
      "application/vnd.plotly.v1+json": {
       "config": {
        "linkText": "Export to plot.ly",
        "plotlyServerURL": "https://plot.ly",
        "showLink": false
       },
       "data": [
        {
         "colorscale": [
          [
           0,
           "rgb(161, 105, 40)"
          ],
          [
           0.16666666666666666,
           "rgb(189, 146, 90)"
          ],
          [
           0.3333333333333333,
           "rgb(214, 189, 141)"
          ],
          [
           0.5,
           "rgb(237, 234, 194)"
          ],
          [
           0.6666666666666666,
           "rgb(181, 200, 184)"
          ],
          [
           0.8333333333333334,
           "rgb(121, 167, 172)"
          ],
          [
           1,
           "rgb(40, 135, 161)"
          ]
         ],
         "reversescale": false,
         "showscale": true,
         "type": "heatmap",
         "x": [
          "season",
          "hr",
          "holiday",
          "weekday",
          "workingday",
          "weathersit",
          "temp",
          "atemp",
          "hum",
          "windspeed",
          "casual",
          "registered",
          "cnt"
         ],
         "y": [
          "season",
          "hr",
          "holiday",
          "weekday",
          "workingday",
          "weathersit",
          "temp",
          "atemp",
          "hum",
          "windspeed",
          "casual",
          "registered",
          "cnt"
         ],
         "z": [
          [
           1,
           -0.006116900866196044,
           -0.009584525869199445,
           -0.002335349725046903,
           0.01374310174705346,
           -0.014523552139126403,
           0.3120252372573753,
           0.31937981095884305,
           0.15062474540391602,
           -0.14977275116519193,
           0.1202064473500163,
           0.17422563340234126,
           0.17805573098265656
          ],
          [
           -0.006116900866196044,
           1,
           0.00047913603647980275,
           -0.003497739438328355,
           0.0022849981041432317,
           -0.020202528398647144,
           0.13760349386560533,
           0.13374996473160164,
           -0.2764978279048543,
           0.1372515675009353,
           0.3012017302565265,
           0.3741407098377585,
           0.39407149778293477
          ],
          [
           -0.009584525869199445,
           0.00047913603647980275,
           1,
           -0.10208779083597062,
           -0.25247136958190697,
           -0.01703611336058946,
           -0.02734047692109471,
           -0.030972736981218885,
           -0.01058846495262669,
           0.0039876315751634925,
           0.03156362837396409,
           -0.047345424408478914,
           -0.030927303249114347
          ],
          [
           -0.002335349725046903,
           -0.003497739438328355,
           -0.10208779083597062,
           1,
           0.03595507139844877,
           0.003310739703925736,
           -0.0017949269841715137,
           -0.008820944779344874,
           -0.03715826821856076,
           0.011501545297833139,
           0.032721415482021066,
           0.021577888472998855,
           0.02689985999084069
          ],
          [
           0.01374310174705346,
           0.0022849981041432317,
           -0.25247136958190697,
           0.03595507139844877,
           1,
           0.044672223797479683,
           0.055390317057236266,
           0.05466723464013966,
           0.015687512350784746,
           -0.011829789356500104,
           -0.3009424860259183,
           0.13432579113379545,
           0.03028436774790924
          ],
          [
           -0.014523552139126403,
           -0.020202528398647144,
           -0.01703611336058946,
           0.003310739703925736,
           0.044672223797479683,
           1,
           -0.10263993557968397,
           -0.10556310792660538,
           0.41813032875177486,
           0.026225652487408952,
           -0.15262788466438248,
           -0.12096551971788794,
           -0.1424261381380835
          ],
          [
           0.3120252372573753,
           0.13760349386560533,
           -0.02734047692109471,
           -0.0017949269841715137,
           0.055390317057236266,
           -0.10263993557968397,
           1,
           0.9876721390396368,
           -0.06988139105119401,
           -0.023125262485330592,
           0.4596156455448438,
           0.33536084904299257,
           0.4047722757786518
          ],
          [
           0.31937981095884305,
           0.13374996473160164,
           -0.030972736981218885,
           -0.008820944779344874,
           0.05466723464013966,
           -0.10556310792660538,
           0.9876721390396368,
           1,
           -0.051917695993365716,
           -0.06233604268695348,
           0.454080065332886,
           0.3325586354050848,
           0.40092930412661515
          ],
          [
           0.15062474540391602,
           -0.2764978279048543,
           -0.01058846495262669,
           -0.03715826821856076,
           0.015687512350784746,
           0.41813032875177486,
           -0.06988139105119401,
           -0.051917695993365716,
           1,
           -0.29010489506384607,
           -0.3470280928399293,
           -0.27393311849193425,
           -0.3229107408245637
          ],
          [
           -0.14977275116519193,
           0.1372515675009353,
           0.0039876315751634925,
           0.011501545297833139,
           -0.011829789356500104,
           0.026225652487408952,
           -0.023125262485330592,
           -0.06233604268695348,
           -0.29010489506384607,
           1,
           0.09028677509691518,
           0.08232084736312488,
           0.09323378392612207
          ],
          [
           0.1202064473500163,
           0.3012017302565265,
           0.03156362837396409,
           0.032721415482021066,
           -0.3009424860259183,
           -0.15262788466438248,
           0.4596156455448438,
           0.454080065332886,
           -0.3470280928399293,
           0.09028677509691518,
           1,
           0.5066177004294624,
           0.6945640779749465
          ],
          [
           0.17422563340234126,
           0.3741407098377585,
           -0.047345424408478914,
           0.021577888472998855,
           0.13432579113379545,
           -0.12096551971788794,
           0.33536084904299257,
           0.3325586354050848,
           -0.27393311849193425,
           0.08232084736312488,
           0.5066177004294624,
           1,
           0.972150730864298
          ],
          [
           0.17805573098265656,
           0.39407149778293477,
           -0.030927303249114347,
           0.02689985999084069,
           0.03028436774790924,
           -0.1424261381380835,
           0.4047722757786518,
           0.40092930412661515,
           -0.3229107408245637,
           0.09323378392612207,
           0.6945640779749465,
           0.972150730864298,
           1
          ]
         ]
        }
       ],
       "layout": {
        "annotations": [
         {
          "font": {
           "color": "#FFFFFF"
          },
          "showarrow": false,
          "text": "1.0",
          "x": "season",
          "xref": "x",
          "y": "season",
          "yref": "y"
         },
         {
          "font": {
           "color": "#FFFFFF"
          },
          "showarrow": false,
          "text": "-0.01",
          "x": "hr",
          "xref": "x",
          "y": "season",
          "yref": "y"
         },
         {
          "font": {
           "color": "#FFFFFF"
          },
          "showarrow": false,
          "text": "-0.01",
          "x": "holiday",
          "xref": "x",
          "y": "season",
          "yref": "y"
         },
         {
          "font": {
           "color": "#FFFFFF"
          },
          "showarrow": false,
          "text": "-0.0",
          "x": "weekday",
          "xref": "x",
          "y": "season",
          "yref": "y"
         },
         {
          "font": {
           "color": "#FFFFFF"
          },
          "showarrow": false,
          "text": "0.01",
          "x": "workingday",
          "xref": "x",
          "y": "season",
          "yref": "y"
         },
         {
          "font": {
           "color": "#FFFFFF"
          },
          "showarrow": false,
          "text": "-0.01",
          "x": "weathersit",
          "xref": "x",
          "y": "season",
          "yref": "y"
         },
         {
          "font": {
           "color": "#FFFFFF"
          },
          "showarrow": false,
          "text": "0.31",
          "x": "temp",
          "xref": "x",
          "y": "season",
          "yref": "y"
         },
         {
          "font": {
           "color": "#FFFFFF"
          },
          "showarrow": false,
          "text": "0.32",
          "x": "atemp",
          "xref": "x",
          "y": "season",
          "yref": "y"
         },
         {
          "font": {
           "color": "#FFFFFF"
          },
          "showarrow": false,
          "text": "0.15",
          "x": "hum",
          "xref": "x",
          "y": "season",
          "yref": "y"
         },
         {
          "font": {
           "color": "#FFFFFF"
          },
          "showarrow": false,
          "text": "-0.15",
          "x": "windspeed",
          "xref": "x",
          "y": "season",
          "yref": "y"
         },
         {
          "font": {
           "color": "#FFFFFF"
          },
          "showarrow": false,
          "text": "0.12",
          "x": "casual",
          "xref": "x",
          "y": "season",
          "yref": "y"
         },
         {
          "font": {
           "color": "#FFFFFF"
          },
          "showarrow": false,
          "text": "0.17",
          "x": "registered",
          "xref": "x",
          "y": "season",
          "yref": "y"
         },
         {
          "font": {
           "color": "#FFFFFF"
          },
          "showarrow": false,
          "text": "0.18",
          "x": "cnt",
          "xref": "x",
          "y": "season",
          "yref": "y"
         },
         {
          "font": {
           "color": "#FFFFFF"
          },
          "showarrow": false,
          "text": "-0.01",
          "x": "season",
          "xref": "x",
          "y": "hr",
          "yref": "y"
         },
         {
          "font": {
           "color": "#FFFFFF"
          },
          "showarrow": false,
          "text": "1.0",
          "x": "hr",
          "xref": "x",
          "y": "hr",
          "yref": "y"
         },
         {
          "font": {
           "color": "#FFFFFF"
          },
          "showarrow": false,
          "text": "0.0",
          "x": "holiday",
          "xref": "x",
          "y": "hr",
          "yref": "y"
         },
         {
          "font": {
           "color": "#FFFFFF"
          },
          "showarrow": false,
          "text": "-0.0",
          "x": "weekday",
          "xref": "x",
          "y": "hr",
          "yref": "y"
         },
         {
          "font": {
           "color": "#FFFFFF"
          },
          "showarrow": false,
          "text": "0.0",
          "x": "workingday",
          "xref": "x",
          "y": "hr",
          "yref": "y"
         },
         {
          "font": {
           "color": "#FFFFFF"
          },
          "showarrow": false,
          "text": "-0.02",
          "x": "weathersit",
          "xref": "x",
          "y": "hr",
          "yref": "y"
         },
         {
          "font": {
           "color": "#FFFFFF"
          },
          "showarrow": false,
          "text": "0.14",
          "x": "temp",
          "xref": "x",
          "y": "hr",
          "yref": "y"
         },
         {
          "font": {
           "color": "#FFFFFF"
          },
          "showarrow": false,
          "text": "0.13",
          "x": "atemp",
          "xref": "x",
          "y": "hr",
          "yref": "y"
         },
         {
          "font": {
           "color": "#FFFFFF"
          },
          "showarrow": false,
          "text": "-0.28",
          "x": "hum",
          "xref": "x",
          "y": "hr",
          "yref": "y"
         },
         {
          "font": {
           "color": "#FFFFFF"
          },
          "showarrow": false,
          "text": "0.14",
          "x": "windspeed",
          "xref": "x",
          "y": "hr",
          "yref": "y"
         },
         {
          "font": {
           "color": "#FFFFFF"
          },
          "showarrow": false,
          "text": "0.3",
          "x": "casual",
          "xref": "x",
          "y": "hr",
          "yref": "y"
         },
         {
          "font": {
           "color": "#FFFFFF"
          },
          "showarrow": false,
          "text": "0.37",
          "x": "registered",
          "xref": "x",
          "y": "hr",
          "yref": "y"
         },
         {
          "font": {
           "color": "#FFFFFF"
          },
          "showarrow": false,
          "text": "0.39",
          "x": "cnt",
          "xref": "x",
          "y": "hr",
          "yref": "y"
         },
         {
          "font": {
           "color": "#FFFFFF"
          },
          "showarrow": false,
          "text": "-0.01",
          "x": "season",
          "xref": "x",
          "y": "holiday",
          "yref": "y"
         },
         {
          "font": {
           "color": "#FFFFFF"
          },
          "showarrow": false,
          "text": "0.0",
          "x": "hr",
          "xref": "x",
          "y": "holiday",
          "yref": "y"
         },
         {
          "font": {
           "color": "#FFFFFF"
          },
          "showarrow": false,
          "text": "1.0",
          "x": "holiday",
          "xref": "x",
          "y": "holiday",
          "yref": "y"
         },
         {
          "font": {
           "color": "#FFFFFF"
          },
          "showarrow": false,
          "text": "-0.1",
          "x": "weekday",
          "xref": "x",
          "y": "holiday",
          "yref": "y"
         },
         {
          "font": {
           "color": "#FFFFFF"
          },
          "showarrow": false,
          "text": "-0.25",
          "x": "workingday",
          "xref": "x",
          "y": "holiday",
          "yref": "y"
         },
         {
          "font": {
           "color": "#FFFFFF"
          },
          "showarrow": false,
          "text": "-0.02",
          "x": "weathersit",
          "xref": "x",
          "y": "holiday",
          "yref": "y"
         },
         {
          "font": {
           "color": "#FFFFFF"
          },
          "showarrow": false,
          "text": "-0.03",
          "x": "temp",
          "xref": "x",
          "y": "holiday",
          "yref": "y"
         },
         {
          "font": {
           "color": "#FFFFFF"
          },
          "showarrow": false,
          "text": "-0.03",
          "x": "atemp",
          "xref": "x",
          "y": "holiday",
          "yref": "y"
         },
         {
          "font": {
           "color": "#FFFFFF"
          },
          "showarrow": false,
          "text": "-0.01",
          "x": "hum",
          "xref": "x",
          "y": "holiday",
          "yref": "y"
         },
         {
          "font": {
           "color": "#FFFFFF"
          },
          "showarrow": false,
          "text": "0.0",
          "x": "windspeed",
          "xref": "x",
          "y": "holiday",
          "yref": "y"
         },
         {
          "font": {
           "color": "#FFFFFF"
          },
          "showarrow": false,
          "text": "0.03",
          "x": "casual",
          "xref": "x",
          "y": "holiday",
          "yref": "y"
         },
         {
          "font": {
           "color": "#FFFFFF"
          },
          "showarrow": false,
          "text": "-0.05",
          "x": "registered",
          "xref": "x",
          "y": "holiday",
          "yref": "y"
         },
         {
          "font": {
           "color": "#FFFFFF"
          },
          "showarrow": false,
          "text": "-0.03",
          "x": "cnt",
          "xref": "x",
          "y": "holiday",
          "yref": "y"
         },
         {
          "font": {
           "color": "#FFFFFF"
          },
          "showarrow": false,
          "text": "-0.0",
          "x": "season",
          "xref": "x",
          "y": "weekday",
          "yref": "y"
         },
         {
          "font": {
           "color": "#FFFFFF"
          },
          "showarrow": false,
          "text": "-0.0",
          "x": "hr",
          "xref": "x",
          "y": "weekday",
          "yref": "y"
         },
         {
          "font": {
           "color": "#FFFFFF"
          },
          "showarrow": false,
          "text": "-0.1",
          "x": "holiday",
          "xref": "x",
          "y": "weekday",
          "yref": "y"
         },
         {
          "font": {
           "color": "#FFFFFF"
          },
          "showarrow": false,
          "text": "1.0",
          "x": "weekday",
          "xref": "x",
          "y": "weekday",
          "yref": "y"
         },
         {
          "font": {
           "color": "#FFFFFF"
          },
          "showarrow": false,
          "text": "0.04",
          "x": "workingday",
          "xref": "x",
          "y": "weekday",
          "yref": "y"
         },
         {
          "font": {
           "color": "#FFFFFF"
          },
          "showarrow": false,
          "text": "0.0",
          "x": "weathersit",
          "xref": "x",
          "y": "weekday",
          "yref": "y"
         },
         {
          "font": {
           "color": "#FFFFFF"
          },
          "showarrow": false,
          "text": "-0.0",
          "x": "temp",
          "xref": "x",
          "y": "weekday",
          "yref": "y"
         },
         {
          "font": {
           "color": "#FFFFFF"
          },
          "showarrow": false,
          "text": "-0.01",
          "x": "atemp",
          "xref": "x",
          "y": "weekday",
          "yref": "y"
         },
         {
          "font": {
           "color": "#FFFFFF"
          },
          "showarrow": false,
          "text": "-0.04",
          "x": "hum",
          "xref": "x",
          "y": "weekday",
          "yref": "y"
         },
         {
          "font": {
           "color": "#FFFFFF"
          },
          "showarrow": false,
          "text": "0.01",
          "x": "windspeed",
          "xref": "x",
          "y": "weekday",
          "yref": "y"
         },
         {
          "font": {
           "color": "#FFFFFF"
          },
          "showarrow": false,
          "text": "0.03",
          "x": "casual",
          "xref": "x",
          "y": "weekday",
          "yref": "y"
         },
         {
          "font": {
           "color": "#FFFFFF"
          },
          "showarrow": false,
          "text": "0.02",
          "x": "registered",
          "xref": "x",
          "y": "weekday",
          "yref": "y"
         },
         {
          "font": {
           "color": "#FFFFFF"
          },
          "showarrow": false,
          "text": "0.03",
          "x": "cnt",
          "xref": "x",
          "y": "weekday",
          "yref": "y"
         },
         {
          "font": {
           "color": "#FFFFFF"
          },
          "showarrow": false,
          "text": "0.01",
          "x": "season",
          "xref": "x",
          "y": "workingday",
          "yref": "y"
         },
         {
          "font": {
           "color": "#FFFFFF"
          },
          "showarrow": false,
          "text": "0.0",
          "x": "hr",
          "xref": "x",
          "y": "workingday",
          "yref": "y"
         },
         {
          "font": {
           "color": "#FFFFFF"
          },
          "showarrow": false,
          "text": "-0.25",
          "x": "holiday",
          "xref": "x",
          "y": "workingday",
          "yref": "y"
         },
         {
          "font": {
           "color": "#FFFFFF"
          },
          "showarrow": false,
          "text": "0.04",
          "x": "weekday",
          "xref": "x",
          "y": "workingday",
          "yref": "y"
         },
         {
          "font": {
           "color": "#FFFFFF"
          },
          "showarrow": false,
          "text": "1.0",
          "x": "workingday",
          "xref": "x",
          "y": "workingday",
          "yref": "y"
         },
         {
          "font": {
           "color": "#FFFFFF"
          },
          "showarrow": false,
          "text": "0.04",
          "x": "weathersit",
          "xref": "x",
          "y": "workingday",
          "yref": "y"
         },
         {
          "font": {
           "color": "#FFFFFF"
          },
          "showarrow": false,
          "text": "0.06",
          "x": "temp",
          "xref": "x",
          "y": "workingday",
          "yref": "y"
         },
         {
          "font": {
           "color": "#FFFFFF"
          },
          "showarrow": false,
          "text": "0.05",
          "x": "atemp",
          "xref": "x",
          "y": "workingday",
          "yref": "y"
         },
         {
          "font": {
           "color": "#FFFFFF"
          },
          "showarrow": false,
          "text": "0.02",
          "x": "hum",
          "xref": "x",
          "y": "workingday",
          "yref": "y"
         },
         {
          "font": {
           "color": "#FFFFFF"
          },
          "showarrow": false,
          "text": "-0.01",
          "x": "windspeed",
          "xref": "x",
          "y": "workingday",
          "yref": "y"
         },
         {
          "font": {
           "color": "#FFFFFF"
          },
          "showarrow": false,
          "text": "-0.3",
          "x": "casual",
          "xref": "x",
          "y": "workingday",
          "yref": "y"
         },
         {
          "font": {
           "color": "#FFFFFF"
          },
          "showarrow": false,
          "text": "0.13",
          "x": "registered",
          "xref": "x",
          "y": "workingday",
          "yref": "y"
         },
         {
          "font": {
           "color": "#FFFFFF"
          },
          "showarrow": false,
          "text": "0.03",
          "x": "cnt",
          "xref": "x",
          "y": "workingday",
          "yref": "y"
         },
         {
          "font": {
           "color": "#FFFFFF"
          },
          "showarrow": false,
          "text": "-0.01",
          "x": "season",
          "xref": "x",
          "y": "weathersit",
          "yref": "y"
         },
         {
          "font": {
           "color": "#FFFFFF"
          },
          "showarrow": false,
          "text": "-0.02",
          "x": "hr",
          "xref": "x",
          "y": "weathersit",
          "yref": "y"
         },
         {
          "font": {
           "color": "#FFFFFF"
          },
          "showarrow": false,
          "text": "-0.02",
          "x": "holiday",
          "xref": "x",
          "y": "weathersit",
          "yref": "y"
         },
         {
          "font": {
           "color": "#FFFFFF"
          },
          "showarrow": false,
          "text": "0.0",
          "x": "weekday",
          "xref": "x",
          "y": "weathersit",
          "yref": "y"
         },
         {
          "font": {
           "color": "#FFFFFF"
          },
          "showarrow": false,
          "text": "0.04",
          "x": "workingday",
          "xref": "x",
          "y": "weathersit",
          "yref": "y"
         },
         {
          "font": {
           "color": "#FFFFFF"
          },
          "showarrow": false,
          "text": "1.0",
          "x": "weathersit",
          "xref": "x",
          "y": "weathersit",
          "yref": "y"
         },
         {
          "font": {
           "color": "#FFFFFF"
          },
          "showarrow": false,
          "text": "-0.1",
          "x": "temp",
          "xref": "x",
          "y": "weathersit",
          "yref": "y"
         },
         {
          "font": {
           "color": "#FFFFFF"
          },
          "showarrow": false,
          "text": "-0.11",
          "x": "atemp",
          "xref": "x",
          "y": "weathersit",
          "yref": "y"
         },
         {
          "font": {
           "color": "#FFFFFF"
          },
          "showarrow": false,
          "text": "0.42",
          "x": "hum",
          "xref": "x",
          "y": "weathersit",
          "yref": "y"
         },
         {
          "font": {
           "color": "#FFFFFF"
          },
          "showarrow": false,
          "text": "0.03",
          "x": "windspeed",
          "xref": "x",
          "y": "weathersit",
          "yref": "y"
         },
         {
          "font": {
           "color": "#FFFFFF"
          },
          "showarrow": false,
          "text": "-0.15",
          "x": "casual",
          "xref": "x",
          "y": "weathersit",
          "yref": "y"
         },
         {
          "font": {
           "color": "#FFFFFF"
          },
          "showarrow": false,
          "text": "-0.12",
          "x": "registered",
          "xref": "x",
          "y": "weathersit",
          "yref": "y"
         },
         {
          "font": {
           "color": "#FFFFFF"
          },
          "showarrow": false,
          "text": "-0.14",
          "x": "cnt",
          "xref": "x",
          "y": "weathersit",
          "yref": "y"
         },
         {
          "font": {
           "color": "#FFFFFF"
          },
          "showarrow": false,
          "text": "0.31",
          "x": "season",
          "xref": "x",
          "y": "temp",
          "yref": "y"
         },
         {
          "font": {
           "color": "#FFFFFF"
          },
          "showarrow": false,
          "text": "0.14",
          "x": "hr",
          "xref": "x",
          "y": "temp",
          "yref": "y"
         },
         {
          "font": {
           "color": "#FFFFFF"
          },
          "showarrow": false,
          "text": "-0.03",
          "x": "holiday",
          "xref": "x",
          "y": "temp",
          "yref": "y"
         },
         {
          "font": {
           "color": "#FFFFFF"
          },
          "showarrow": false,
          "text": "-0.0",
          "x": "weekday",
          "xref": "x",
          "y": "temp",
          "yref": "y"
         },
         {
          "font": {
           "color": "#FFFFFF"
          },
          "showarrow": false,
          "text": "0.06",
          "x": "workingday",
          "xref": "x",
          "y": "temp",
          "yref": "y"
         },
         {
          "font": {
           "color": "#FFFFFF"
          },
          "showarrow": false,
          "text": "-0.1",
          "x": "weathersit",
          "xref": "x",
          "y": "temp",
          "yref": "y"
         },
         {
          "font": {
           "color": "#FFFFFF"
          },
          "showarrow": false,
          "text": "1.0",
          "x": "temp",
          "xref": "x",
          "y": "temp",
          "yref": "y"
         },
         {
          "font": {
           "color": "#FFFFFF"
          },
          "showarrow": false,
          "text": "0.99",
          "x": "atemp",
          "xref": "x",
          "y": "temp",
          "yref": "y"
         },
         {
          "font": {
           "color": "#FFFFFF"
          },
          "showarrow": false,
          "text": "-0.07",
          "x": "hum",
          "xref": "x",
          "y": "temp",
          "yref": "y"
         },
         {
          "font": {
           "color": "#FFFFFF"
          },
          "showarrow": false,
          "text": "-0.02",
          "x": "windspeed",
          "xref": "x",
          "y": "temp",
          "yref": "y"
         },
         {
          "font": {
           "color": "#FFFFFF"
          },
          "showarrow": false,
          "text": "0.46",
          "x": "casual",
          "xref": "x",
          "y": "temp",
          "yref": "y"
         },
         {
          "font": {
           "color": "#FFFFFF"
          },
          "showarrow": false,
          "text": "0.34",
          "x": "registered",
          "xref": "x",
          "y": "temp",
          "yref": "y"
         },
         {
          "font": {
           "color": "#FFFFFF"
          },
          "showarrow": false,
          "text": "0.4",
          "x": "cnt",
          "xref": "x",
          "y": "temp",
          "yref": "y"
         },
         {
          "font": {
           "color": "#FFFFFF"
          },
          "showarrow": false,
          "text": "0.32",
          "x": "season",
          "xref": "x",
          "y": "atemp",
          "yref": "y"
         },
         {
          "font": {
           "color": "#FFFFFF"
          },
          "showarrow": false,
          "text": "0.13",
          "x": "hr",
          "xref": "x",
          "y": "atemp",
          "yref": "y"
         },
         {
          "font": {
           "color": "#FFFFFF"
          },
          "showarrow": false,
          "text": "-0.03",
          "x": "holiday",
          "xref": "x",
          "y": "atemp",
          "yref": "y"
         },
         {
          "font": {
           "color": "#FFFFFF"
          },
          "showarrow": false,
          "text": "-0.01",
          "x": "weekday",
          "xref": "x",
          "y": "atemp",
          "yref": "y"
         },
         {
          "font": {
           "color": "#FFFFFF"
          },
          "showarrow": false,
          "text": "0.05",
          "x": "workingday",
          "xref": "x",
          "y": "atemp",
          "yref": "y"
         },
         {
          "font": {
           "color": "#FFFFFF"
          },
          "showarrow": false,
          "text": "-0.11",
          "x": "weathersit",
          "xref": "x",
          "y": "atemp",
          "yref": "y"
         },
         {
          "font": {
           "color": "#FFFFFF"
          },
          "showarrow": false,
          "text": "0.99",
          "x": "temp",
          "xref": "x",
          "y": "atemp",
          "yref": "y"
         },
         {
          "font": {
           "color": "#FFFFFF"
          },
          "showarrow": false,
          "text": "1.0",
          "x": "atemp",
          "xref": "x",
          "y": "atemp",
          "yref": "y"
         },
         {
          "font": {
           "color": "#FFFFFF"
          },
          "showarrow": false,
          "text": "-0.05",
          "x": "hum",
          "xref": "x",
          "y": "atemp",
          "yref": "y"
         },
         {
          "font": {
           "color": "#FFFFFF"
          },
          "showarrow": false,
          "text": "-0.06",
          "x": "windspeed",
          "xref": "x",
          "y": "atemp",
          "yref": "y"
         },
         {
          "font": {
           "color": "#FFFFFF"
          },
          "showarrow": false,
          "text": "0.45",
          "x": "casual",
          "xref": "x",
          "y": "atemp",
          "yref": "y"
         },
         {
          "font": {
           "color": "#FFFFFF"
          },
          "showarrow": false,
          "text": "0.33",
          "x": "registered",
          "xref": "x",
          "y": "atemp",
          "yref": "y"
         },
         {
          "font": {
           "color": "#FFFFFF"
          },
          "showarrow": false,
          "text": "0.4",
          "x": "cnt",
          "xref": "x",
          "y": "atemp",
          "yref": "y"
         },
         {
          "font": {
           "color": "#FFFFFF"
          },
          "showarrow": false,
          "text": "0.15",
          "x": "season",
          "xref": "x",
          "y": "hum",
          "yref": "y"
         },
         {
          "font": {
           "color": "#FFFFFF"
          },
          "showarrow": false,
          "text": "-0.28",
          "x": "hr",
          "xref": "x",
          "y": "hum",
          "yref": "y"
         },
         {
          "font": {
           "color": "#FFFFFF"
          },
          "showarrow": false,
          "text": "-0.01",
          "x": "holiday",
          "xref": "x",
          "y": "hum",
          "yref": "y"
         },
         {
          "font": {
           "color": "#FFFFFF"
          },
          "showarrow": false,
          "text": "-0.04",
          "x": "weekday",
          "xref": "x",
          "y": "hum",
          "yref": "y"
         },
         {
          "font": {
           "color": "#FFFFFF"
          },
          "showarrow": false,
          "text": "0.02",
          "x": "workingday",
          "xref": "x",
          "y": "hum",
          "yref": "y"
         },
         {
          "font": {
           "color": "#FFFFFF"
          },
          "showarrow": false,
          "text": "0.42",
          "x": "weathersit",
          "xref": "x",
          "y": "hum",
          "yref": "y"
         },
         {
          "font": {
           "color": "#FFFFFF"
          },
          "showarrow": false,
          "text": "-0.07",
          "x": "temp",
          "xref": "x",
          "y": "hum",
          "yref": "y"
         },
         {
          "font": {
           "color": "#FFFFFF"
          },
          "showarrow": false,
          "text": "-0.05",
          "x": "atemp",
          "xref": "x",
          "y": "hum",
          "yref": "y"
         },
         {
          "font": {
           "color": "#FFFFFF"
          },
          "showarrow": false,
          "text": "1.0",
          "x": "hum",
          "xref": "x",
          "y": "hum",
          "yref": "y"
         },
         {
          "font": {
           "color": "#FFFFFF"
          },
          "showarrow": false,
          "text": "-0.29",
          "x": "windspeed",
          "xref": "x",
          "y": "hum",
          "yref": "y"
         },
         {
          "font": {
           "color": "#FFFFFF"
          },
          "showarrow": false,
          "text": "-0.35",
          "x": "casual",
          "xref": "x",
          "y": "hum",
          "yref": "y"
         },
         {
          "font": {
           "color": "#FFFFFF"
          },
          "showarrow": false,
          "text": "-0.27",
          "x": "registered",
          "xref": "x",
          "y": "hum",
          "yref": "y"
         },
         {
          "font": {
           "color": "#FFFFFF"
          },
          "showarrow": false,
          "text": "-0.32",
          "x": "cnt",
          "xref": "x",
          "y": "hum",
          "yref": "y"
         },
         {
          "font": {
           "color": "#FFFFFF"
          },
          "showarrow": false,
          "text": "-0.15",
          "x": "season",
          "xref": "x",
          "y": "windspeed",
          "yref": "y"
         },
         {
          "font": {
           "color": "#FFFFFF"
          },
          "showarrow": false,
          "text": "0.14",
          "x": "hr",
          "xref": "x",
          "y": "windspeed",
          "yref": "y"
         },
         {
          "font": {
           "color": "#FFFFFF"
          },
          "showarrow": false,
          "text": "0.0",
          "x": "holiday",
          "xref": "x",
          "y": "windspeed",
          "yref": "y"
         },
         {
          "font": {
           "color": "#FFFFFF"
          },
          "showarrow": false,
          "text": "0.01",
          "x": "weekday",
          "xref": "x",
          "y": "windspeed",
          "yref": "y"
         },
         {
          "font": {
           "color": "#FFFFFF"
          },
          "showarrow": false,
          "text": "-0.01",
          "x": "workingday",
          "xref": "x",
          "y": "windspeed",
          "yref": "y"
         },
         {
          "font": {
           "color": "#FFFFFF"
          },
          "showarrow": false,
          "text": "0.03",
          "x": "weathersit",
          "xref": "x",
          "y": "windspeed",
          "yref": "y"
         },
         {
          "font": {
           "color": "#FFFFFF"
          },
          "showarrow": false,
          "text": "-0.02",
          "x": "temp",
          "xref": "x",
          "y": "windspeed",
          "yref": "y"
         },
         {
          "font": {
           "color": "#FFFFFF"
          },
          "showarrow": false,
          "text": "-0.06",
          "x": "atemp",
          "xref": "x",
          "y": "windspeed",
          "yref": "y"
         },
         {
          "font": {
           "color": "#FFFFFF"
          },
          "showarrow": false,
          "text": "-0.29",
          "x": "hum",
          "xref": "x",
          "y": "windspeed",
          "yref": "y"
         },
         {
          "font": {
           "color": "#FFFFFF"
          },
          "showarrow": false,
          "text": "1.0",
          "x": "windspeed",
          "xref": "x",
          "y": "windspeed",
          "yref": "y"
         },
         {
          "font": {
           "color": "#FFFFFF"
          },
          "showarrow": false,
          "text": "0.09",
          "x": "casual",
          "xref": "x",
          "y": "windspeed",
          "yref": "y"
         },
         {
          "font": {
           "color": "#FFFFFF"
          },
          "showarrow": false,
          "text": "0.08",
          "x": "registered",
          "xref": "x",
          "y": "windspeed",
          "yref": "y"
         },
         {
          "font": {
           "color": "#FFFFFF"
          },
          "showarrow": false,
          "text": "0.09",
          "x": "cnt",
          "xref": "x",
          "y": "windspeed",
          "yref": "y"
         },
         {
          "font": {
           "color": "#FFFFFF"
          },
          "showarrow": false,
          "text": "0.12",
          "x": "season",
          "xref": "x",
          "y": "casual",
          "yref": "y"
         },
         {
          "font": {
           "color": "#FFFFFF"
          },
          "showarrow": false,
          "text": "0.3",
          "x": "hr",
          "xref": "x",
          "y": "casual",
          "yref": "y"
         },
         {
          "font": {
           "color": "#FFFFFF"
          },
          "showarrow": false,
          "text": "0.03",
          "x": "holiday",
          "xref": "x",
          "y": "casual",
          "yref": "y"
         },
         {
          "font": {
           "color": "#FFFFFF"
          },
          "showarrow": false,
          "text": "0.03",
          "x": "weekday",
          "xref": "x",
          "y": "casual",
          "yref": "y"
         },
         {
          "font": {
           "color": "#FFFFFF"
          },
          "showarrow": false,
          "text": "-0.3",
          "x": "workingday",
          "xref": "x",
          "y": "casual",
          "yref": "y"
         },
         {
          "font": {
           "color": "#FFFFFF"
          },
          "showarrow": false,
          "text": "-0.15",
          "x": "weathersit",
          "xref": "x",
          "y": "casual",
          "yref": "y"
         },
         {
          "font": {
           "color": "#FFFFFF"
          },
          "showarrow": false,
          "text": "0.46",
          "x": "temp",
          "xref": "x",
          "y": "casual",
          "yref": "y"
         },
         {
          "font": {
           "color": "#FFFFFF"
          },
          "showarrow": false,
          "text": "0.45",
          "x": "atemp",
          "xref": "x",
          "y": "casual",
          "yref": "y"
         },
         {
          "font": {
           "color": "#FFFFFF"
          },
          "showarrow": false,
          "text": "-0.35",
          "x": "hum",
          "xref": "x",
          "y": "casual",
          "yref": "y"
         },
         {
          "font": {
           "color": "#FFFFFF"
          },
          "showarrow": false,
          "text": "0.09",
          "x": "windspeed",
          "xref": "x",
          "y": "casual",
          "yref": "y"
         },
         {
          "font": {
           "color": "#FFFFFF"
          },
          "showarrow": false,
          "text": "1.0",
          "x": "casual",
          "xref": "x",
          "y": "casual",
          "yref": "y"
         },
         {
          "font": {
           "color": "#FFFFFF"
          },
          "showarrow": false,
          "text": "0.51",
          "x": "registered",
          "xref": "x",
          "y": "casual",
          "yref": "y"
         },
         {
          "font": {
           "color": "#FFFFFF"
          },
          "showarrow": false,
          "text": "0.69",
          "x": "cnt",
          "xref": "x",
          "y": "casual",
          "yref": "y"
         },
         {
          "font": {
           "color": "#FFFFFF"
          },
          "showarrow": false,
          "text": "0.17",
          "x": "season",
          "xref": "x",
          "y": "registered",
          "yref": "y"
         },
         {
          "font": {
           "color": "#FFFFFF"
          },
          "showarrow": false,
          "text": "0.37",
          "x": "hr",
          "xref": "x",
          "y": "registered",
          "yref": "y"
         },
         {
          "font": {
           "color": "#FFFFFF"
          },
          "showarrow": false,
          "text": "-0.05",
          "x": "holiday",
          "xref": "x",
          "y": "registered",
          "yref": "y"
         },
         {
          "font": {
           "color": "#FFFFFF"
          },
          "showarrow": false,
          "text": "0.02",
          "x": "weekday",
          "xref": "x",
          "y": "registered",
          "yref": "y"
         },
         {
          "font": {
           "color": "#FFFFFF"
          },
          "showarrow": false,
          "text": "0.13",
          "x": "workingday",
          "xref": "x",
          "y": "registered",
          "yref": "y"
         },
         {
          "font": {
           "color": "#FFFFFF"
          },
          "showarrow": false,
          "text": "-0.12",
          "x": "weathersit",
          "xref": "x",
          "y": "registered",
          "yref": "y"
         },
         {
          "font": {
           "color": "#FFFFFF"
          },
          "showarrow": false,
          "text": "0.34",
          "x": "temp",
          "xref": "x",
          "y": "registered",
          "yref": "y"
         },
         {
          "font": {
           "color": "#FFFFFF"
          },
          "showarrow": false,
          "text": "0.33",
          "x": "atemp",
          "xref": "x",
          "y": "registered",
          "yref": "y"
         },
         {
          "font": {
           "color": "#FFFFFF"
          },
          "showarrow": false,
          "text": "-0.27",
          "x": "hum",
          "xref": "x",
          "y": "registered",
          "yref": "y"
         },
         {
          "font": {
           "color": "#FFFFFF"
          },
          "showarrow": false,
          "text": "0.08",
          "x": "windspeed",
          "xref": "x",
          "y": "registered",
          "yref": "y"
         },
         {
          "font": {
           "color": "#FFFFFF"
          },
          "showarrow": false,
          "text": "0.51",
          "x": "casual",
          "xref": "x",
          "y": "registered",
          "yref": "y"
         },
         {
          "font": {
           "color": "#FFFFFF"
          },
          "showarrow": false,
          "text": "1.0",
          "x": "registered",
          "xref": "x",
          "y": "registered",
          "yref": "y"
         },
         {
          "font": {
           "color": "#FFFFFF"
          },
          "showarrow": false,
          "text": "0.97",
          "x": "cnt",
          "xref": "x",
          "y": "registered",
          "yref": "y"
         },
         {
          "font": {
           "color": "#FFFFFF"
          },
          "showarrow": false,
          "text": "0.18",
          "x": "season",
          "xref": "x",
          "y": "cnt",
          "yref": "y"
         },
         {
          "font": {
           "color": "#FFFFFF"
          },
          "showarrow": false,
          "text": "0.39",
          "x": "hr",
          "xref": "x",
          "y": "cnt",
          "yref": "y"
         },
         {
          "font": {
           "color": "#FFFFFF"
          },
          "showarrow": false,
          "text": "-0.03",
          "x": "holiday",
          "xref": "x",
          "y": "cnt",
          "yref": "y"
         },
         {
          "font": {
           "color": "#FFFFFF"
          },
          "showarrow": false,
          "text": "0.03",
          "x": "weekday",
          "xref": "x",
          "y": "cnt",
          "yref": "y"
         },
         {
          "font": {
           "color": "#FFFFFF"
          },
          "showarrow": false,
          "text": "0.03",
          "x": "workingday",
          "xref": "x",
          "y": "cnt",
          "yref": "y"
         },
         {
          "font": {
           "color": "#FFFFFF"
          },
          "showarrow": false,
          "text": "-0.14",
          "x": "weathersit",
          "xref": "x",
          "y": "cnt",
          "yref": "y"
         },
         {
          "font": {
           "color": "#FFFFFF"
          },
          "showarrow": false,
          "text": "0.4",
          "x": "temp",
          "xref": "x",
          "y": "cnt",
          "yref": "y"
         },
         {
          "font": {
           "color": "#FFFFFF"
          },
          "showarrow": false,
          "text": "0.4",
          "x": "atemp",
          "xref": "x",
          "y": "cnt",
          "yref": "y"
         },
         {
          "font": {
           "color": "#FFFFFF"
          },
          "showarrow": false,
          "text": "-0.32",
          "x": "hum",
          "xref": "x",
          "y": "cnt",
          "yref": "y"
         },
         {
          "font": {
           "color": "#FFFFFF"
          },
          "showarrow": false,
          "text": "0.09",
          "x": "windspeed",
          "xref": "x",
          "y": "cnt",
          "yref": "y"
         },
         {
          "font": {
           "color": "#FFFFFF"
          },
          "showarrow": false,
          "text": "0.69",
          "x": "casual",
          "xref": "x",
          "y": "cnt",
          "yref": "y"
         },
         {
          "font": {
           "color": "#FFFFFF"
          },
          "showarrow": false,
          "text": "0.97",
          "x": "registered",
          "xref": "x",
          "y": "cnt",
          "yref": "y"
         },
         {
          "font": {
           "color": "#FFFFFF"
          },
          "showarrow": false,
          "text": "1.0",
          "x": "cnt",
          "xref": "x",
          "y": "cnt",
          "yref": "y"
         }
        ],
        "height": 800,
        "margin": {
         "l": 200,
         "t": 200
        },
        "template": {
         "data": {
          "bar": [
           {
            "error_x": {
             "color": "#2a3f5f"
            },
            "error_y": {
             "color": "#2a3f5f"
            },
            "marker": {
             "line": {
              "color": "#E5ECF6",
              "width": 0.5
             }
            },
            "type": "bar"
           }
          ],
          "barpolar": [
           {
            "marker": {
             "line": {
              "color": "#E5ECF6",
              "width": 0.5
             }
            },
            "type": "barpolar"
           }
          ],
          "carpet": [
           {
            "aaxis": {
             "endlinecolor": "#2a3f5f",
             "gridcolor": "white",
             "linecolor": "white",
             "minorgridcolor": "white",
             "startlinecolor": "#2a3f5f"
            },
            "baxis": {
             "endlinecolor": "#2a3f5f",
             "gridcolor": "white",
             "linecolor": "white",
             "minorgridcolor": "white",
             "startlinecolor": "#2a3f5f"
            },
            "type": "carpet"
           }
          ],
          "choropleth": [
           {
            "colorbar": {
             "outlinewidth": 0,
             "ticks": ""
            },
            "type": "choropleth"
           }
          ],
          "contour": [
           {
            "colorbar": {
             "outlinewidth": 0,
             "ticks": ""
            },
            "colorscale": [
             [
              0,
              "#0d0887"
             ],
             [
              0.1111111111111111,
              "#46039f"
             ],
             [
              0.2222222222222222,
              "#7201a8"
             ],
             [
              0.3333333333333333,
              "#9c179e"
             ],
             [
              0.4444444444444444,
              "#bd3786"
             ],
             [
              0.5555555555555556,
              "#d8576b"
             ],
             [
              0.6666666666666666,
              "#ed7953"
             ],
             [
              0.7777777777777778,
              "#fb9f3a"
             ],
             [
              0.8888888888888888,
              "#fdca26"
             ],
             [
              1,
              "#f0f921"
             ]
            ],
            "type": "contour"
           }
          ],
          "contourcarpet": [
           {
            "colorbar": {
             "outlinewidth": 0,
             "ticks": ""
            },
            "type": "contourcarpet"
           }
          ],
          "heatmap": [
           {
            "colorbar": {
             "outlinewidth": 0,
             "ticks": ""
            },
            "colorscale": [
             [
              0,
              "#0d0887"
             ],
             [
              0.1111111111111111,
              "#46039f"
             ],
             [
              0.2222222222222222,
              "#7201a8"
             ],
             [
              0.3333333333333333,
              "#9c179e"
             ],
             [
              0.4444444444444444,
              "#bd3786"
             ],
             [
              0.5555555555555556,
              "#d8576b"
             ],
             [
              0.6666666666666666,
              "#ed7953"
             ],
             [
              0.7777777777777778,
              "#fb9f3a"
             ],
             [
              0.8888888888888888,
              "#fdca26"
             ],
             [
              1,
              "#f0f921"
             ]
            ],
            "type": "heatmap"
           }
          ],
          "heatmapgl": [
           {
            "colorbar": {
             "outlinewidth": 0,
             "ticks": ""
            },
            "colorscale": [
             [
              0,
              "#0d0887"
             ],
             [
              0.1111111111111111,
              "#46039f"
             ],
             [
              0.2222222222222222,
              "#7201a8"
             ],
             [
              0.3333333333333333,
              "#9c179e"
             ],
             [
              0.4444444444444444,
              "#bd3786"
             ],
             [
              0.5555555555555556,
              "#d8576b"
             ],
             [
              0.6666666666666666,
              "#ed7953"
             ],
             [
              0.7777777777777778,
              "#fb9f3a"
             ],
             [
              0.8888888888888888,
              "#fdca26"
             ],
             [
              1,
              "#f0f921"
             ]
            ],
            "type": "heatmapgl"
           }
          ],
          "histogram": [
           {
            "marker": {
             "colorbar": {
              "outlinewidth": 0,
              "ticks": ""
             }
            },
            "type": "histogram"
           }
          ],
          "histogram2d": [
           {
            "colorbar": {
             "outlinewidth": 0,
             "ticks": ""
            },
            "colorscale": [
             [
              0,
              "#0d0887"
             ],
             [
              0.1111111111111111,
              "#46039f"
             ],
             [
              0.2222222222222222,
              "#7201a8"
             ],
             [
              0.3333333333333333,
              "#9c179e"
             ],
             [
              0.4444444444444444,
              "#bd3786"
             ],
             [
              0.5555555555555556,
              "#d8576b"
             ],
             [
              0.6666666666666666,
              "#ed7953"
             ],
             [
              0.7777777777777778,
              "#fb9f3a"
             ],
             [
              0.8888888888888888,
              "#fdca26"
             ],
             [
              1,
              "#f0f921"
             ]
            ],
            "type": "histogram2d"
           }
          ],
          "histogram2dcontour": [
           {
            "colorbar": {
             "outlinewidth": 0,
             "ticks": ""
            },
            "colorscale": [
             [
              0,
              "#0d0887"
             ],
             [
              0.1111111111111111,
              "#46039f"
             ],
             [
              0.2222222222222222,
              "#7201a8"
             ],
             [
              0.3333333333333333,
              "#9c179e"
             ],
             [
              0.4444444444444444,
              "#bd3786"
             ],
             [
              0.5555555555555556,
              "#d8576b"
             ],
             [
              0.6666666666666666,
              "#ed7953"
             ],
             [
              0.7777777777777778,
              "#fb9f3a"
             ],
             [
              0.8888888888888888,
              "#fdca26"
             ],
             [
              1,
              "#f0f921"
             ]
            ],
            "type": "histogram2dcontour"
           }
          ],
          "mesh3d": [
           {
            "colorbar": {
             "outlinewidth": 0,
             "ticks": ""
            },
            "type": "mesh3d"
           }
          ],
          "parcoords": [
           {
            "line": {
             "colorbar": {
              "outlinewidth": 0,
              "ticks": ""
             }
            },
            "type": "parcoords"
           }
          ],
          "pie": [
           {
            "automargin": true,
            "type": "pie"
           }
          ],
          "scatter": [
           {
            "marker": {
             "colorbar": {
              "outlinewidth": 0,
              "ticks": ""
             }
            },
            "type": "scatter"
           }
          ],
          "scatter3d": [
           {
            "line": {
             "colorbar": {
              "outlinewidth": 0,
              "ticks": ""
             }
            },
            "marker": {
             "colorbar": {
              "outlinewidth": 0,
              "ticks": ""
             }
            },
            "type": "scatter3d"
           }
          ],
          "scattercarpet": [
           {
            "marker": {
             "colorbar": {
              "outlinewidth": 0,
              "ticks": ""
             }
            },
            "type": "scattercarpet"
           }
          ],
          "scattergeo": [
           {
            "marker": {
             "colorbar": {
              "outlinewidth": 0,
              "ticks": ""
             }
            },
            "type": "scattergeo"
           }
          ],
          "scattergl": [
           {
            "marker": {
             "colorbar": {
              "outlinewidth": 0,
              "ticks": ""
             }
            },
            "type": "scattergl"
           }
          ],
          "scattermapbox": [
           {
            "marker": {
             "colorbar": {
              "outlinewidth": 0,
              "ticks": ""
             }
            },
            "type": "scattermapbox"
           }
          ],
          "scatterpolar": [
           {
            "marker": {
             "colorbar": {
              "outlinewidth": 0,
              "ticks": ""
             }
            },
            "type": "scatterpolar"
           }
          ],
          "scatterpolargl": [
           {
            "marker": {
             "colorbar": {
              "outlinewidth": 0,
              "ticks": ""
             }
            },
            "type": "scatterpolargl"
           }
          ],
          "scatterternary": [
           {
            "marker": {
             "colorbar": {
              "outlinewidth": 0,
              "ticks": ""
             }
            },
            "type": "scatterternary"
           }
          ],
          "surface": [
           {
            "colorbar": {
             "outlinewidth": 0,
             "ticks": ""
            },
            "colorscale": [
             [
              0,
              "#0d0887"
             ],
             [
              0.1111111111111111,
              "#46039f"
             ],
             [
              0.2222222222222222,
              "#7201a8"
             ],
             [
              0.3333333333333333,
              "#9c179e"
             ],
             [
              0.4444444444444444,
              "#bd3786"
             ],
             [
              0.5555555555555556,
              "#d8576b"
             ],
             [
              0.6666666666666666,
              "#ed7953"
             ],
             [
              0.7777777777777778,
              "#fb9f3a"
             ],
             [
              0.8888888888888888,
              "#fdca26"
             ],
             [
              1,
              "#f0f921"
             ]
            ],
            "type": "surface"
           }
          ],
          "table": [
           {
            "cells": {
             "fill": {
              "color": "#EBF0F8"
             },
             "line": {
              "color": "white"
             }
            },
            "header": {
             "fill": {
              "color": "#C8D4E3"
             },
             "line": {
              "color": "white"
             }
            },
            "type": "table"
           }
          ]
         },
         "layout": {
          "annotationdefaults": {
           "arrowcolor": "#2a3f5f",
           "arrowhead": 0,
           "arrowwidth": 1
          },
          "coloraxis": {
           "colorbar": {
            "outlinewidth": 0,
            "ticks": ""
           }
          },
          "colorscale": {
           "diverging": [
            [
             0,
             "#8e0152"
            ],
            [
             0.1,
             "#c51b7d"
            ],
            [
             0.2,
             "#de77ae"
            ],
            [
             0.3,
             "#f1b6da"
            ],
            [
             0.4,
             "#fde0ef"
            ],
            [
             0.5,
             "#f7f7f7"
            ],
            [
             0.6,
             "#e6f5d0"
            ],
            [
             0.7,
             "#b8e186"
            ],
            [
             0.8,
             "#7fbc41"
            ],
            [
             0.9,
             "#4d9221"
            ],
            [
             1,
             "#276419"
            ]
           ],
           "sequential": [
            [
             0,
             "#0d0887"
            ],
            [
             0.1111111111111111,
             "#46039f"
            ],
            [
             0.2222222222222222,
             "#7201a8"
            ],
            [
             0.3333333333333333,
             "#9c179e"
            ],
            [
             0.4444444444444444,
             "#bd3786"
            ],
            [
             0.5555555555555556,
             "#d8576b"
            ],
            [
             0.6666666666666666,
             "#ed7953"
            ],
            [
             0.7777777777777778,
             "#fb9f3a"
            ],
            [
             0.8888888888888888,
             "#fdca26"
            ],
            [
             1,
             "#f0f921"
            ]
           ],
           "sequentialminus": [
            [
             0,
             "#0d0887"
            ],
            [
             0.1111111111111111,
             "#46039f"
            ],
            [
             0.2222222222222222,
             "#7201a8"
            ],
            [
             0.3333333333333333,
             "#9c179e"
            ],
            [
             0.4444444444444444,
             "#bd3786"
            ],
            [
             0.5555555555555556,
             "#d8576b"
            ],
            [
             0.6666666666666666,
             "#ed7953"
            ],
            [
             0.7777777777777778,
             "#fb9f3a"
            ],
            [
             0.8888888888888888,
             "#fdca26"
            ],
            [
             1,
             "#f0f921"
            ]
           ]
          },
          "colorway": [
           "#636efa",
           "#EF553B",
           "#00cc96",
           "#ab63fa",
           "#FFA15A",
           "#19d3f3",
           "#FF6692",
           "#B6E880",
           "#FF97FF",
           "#FECB52"
          ],
          "font": {
           "color": "#2a3f5f"
          },
          "geo": {
           "bgcolor": "white",
           "lakecolor": "white",
           "landcolor": "#E5ECF6",
           "showlakes": true,
           "showland": true,
           "subunitcolor": "white"
          },
          "hoverlabel": {
           "align": "left"
          },
          "hovermode": "closest",
          "mapbox": {
           "style": "light"
          },
          "paper_bgcolor": "white",
          "plot_bgcolor": "#E5ECF6",
          "polar": {
           "angularaxis": {
            "gridcolor": "white",
            "linecolor": "white",
            "ticks": ""
           },
           "bgcolor": "#E5ECF6",
           "radialaxis": {
            "gridcolor": "white",
            "linecolor": "white",
            "ticks": ""
           }
          },
          "scene": {
           "xaxis": {
            "backgroundcolor": "#E5ECF6",
            "gridcolor": "white",
            "gridwidth": 2,
            "linecolor": "white",
            "showbackground": true,
            "ticks": "",
            "zerolinecolor": "white"
           },
           "yaxis": {
            "backgroundcolor": "#E5ECF6",
            "gridcolor": "white",
            "gridwidth": 2,
            "linecolor": "white",
            "showbackground": true,
            "ticks": "",
            "zerolinecolor": "white"
           },
           "zaxis": {
            "backgroundcolor": "#E5ECF6",
            "gridcolor": "white",
            "gridwidth": 2,
            "linecolor": "white",
            "showbackground": true,
            "ticks": "",
            "zerolinecolor": "white"
           }
          },
          "shapedefaults": {
           "line": {
            "color": "#2a3f5f"
           }
          },
          "ternary": {
           "aaxis": {
            "gridcolor": "white",
            "linecolor": "white",
            "ticks": ""
           },
           "baxis": {
            "gridcolor": "white",
            "linecolor": "white",
            "ticks": ""
           },
           "bgcolor": "#E5ECF6",
           "caxis": {
            "gridcolor": "white",
            "linecolor": "white",
            "ticks": ""
           }
          },
          "title": {
           "x": 0.05
          },
          "xaxis": {
           "automargin": true,
           "gridcolor": "white",
           "linecolor": "white",
           "ticks": "",
           "title": {
            "standoff": 15
           },
           "zerolinecolor": "white",
           "zerolinewidth": 2
          },
          "yaxis": {
           "automargin": true,
           "gridcolor": "white",
           "linecolor": "white",
           "ticks": "",
           "title": {
            "standoff": 15
           },
           "zerolinecolor": "white",
           "zerolinewidth": 2
          }
         }
        },
        "width": 1000,
        "xaxis": {
         "dtick": 1,
         "gridcolor": "rgb(0, 0, 0)",
         "side": "top",
         "ticks": ""
        },
        "yaxis": {
         "dtick": 1,
         "ticks": "",
         "ticksuffix": "  "
        }
       }
      },
      "text/html": [
       "<div>                            <div id=\"6af4fb7b-493a-4dd2-b85b-99af149cfbbc\" class=\"plotly-graph-div\" style=\"height:800px; width:1000px;\"></div>            <script type=\"text/javascript\">                require([\"plotly\"], function(Plotly) {                    window.PLOTLYENV=window.PLOTLYENV || {};                                    if (document.getElementById(\"6af4fb7b-493a-4dd2-b85b-99af149cfbbc\")) {                    Plotly.newPlot(                        \"6af4fb7b-493a-4dd2-b85b-99af149cfbbc\",                        [{\"colorscale\": [[0.0, \"rgb(161, 105, 40)\"], [0.16666666666666666, \"rgb(189, 146, 90)\"], [0.3333333333333333, \"rgb(214, 189, 141)\"], [0.5, \"rgb(237, 234, 194)\"], [0.6666666666666666, \"rgb(181, 200, 184)\"], [0.8333333333333334, \"rgb(121, 167, 172)\"], [1.0, \"rgb(40, 135, 161)\"]], \"reversescale\": false, \"showscale\": true, \"type\": \"heatmap\", \"x\": [\"season\", \"hr\", \"holiday\", \"weekday\", \"workingday\", \"weathersit\", \"temp\", \"atemp\", \"hum\", \"windspeed\", \"casual\", \"registered\", \"cnt\"], \"y\": [\"season\", \"hr\", \"holiday\", \"weekday\", \"workingday\", \"weathersit\", \"temp\", \"atemp\", \"hum\", \"windspeed\", \"casual\", \"registered\", \"cnt\"], \"z\": [[1.0, -0.006116900866196044, -0.009584525869199445, -0.002335349725046903, 0.01374310174705346, -0.014523552139126403, 0.3120252372573753, 0.31937981095884305, 0.15062474540391602, -0.14977275116519193, 0.1202064473500163, 0.17422563340234126, 0.17805573098265656], [-0.006116900866196044, 1.0, 0.00047913603647980275, -0.003497739438328355, 0.0022849981041432317, -0.020202528398647144, 0.13760349386560533, 0.13374996473160164, -0.2764978279048543, 0.1372515675009353, 0.3012017302565265, 0.3741407098377585, 0.39407149778293477], [-0.009584525869199445, 0.00047913603647980275, 1.0, -0.10208779083597062, -0.25247136958190697, -0.01703611336058946, -0.02734047692109471, -0.030972736981218885, -0.01058846495262669, 0.0039876315751634925, 0.03156362837396409, -0.047345424408478914, -0.030927303249114347], [-0.002335349725046903, -0.003497739438328355, -0.10208779083597062, 1.0, 0.03595507139844877, 0.003310739703925736, -0.0017949269841715137, -0.008820944779344874, -0.03715826821856076, 0.011501545297833139, 0.032721415482021066, 0.021577888472998855, 0.02689985999084069], [0.01374310174705346, 0.0022849981041432317, -0.25247136958190697, 0.03595507139844877, 1.0, 0.044672223797479683, 0.055390317057236266, 0.05466723464013966, 0.015687512350784746, -0.011829789356500104, -0.3009424860259183, 0.13432579113379545, 0.03028436774790924], [-0.014523552139126403, -0.020202528398647144, -0.01703611336058946, 0.003310739703925736, 0.044672223797479683, 1.0, -0.10263993557968397, -0.10556310792660538, 0.41813032875177486, 0.026225652487408952, -0.15262788466438248, -0.12096551971788794, -0.1424261381380835], [0.3120252372573753, 0.13760349386560533, -0.02734047692109471, -0.0017949269841715137, 0.055390317057236266, -0.10263993557968397, 1.0, 0.9876721390396368, -0.06988139105119401, -0.023125262485330592, 0.4596156455448438, 0.33536084904299257, 0.4047722757786518], [0.31937981095884305, 0.13374996473160164, -0.030972736981218885, -0.008820944779344874, 0.05466723464013966, -0.10556310792660538, 0.9876721390396368, 1.0, -0.051917695993365716, -0.06233604268695348, 0.454080065332886, 0.3325586354050848, 0.40092930412661515], [0.15062474540391602, -0.2764978279048543, -0.01058846495262669, -0.03715826821856076, 0.015687512350784746, 0.41813032875177486, -0.06988139105119401, -0.051917695993365716, 1.0, -0.29010489506384607, -0.3470280928399293, -0.27393311849193425, -0.3229107408245637], [-0.14977275116519193, 0.1372515675009353, 0.0039876315751634925, 0.011501545297833139, -0.011829789356500104, 0.026225652487408952, -0.023125262485330592, -0.06233604268695348, -0.29010489506384607, 1.0, 0.09028677509691518, 0.08232084736312488, 0.09323378392612207], [0.1202064473500163, 0.3012017302565265, 0.03156362837396409, 0.032721415482021066, -0.3009424860259183, -0.15262788466438248, 0.4596156455448438, 0.454080065332886, -0.3470280928399293, 0.09028677509691518, 1.0, 0.5066177004294624, 0.6945640779749465], [0.17422563340234126, 0.3741407098377585, -0.047345424408478914, 0.021577888472998855, 0.13432579113379545, -0.12096551971788794, 0.33536084904299257, 0.3325586354050848, -0.27393311849193425, 0.08232084736312488, 0.5066177004294624, 1.0, 0.972150730864298], [0.17805573098265656, 0.39407149778293477, -0.030927303249114347, 0.02689985999084069, 0.03028436774790924, -0.1424261381380835, 0.4047722757786518, 0.40092930412661515, -0.3229107408245637, 0.09323378392612207, 0.6945640779749465, 0.972150730864298, 1.0]]}],                        {\"annotations\": [{\"font\": {\"color\": \"#FFFFFF\"}, \"showarrow\": false, \"text\": \"1.0\", \"x\": \"season\", \"xref\": \"x\", \"y\": \"season\", \"yref\": \"y\"}, {\"font\": {\"color\": \"#FFFFFF\"}, \"showarrow\": false, \"text\": \"-0.01\", \"x\": \"hr\", \"xref\": \"x\", \"y\": \"season\", \"yref\": \"y\"}, {\"font\": {\"color\": \"#FFFFFF\"}, \"showarrow\": false, \"text\": \"-0.01\", \"x\": \"holiday\", \"xref\": \"x\", \"y\": \"season\", \"yref\": \"y\"}, {\"font\": {\"color\": \"#FFFFFF\"}, \"showarrow\": false, \"text\": \"-0.0\", \"x\": \"weekday\", \"xref\": \"x\", \"y\": \"season\", \"yref\": \"y\"}, {\"font\": {\"color\": \"#FFFFFF\"}, \"showarrow\": false, \"text\": \"0.01\", \"x\": \"workingday\", \"xref\": \"x\", \"y\": \"season\", \"yref\": \"y\"}, {\"font\": {\"color\": \"#FFFFFF\"}, \"showarrow\": false, \"text\": \"-0.01\", \"x\": \"weathersit\", \"xref\": \"x\", \"y\": \"season\", \"yref\": \"y\"}, {\"font\": {\"color\": \"#FFFFFF\"}, \"showarrow\": false, \"text\": \"0.31\", \"x\": \"temp\", \"xref\": \"x\", \"y\": \"season\", \"yref\": \"y\"}, {\"font\": {\"color\": \"#FFFFFF\"}, \"showarrow\": false, \"text\": \"0.32\", \"x\": \"atemp\", \"xref\": \"x\", \"y\": \"season\", \"yref\": \"y\"}, {\"font\": {\"color\": \"#FFFFFF\"}, \"showarrow\": false, \"text\": \"0.15\", \"x\": \"hum\", \"xref\": \"x\", \"y\": \"season\", \"yref\": \"y\"}, {\"font\": {\"color\": \"#FFFFFF\"}, \"showarrow\": false, \"text\": \"-0.15\", \"x\": \"windspeed\", \"xref\": \"x\", \"y\": \"season\", \"yref\": \"y\"}, {\"font\": {\"color\": \"#FFFFFF\"}, \"showarrow\": false, \"text\": \"0.12\", \"x\": \"casual\", \"xref\": \"x\", \"y\": \"season\", \"yref\": \"y\"}, {\"font\": {\"color\": \"#FFFFFF\"}, \"showarrow\": false, \"text\": \"0.17\", \"x\": \"registered\", \"xref\": \"x\", \"y\": \"season\", \"yref\": \"y\"}, {\"font\": {\"color\": \"#FFFFFF\"}, \"showarrow\": false, \"text\": \"0.18\", \"x\": \"cnt\", \"xref\": \"x\", \"y\": \"season\", \"yref\": \"y\"}, {\"font\": {\"color\": \"#FFFFFF\"}, \"showarrow\": false, \"text\": \"-0.01\", \"x\": \"season\", \"xref\": \"x\", \"y\": \"hr\", \"yref\": \"y\"}, {\"font\": {\"color\": \"#FFFFFF\"}, \"showarrow\": false, \"text\": \"1.0\", \"x\": \"hr\", \"xref\": \"x\", \"y\": \"hr\", \"yref\": \"y\"}, {\"font\": {\"color\": \"#FFFFFF\"}, \"showarrow\": false, \"text\": \"0.0\", \"x\": \"holiday\", \"xref\": \"x\", \"y\": \"hr\", \"yref\": \"y\"}, {\"font\": {\"color\": \"#FFFFFF\"}, \"showarrow\": false, \"text\": \"-0.0\", \"x\": \"weekday\", \"xref\": \"x\", \"y\": \"hr\", \"yref\": \"y\"}, {\"font\": {\"color\": \"#FFFFFF\"}, \"showarrow\": false, \"text\": \"0.0\", \"x\": \"workingday\", \"xref\": \"x\", \"y\": \"hr\", \"yref\": \"y\"}, {\"font\": {\"color\": \"#FFFFFF\"}, \"showarrow\": false, \"text\": \"-0.02\", \"x\": \"weathersit\", \"xref\": \"x\", \"y\": \"hr\", \"yref\": \"y\"}, {\"font\": {\"color\": \"#FFFFFF\"}, \"showarrow\": false, \"text\": \"0.14\", \"x\": \"temp\", \"xref\": \"x\", \"y\": \"hr\", \"yref\": \"y\"}, {\"font\": {\"color\": \"#FFFFFF\"}, \"showarrow\": false, \"text\": \"0.13\", \"x\": \"atemp\", \"xref\": \"x\", \"y\": \"hr\", \"yref\": \"y\"}, {\"font\": {\"color\": \"#FFFFFF\"}, \"showarrow\": false, \"text\": \"-0.28\", \"x\": \"hum\", \"xref\": \"x\", \"y\": \"hr\", \"yref\": \"y\"}, {\"font\": {\"color\": \"#FFFFFF\"}, \"showarrow\": false, \"text\": \"0.14\", \"x\": \"windspeed\", \"xref\": \"x\", \"y\": \"hr\", \"yref\": \"y\"}, {\"font\": {\"color\": \"#FFFFFF\"}, \"showarrow\": false, \"text\": \"0.3\", \"x\": \"casual\", \"xref\": \"x\", \"y\": \"hr\", \"yref\": \"y\"}, {\"font\": {\"color\": \"#FFFFFF\"}, \"showarrow\": false, \"text\": \"0.37\", \"x\": \"registered\", \"xref\": \"x\", \"y\": \"hr\", \"yref\": \"y\"}, {\"font\": {\"color\": \"#FFFFFF\"}, \"showarrow\": false, \"text\": \"0.39\", \"x\": \"cnt\", \"xref\": \"x\", \"y\": \"hr\", \"yref\": \"y\"}, {\"font\": {\"color\": \"#FFFFFF\"}, \"showarrow\": false, \"text\": \"-0.01\", \"x\": \"season\", \"xref\": \"x\", \"y\": \"holiday\", \"yref\": \"y\"}, {\"font\": {\"color\": \"#FFFFFF\"}, \"showarrow\": false, \"text\": \"0.0\", \"x\": \"hr\", \"xref\": \"x\", \"y\": \"holiday\", \"yref\": \"y\"}, {\"font\": {\"color\": \"#FFFFFF\"}, \"showarrow\": false, \"text\": \"1.0\", \"x\": \"holiday\", \"xref\": \"x\", \"y\": \"holiday\", \"yref\": \"y\"}, {\"font\": {\"color\": \"#FFFFFF\"}, \"showarrow\": false, \"text\": \"-0.1\", \"x\": \"weekday\", \"xref\": \"x\", \"y\": \"holiday\", \"yref\": \"y\"}, {\"font\": {\"color\": \"#FFFFFF\"}, \"showarrow\": false, \"text\": \"-0.25\", \"x\": \"workingday\", \"xref\": \"x\", \"y\": \"holiday\", \"yref\": \"y\"}, {\"font\": {\"color\": \"#FFFFFF\"}, \"showarrow\": false, \"text\": \"-0.02\", \"x\": \"weathersit\", \"xref\": \"x\", \"y\": \"holiday\", \"yref\": \"y\"}, {\"font\": {\"color\": \"#FFFFFF\"}, \"showarrow\": false, \"text\": \"-0.03\", \"x\": \"temp\", \"xref\": \"x\", \"y\": \"holiday\", \"yref\": \"y\"}, {\"font\": {\"color\": \"#FFFFFF\"}, \"showarrow\": false, \"text\": \"-0.03\", \"x\": \"atemp\", \"xref\": \"x\", \"y\": \"holiday\", \"yref\": \"y\"}, {\"font\": {\"color\": \"#FFFFFF\"}, \"showarrow\": false, \"text\": \"-0.01\", \"x\": \"hum\", \"xref\": \"x\", \"y\": \"holiday\", \"yref\": \"y\"}, {\"font\": {\"color\": \"#FFFFFF\"}, \"showarrow\": false, \"text\": \"0.0\", \"x\": \"windspeed\", \"xref\": \"x\", \"y\": \"holiday\", \"yref\": \"y\"}, {\"font\": {\"color\": \"#FFFFFF\"}, \"showarrow\": false, \"text\": \"0.03\", \"x\": \"casual\", \"xref\": \"x\", \"y\": \"holiday\", \"yref\": \"y\"}, {\"font\": {\"color\": \"#FFFFFF\"}, \"showarrow\": false, \"text\": \"-0.05\", \"x\": \"registered\", \"xref\": \"x\", \"y\": \"holiday\", \"yref\": \"y\"}, {\"font\": {\"color\": \"#FFFFFF\"}, \"showarrow\": false, \"text\": \"-0.03\", \"x\": \"cnt\", \"xref\": \"x\", \"y\": \"holiday\", \"yref\": \"y\"}, {\"font\": {\"color\": \"#FFFFFF\"}, \"showarrow\": false, \"text\": \"-0.0\", \"x\": \"season\", \"xref\": \"x\", \"y\": \"weekday\", \"yref\": \"y\"}, {\"font\": {\"color\": \"#FFFFFF\"}, \"showarrow\": false, \"text\": \"-0.0\", \"x\": \"hr\", \"xref\": \"x\", \"y\": \"weekday\", \"yref\": \"y\"}, {\"font\": {\"color\": \"#FFFFFF\"}, \"showarrow\": false, \"text\": \"-0.1\", \"x\": \"holiday\", \"xref\": \"x\", \"y\": \"weekday\", \"yref\": \"y\"}, {\"font\": {\"color\": \"#FFFFFF\"}, \"showarrow\": false, \"text\": \"1.0\", \"x\": \"weekday\", \"xref\": \"x\", \"y\": \"weekday\", \"yref\": \"y\"}, {\"font\": {\"color\": \"#FFFFFF\"}, \"showarrow\": false, \"text\": \"0.04\", \"x\": \"workingday\", \"xref\": \"x\", \"y\": \"weekday\", \"yref\": \"y\"}, {\"font\": {\"color\": \"#FFFFFF\"}, \"showarrow\": false, \"text\": \"0.0\", \"x\": \"weathersit\", \"xref\": \"x\", \"y\": \"weekday\", \"yref\": \"y\"}, {\"font\": {\"color\": \"#FFFFFF\"}, \"showarrow\": false, \"text\": \"-0.0\", \"x\": \"temp\", \"xref\": \"x\", \"y\": \"weekday\", \"yref\": \"y\"}, {\"font\": {\"color\": \"#FFFFFF\"}, \"showarrow\": false, \"text\": \"-0.01\", \"x\": \"atemp\", \"xref\": \"x\", \"y\": \"weekday\", \"yref\": \"y\"}, {\"font\": {\"color\": \"#FFFFFF\"}, \"showarrow\": false, \"text\": \"-0.04\", \"x\": \"hum\", \"xref\": \"x\", \"y\": \"weekday\", \"yref\": \"y\"}, {\"font\": {\"color\": \"#FFFFFF\"}, \"showarrow\": false, \"text\": \"0.01\", \"x\": \"windspeed\", \"xref\": \"x\", \"y\": \"weekday\", \"yref\": \"y\"}, {\"font\": {\"color\": \"#FFFFFF\"}, \"showarrow\": false, \"text\": \"0.03\", \"x\": \"casual\", \"xref\": \"x\", \"y\": \"weekday\", \"yref\": \"y\"}, {\"font\": {\"color\": \"#FFFFFF\"}, \"showarrow\": false, \"text\": \"0.02\", \"x\": \"registered\", \"xref\": \"x\", \"y\": \"weekday\", \"yref\": \"y\"}, {\"font\": {\"color\": \"#FFFFFF\"}, \"showarrow\": false, \"text\": \"0.03\", \"x\": \"cnt\", \"xref\": \"x\", \"y\": \"weekday\", \"yref\": \"y\"}, {\"font\": {\"color\": \"#FFFFFF\"}, \"showarrow\": false, \"text\": \"0.01\", \"x\": \"season\", \"xref\": \"x\", \"y\": \"workingday\", \"yref\": \"y\"}, {\"font\": {\"color\": \"#FFFFFF\"}, \"showarrow\": false, \"text\": \"0.0\", \"x\": \"hr\", \"xref\": \"x\", \"y\": \"workingday\", \"yref\": \"y\"}, {\"font\": {\"color\": \"#FFFFFF\"}, \"showarrow\": false, \"text\": \"-0.25\", \"x\": \"holiday\", \"xref\": \"x\", \"y\": \"workingday\", \"yref\": \"y\"}, {\"font\": {\"color\": \"#FFFFFF\"}, \"showarrow\": false, \"text\": \"0.04\", \"x\": \"weekday\", \"xref\": \"x\", \"y\": \"workingday\", \"yref\": \"y\"}, {\"font\": {\"color\": \"#FFFFFF\"}, \"showarrow\": false, \"text\": \"1.0\", \"x\": \"workingday\", \"xref\": \"x\", \"y\": \"workingday\", \"yref\": \"y\"}, {\"font\": {\"color\": \"#FFFFFF\"}, \"showarrow\": false, \"text\": \"0.04\", \"x\": \"weathersit\", \"xref\": \"x\", \"y\": \"workingday\", \"yref\": \"y\"}, {\"font\": {\"color\": \"#FFFFFF\"}, \"showarrow\": false, \"text\": \"0.06\", \"x\": \"temp\", \"xref\": \"x\", \"y\": \"workingday\", \"yref\": \"y\"}, {\"font\": {\"color\": \"#FFFFFF\"}, \"showarrow\": false, \"text\": \"0.05\", \"x\": \"atemp\", \"xref\": \"x\", \"y\": \"workingday\", \"yref\": \"y\"}, {\"font\": {\"color\": \"#FFFFFF\"}, \"showarrow\": false, \"text\": \"0.02\", \"x\": \"hum\", \"xref\": \"x\", \"y\": \"workingday\", \"yref\": \"y\"}, {\"font\": {\"color\": \"#FFFFFF\"}, \"showarrow\": false, \"text\": \"-0.01\", \"x\": \"windspeed\", \"xref\": \"x\", \"y\": \"workingday\", \"yref\": \"y\"}, {\"font\": {\"color\": \"#FFFFFF\"}, \"showarrow\": false, \"text\": \"-0.3\", \"x\": \"casual\", \"xref\": \"x\", \"y\": \"workingday\", \"yref\": \"y\"}, {\"font\": {\"color\": \"#FFFFFF\"}, \"showarrow\": false, \"text\": \"0.13\", \"x\": \"registered\", \"xref\": \"x\", \"y\": \"workingday\", \"yref\": \"y\"}, {\"font\": {\"color\": \"#FFFFFF\"}, \"showarrow\": false, \"text\": \"0.03\", \"x\": \"cnt\", \"xref\": \"x\", \"y\": \"workingday\", \"yref\": \"y\"}, {\"font\": {\"color\": \"#FFFFFF\"}, \"showarrow\": false, \"text\": \"-0.01\", \"x\": \"season\", \"xref\": \"x\", \"y\": \"weathersit\", \"yref\": \"y\"}, {\"font\": {\"color\": \"#FFFFFF\"}, \"showarrow\": false, \"text\": \"-0.02\", \"x\": \"hr\", \"xref\": \"x\", \"y\": \"weathersit\", \"yref\": \"y\"}, {\"font\": {\"color\": \"#FFFFFF\"}, \"showarrow\": false, \"text\": \"-0.02\", \"x\": \"holiday\", \"xref\": \"x\", \"y\": \"weathersit\", \"yref\": \"y\"}, {\"font\": {\"color\": \"#FFFFFF\"}, \"showarrow\": false, \"text\": \"0.0\", \"x\": \"weekday\", \"xref\": \"x\", \"y\": \"weathersit\", \"yref\": \"y\"}, {\"font\": {\"color\": \"#FFFFFF\"}, \"showarrow\": false, \"text\": \"0.04\", \"x\": \"workingday\", \"xref\": \"x\", \"y\": \"weathersit\", \"yref\": \"y\"}, {\"font\": {\"color\": \"#FFFFFF\"}, \"showarrow\": false, \"text\": \"1.0\", \"x\": \"weathersit\", \"xref\": \"x\", \"y\": \"weathersit\", \"yref\": \"y\"}, {\"font\": {\"color\": \"#FFFFFF\"}, \"showarrow\": false, \"text\": \"-0.1\", \"x\": \"temp\", \"xref\": \"x\", \"y\": \"weathersit\", \"yref\": \"y\"}, {\"font\": {\"color\": \"#FFFFFF\"}, \"showarrow\": false, \"text\": \"-0.11\", \"x\": \"atemp\", \"xref\": \"x\", \"y\": \"weathersit\", \"yref\": \"y\"}, {\"font\": {\"color\": \"#FFFFFF\"}, \"showarrow\": false, \"text\": \"0.42\", \"x\": \"hum\", \"xref\": \"x\", \"y\": \"weathersit\", \"yref\": \"y\"}, {\"font\": {\"color\": \"#FFFFFF\"}, \"showarrow\": false, \"text\": \"0.03\", \"x\": \"windspeed\", \"xref\": \"x\", \"y\": \"weathersit\", \"yref\": \"y\"}, {\"font\": {\"color\": \"#FFFFFF\"}, \"showarrow\": false, \"text\": \"-0.15\", \"x\": \"casual\", \"xref\": \"x\", \"y\": \"weathersit\", \"yref\": \"y\"}, {\"font\": {\"color\": \"#FFFFFF\"}, \"showarrow\": false, \"text\": \"-0.12\", \"x\": \"registered\", \"xref\": \"x\", \"y\": \"weathersit\", \"yref\": \"y\"}, {\"font\": {\"color\": \"#FFFFFF\"}, \"showarrow\": false, \"text\": \"-0.14\", \"x\": \"cnt\", \"xref\": \"x\", \"y\": \"weathersit\", \"yref\": \"y\"}, {\"font\": {\"color\": \"#FFFFFF\"}, \"showarrow\": false, \"text\": \"0.31\", \"x\": \"season\", \"xref\": \"x\", \"y\": \"temp\", \"yref\": \"y\"}, {\"font\": {\"color\": \"#FFFFFF\"}, \"showarrow\": false, \"text\": \"0.14\", \"x\": \"hr\", \"xref\": \"x\", \"y\": \"temp\", \"yref\": \"y\"}, {\"font\": {\"color\": \"#FFFFFF\"}, \"showarrow\": false, \"text\": \"-0.03\", \"x\": \"holiday\", \"xref\": \"x\", \"y\": \"temp\", \"yref\": \"y\"}, {\"font\": {\"color\": \"#FFFFFF\"}, \"showarrow\": false, \"text\": \"-0.0\", \"x\": \"weekday\", \"xref\": \"x\", \"y\": \"temp\", \"yref\": \"y\"}, {\"font\": {\"color\": \"#FFFFFF\"}, \"showarrow\": false, \"text\": \"0.06\", \"x\": \"workingday\", \"xref\": \"x\", \"y\": \"temp\", \"yref\": \"y\"}, {\"font\": {\"color\": \"#FFFFFF\"}, \"showarrow\": false, \"text\": \"-0.1\", \"x\": \"weathersit\", \"xref\": \"x\", \"y\": \"temp\", \"yref\": \"y\"}, {\"font\": {\"color\": \"#FFFFFF\"}, \"showarrow\": false, \"text\": \"1.0\", \"x\": \"temp\", \"xref\": \"x\", \"y\": \"temp\", \"yref\": \"y\"}, {\"font\": {\"color\": \"#FFFFFF\"}, \"showarrow\": false, \"text\": \"0.99\", \"x\": \"atemp\", \"xref\": \"x\", \"y\": \"temp\", \"yref\": \"y\"}, {\"font\": {\"color\": \"#FFFFFF\"}, \"showarrow\": false, \"text\": \"-0.07\", \"x\": \"hum\", \"xref\": \"x\", \"y\": \"temp\", \"yref\": \"y\"}, {\"font\": {\"color\": \"#FFFFFF\"}, \"showarrow\": false, \"text\": \"-0.02\", \"x\": \"windspeed\", \"xref\": \"x\", \"y\": \"temp\", \"yref\": \"y\"}, {\"font\": {\"color\": \"#FFFFFF\"}, \"showarrow\": false, \"text\": \"0.46\", \"x\": \"casual\", \"xref\": \"x\", \"y\": \"temp\", \"yref\": \"y\"}, {\"font\": {\"color\": \"#FFFFFF\"}, \"showarrow\": false, \"text\": \"0.34\", \"x\": \"registered\", \"xref\": \"x\", \"y\": \"temp\", \"yref\": \"y\"}, {\"font\": {\"color\": \"#FFFFFF\"}, \"showarrow\": false, \"text\": \"0.4\", \"x\": \"cnt\", \"xref\": \"x\", \"y\": \"temp\", \"yref\": \"y\"}, {\"font\": {\"color\": \"#FFFFFF\"}, \"showarrow\": false, \"text\": \"0.32\", \"x\": \"season\", \"xref\": \"x\", \"y\": \"atemp\", \"yref\": \"y\"}, {\"font\": {\"color\": \"#FFFFFF\"}, \"showarrow\": false, \"text\": \"0.13\", \"x\": \"hr\", \"xref\": \"x\", \"y\": \"atemp\", \"yref\": \"y\"}, {\"font\": {\"color\": \"#FFFFFF\"}, \"showarrow\": false, \"text\": \"-0.03\", \"x\": \"holiday\", \"xref\": \"x\", \"y\": \"atemp\", \"yref\": \"y\"}, {\"font\": {\"color\": \"#FFFFFF\"}, \"showarrow\": false, \"text\": \"-0.01\", \"x\": \"weekday\", \"xref\": \"x\", \"y\": \"atemp\", \"yref\": \"y\"}, {\"font\": {\"color\": \"#FFFFFF\"}, \"showarrow\": false, \"text\": \"0.05\", \"x\": \"workingday\", \"xref\": \"x\", \"y\": \"atemp\", \"yref\": \"y\"}, {\"font\": {\"color\": \"#FFFFFF\"}, \"showarrow\": false, \"text\": \"-0.11\", \"x\": \"weathersit\", \"xref\": \"x\", \"y\": \"atemp\", \"yref\": \"y\"}, {\"font\": {\"color\": \"#FFFFFF\"}, \"showarrow\": false, \"text\": \"0.99\", \"x\": \"temp\", \"xref\": \"x\", \"y\": \"atemp\", \"yref\": \"y\"}, {\"font\": {\"color\": \"#FFFFFF\"}, \"showarrow\": false, \"text\": \"1.0\", \"x\": \"atemp\", \"xref\": \"x\", \"y\": \"atemp\", \"yref\": \"y\"}, {\"font\": {\"color\": \"#FFFFFF\"}, \"showarrow\": false, \"text\": \"-0.05\", \"x\": \"hum\", \"xref\": \"x\", \"y\": \"atemp\", \"yref\": \"y\"}, {\"font\": {\"color\": \"#FFFFFF\"}, \"showarrow\": false, \"text\": \"-0.06\", \"x\": \"windspeed\", \"xref\": \"x\", \"y\": \"atemp\", \"yref\": \"y\"}, {\"font\": {\"color\": \"#FFFFFF\"}, \"showarrow\": false, \"text\": \"0.45\", \"x\": \"casual\", \"xref\": \"x\", \"y\": \"atemp\", \"yref\": \"y\"}, {\"font\": {\"color\": \"#FFFFFF\"}, \"showarrow\": false, \"text\": \"0.33\", \"x\": \"registered\", \"xref\": \"x\", \"y\": \"atemp\", \"yref\": \"y\"}, {\"font\": {\"color\": \"#FFFFFF\"}, \"showarrow\": false, \"text\": \"0.4\", \"x\": \"cnt\", \"xref\": \"x\", \"y\": \"atemp\", \"yref\": \"y\"}, {\"font\": {\"color\": \"#FFFFFF\"}, \"showarrow\": false, \"text\": \"0.15\", \"x\": \"season\", \"xref\": \"x\", \"y\": \"hum\", \"yref\": \"y\"}, {\"font\": {\"color\": \"#FFFFFF\"}, \"showarrow\": false, \"text\": \"-0.28\", \"x\": \"hr\", \"xref\": \"x\", \"y\": \"hum\", \"yref\": \"y\"}, {\"font\": {\"color\": \"#FFFFFF\"}, \"showarrow\": false, \"text\": \"-0.01\", \"x\": \"holiday\", \"xref\": \"x\", \"y\": \"hum\", \"yref\": \"y\"}, {\"font\": {\"color\": \"#FFFFFF\"}, \"showarrow\": false, \"text\": \"-0.04\", \"x\": \"weekday\", \"xref\": \"x\", \"y\": \"hum\", \"yref\": \"y\"}, {\"font\": {\"color\": \"#FFFFFF\"}, \"showarrow\": false, \"text\": \"0.02\", \"x\": \"workingday\", \"xref\": \"x\", \"y\": \"hum\", \"yref\": \"y\"}, {\"font\": {\"color\": \"#FFFFFF\"}, \"showarrow\": false, \"text\": \"0.42\", \"x\": \"weathersit\", \"xref\": \"x\", \"y\": \"hum\", \"yref\": \"y\"}, {\"font\": {\"color\": \"#FFFFFF\"}, \"showarrow\": false, \"text\": \"-0.07\", \"x\": \"temp\", \"xref\": \"x\", \"y\": \"hum\", \"yref\": \"y\"}, {\"font\": {\"color\": \"#FFFFFF\"}, \"showarrow\": false, \"text\": \"-0.05\", \"x\": \"atemp\", \"xref\": \"x\", \"y\": \"hum\", \"yref\": \"y\"}, {\"font\": {\"color\": \"#FFFFFF\"}, \"showarrow\": false, \"text\": \"1.0\", \"x\": \"hum\", \"xref\": \"x\", \"y\": \"hum\", \"yref\": \"y\"}, {\"font\": {\"color\": \"#FFFFFF\"}, \"showarrow\": false, \"text\": \"-0.29\", \"x\": \"windspeed\", \"xref\": \"x\", \"y\": \"hum\", \"yref\": \"y\"}, {\"font\": {\"color\": \"#FFFFFF\"}, \"showarrow\": false, \"text\": \"-0.35\", \"x\": \"casual\", \"xref\": \"x\", \"y\": \"hum\", \"yref\": \"y\"}, {\"font\": {\"color\": \"#FFFFFF\"}, \"showarrow\": false, \"text\": \"-0.27\", \"x\": \"registered\", \"xref\": \"x\", \"y\": \"hum\", \"yref\": \"y\"}, {\"font\": {\"color\": \"#FFFFFF\"}, \"showarrow\": false, \"text\": \"-0.32\", \"x\": \"cnt\", \"xref\": \"x\", \"y\": \"hum\", \"yref\": \"y\"}, {\"font\": {\"color\": \"#FFFFFF\"}, \"showarrow\": false, \"text\": \"-0.15\", \"x\": \"season\", \"xref\": \"x\", \"y\": \"windspeed\", \"yref\": \"y\"}, {\"font\": {\"color\": \"#FFFFFF\"}, \"showarrow\": false, \"text\": \"0.14\", \"x\": \"hr\", \"xref\": \"x\", \"y\": \"windspeed\", \"yref\": \"y\"}, {\"font\": {\"color\": \"#FFFFFF\"}, \"showarrow\": false, \"text\": \"0.0\", \"x\": \"holiday\", \"xref\": \"x\", \"y\": \"windspeed\", \"yref\": \"y\"}, {\"font\": {\"color\": \"#FFFFFF\"}, \"showarrow\": false, \"text\": \"0.01\", \"x\": \"weekday\", \"xref\": \"x\", \"y\": \"windspeed\", \"yref\": \"y\"}, {\"font\": {\"color\": \"#FFFFFF\"}, \"showarrow\": false, \"text\": \"-0.01\", \"x\": \"workingday\", \"xref\": \"x\", \"y\": \"windspeed\", \"yref\": \"y\"}, {\"font\": {\"color\": \"#FFFFFF\"}, \"showarrow\": false, \"text\": \"0.03\", \"x\": \"weathersit\", \"xref\": \"x\", \"y\": \"windspeed\", \"yref\": \"y\"}, {\"font\": {\"color\": \"#FFFFFF\"}, \"showarrow\": false, \"text\": \"-0.02\", \"x\": \"temp\", \"xref\": \"x\", \"y\": \"windspeed\", \"yref\": \"y\"}, {\"font\": {\"color\": \"#FFFFFF\"}, \"showarrow\": false, \"text\": \"-0.06\", \"x\": \"atemp\", \"xref\": \"x\", \"y\": \"windspeed\", \"yref\": \"y\"}, {\"font\": {\"color\": \"#FFFFFF\"}, \"showarrow\": false, \"text\": \"-0.29\", \"x\": \"hum\", \"xref\": \"x\", \"y\": \"windspeed\", \"yref\": \"y\"}, {\"font\": {\"color\": \"#FFFFFF\"}, \"showarrow\": false, \"text\": \"1.0\", \"x\": \"windspeed\", \"xref\": \"x\", \"y\": \"windspeed\", \"yref\": \"y\"}, {\"font\": {\"color\": \"#FFFFFF\"}, \"showarrow\": false, \"text\": \"0.09\", \"x\": \"casual\", \"xref\": \"x\", \"y\": \"windspeed\", \"yref\": \"y\"}, {\"font\": {\"color\": \"#FFFFFF\"}, \"showarrow\": false, \"text\": \"0.08\", \"x\": \"registered\", \"xref\": \"x\", \"y\": \"windspeed\", \"yref\": \"y\"}, {\"font\": {\"color\": \"#FFFFFF\"}, \"showarrow\": false, \"text\": \"0.09\", \"x\": \"cnt\", \"xref\": \"x\", \"y\": \"windspeed\", \"yref\": \"y\"}, {\"font\": {\"color\": \"#FFFFFF\"}, \"showarrow\": false, \"text\": \"0.12\", \"x\": \"season\", \"xref\": \"x\", \"y\": \"casual\", \"yref\": \"y\"}, {\"font\": {\"color\": \"#FFFFFF\"}, \"showarrow\": false, \"text\": \"0.3\", \"x\": \"hr\", \"xref\": \"x\", \"y\": \"casual\", \"yref\": \"y\"}, {\"font\": {\"color\": \"#FFFFFF\"}, \"showarrow\": false, \"text\": \"0.03\", \"x\": \"holiday\", \"xref\": \"x\", \"y\": \"casual\", \"yref\": \"y\"}, {\"font\": {\"color\": \"#FFFFFF\"}, \"showarrow\": false, \"text\": \"0.03\", \"x\": \"weekday\", \"xref\": \"x\", \"y\": \"casual\", \"yref\": \"y\"}, {\"font\": {\"color\": \"#FFFFFF\"}, \"showarrow\": false, \"text\": \"-0.3\", \"x\": \"workingday\", \"xref\": \"x\", \"y\": \"casual\", \"yref\": \"y\"}, {\"font\": {\"color\": \"#FFFFFF\"}, \"showarrow\": false, \"text\": \"-0.15\", \"x\": \"weathersit\", \"xref\": \"x\", \"y\": \"casual\", \"yref\": \"y\"}, {\"font\": {\"color\": \"#FFFFFF\"}, \"showarrow\": false, \"text\": \"0.46\", \"x\": \"temp\", \"xref\": \"x\", \"y\": \"casual\", \"yref\": \"y\"}, {\"font\": {\"color\": \"#FFFFFF\"}, \"showarrow\": false, \"text\": \"0.45\", \"x\": \"atemp\", \"xref\": \"x\", \"y\": \"casual\", \"yref\": \"y\"}, {\"font\": {\"color\": \"#FFFFFF\"}, \"showarrow\": false, \"text\": \"-0.35\", \"x\": \"hum\", \"xref\": \"x\", \"y\": \"casual\", \"yref\": \"y\"}, {\"font\": {\"color\": \"#FFFFFF\"}, \"showarrow\": false, \"text\": \"0.09\", \"x\": \"windspeed\", \"xref\": \"x\", \"y\": \"casual\", \"yref\": \"y\"}, {\"font\": {\"color\": \"#FFFFFF\"}, \"showarrow\": false, \"text\": \"1.0\", \"x\": \"casual\", \"xref\": \"x\", \"y\": \"casual\", \"yref\": \"y\"}, {\"font\": {\"color\": \"#FFFFFF\"}, \"showarrow\": false, \"text\": \"0.51\", \"x\": \"registered\", \"xref\": \"x\", \"y\": \"casual\", \"yref\": \"y\"}, {\"font\": {\"color\": \"#FFFFFF\"}, \"showarrow\": false, \"text\": \"0.69\", \"x\": \"cnt\", \"xref\": \"x\", \"y\": \"casual\", \"yref\": \"y\"}, {\"font\": {\"color\": \"#FFFFFF\"}, \"showarrow\": false, \"text\": \"0.17\", \"x\": \"season\", \"xref\": \"x\", \"y\": \"registered\", \"yref\": \"y\"}, {\"font\": {\"color\": \"#FFFFFF\"}, \"showarrow\": false, \"text\": \"0.37\", \"x\": \"hr\", \"xref\": \"x\", \"y\": \"registered\", \"yref\": \"y\"}, {\"font\": {\"color\": \"#FFFFFF\"}, \"showarrow\": false, \"text\": \"-0.05\", \"x\": \"holiday\", \"xref\": \"x\", \"y\": \"registered\", \"yref\": \"y\"}, {\"font\": {\"color\": \"#FFFFFF\"}, \"showarrow\": false, \"text\": \"0.02\", \"x\": \"weekday\", \"xref\": \"x\", \"y\": \"registered\", \"yref\": \"y\"}, {\"font\": {\"color\": \"#FFFFFF\"}, \"showarrow\": false, \"text\": \"0.13\", \"x\": \"workingday\", \"xref\": \"x\", \"y\": \"registered\", \"yref\": \"y\"}, {\"font\": {\"color\": \"#FFFFFF\"}, \"showarrow\": false, \"text\": \"-0.12\", \"x\": \"weathersit\", \"xref\": \"x\", \"y\": \"registered\", \"yref\": \"y\"}, {\"font\": {\"color\": \"#FFFFFF\"}, \"showarrow\": false, \"text\": \"0.34\", \"x\": \"temp\", \"xref\": \"x\", \"y\": \"registered\", \"yref\": \"y\"}, {\"font\": {\"color\": \"#FFFFFF\"}, \"showarrow\": false, \"text\": \"0.33\", \"x\": \"atemp\", \"xref\": \"x\", \"y\": \"registered\", \"yref\": \"y\"}, {\"font\": {\"color\": \"#FFFFFF\"}, \"showarrow\": false, \"text\": \"-0.27\", \"x\": \"hum\", \"xref\": \"x\", \"y\": \"registered\", \"yref\": \"y\"}, {\"font\": {\"color\": \"#FFFFFF\"}, \"showarrow\": false, \"text\": \"0.08\", \"x\": \"windspeed\", \"xref\": \"x\", \"y\": \"registered\", \"yref\": \"y\"}, {\"font\": {\"color\": \"#FFFFFF\"}, \"showarrow\": false, \"text\": \"0.51\", \"x\": \"casual\", \"xref\": \"x\", \"y\": \"registered\", \"yref\": \"y\"}, {\"font\": {\"color\": \"#FFFFFF\"}, \"showarrow\": false, \"text\": \"1.0\", \"x\": \"registered\", \"xref\": \"x\", \"y\": \"registered\", \"yref\": \"y\"}, {\"font\": {\"color\": \"#FFFFFF\"}, \"showarrow\": false, \"text\": \"0.97\", \"x\": \"cnt\", \"xref\": \"x\", \"y\": \"registered\", \"yref\": \"y\"}, {\"font\": {\"color\": \"#FFFFFF\"}, \"showarrow\": false, \"text\": \"0.18\", \"x\": \"season\", \"xref\": \"x\", \"y\": \"cnt\", \"yref\": \"y\"}, {\"font\": {\"color\": \"#FFFFFF\"}, \"showarrow\": false, \"text\": \"0.39\", \"x\": \"hr\", \"xref\": \"x\", \"y\": \"cnt\", \"yref\": \"y\"}, {\"font\": {\"color\": \"#FFFFFF\"}, \"showarrow\": false, \"text\": \"-0.03\", \"x\": \"holiday\", \"xref\": \"x\", \"y\": \"cnt\", \"yref\": \"y\"}, {\"font\": {\"color\": \"#FFFFFF\"}, \"showarrow\": false, \"text\": \"0.03\", \"x\": \"weekday\", \"xref\": \"x\", \"y\": \"cnt\", \"yref\": \"y\"}, {\"font\": {\"color\": \"#FFFFFF\"}, \"showarrow\": false, \"text\": \"0.03\", \"x\": \"workingday\", \"xref\": \"x\", \"y\": \"cnt\", \"yref\": \"y\"}, {\"font\": {\"color\": \"#FFFFFF\"}, \"showarrow\": false, \"text\": \"-0.14\", \"x\": \"weathersit\", \"xref\": \"x\", \"y\": \"cnt\", \"yref\": \"y\"}, {\"font\": {\"color\": \"#FFFFFF\"}, \"showarrow\": false, \"text\": \"0.4\", \"x\": \"temp\", \"xref\": \"x\", \"y\": \"cnt\", \"yref\": \"y\"}, {\"font\": {\"color\": \"#FFFFFF\"}, \"showarrow\": false, \"text\": \"0.4\", \"x\": \"atemp\", \"xref\": \"x\", \"y\": \"cnt\", \"yref\": \"y\"}, {\"font\": {\"color\": \"#FFFFFF\"}, \"showarrow\": false, \"text\": \"-0.32\", \"x\": \"hum\", \"xref\": \"x\", \"y\": \"cnt\", \"yref\": \"y\"}, {\"font\": {\"color\": \"#FFFFFF\"}, \"showarrow\": false, \"text\": \"0.09\", \"x\": \"windspeed\", \"xref\": \"x\", \"y\": \"cnt\", \"yref\": \"y\"}, {\"font\": {\"color\": \"#FFFFFF\"}, \"showarrow\": false, \"text\": \"0.69\", \"x\": \"casual\", \"xref\": \"x\", \"y\": \"cnt\", \"yref\": \"y\"}, {\"font\": {\"color\": \"#FFFFFF\"}, \"showarrow\": false, \"text\": \"0.97\", \"x\": \"registered\", \"xref\": \"x\", \"y\": \"cnt\", \"yref\": \"y\"}, {\"font\": {\"color\": \"#FFFFFF\"}, \"showarrow\": false, \"text\": \"1.0\", \"x\": \"cnt\", \"xref\": \"x\", \"y\": \"cnt\", \"yref\": \"y\"}], \"height\": 800, \"margin\": {\"l\": 200, \"t\": 200}, \"template\": {\"data\": {\"bar\": [{\"error_x\": {\"color\": \"#2a3f5f\"}, \"error_y\": {\"color\": \"#2a3f5f\"}, \"marker\": {\"line\": {\"color\": \"#E5ECF6\", \"width\": 0.5}}, \"type\": \"bar\"}], \"barpolar\": [{\"marker\": {\"line\": {\"color\": \"#E5ECF6\", \"width\": 0.5}}, \"type\": \"barpolar\"}], \"carpet\": [{\"aaxis\": {\"endlinecolor\": \"#2a3f5f\", \"gridcolor\": \"white\", \"linecolor\": \"white\", \"minorgridcolor\": \"white\", \"startlinecolor\": \"#2a3f5f\"}, \"baxis\": {\"endlinecolor\": \"#2a3f5f\", \"gridcolor\": \"white\", \"linecolor\": \"white\", \"minorgridcolor\": \"white\", \"startlinecolor\": \"#2a3f5f\"}, \"type\": \"carpet\"}], \"choropleth\": [{\"colorbar\": {\"outlinewidth\": 0, \"ticks\": \"\"}, \"type\": \"choropleth\"}], \"contour\": [{\"colorbar\": {\"outlinewidth\": 0, \"ticks\": \"\"}, \"colorscale\": [[0.0, \"#0d0887\"], [0.1111111111111111, \"#46039f\"], [0.2222222222222222, \"#7201a8\"], [0.3333333333333333, \"#9c179e\"], [0.4444444444444444, \"#bd3786\"], [0.5555555555555556, \"#d8576b\"], [0.6666666666666666, \"#ed7953\"], [0.7777777777777778, \"#fb9f3a\"], [0.8888888888888888, \"#fdca26\"], [1.0, \"#f0f921\"]], \"type\": \"contour\"}], \"contourcarpet\": [{\"colorbar\": {\"outlinewidth\": 0, \"ticks\": \"\"}, \"type\": \"contourcarpet\"}], \"heatmap\": [{\"colorbar\": {\"outlinewidth\": 0, \"ticks\": \"\"}, \"colorscale\": [[0.0, \"#0d0887\"], [0.1111111111111111, \"#46039f\"], [0.2222222222222222, \"#7201a8\"], [0.3333333333333333, \"#9c179e\"], [0.4444444444444444, \"#bd3786\"], [0.5555555555555556, \"#d8576b\"], [0.6666666666666666, \"#ed7953\"], [0.7777777777777778, \"#fb9f3a\"], [0.8888888888888888, \"#fdca26\"], [1.0, \"#f0f921\"]], \"type\": \"heatmap\"}], \"heatmapgl\": [{\"colorbar\": {\"outlinewidth\": 0, \"ticks\": \"\"}, \"colorscale\": [[0.0, \"#0d0887\"], [0.1111111111111111, \"#46039f\"], [0.2222222222222222, \"#7201a8\"], [0.3333333333333333, \"#9c179e\"], [0.4444444444444444, \"#bd3786\"], [0.5555555555555556, \"#d8576b\"], [0.6666666666666666, \"#ed7953\"], [0.7777777777777778, \"#fb9f3a\"], [0.8888888888888888, \"#fdca26\"], [1.0, \"#f0f921\"]], \"type\": \"heatmapgl\"}], \"histogram\": [{\"marker\": {\"colorbar\": {\"outlinewidth\": 0, \"ticks\": \"\"}}, \"type\": \"histogram\"}], \"histogram2d\": [{\"colorbar\": {\"outlinewidth\": 0, \"ticks\": \"\"}, \"colorscale\": [[0.0, \"#0d0887\"], [0.1111111111111111, \"#46039f\"], [0.2222222222222222, \"#7201a8\"], [0.3333333333333333, \"#9c179e\"], [0.4444444444444444, \"#bd3786\"], [0.5555555555555556, \"#d8576b\"], [0.6666666666666666, \"#ed7953\"], [0.7777777777777778, \"#fb9f3a\"], [0.8888888888888888, \"#fdca26\"], [1.0, \"#f0f921\"]], \"type\": \"histogram2d\"}], \"histogram2dcontour\": [{\"colorbar\": {\"outlinewidth\": 0, \"ticks\": \"\"}, \"colorscale\": [[0.0, \"#0d0887\"], [0.1111111111111111, \"#46039f\"], [0.2222222222222222, \"#7201a8\"], [0.3333333333333333, \"#9c179e\"], [0.4444444444444444, \"#bd3786\"], [0.5555555555555556, \"#d8576b\"], [0.6666666666666666, \"#ed7953\"], [0.7777777777777778, \"#fb9f3a\"], [0.8888888888888888, \"#fdca26\"], [1.0, \"#f0f921\"]], \"type\": \"histogram2dcontour\"}], \"mesh3d\": [{\"colorbar\": {\"outlinewidth\": 0, \"ticks\": \"\"}, \"type\": \"mesh3d\"}], \"parcoords\": [{\"line\": {\"colorbar\": {\"outlinewidth\": 0, \"ticks\": \"\"}}, \"type\": \"parcoords\"}], \"pie\": [{\"automargin\": true, \"type\": \"pie\"}], \"scatter\": [{\"marker\": {\"colorbar\": {\"outlinewidth\": 0, \"ticks\": \"\"}}, \"type\": \"scatter\"}], \"scatter3d\": [{\"line\": {\"colorbar\": {\"outlinewidth\": 0, \"ticks\": \"\"}}, \"marker\": {\"colorbar\": {\"outlinewidth\": 0, \"ticks\": \"\"}}, \"type\": \"scatter3d\"}], \"scattercarpet\": [{\"marker\": {\"colorbar\": {\"outlinewidth\": 0, \"ticks\": \"\"}}, \"type\": \"scattercarpet\"}], \"scattergeo\": [{\"marker\": {\"colorbar\": {\"outlinewidth\": 0, \"ticks\": \"\"}}, \"type\": \"scattergeo\"}], \"scattergl\": [{\"marker\": {\"colorbar\": {\"outlinewidth\": 0, \"ticks\": \"\"}}, \"type\": \"scattergl\"}], \"scattermapbox\": [{\"marker\": {\"colorbar\": {\"outlinewidth\": 0, \"ticks\": \"\"}}, \"type\": \"scattermapbox\"}], \"scatterpolar\": [{\"marker\": {\"colorbar\": {\"outlinewidth\": 0, \"ticks\": \"\"}}, \"type\": \"scatterpolar\"}], \"scatterpolargl\": [{\"marker\": {\"colorbar\": {\"outlinewidth\": 0, \"ticks\": \"\"}}, \"type\": \"scatterpolargl\"}], \"scatterternary\": [{\"marker\": {\"colorbar\": {\"outlinewidth\": 0, \"ticks\": \"\"}}, \"type\": \"scatterternary\"}], \"surface\": [{\"colorbar\": {\"outlinewidth\": 0, \"ticks\": \"\"}, \"colorscale\": [[0.0, \"#0d0887\"], [0.1111111111111111, \"#46039f\"], [0.2222222222222222, \"#7201a8\"], [0.3333333333333333, \"#9c179e\"], [0.4444444444444444, \"#bd3786\"], [0.5555555555555556, \"#d8576b\"], [0.6666666666666666, \"#ed7953\"], [0.7777777777777778, \"#fb9f3a\"], [0.8888888888888888, \"#fdca26\"], [1.0, \"#f0f921\"]], \"type\": \"surface\"}], \"table\": [{\"cells\": {\"fill\": {\"color\": \"#EBF0F8\"}, \"line\": {\"color\": \"white\"}}, \"header\": {\"fill\": {\"color\": \"#C8D4E3\"}, \"line\": {\"color\": \"white\"}}, \"type\": \"table\"}]}, \"layout\": {\"annotationdefaults\": {\"arrowcolor\": \"#2a3f5f\", \"arrowhead\": 0, \"arrowwidth\": 1}, \"coloraxis\": {\"colorbar\": {\"outlinewidth\": 0, \"ticks\": \"\"}}, \"colorscale\": {\"diverging\": [[0, \"#8e0152\"], [0.1, \"#c51b7d\"], [0.2, \"#de77ae\"], [0.3, \"#f1b6da\"], [0.4, \"#fde0ef\"], [0.5, \"#f7f7f7\"], [0.6, \"#e6f5d0\"], [0.7, \"#b8e186\"], [0.8, \"#7fbc41\"], [0.9, \"#4d9221\"], [1, \"#276419\"]], \"sequential\": [[0.0, \"#0d0887\"], [0.1111111111111111, \"#46039f\"], [0.2222222222222222, \"#7201a8\"], [0.3333333333333333, \"#9c179e\"], [0.4444444444444444, \"#bd3786\"], [0.5555555555555556, \"#d8576b\"], [0.6666666666666666, \"#ed7953\"], [0.7777777777777778, \"#fb9f3a\"], [0.8888888888888888, \"#fdca26\"], [1.0, \"#f0f921\"]], \"sequentialminus\": [[0.0, \"#0d0887\"], [0.1111111111111111, \"#46039f\"], [0.2222222222222222, \"#7201a8\"], [0.3333333333333333, \"#9c179e\"], [0.4444444444444444, \"#bd3786\"], [0.5555555555555556, \"#d8576b\"], [0.6666666666666666, \"#ed7953\"], [0.7777777777777778, \"#fb9f3a\"], [0.8888888888888888, \"#fdca26\"], [1.0, \"#f0f921\"]]}, \"colorway\": [\"#636efa\", \"#EF553B\", \"#00cc96\", \"#ab63fa\", \"#FFA15A\", \"#19d3f3\", \"#FF6692\", \"#B6E880\", \"#FF97FF\", \"#FECB52\"], \"font\": {\"color\": \"#2a3f5f\"}, \"geo\": {\"bgcolor\": \"white\", \"lakecolor\": \"white\", \"landcolor\": \"#E5ECF6\", \"showlakes\": true, \"showland\": true, \"subunitcolor\": \"white\"}, \"hoverlabel\": {\"align\": \"left\"}, \"hovermode\": \"closest\", \"mapbox\": {\"style\": \"light\"}, \"paper_bgcolor\": \"white\", \"plot_bgcolor\": \"#E5ECF6\", \"polar\": {\"angularaxis\": {\"gridcolor\": \"white\", \"linecolor\": \"white\", \"ticks\": \"\"}, \"bgcolor\": \"#E5ECF6\", \"radialaxis\": {\"gridcolor\": \"white\", \"linecolor\": \"white\", \"ticks\": \"\"}}, \"scene\": {\"xaxis\": {\"backgroundcolor\": \"#E5ECF6\", \"gridcolor\": \"white\", \"gridwidth\": 2, \"linecolor\": \"white\", \"showbackground\": true, \"ticks\": \"\", \"zerolinecolor\": \"white\"}, \"yaxis\": {\"backgroundcolor\": \"#E5ECF6\", \"gridcolor\": \"white\", \"gridwidth\": 2, \"linecolor\": \"white\", \"showbackground\": true, \"ticks\": \"\", \"zerolinecolor\": \"white\"}, \"zaxis\": {\"backgroundcolor\": \"#E5ECF6\", \"gridcolor\": \"white\", \"gridwidth\": 2, \"linecolor\": \"white\", \"showbackground\": true, \"ticks\": \"\", \"zerolinecolor\": \"white\"}}, \"shapedefaults\": {\"line\": {\"color\": \"#2a3f5f\"}}, \"ternary\": {\"aaxis\": {\"gridcolor\": \"white\", \"linecolor\": \"white\", \"ticks\": \"\"}, \"baxis\": {\"gridcolor\": \"white\", \"linecolor\": \"white\", \"ticks\": \"\"}, \"bgcolor\": \"#E5ECF6\", \"caxis\": {\"gridcolor\": \"white\", \"linecolor\": \"white\", \"ticks\": \"\"}}, \"title\": {\"x\": 0.05}, \"xaxis\": {\"automargin\": true, \"gridcolor\": \"white\", \"linecolor\": \"white\", \"ticks\": \"\", \"title\": {\"standoff\": 15}, \"zerolinecolor\": \"white\", \"zerolinewidth\": 2}, \"yaxis\": {\"automargin\": true, \"gridcolor\": \"white\", \"linecolor\": \"white\", \"ticks\": \"\", \"title\": {\"standoff\": 15}, \"zerolinecolor\": \"white\", \"zerolinewidth\": 2}}}, \"width\": 1000, \"xaxis\": {\"dtick\": 1, \"gridcolor\": \"rgb(0, 0, 0)\", \"side\": \"top\", \"ticks\": \"\"}, \"yaxis\": {\"dtick\": 1, \"ticks\": \"\", \"ticksuffix\": \"  \"}},                        {\"responsive\": true}                    ).then(function(){\n",
       "                            \n",
       "var gd = document.getElementById('6af4fb7b-493a-4dd2-b85b-99af149cfbbc');\n",
       "var x = new MutationObserver(function (mutations, observer) {{\n",
       "        var display = window.getComputedStyle(gd).display;\n",
       "        if (!display || display === 'none') {{\n",
       "            console.log([gd, 'removed!']);\n",
       "            Plotly.purge(gd);\n",
       "            observer.disconnect();\n",
       "        }}\n",
       "}});\n",
       "\n",
       "// Listen for the removal of the full notebook cells\n",
       "var notebookContainer = gd.closest('#notebook-container');\n",
       "if (notebookContainer) {{\n",
       "    x.observe(notebookContainer, {childList: true});\n",
       "}}\n",
       "\n",
       "// Listen for the clearing of the current output cell\n",
       "var outputEl = gd.closest('.output');\n",
       "if (outputEl) {{\n",
       "    x.observe(outputEl, {childList: true});\n",
       "}}\n",
       "\n",
       "                        })                };                });            </script>        </div>"
      ]
     },
     "metadata": {},
     "output_type": "display_data"
    }
   ],
   "source": [
    "import plotly.figure_factory as ff\n",
    "fig=ff.create_annotated_heatmap(z=corr_.values,\n",
    "                           x=list(corr_.columns),\n",
    "                           y=list(corr_.index),\n",
    "                           annotation_text=corr_.round(2).values,\n",
    "                           showscale=True,\n",
    "                               colorscale='Earth',)\n",
    "fig.layout.margin=dict(l=200,t=200)\n",
    "fig.layout.height=800\n",
    "fig.layout.width=1000\n",
    "iplot(fig)"
   ]
  },
  {
   "cell_type": "markdown",
   "metadata": {},
   "source": [
    "<span style=\"background-color: #DAF7A6\"> From the correlation table above we can see that humidity and use of bicycles are negatively correlated. Also weather and use of bicycles are also negatively correlated. Tempearute and hour has positive correaltion with the use of bicycles.  </span>"
   ]
  },
  {
   "cell_type": "markdown",
   "metadata": {},
   "source": [
    "<span style=\"background-color: #DAF7A6\">Down below we will see the number of bikes used on hourly basis. </span>"
   ]
  },
  {
   "cell_type": "code",
   "execution_count": 13,
   "metadata": {
    "ExecuteTime": {
     "end_time": "2020-12-10T11:13:48.746404Z",
     "start_time": "2020-12-10T11:13:48.735035Z"
    }
   },
   "outputs": [
    {
     "data": {
      "text/plain": [
       "array([ 0,  1,  2,  3,  4,  5,  6,  7,  8,  9, 10, 11, 12, 13, 14, 15, 16,\n",
       "       17, 18, 19, 20, 21, 22, 23])"
      ]
     },
     "execution_count": 13,
     "metadata": {},
     "output_type": "execute_result"
    }
   ],
   "source": [
    "# Lets check the unique values of hours\n",
    "bike_share['hr'].unique()"
   ]
  },
  {
   "cell_type": "markdown",
   "metadata": {},
   "source": [
    "# <span style=\"background-color: #CBBDB6\">Grouping by hour"
   ]
  },
  {
   "cell_type": "code",
   "execution_count": 14,
   "metadata": {
    "ExecuteTime": {
     "end_time": "2020-12-10T11:13:48.817460Z",
     "start_time": "2020-12-10T11:13:48.751629Z"
    }
   },
   "outputs": [],
   "source": [
    "hourly=bike_share.groupby('hr').sum()\n",
    "#hourly.head()"
   ]
  },
  {
   "cell_type": "code",
   "execution_count": 15,
   "metadata": {
    "ExecuteTime": {
     "end_time": "2020-12-10T11:13:48.950002Z",
     "start_time": "2020-12-10T11:13:48.821594Z"
    }
   },
   "outputs": [
    {
     "data": {
      "application/vnd.plotly.v1+json": {
       "config": {
        "linkText": "Export to plot.ly",
        "plotlyServerURL": "https://plot.ly",
        "showLink": true
       },
       "data": [
        {
         "line": {
          "color": "rgba(255, 153, 51, 1.0)",
          "dash": "solid",
          "shape": "linear",
          "width": 1.3
         },
         "mode": "lines",
         "name": "casual",
         "text": "",
         "type": "scatter",
         "x": [
          0,
          1,
          2,
          3,
          4,
          5,
          6,
          7,
          8,
          9,
          10,
          11,
          12,
          13,
          14,
          15,
          16,
          17,
          18,
          19,
          20,
          21,
          22,
          23
         ],
         "y": [
          7375,
          4709,
          3412,
          1893,
          874,
          1012,
          3017,
          8037,
          15761,
          22458,
          33789,
          43286,
          49718,
          52713,
          55089,
          54606,
          53834,
          54220,
          44496,
          35505,
          26378,
          20570,
          16200,
          11065
         ]
        },
        {
         "line": {
          "color": "rgba(55, 128, 191, 1.0)",
          "dash": "solid",
          "shape": "linear",
          "width": 1.3
         },
         "mode": "lines",
         "name": "registered",
         "text": "",
         "type": "scatter",
         "x": [
          0,
          1,
          2,
          3,
          4,
          5,
          6,
          7,
          8,
          9,
          10,
          11,
          12,
          13,
          14,
          15,
          16,
          17,
          18,
          19,
          20,
          21,
          22,
          23
         ],
         "y": [
          31755,
          19455,
          12940,
          6281,
          3554,
          13249,
          52115,
          146134,
          245240,
          136980,
          92468,
          108034,
          134696,
          132206,
          120563,
          128543,
          173914,
          282640,
          265276,
          191284,
          138172,
          104875,
          79412,
          52876
         ]
        }
       ],
       "layout": {
        "legend": {
         "bgcolor": "#F5F6F9",
         "font": {
          "color": "#4D5663"
         }
        },
        "paper_bgcolor": "#F5F6F9",
        "plot_bgcolor": "#F5F6F9",
        "template": {
         "data": {
          "bar": [
           {
            "error_x": {
             "color": "#2a3f5f"
            },
            "error_y": {
             "color": "#2a3f5f"
            },
            "marker": {
             "line": {
              "color": "#E5ECF6",
              "width": 0.5
             }
            },
            "type": "bar"
           }
          ],
          "barpolar": [
           {
            "marker": {
             "line": {
              "color": "#E5ECF6",
              "width": 0.5
             }
            },
            "type": "barpolar"
           }
          ],
          "carpet": [
           {
            "aaxis": {
             "endlinecolor": "#2a3f5f",
             "gridcolor": "white",
             "linecolor": "white",
             "minorgridcolor": "white",
             "startlinecolor": "#2a3f5f"
            },
            "baxis": {
             "endlinecolor": "#2a3f5f",
             "gridcolor": "white",
             "linecolor": "white",
             "minorgridcolor": "white",
             "startlinecolor": "#2a3f5f"
            },
            "type": "carpet"
           }
          ],
          "choropleth": [
           {
            "colorbar": {
             "outlinewidth": 0,
             "ticks": ""
            },
            "type": "choropleth"
           }
          ],
          "contour": [
           {
            "colorbar": {
             "outlinewidth": 0,
             "ticks": ""
            },
            "colorscale": [
             [
              0,
              "#0d0887"
             ],
             [
              0.1111111111111111,
              "#46039f"
             ],
             [
              0.2222222222222222,
              "#7201a8"
             ],
             [
              0.3333333333333333,
              "#9c179e"
             ],
             [
              0.4444444444444444,
              "#bd3786"
             ],
             [
              0.5555555555555556,
              "#d8576b"
             ],
             [
              0.6666666666666666,
              "#ed7953"
             ],
             [
              0.7777777777777778,
              "#fb9f3a"
             ],
             [
              0.8888888888888888,
              "#fdca26"
             ],
             [
              1,
              "#f0f921"
             ]
            ],
            "type": "contour"
           }
          ],
          "contourcarpet": [
           {
            "colorbar": {
             "outlinewidth": 0,
             "ticks": ""
            },
            "type": "contourcarpet"
           }
          ],
          "heatmap": [
           {
            "colorbar": {
             "outlinewidth": 0,
             "ticks": ""
            },
            "colorscale": [
             [
              0,
              "#0d0887"
             ],
             [
              0.1111111111111111,
              "#46039f"
             ],
             [
              0.2222222222222222,
              "#7201a8"
             ],
             [
              0.3333333333333333,
              "#9c179e"
             ],
             [
              0.4444444444444444,
              "#bd3786"
             ],
             [
              0.5555555555555556,
              "#d8576b"
             ],
             [
              0.6666666666666666,
              "#ed7953"
             ],
             [
              0.7777777777777778,
              "#fb9f3a"
             ],
             [
              0.8888888888888888,
              "#fdca26"
             ],
             [
              1,
              "#f0f921"
             ]
            ],
            "type": "heatmap"
           }
          ],
          "heatmapgl": [
           {
            "colorbar": {
             "outlinewidth": 0,
             "ticks": ""
            },
            "colorscale": [
             [
              0,
              "#0d0887"
             ],
             [
              0.1111111111111111,
              "#46039f"
             ],
             [
              0.2222222222222222,
              "#7201a8"
             ],
             [
              0.3333333333333333,
              "#9c179e"
             ],
             [
              0.4444444444444444,
              "#bd3786"
             ],
             [
              0.5555555555555556,
              "#d8576b"
             ],
             [
              0.6666666666666666,
              "#ed7953"
             ],
             [
              0.7777777777777778,
              "#fb9f3a"
             ],
             [
              0.8888888888888888,
              "#fdca26"
             ],
             [
              1,
              "#f0f921"
             ]
            ],
            "type": "heatmapgl"
           }
          ],
          "histogram": [
           {
            "marker": {
             "colorbar": {
              "outlinewidth": 0,
              "ticks": ""
             }
            },
            "type": "histogram"
           }
          ],
          "histogram2d": [
           {
            "colorbar": {
             "outlinewidth": 0,
             "ticks": ""
            },
            "colorscale": [
             [
              0,
              "#0d0887"
             ],
             [
              0.1111111111111111,
              "#46039f"
             ],
             [
              0.2222222222222222,
              "#7201a8"
             ],
             [
              0.3333333333333333,
              "#9c179e"
             ],
             [
              0.4444444444444444,
              "#bd3786"
             ],
             [
              0.5555555555555556,
              "#d8576b"
             ],
             [
              0.6666666666666666,
              "#ed7953"
             ],
             [
              0.7777777777777778,
              "#fb9f3a"
             ],
             [
              0.8888888888888888,
              "#fdca26"
             ],
             [
              1,
              "#f0f921"
             ]
            ],
            "type": "histogram2d"
           }
          ],
          "histogram2dcontour": [
           {
            "colorbar": {
             "outlinewidth": 0,
             "ticks": ""
            },
            "colorscale": [
             [
              0,
              "#0d0887"
             ],
             [
              0.1111111111111111,
              "#46039f"
             ],
             [
              0.2222222222222222,
              "#7201a8"
             ],
             [
              0.3333333333333333,
              "#9c179e"
             ],
             [
              0.4444444444444444,
              "#bd3786"
             ],
             [
              0.5555555555555556,
              "#d8576b"
             ],
             [
              0.6666666666666666,
              "#ed7953"
             ],
             [
              0.7777777777777778,
              "#fb9f3a"
             ],
             [
              0.8888888888888888,
              "#fdca26"
             ],
             [
              1,
              "#f0f921"
             ]
            ],
            "type": "histogram2dcontour"
           }
          ],
          "mesh3d": [
           {
            "colorbar": {
             "outlinewidth": 0,
             "ticks": ""
            },
            "type": "mesh3d"
           }
          ],
          "parcoords": [
           {
            "line": {
             "colorbar": {
              "outlinewidth": 0,
              "ticks": ""
             }
            },
            "type": "parcoords"
           }
          ],
          "pie": [
           {
            "automargin": true,
            "type": "pie"
           }
          ],
          "scatter": [
           {
            "marker": {
             "colorbar": {
              "outlinewidth": 0,
              "ticks": ""
             }
            },
            "type": "scatter"
           }
          ],
          "scatter3d": [
           {
            "line": {
             "colorbar": {
              "outlinewidth": 0,
              "ticks": ""
             }
            },
            "marker": {
             "colorbar": {
              "outlinewidth": 0,
              "ticks": ""
             }
            },
            "type": "scatter3d"
           }
          ],
          "scattercarpet": [
           {
            "marker": {
             "colorbar": {
              "outlinewidth": 0,
              "ticks": ""
             }
            },
            "type": "scattercarpet"
           }
          ],
          "scattergeo": [
           {
            "marker": {
             "colorbar": {
              "outlinewidth": 0,
              "ticks": ""
             }
            },
            "type": "scattergeo"
           }
          ],
          "scattergl": [
           {
            "marker": {
             "colorbar": {
              "outlinewidth": 0,
              "ticks": ""
             }
            },
            "type": "scattergl"
           }
          ],
          "scattermapbox": [
           {
            "marker": {
             "colorbar": {
              "outlinewidth": 0,
              "ticks": ""
             }
            },
            "type": "scattermapbox"
           }
          ],
          "scatterpolar": [
           {
            "marker": {
             "colorbar": {
              "outlinewidth": 0,
              "ticks": ""
             }
            },
            "type": "scatterpolar"
           }
          ],
          "scatterpolargl": [
           {
            "marker": {
             "colorbar": {
              "outlinewidth": 0,
              "ticks": ""
             }
            },
            "type": "scatterpolargl"
           }
          ],
          "scatterternary": [
           {
            "marker": {
             "colorbar": {
              "outlinewidth": 0,
              "ticks": ""
             }
            },
            "type": "scatterternary"
           }
          ],
          "surface": [
           {
            "colorbar": {
             "outlinewidth": 0,
             "ticks": ""
            },
            "colorscale": [
             [
              0,
              "#0d0887"
             ],
             [
              0.1111111111111111,
              "#46039f"
             ],
             [
              0.2222222222222222,
              "#7201a8"
             ],
             [
              0.3333333333333333,
              "#9c179e"
             ],
             [
              0.4444444444444444,
              "#bd3786"
             ],
             [
              0.5555555555555556,
              "#d8576b"
             ],
             [
              0.6666666666666666,
              "#ed7953"
             ],
             [
              0.7777777777777778,
              "#fb9f3a"
             ],
             [
              0.8888888888888888,
              "#fdca26"
             ],
             [
              1,
              "#f0f921"
             ]
            ],
            "type": "surface"
           }
          ],
          "table": [
           {
            "cells": {
             "fill": {
              "color": "#EBF0F8"
             },
             "line": {
              "color": "white"
             }
            },
            "header": {
             "fill": {
              "color": "#C8D4E3"
             },
             "line": {
              "color": "white"
             }
            },
            "type": "table"
           }
          ]
         },
         "layout": {
          "annotationdefaults": {
           "arrowcolor": "#2a3f5f",
           "arrowhead": 0,
           "arrowwidth": 1
          },
          "coloraxis": {
           "colorbar": {
            "outlinewidth": 0,
            "ticks": ""
           }
          },
          "colorscale": {
           "diverging": [
            [
             0,
             "#8e0152"
            ],
            [
             0.1,
             "#c51b7d"
            ],
            [
             0.2,
             "#de77ae"
            ],
            [
             0.3,
             "#f1b6da"
            ],
            [
             0.4,
             "#fde0ef"
            ],
            [
             0.5,
             "#f7f7f7"
            ],
            [
             0.6,
             "#e6f5d0"
            ],
            [
             0.7,
             "#b8e186"
            ],
            [
             0.8,
             "#7fbc41"
            ],
            [
             0.9,
             "#4d9221"
            ],
            [
             1,
             "#276419"
            ]
           ],
           "sequential": [
            [
             0,
             "#0d0887"
            ],
            [
             0.1111111111111111,
             "#46039f"
            ],
            [
             0.2222222222222222,
             "#7201a8"
            ],
            [
             0.3333333333333333,
             "#9c179e"
            ],
            [
             0.4444444444444444,
             "#bd3786"
            ],
            [
             0.5555555555555556,
             "#d8576b"
            ],
            [
             0.6666666666666666,
             "#ed7953"
            ],
            [
             0.7777777777777778,
             "#fb9f3a"
            ],
            [
             0.8888888888888888,
             "#fdca26"
            ],
            [
             1,
             "#f0f921"
            ]
           ],
           "sequentialminus": [
            [
             0,
             "#0d0887"
            ],
            [
             0.1111111111111111,
             "#46039f"
            ],
            [
             0.2222222222222222,
             "#7201a8"
            ],
            [
             0.3333333333333333,
             "#9c179e"
            ],
            [
             0.4444444444444444,
             "#bd3786"
            ],
            [
             0.5555555555555556,
             "#d8576b"
            ],
            [
             0.6666666666666666,
             "#ed7953"
            ],
            [
             0.7777777777777778,
             "#fb9f3a"
            ],
            [
             0.8888888888888888,
             "#fdca26"
            ],
            [
             1,
             "#f0f921"
            ]
           ]
          },
          "colorway": [
           "#636efa",
           "#EF553B",
           "#00cc96",
           "#ab63fa",
           "#FFA15A",
           "#19d3f3",
           "#FF6692",
           "#B6E880",
           "#FF97FF",
           "#FECB52"
          ],
          "font": {
           "color": "#2a3f5f"
          },
          "geo": {
           "bgcolor": "white",
           "lakecolor": "white",
           "landcolor": "#E5ECF6",
           "showlakes": true,
           "showland": true,
           "subunitcolor": "white"
          },
          "hoverlabel": {
           "align": "left"
          },
          "hovermode": "closest",
          "mapbox": {
           "style": "light"
          },
          "paper_bgcolor": "white",
          "plot_bgcolor": "#E5ECF6",
          "polar": {
           "angularaxis": {
            "gridcolor": "white",
            "linecolor": "white",
            "ticks": ""
           },
           "bgcolor": "#E5ECF6",
           "radialaxis": {
            "gridcolor": "white",
            "linecolor": "white",
            "ticks": ""
           }
          },
          "scene": {
           "xaxis": {
            "backgroundcolor": "#E5ECF6",
            "gridcolor": "white",
            "gridwidth": 2,
            "linecolor": "white",
            "showbackground": true,
            "ticks": "",
            "zerolinecolor": "white"
           },
           "yaxis": {
            "backgroundcolor": "#E5ECF6",
            "gridcolor": "white",
            "gridwidth": 2,
            "linecolor": "white",
            "showbackground": true,
            "ticks": "",
            "zerolinecolor": "white"
           },
           "zaxis": {
            "backgroundcolor": "#E5ECF6",
            "gridcolor": "white",
            "gridwidth": 2,
            "linecolor": "white",
            "showbackground": true,
            "ticks": "",
            "zerolinecolor": "white"
           }
          },
          "shapedefaults": {
           "line": {
            "color": "#2a3f5f"
           }
          },
          "ternary": {
           "aaxis": {
            "gridcolor": "white",
            "linecolor": "white",
            "ticks": ""
           },
           "baxis": {
            "gridcolor": "white",
            "linecolor": "white",
            "ticks": ""
           },
           "bgcolor": "#E5ECF6",
           "caxis": {
            "gridcolor": "white",
            "linecolor": "white",
            "ticks": ""
           }
          },
          "title": {
           "x": 0.05
          },
          "xaxis": {
           "automargin": true,
           "gridcolor": "white",
           "linecolor": "white",
           "ticks": "",
           "title": {
            "standoff": 15
           },
           "zerolinecolor": "white",
           "zerolinewidth": 2
          },
          "yaxis": {
           "automargin": true,
           "gridcolor": "white",
           "linecolor": "white",
           "ticks": "",
           "title": {
            "standoff": 15
           },
           "zerolinecolor": "white",
           "zerolinewidth": 2
          }
         }
        },
        "title": {
         "font": {
          "color": "#4D5663"
         },
         "text": "Use of Registered bikes Vs Casual bikes by hour"
        },
        "xaxis": {
         "gridcolor": "#E1E5ED",
         "showgrid": true,
         "tickfont": {
          "color": "#4D5663"
         },
         "title": {
          "font": {
           "color": "#4D5663"
          },
          "text": "Hours of day"
         },
         "zerolinecolor": "#E1E5ED"
        },
        "yaxis": {
         "gridcolor": "#E1E5ED",
         "showgrid": true,
         "tickfont": {
          "color": "#4D5663"
         },
         "title": {
          "font": {
           "color": "#4D5663"
          },
          "text": "Number of users"
         },
         "zerolinecolor": "#E1E5ED"
        }
       }
      },
      "text/html": [
       "<div>                            <div id=\"7efda92f-9cc3-4a29-932e-1e426afa25e5\" class=\"plotly-graph-div\" style=\"height:525px; width:100%;\"></div>            <script type=\"text/javascript\">                require([\"plotly\"], function(Plotly) {                    window.PLOTLYENV=window.PLOTLYENV || {};\n",
       "                    window.PLOTLYENV.BASE_URL='https://plot.ly';                                    if (document.getElementById(\"7efda92f-9cc3-4a29-932e-1e426afa25e5\")) {                    Plotly.newPlot(                        \"7efda92f-9cc3-4a29-932e-1e426afa25e5\",                        [{\"line\": {\"color\": \"rgba(255, 153, 51, 1.0)\", \"dash\": \"solid\", \"shape\": \"linear\", \"width\": 1.3}, \"mode\": \"lines\", \"name\": \"casual\", \"text\": \"\", \"type\": \"scatter\", \"x\": [0, 1, 2, 3, 4, 5, 6, 7, 8, 9, 10, 11, 12, 13, 14, 15, 16, 17, 18, 19, 20, 21, 22, 23], \"y\": [7375, 4709, 3412, 1893, 874, 1012, 3017, 8037, 15761, 22458, 33789, 43286, 49718, 52713, 55089, 54606, 53834, 54220, 44496, 35505, 26378, 20570, 16200, 11065]}, {\"line\": {\"color\": \"rgba(55, 128, 191, 1.0)\", \"dash\": \"solid\", \"shape\": \"linear\", \"width\": 1.3}, \"mode\": \"lines\", \"name\": \"registered\", \"text\": \"\", \"type\": \"scatter\", \"x\": [0, 1, 2, 3, 4, 5, 6, 7, 8, 9, 10, 11, 12, 13, 14, 15, 16, 17, 18, 19, 20, 21, 22, 23], \"y\": [31755, 19455, 12940, 6281, 3554, 13249, 52115, 146134, 245240, 136980, 92468, 108034, 134696, 132206, 120563, 128543, 173914, 282640, 265276, 191284, 138172, 104875, 79412, 52876]}],                        {\"legend\": {\"bgcolor\": \"#F5F6F9\", \"font\": {\"color\": \"#4D5663\"}}, \"paper_bgcolor\": \"#F5F6F9\", \"plot_bgcolor\": \"#F5F6F9\", \"template\": {\"data\": {\"bar\": [{\"error_x\": {\"color\": \"#2a3f5f\"}, \"error_y\": {\"color\": \"#2a3f5f\"}, \"marker\": {\"line\": {\"color\": \"#E5ECF6\", \"width\": 0.5}}, \"type\": \"bar\"}], \"barpolar\": [{\"marker\": {\"line\": {\"color\": \"#E5ECF6\", \"width\": 0.5}}, \"type\": \"barpolar\"}], \"carpet\": [{\"aaxis\": {\"endlinecolor\": \"#2a3f5f\", \"gridcolor\": \"white\", \"linecolor\": \"white\", \"minorgridcolor\": \"white\", \"startlinecolor\": \"#2a3f5f\"}, \"baxis\": {\"endlinecolor\": \"#2a3f5f\", \"gridcolor\": \"white\", \"linecolor\": \"white\", \"minorgridcolor\": \"white\", \"startlinecolor\": \"#2a3f5f\"}, \"type\": \"carpet\"}], \"choropleth\": [{\"colorbar\": {\"outlinewidth\": 0, \"ticks\": \"\"}, \"type\": \"choropleth\"}], \"contour\": [{\"colorbar\": {\"outlinewidth\": 0, \"ticks\": \"\"}, \"colorscale\": [[0.0, \"#0d0887\"], [0.1111111111111111, \"#46039f\"], [0.2222222222222222, \"#7201a8\"], [0.3333333333333333, \"#9c179e\"], [0.4444444444444444, \"#bd3786\"], [0.5555555555555556, \"#d8576b\"], [0.6666666666666666, \"#ed7953\"], [0.7777777777777778, \"#fb9f3a\"], [0.8888888888888888, \"#fdca26\"], [1.0, \"#f0f921\"]], \"type\": \"contour\"}], \"contourcarpet\": [{\"colorbar\": {\"outlinewidth\": 0, \"ticks\": \"\"}, \"type\": \"contourcarpet\"}], \"heatmap\": [{\"colorbar\": {\"outlinewidth\": 0, \"ticks\": \"\"}, \"colorscale\": [[0.0, \"#0d0887\"], [0.1111111111111111, \"#46039f\"], [0.2222222222222222, \"#7201a8\"], [0.3333333333333333, \"#9c179e\"], [0.4444444444444444, \"#bd3786\"], [0.5555555555555556, \"#d8576b\"], [0.6666666666666666, \"#ed7953\"], [0.7777777777777778, \"#fb9f3a\"], [0.8888888888888888, \"#fdca26\"], [1.0, \"#f0f921\"]], \"type\": \"heatmap\"}], \"heatmapgl\": [{\"colorbar\": {\"outlinewidth\": 0, \"ticks\": \"\"}, \"colorscale\": [[0.0, \"#0d0887\"], [0.1111111111111111, \"#46039f\"], [0.2222222222222222, \"#7201a8\"], [0.3333333333333333, \"#9c179e\"], [0.4444444444444444, \"#bd3786\"], [0.5555555555555556, \"#d8576b\"], [0.6666666666666666, \"#ed7953\"], [0.7777777777777778, \"#fb9f3a\"], [0.8888888888888888, \"#fdca26\"], [1.0, \"#f0f921\"]], \"type\": \"heatmapgl\"}], \"histogram\": [{\"marker\": {\"colorbar\": {\"outlinewidth\": 0, \"ticks\": \"\"}}, \"type\": \"histogram\"}], \"histogram2d\": [{\"colorbar\": {\"outlinewidth\": 0, \"ticks\": \"\"}, \"colorscale\": [[0.0, \"#0d0887\"], [0.1111111111111111, \"#46039f\"], [0.2222222222222222, \"#7201a8\"], [0.3333333333333333, \"#9c179e\"], [0.4444444444444444, \"#bd3786\"], [0.5555555555555556, \"#d8576b\"], [0.6666666666666666, \"#ed7953\"], [0.7777777777777778, \"#fb9f3a\"], [0.8888888888888888, \"#fdca26\"], [1.0, \"#f0f921\"]], \"type\": \"histogram2d\"}], \"histogram2dcontour\": [{\"colorbar\": {\"outlinewidth\": 0, \"ticks\": \"\"}, \"colorscale\": [[0.0, \"#0d0887\"], [0.1111111111111111, \"#46039f\"], [0.2222222222222222, \"#7201a8\"], [0.3333333333333333, \"#9c179e\"], [0.4444444444444444, \"#bd3786\"], [0.5555555555555556, \"#d8576b\"], [0.6666666666666666, \"#ed7953\"], [0.7777777777777778, \"#fb9f3a\"], [0.8888888888888888, \"#fdca26\"], [1.0, \"#f0f921\"]], \"type\": \"histogram2dcontour\"}], \"mesh3d\": [{\"colorbar\": {\"outlinewidth\": 0, \"ticks\": \"\"}, \"type\": \"mesh3d\"}], \"parcoords\": [{\"line\": {\"colorbar\": {\"outlinewidth\": 0, \"ticks\": \"\"}}, \"type\": \"parcoords\"}], \"pie\": [{\"automargin\": true, \"type\": \"pie\"}], \"scatter\": [{\"marker\": {\"colorbar\": {\"outlinewidth\": 0, \"ticks\": \"\"}}, \"type\": \"scatter\"}], \"scatter3d\": [{\"line\": {\"colorbar\": {\"outlinewidth\": 0, \"ticks\": \"\"}}, \"marker\": {\"colorbar\": {\"outlinewidth\": 0, \"ticks\": \"\"}}, \"type\": \"scatter3d\"}], \"scattercarpet\": [{\"marker\": {\"colorbar\": {\"outlinewidth\": 0, \"ticks\": \"\"}}, \"type\": \"scattercarpet\"}], \"scattergeo\": [{\"marker\": {\"colorbar\": {\"outlinewidth\": 0, \"ticks\": \"\"}}, \"type\": \"scattergeo\"}], \"scattergl\": [{\"marker\": {\"colorbar\": {\"outlinewidth\": 0, \"ticks\": \"\"}}, \"type\": \"scattergl\"}], \"scattermapbox\": [{\"marker\": {\"colorbar\": {\"outlinewidth\": 0, \"ticks\": \"\"}}, \"type\": \"scattermapbox\"}], \"scatterpolar\": [{\"marker\": {\"colorbar\": {\"outlinewidth\": 0, \"ticks\": \"\"}}, \"type\": \"scatterpolar\"}], \"scatterpolargl\": [{\"marker\": {\"colorbar\": {\"outlinewidth\": 0, \"ticks\": \"\"}}, \"type\": \"scatterpolargl\"}], \"scatterternary\": [{\"marker\": {\"colorbar\": {\"outlinewidth\": 0, \"ticks\": \"\"}}, \"type\": \"scatterternary\"}], \"surface\": [{\"colorbar\": {\"outlinewidth\": 0, \"ticks\": \"\"}, \"colorscale\": [[0.0, \"#0d0887\"], [0.1111111111111111, \"#46039f\"], [0.2222222222222222, \"#7201a8\"], [0.3333333333333333, \"#9c179e\"], [0.4444444444444444, \"#bd3786\"], [0.5555555555555556, \"#d8576b\"], [0.6666666666666666, \"#ed7953\"], [0.7777777777777778, \"#fb9f3a\"], [0.8888888888888888, \"#fdca26\"], [1.0, \"#f0f921\"]], \"type\": \"surface\"}], \"table\": [{\"cells\": {\"fill\": {\"color\": \"#EBF0F8\"}, \"line\": {\"color\": \"white\"}}, \"header\": {\"fill\": {\"color\": \"#C8D4E3\"}, \"line\": {\"color\": \"white\"}}, \"type\": \"table\"}]}, \"layout\": {\"annotationdefaults\": {\"arrowcolor\": \"#2a3f5f\", \"arrowhead\": 0, \"arrowwidth\": 1}, \"coloraxis\": {\"colorbar\": {\"outlinewidth\": 0, \"ticks\": \"\"}}, \"colorscale\": {\"diverging\": [[0, \"#8e0152\"], [0.1, \"#c51b7d\"], [0.2, \"#de77ae\"], [0.3, \"#f1b6da\"], [0.4, \"#fde0ef\"], [0.5, \"#f7f7f7\"], [0.6, \"#e6f5d0\"], [0.7, \"#b8e186\"], [0.8, \"#7fbc41\"], [0.9, \"#4d9221\"], [1, \"#276419\"]], \"sequential\": [[0.0, \"#0d0887\"], [0.1111111111111111, \"#46039f\"], [0.2222222222222222, \"#7201a8\"], [0.3333333333333333, \"#9c179e\"], [0.4444444444444444, \"#bd3786\"], [0.5555555555555556, \"#d8576b\"], [0.6666666666666666, \"#ed7953\"], [0.7777777777777778, \"#fb9f3a\"], [0.8888888888888888, \"#fdca26\"], [1.0, \"#f0f921\"]], \"sequentialminus\": [[0.0, \"#0d0887\"], [0.1111111111111111, \"#46039f\"], [0.2222222222222222, \"#7201a8\"], [0.3333333333333333, \"#9c179e\"], [0.4444444444444444, \"#bd3786\"], [0.5555555555555556, \"#d8576b\"], [0.6666666666666666, \"#ed7953\"], [0.7777777777777778, \"#fb9f3a\"], [0.8888888888888888, \"#fdca26\"], [1.0, \"#f0f921\"]]}, \"colorway\": [\"#636efa\", \"#EF553B\", \"#00cc96\", \"#ab63fa\", \"#FFA15A\", \"#19d3f3\", \"#FF6692\", \"#B6E880\", \"#FF97FF\", \"#FECB52\"], \"font\": {\"color\": \"#2a3f5f\"}, \"geo\": {\"bgcolor\": \"white\", \"lakecolor\": \"white\", \"landcolor\": \"#E5ECF6\", \"showlakes\": true, \"showland\": true, \"subunitcolor\": \"white\"}, \"hoverlabel\": {\"align\": \"left\"}, \"hovermode\": \"closest\", \"mapbox\": {\"style\": \"light\"}, \"paper_bgcolor\": \"white\", \"plot_bgcolor\": \"#E5ECF6\", \"polar\": {\"angularaxis\": {\"gridcolor\": \"white\", \"linecolor\": \"white\", \"ticks\": \"\"}, \"bgcolor\": \"#E5ECF6\", \"radialaxis\": {\"gridcolor\": \"white\", \"linecolor\": \"white\", \"ticks\": \"\"}}, \"scene\": {\"xaxis\": {\"backgroundcolor\": \"#E5ECF6\", \"gridcolor\": \"white\", \"gridwidth\": 2, \"linecolor\": \"white\", \"showbackground\": true, \"ticks\": \"\", \"zerolinecolor\": \"white\"}, \"yaxis\": {\"backgroundcolor\": \"#E5ECF6\", \"gridcolor\": \"white\", \"gridwidth\": 2, \"linecolor\": \"white\", \"showbackground\": true, \"ticks\": \"\", \"zerolinecolor\": \"white\"}, \"zaxis\": {\"backgroundcolor\": \"#E5ECF6\", \"gridcolor\": \"white\", \"gridwidth\": 2, \"linecolor\": \"white\", \"showbackground\": true, \"ticks\": \"\", \"zerolinecolor\": \"white\"}}, \"shapedefaults\": {\"line\": {\"color\": \"#2a3f5f\"}}, \"ternary\": {\"aaxis\": {\"gridcolor\": \"white\", \"linecolor\": \"white\", \"ticks\": \"\"}, \"baxis\": {\"gridcolor\": \"white\", \"linecolor\": \"white\", \"ticks\": \"\"}, \"bgcolor\": \"#E5ECF6\", \"caxis\": {\"gridcolor\": \"white\", \"linecolor\": \"white\", \"ticks\": \"\"}}, \"title\": {\"x\": 0.05}, \"xaxis\": {\"automargin\": true, \"gridcolor\": \"white\", \"linecolor\": \"white\", \"ticks\": \"\", \"title\": {\"standoff\": 15}, \"zerolinecolor\": \"white\", \"zerolinewidth\": 2}, \"yaxis\": {\"automargin\": true, \"gridcolor\": \"white\", \"linecolor\": \"white\", \"ticks\": \"\", \"title\": {\"standoff\": 15}, \"zerolinecolor\": \"white\", \"zerolinewidth\": 2}}}, \"title\": {\"font\": {\"color\": \"#4D5663\"}, \"text\": \"Use of Registered bikes Vs Casual bikes by hour\"}, \"xaxis\": {\"gridcolor\": \"#E1E5ED\", \"showgrid\": true, \"tickfont\": {\"color\": \"#4D5663\"}, \"title\": {\"font\": {\"color\": \"#4D5663\"}, \"text\": \"Hours of day\"}, \"zerolinecolor\": \"#E1E5ED\"}, \"yaxis\": {\"gridcolor\": \"#E1E5ED\", \"showgrid\": true, \"tickfont\": {\"color\": \"#4D5663\"}, \"title\": {\"font\": {\"color\": \"#4D5663\"}, \"text\": \"Number of users\"}, \"zerolinecolor\": \"#E1E5ED\"}},                        {\"showLink\": true, \"linkText\": \"Export to plot.ly\", \"plotlyServerURL\": \"https://plot.ly\", \"responsive\": true}                    ).then(function(){\n",
       "                            \n",
       "var gd = document.getElementById('7efda92f-9cc3-4a29-932e-1e426afa25e5');\n",
       "var x = new MutationObserver(function (mutations, observer) {{\n",
       "        var display = window.getComputedStyle(gd).display;\n",
       "        if (!display || display === 'none') {{\n",
       "            console.log([gd, 'removed!']);\n",
       "            Plotly.purge(gd);\n",
       "            observer.disconnect();\n",
       "        }}\n",
       "}});\n",
       "\n",
       "// Listen for the removal of the full notebook cells\n",
       "var notebookContainer = gd.closest('#notebook-container');\n",
       "if (notebookContainer) {{\n",
       "    x.observe(notebookContainer, {childList: true});\n",
       "}}\n",
       "\n",
       "// Listen for the clearing of the current output cell\n",
       "var outputEl = gd.closest('.output');\n",
       "if (outputEl) {{\n",
       "    x.observe(outputEl, {childList: true});\n",
       "}}\n",
       "\n",
       "                        })                };                });            </script>        </div>"
      ]
     },
     "metadata": {},
     "output_type": "display_data"
    }
   ],
   "source": [
    "# Grouping the data according to bike uses in 24 hours\n",
    "hourly[['casual','registered']].iplot(kind='scatter',\n",
    "                            bins= 24,title='Use of Registered bikes Vs Casual bikes by hour',\n",
    "                                     \n",
    "                            xTitle='Hours of day',\n",
    "                            yTitle='Number of users')"
   ]
  },
  {
   "cell_type": "markdown",
   "metadata": {},
   "source": [
    "<span style=\"background-color: #DAF7A6\">From the above figure, we can make conclusions that the peak users for registered users is at 17 o' clock and for casual users the peak hour is 14 o'clock. The number of registered users is much higher comparing to casual users. From this we can make assumptions that, 17 o' clock is office hour and people tend to use bikes more at this hour. In case of casual users, we can make assumptions that usually tourists use bikes during the day time, hence there peak hour for casual users is at 14 o' clock</span>"
   ]
  },
  {
   "cell_type": "markdown",
   "metadata": {},
   "source": [
    "# <span style=\"background-color: #CBBDB6\">Resampling the dataset by day\n"
   ]
  },
  {
   "cell_type": "code",
   "execution_count": 16,
   "metadata": {
    "ExecuteTime": {
     "end_time": "2020-12-10T11:13:48.967580Z",
     "start_time": "2020-12-10T11:13:48.957219Z"
    }
   },
   "outputs": [],
   "source": [
    "bikes= bike_share.set_index(keys='dteday')\n"
   ]
  },
  {
   "cell_type": "code",
   "execution_count": 17,
   "metadata": {
    "ExecuteTime": {
     "end_time": "2020-12-10T11:13:49.002909Z",
     "start_time": "2020-12-10T11:13:48.974142Z"
    }
   },
   "outputs": [],
   "source": [
    "daily = bikes.resample('D').sum()\n",
    "#daily.head()"
   ]
  },
  {
   "cell_type": "code",
   "execution_count": 18,
   "metadata": {
    "ExecuteTime": {
     "end_time": "2020-12-10T11:13:49.205509Z",
     "start_time": "2020-12-10T11:13:49.008947Z"
    }
   },
   "outputs": [
    {
     "data": {
      "application/vnd.plotly.v1+json": {
       "config": {
        "linkText": "Export to plot.ly",
        "plotlyServerURL": "https://plot.ly",
        "showLink": true
       },
       "data": [
        {
         "marker": {
          "color": "rgba(255, 153, 51, 0.6)",
          "line": {
           "color": "rgba(255, 153, 51, 1.0)",
           "width": 1
          }
         },
         "name": "registered",
         "orientation": "v",
         "text": "",
         "type": "bar",
         "x": [
          "2011-01-01",
          "2011-01-02",
          "2011-01-03",
          "2011-01-04",
          "2011-01-05",
          "2011-01-06",
          "2011-01-07",
          "2011-01-08",
          "2011-01-09",
          "2011-01-10",
          "2011-01-11",
          "2011-01-12",
          "2011-01-13",
          "2011-01-14",
          "2011-01-15",
          "2011-01-16",
          "2011-01-17",
          "2011-01-18",
          "2011-01-19",
          "2011-01-20",
          "2011-01-21",
          "2011-01-22",
          "2011-01-23",
          "2011-01-24",
          "2011-01-25",
          "2011-01-26",
          "2011-01-27",
          "2011-01-28",
          "2011-01-29",
          "2011-01-30",
          "2011-01-31",
          "2011-02-01",
          "2011-02-02",
          "2011-02-03",
          "2011-02-04",
          "2011-02-05",
          "2011-02-06",
          "2011-02-07",
          "2011-02-08",
          "2011-02-09",
          "2011-02-10",
          "2011-02-11",
          "2011-02-12",
          "2011-02-13",
          "2011-02-14",
          "2011-02-15",
          "2011-02-16",
          "2011-02-17",
          "2011-02-18",
          "2011-02-19",
          "2011-02-20",
          "2011-02-21",
          "2011-02-22",
          "2011-02-23",
          "2011-02-24",
          "2011-02-25",
          "2011-02-26",
          "2011-02-27",
          "2011-02-28",
          "2011-03-01",
          "2011-03-02",
          "2011-03-03",
          "2011-03-04",
          "2011-03-05",
          "2011-03-06",
          "2011-03-07",
          "2011-03-08",
          "2011-03-09",
          "2011-03-10",
          "2011-03-11",
          "2011-03-12",
          "2011-03-13",
          "2011-03-14",
          "2011-03-15",
          "2011-03-16",
          "2011-03-17",
          "2011-03-18",
          "2011-03-19",
          "2011-03-20",
          "2011-03-21",
          "2011-03-22",
          "2011-03-23",
          "2011-03-24",
          "2011-03-25",
          "2011-03-26",
          "2011-03-27",
          "2011-03-28",
          "2011-03-29",
          "2011-03-30",
          "2011-03-31",
          "2011-04-01",
          "2011-04-02",
          "2011-04-03",
          "2011-04-04",
          "2011-04-05",
          "2011-04-06",
          "2011-04-07",
          "2011-04-08",
          "2011-04-09",
          "2011-04-10",
          "2011-04-11",
          "2011-04-12",
          "2011-04-13",
          "2011-04-14",
          "2011-04-15",
          "2011-04-16",
          "2011-04-17",
          "2011-04-18",
          "2011-04-19",
          "2011-04-20",
          "2011-04-21",
          "2011-04-22",
          "2011-04-23",
          "2011-04-24",
          "2011-04-25",
          "2011-04-26",
          "2011-04-27",
          "2011-04-28",
          "2011-04-29",
          "2011-04-30",
          "2011-05-01",
          "2011-05-02",
          "2011-05-03",
          "2011-05-04",
          "2011-05-05",
          "2011-05-06",
          "2011-05-07",
          "2011-05-08",
          "2011-05-09",
          "2011-05-10",
          "2011-05-11",
          "2011-05-12",
          "2011-05-13",
          "2011-05-14",
          "2011-05-15",
          "2011-05-16",
          "2011-05-17",
          "2011-05-18",
          "2011-05-19",
          "2011-05-20",
          "2011-05-21",
          "2011-05-22",
          "2011-05-23",
          "2011-05-24",
          "2011-05-25",
          "2011-05-26",
          "2011-05-27",
          "2011-05-28",
          "2011-05-29",
          "2011-05-30",
          "2011-05-31",
          "2011-06-01",
          "2011-06-02",
          "2011-06-03",
          "2011-06-04",
          "2011-06-05",
          "2011-06-06",
          "2011-06-07",
          "2011-06-08",
          "2011-06-09",
          "2011-06-10",
          "2011-06-11",
          "2011-06-12",
          "2011-06-13",
          "2011-06-14",
          "2011-06-15",
          "2011-06-16",
          "2011-06-17",
          "2011-06-18",
          "2011-06-19",
          "2011-06-20",
          "2011-06-21",
          "2011-06-22",
          "2011-06-23",
          "2011-06-24",
          "2011-06-25",
          "2011-06-26",
          "2011-06-27",
          "2011-06-28",
          "2011-06-29",
          "2011-06-30",
          "2011-07-01",
          "2011-07-02",
          "2011-07-03",
          "2011-07-04",
          "2011-07-05",
          "2011-07-06",
          "2011-07-07",
          "2011-07-08",
          "2011-07-09",
          "2011-07-10",
          "2011-07-11",
          "2011-07-12",
          "2011-07-13",
          "2011-07-14",
          "2011-07-15",
          "2011-07-16",
          "2011-07-17",
          "2011-07-18",
          "2011-07-19",
          "2011-07-20",
          "2011-07-21",
          "2011-07-22",
          "2011-07-23",
          "2011-07-24",
          "2011-07-25",
          "2011-07-26",
          "2011-07-27",
          "2011-07-28",
          "2011-07-29",
          "2011-07-30",
          "2011-07-31",
          "2011-08-01",
          "2011-08-02",
          "2011-08-03",
          "2011-08-04",
          "2011-08-05",
          "2011-08-06",
          "2011-08-07",
          "2011-08-08",
          "2011-08-09",
          "2011-08-10",
          "2011-08-11",
          "2011-08-12",
          "2011-08-13",
          "2011-08-14",
          "2011-08-15",
          "2011-08-16",
          "2011-08-17",
          "2011-08-18",
          "2011-08-19",
          "2011-08-20",
          "2011-08-21",
          "2011-08-22",
          "2011-08-23",
          "2011-08-24",
          "2011-08-25",
          "2011-08-26",
          "2011-08-27",
          "2011-08-28",
          "2011-08-29",
          "2011-08-30",
          "2011-08-31",
          "2011-09-01",
          "2011-09-02",
          "2011-09-03",
          "2011-09-04",
          "2011-09-05",
          "2011-09-06",
          "2011-09-07",
          "2011-09-08",
          "2011-09-09",
          "2011-09-10",
          "2011-09-11",
          "2011-09-12",
          "2011-09-13",
          "2011-09-14",
          "2011-09-15",
          "2011-09-16",
          "2011-09-17",
          "2011-09-18",
          "2011-09-19",
          "2011-09-20",
          "2011-09-21",
          "2011-09-22",
          "2011-09-23",
          "2011-09-24",
          "2011-09-25",
          "2011-09-26",
          "2011-09-27",
          "2011-09-28",
          "2011-09-29",
          "2011-09-30",
          "2011-10-01",
          "2011-10-02",
          "2011-10-03",
          "2011-10-04",
          "2011-10-05",
          "2011-10-06",
          "2011-10-07",
          "2011-10-08",
          "2011-10-09",
          "2011-10-10",
          "2011-10-11",
          "2011-10-12",
          "2011-10-13",
          "2011-10-14",
          "2011-10-15",
          "2011-10-16",
          "2011-10-17",
          "2011-10-18",
          "2011-10-19",
          "2011-10-20",
          "2011-10-21",
          "2011-10-22",
          "2011-10-23",
          "2011-10-24",
          "2011-10-25",
          "2011-10-26",
          "2011-10-27",
          "2011-10-28",
          "2011-10-29",
          "2011-10-30",
          "2011-10-31",
          "2011-11-01",
          "2011-11-02",
          "2011-11-03",
          "2011-11-04",
          "2011-11-05",
          "2011-11-06",
          "2011-11-07",
          "2011-11-08",
          "2011-11-09",
          "2011-11-10",
          "2011-11-11",
          "2011-11-12",
          "2011-11-13",
          "2011-11-14",
          "2011-11-15",
          "2011-11-16",
          "2011-11-17",
          "2011-11-18",
          "2011-11-19",
          "2011-11-20",
          "2011-11-21",
          "2011-11-22",
          "2011-11-23",
          "2011-11-24",
          "2011-11-25",
          "2011-11-26",
          "2011-11-27",
          "2011-11-28",
          "2011-11-29",
          "2011-11-30",
          "2011-12-01",
          "2011-12-02",
          "2011-12-03",
          "2011-12-04",
          "2011-12-05",
          "2011-12-06",
          "2011-12-07",
          "2011-12-08",
          "2011-12-09",
          "2011-12-10",
          "2011-12-11",
          "2011-12-12",
          "2011-12-13",
          "2011-12-14",
          "2011-12-15",
          "2011-12-16",
          "2011-12-17",
          "2011-12-18",
          "2011-12-19",
          "2011-12-20",
          "2011-12-21",
          "2011-12-22",
          "2011-12-23",
          "2011-12-24",
          "2011-12-25",
          "2011-12-26",
          "2011-12-27",
          "2011-12-28",
          "2011-12-29",
          "2011-12-30",
          "2011-12-31",
          "2012-01-01",
          "2012-01-02",
          "2012-01-03",
          "2012-01-04",
          "2012-01-05",
          "2012-01-06",
          "2012-01-07",
          "2012-01-08",
          "2012-01-09",
          "2012-01-10",
          "2012-01-11",
          "2012-01-12",
          "2012-01-13",
          "2012-01-14",
          "2012-01-15",
          "2012-01-16",
          "2012-01-17",
          "2012-01-18",
          "2012-01-19",
          "2012-01-20",
          "2012-01-21",
          "2012-01-22",
          "2012-01-23",
          "2012-01-24",
          "2012-01-25",
          "2012-01-26",
          "2012-01-27",
          "2012-01-28",
          "2012-01-29",
          "2012-01-30",
          "2012-01-31",
          "2012-02-01",
          "2012-02-02",
          "2012-02-03",
          "2012-02-04",
          "2012-02-05",
          "2012-02-06",
          "2012-02-07",
          "2012-02-08",
          "2012-02-09",
          "2012-02-10",
          "2012-02-11",
          "2012-02-12",
          "2012-02-13",
          "2012-02-14",
          "2012-02-15",
          "2012-02-16",
          "2012-02-17",
          "2012-02-18",
          "2012-02-19",
          "2012-02-20",
          "2012-02-21",
          "2012-02-22",
          "2012-02-23",
          "2012-02-24",
          "2012-02-25",
          "2012-02-26",
          "2012-02-27",
          "2012-02-28",
          "2012-02-29",
          "2012-03-01",
          "2012-03-02",
          "2012-03-03",
          "2012-03-04",
          "2012-03-05",
          "2012-03-06",
          "2012-03-07",
          "2012-03-08",
          "2012-03-09",
          "2012-03-10",
          "2012-03-11",
          "2012-03-12",
          "2012-03-13",
          "2012-03-14",
          "2012-03-15",
          "2012-03-16",
          "2012-03-17",
          "2012-03-18",
          "2012-03-19",
          "2012-03-20",
          "2012-03-21",
          "2012-03-22",
          "2012-03-23",
          "2012-03-24",
          "2012-03-25",
          "2012-03-26",
          "2012-03-27",
          "2012-03-28",
          "2012-03-29",
          "2012-03-30",
          "2012-03-31",
          "2012-04-01",
          "2012-04-02",
          "2012-04-03",
          "2012-04-04",
          "2012-04-05",
          "2012-04-06",
          "2012-04-07",
          "2012-04-08",
          "2012-04-09",
          "2012-04-10",
          "2012-04-11",
          "2012-04-12",
          "2012-04-13",
          "2012-04-14",
          "2012-04-15",
          "2012-04-16",
          "2012-04-17",
          "2012-04-18",
          "2012-04-19",
          "2012-04-20",
          "2012-04-21",
          "2012-04-22",
          "2012-04-23",
          "2012-04-24",
          "2012-04-25",
          "2012-04-26",
          "2012-04-27",
          "2012-04-28",
          "2012-04-29",
          "2012-04-30",
          "2012-05-01",
          "2012-05-02",
          "2012-05-03",
          "2012-05-04",
          "2012-05-05",
          "2012-05-06",
          "2012-05-07",
          "2012-05-08",
          "2012-05-09",
          "2012-05-10",
          "2012-05-11",
          "2012-05-12",
          "2012-05-13",
          "2012-05-14",
          "2012-05-15",
          "2012-05-16",
          "2012-05-17",
          "2012-05-18",
          "2012-05-19",
          "2012-05-20",
          "2012-05-21",
          "2012-05-22",
          "2012-05-23",
          "2012-05-24",
          "2012-05-25",
          "2012-05-26",
          "2012-05-27",
          "2012-05-28",
          "2012-05-29",
          "2012-05-30",
          "2012-05-31",
          "2012-06-01",
          "2012-06-02",
          "2012-06-03",
          "2012-06-04",
          "2012-06-05",
          "2012-06-06",
          "2012-06-07",
          "2012-06-08",
          "2012-06-09",
          "2012-06-10",
          "2012-06-11",
          "2012-06-12",
          "2012-06-13",
          "2012-06-14",
          "2012-06-15",
          "2012-06-16",
          "2012-06-17",
          "2012-06-18",
          "2012-06-19",
          "2012-06-20",
          "2012-06-21",
          "2012-06-22",
          "2012-06-23",
          "2012-06-24",
          "2012-06-25",
          "2012-06-26",
          "2012-06-27",
          "2012-06-28",
          "2012-06-29",
          "2012-06-30",
          "2012-07-01",
          "2012-07-02",
          "2012-07-03",
          "2012-07-04",
          "2012-07-05",
          "2012-07-06",
          "2012-07-07",
          "2012-07-08",
          "2012-07-09",
          "2012-07-10",
          "2012-07-11",
          "2012-07-12",
          "2012-07-13",
          "2012-07-14",
          "2012-07-15",
          "2012-07-16",
          "2012-07-17",
          "2012-07-18",
          "2012-07-19",
          "2012-07-20",
          "2012-07-21",
          "2012-07-22",
          "2012-07-23",
          "2012-07-24",
          "2012-07-25",
          "2012-07-26",
          "2012-07-27",
          "2012-07-28",
          "2012-07-29",
          "2012-07-30",
          "2012-07-31",
          "2012-08-01",
          "2012-08-02",
          "2012-08-03",
          "2012-08-04",
          "2012-08-05",
          "2012-08-06",
          "2012-08-07",
          "2012-08-08",
          "2012-08-09",
          "2012-08-10",
          "2012-08-11",
          "2012-08-12",
          "2012-08-13",
          "2012-08-14",
          "2012-08-15",
          "2012-08-16",
          "2012-08-17",
          "2012-08-18",
          "2012-08-19",
          "2012-08-20",
          "2012-08-21",
          "2012-08-22",
          "2012-08-23",
          "2012-08-24",
          "2012-08-25",
          "2012-08-26",
          "2012-08-27",
          "2012-08-28",
          "2012-08-29",
          "2012-08-30",
          "2012-08-31",
          "2012-09-01",
          "2012-09-02",
          "2012-09-03",
          "2012-09-04",
          "2012-09-05",
          "2012-09-06",
          "2012-09-07",
          "2012-09-08",
          "2012-09-09",
          "2012-09-10",
          "2012-09-11",
          "2012-09-12",
          "2012-09-13",
          "2012-09-14",
          "2012-09-15",
          "2012-09-16",
          "2012-09-17",
          "2012-09-18",
          "2012-09-19",
          "2012-09-20",
          "2012-09-21",
          "2012-09-22",
          "2012-09-23",
          "2012-09-24",
          "2012-09-25",
          "2012-09-26",
          "2012-09-27",
          "2012-09-28",
          "2012-09-29",
          "2012-09-30",
          "2012-10-01",
          "2012-10-02",
          "2012-10-03",
          "2012-10-04",
          "2012-10-05",
          "2012-10-06",
          "2012-10-07",
          "2012-10-08",
          "2012-10-09",
          "2012-10-10",
          "2012-10-11",
          "2012-10-12",
          "2012-10-13",
          "2012-10-14",
          "2012-10-15",
          "2012-10-16",
          "2012-10-17",
          "2012-10-18",
          "2012-10-19",
          "2012-10-20",
          "2012-10-21",
          "2012-10-22",
          "2012-10-23",
          "2012-10-24",
          "2012-10-25",
          "2012-10-26",
          "2012-10-27",
          "2012-10-28",
          "2012-10-29",
          "2012-10-30",
          "2012-10-31",
          "2012-11-01",
          "2012-11-02",
          "2012-11-03",
          "2012-11-04",
          "2012-11-05",
          "2012-11-06",
          "2012-11-07",
          "2012-11-08",
          "2012-11-09",
          "2012-11-10",
          "2012-11-11",
          "2012-11-12",
          "2012-11-13",
          "2012-11-14",
          "2012-11-15",
          "2012-11-16",
          "2012-11-17",
          "2012-11-18",
          "2012-11-19",
          "2012-11-20",
          "2012-11-21",
          "2012-11-22",
          "2012-11-23",
          "2012-11-24",
          "2012-11-25",
          "2012-11-26",
          "2012-11-27",
          "2012-11-28",
          "2012-11-29",
          "2012-11-30",
          "2012-12-01",
          "2012-12-02",
          "2012-12-03",
          "2012-12-04",
          "2012-12-05",
          "2012-12-06",
          "2012-12-07",
          "2012-12-08",
          "2012-12-09",
          "2012-12-10",
          "2012-12-11",
          "2012-12-12",
          "2012-12-13",
          "2012-12-14",
          "2012-12-15",
          "2012-12-16",
          "2012-12-17",
          "2012-12-18",
          "2012-12-19",
          "2012-12-20",
          "2012-12-21",
          "2012-12-22",
          "2012-12-23",
          "2012-12-24",
          "2012-12-25",
          "2012-12-26",
          "2012-12-27",
          "2012-12-28",
          "2012-12-29",
          "2012-12-30",
          "2012-12-31"
         ],
         "y": [
          654,
          670,
          1229,
          1454,
          1518,
          1518,
          1362,
          891,
          768,
          1280,
          1220,
          1137,
          1368,
          1367,
          1026,
          953,
          883,
          674,
          1572,
          1844,
          1468,
          888,
          836,
          1330,
          1799,
          472,
          416,
          1129,
          975,
          956,
          1459,
          1313,
          1454,
          1489,
          1620,
          905,
          1269,
          1592,
          1466,
          1552,
          1491,
          1597,
          1184,
          1192,
          1705,
          1675,
          1897,
          2216,
          2348,
          1103,
          1173,
          912,
          1376,
          1778,
          1707,
          1341,
          1545,
          1708,
          1365,
          1714,
          1903,
          1562,
          1730,
          1437,
          491,
          1628,
          1817,
          1700,
          577,
          1730,
          1408,
          1435,
          1687,
          1767,
          1871,
          2320,
          2355,
          1693,
          1424,
          1676,
          2243,
          1918,
          1699,
          1910,
          1515,
          1221,
          1806,
          2108,
          1368,
          1506,
          1920,
          1354,
          1598,
          2381,
          1628,
          2395,
          2570,
          1299,
          1576,
          1707,
          2493,
          1777,
          1953,
          2738,
          2484,
          674,
          2186,
          2760,
          2795,
          3331,
          3444,
          1506,
          2574,
          2481,
          3300,
          3722,
          3325,
          3489,
          3717,
          3347,
          2213,
          3554,
          3848,
          2378,
          3819,
          3714,
          3102,
          2932,
          3698,
          4109,
          3632,
          4169,
          3413,
          2507,
          2971,
          3185,
          3445,
          3319,
          3840,
          4008,
          3547,
          3084,
          3438,
          3833,
          4238,
          3919,
          3808,
          2757,
          2433,
          2549,
          3309,
          3461,
          4232,
          4414,
          3473,
          3221,
          3875,
          4070,
          3725,
          3352,
          3771,
          3237,
          2993,
          4157,
          4164,
          4411,
          3222,
          3981,
          3312,
          3105,
          3311,
          4061,
          3846,
          4044,
          4022,
          3420,
          3385,
          3854,
          3916,
          4377,
          4488,
          4116,
          2915,
          2367,
          2978,
          3634,
          3845,
          3838,
          3348,
          3348,
          3138,
          3363,
          3596,
          3594,
          4196,
          4220,
          3505,
          3296,
          3617,
          3789,
          3688,
          3152,
          2825,
          2298,
          2556,
          3272,
          3840,
          3901,
          3784,
          3176,
          2916,
          2778,
          3537,
          4044,
          3107,
          3777,
          3843,
          2773,
          2487,
          3480,
          3695,
          3896,
          3980,
          3854,
          2646,
          2482,
          3563,
          4004,
          4026,
          3166,
          3356,
          3277,
          2624,
          3925,
          4614,
          4181,
          3107,
          3893,
          889,
          2919,
          3905,
          4429,
          4370,
          4332,
          3852,
          2549,
          2419,
          2115,
          2506,
          1878,
          1689,
          3127,
          3595,
          3413,
          4023,
          4062,
          4138,
          3231,
          4018,
          3077,
          2921,
          3848,
          3203,
          3813,
          4240,
          2137,
          3647,
          3466,
          3946,
          3643,
          3427,
          4186,
          4372,
          1949,
          2302,
          3240,
          3970,
          4267,
          4126,
          4036,
          3174,
          3114,
          3603,
          3896,
          2199,
          2623,
          3115,
          3318,
          3293,
          3857,
          4111,
          2170,
          3724,
          3628,
          2809,
          2762,
          3488,
          3992,
          3490,
          2419,
          3291,
          570,
          2446,
          3307,
          3658,
          3816,
          3656,
          3576,
          2770,
          2697,
          3662,
          3829,
          3804,
          2743,
          2928,
          2792,
          2713,
          3891,
          3746,
          1672,
          2914,
          3147,
          2720,
          2733,
          2545,
          1538,
          2454,
          935,
          1697,
          1819,
          2261,
          3614,
          2818,
          3425,
          3545,
          3672,
          2908,
          2851,
          3578,
          2468,
          655,
          3172,
          3359,
          2688,
          2366,
          3167,
          3368,
          3562,
          3528,
          3399,
          2464,
          2211,
          3143,
          3534,
          2553,
          2841,
          2046,
          856,
          451,
          887,
          1059,
          2047,
          2169,
          2508,
          1820,
          1608,
          1707,
          2147,
          2273,
          3132,
          3791,
          3451,
          2826,
          2270,
          3425,
          2085,
          3828,
          3040,
          2160,
          2027,
          2081,
          2808,
          3267,
          3162,
          3048,
          1234,
          1781,
          2287,
          3900,
          3803,
          3831,
          3187,
          3248,
          2685,
          3498,
          4185,
          4275,
          3571,
          3841,
          2448,
          2629,
          3578,
          4176,
          2693,
          3667,
          3604,
          1977,
          1456,
          3328,
          3787,
          4028,
          2931,
          3805,
          2883,
          2071,
          2627,
          3614,
          4379,
          4546,
          3241,
          2415,
          2874,
          4069,
          4134,
          1769,
          4665,
          2948,
          3110,
          2713,
          3130,
          3735,
          4484,
          4896,
          4122,
          3150,
          3253,
          4460,
          5085,
          5315,
          5187,
          3830,
          4681,
          3685,
          5171,
          5042,
          5108,
          5537,
          5893,
          2339,
          3464,
          4763,
          4571,
          5024,
          5299,
          4663,
          3934,
          3694,
          4728,
          5424,
          5378,
          5265,
          4653,
          3605,
          2939,
          4680,
          5099,
          4380,
          4746,
          5146,
          4665,
          4286,
          5172,
          5702,
          4020,
          5719,
          5950,
          4083,
          907,
          3019,
          5115,
          5541,
          4551,
          5219,
          3100,
          4075,
          4907,
          5087,
          5502,
          5657,
          5227,
          4387,
          4224,
          5265,
          4990,
          4097,
          5546,
          5711,
          4807,
          3946,
          2501,
          4490,
          6433,
          6142,
          6118,
          4884,
          4425,
          3729,
          5254,
          4494,
          5711,
          5317,
          3681,
          3308,
          3486,
          4863,
          6110,
          6238,
          3594,
          5325,
          5147,
          5927,
          6033,
          6028,
          6456,
          6248,
          4790,
          4374,
          5647,
          4495,
          6248,
          6183,
          6102,
          4739,
          4344,
          4446,
          5857,
          5339,
          5127,
          4859,
          4801,
          4340,
          5640,
          6365,
          6258,
          5958,
          4634,
          4232,
          4110,
          5323,
          5608,
          4841,
          4836,
          4841,
          3392,
          3469,
          5571,
          5336,
          6289,
          6414,
          5988,
          4614,
          4111,
          5742,
          5865,
          4914,
          5703,
          5123,
          3195,
          4866,
          5831,
          6452,
          6790,
          5825,
          5645,
          4451,
          4444,
          6065,
          6248,
          6506,
          6278,
          5847,
          4479,
          3757,
          5780,
          5995,
          6271,
          6090,
          4721,
          4052,
          4362,
          5676,
          5656,
          6149,
          6267,
          5665,
          5038,
          3341,
          5504,
          5925,
          6281,
          6402,
          6257,
          4224,
          3772,
          5928,
          6105,
          6520,
          6541,
          5917,
          3788,
          3197,
          4069,
          5997,
          6280,
          5592,
          6459,
          4419,
          5657,
          6407,
          6697,
          6820,
          6750,
          6630,
          5554,
          5167,
          5847,
          3702,
          6803,
          6781,
          6917,
          5883,
          5453,
          6435,
          6693,
          6946,
          6642,
          6370,
          5966,
          4874,
          6015,
          4324,
          6844,
          6437,
          6640,
          4934,
          2729,
          4604,
          5791,
          6911,
          6736,
          6222,
          4857,
          4559,
          5115,
          6612,
          6482,
          6501,
          4671,
          5284,
          4692,
          6228,
          6625,
          6898,
          6484,
          6262,
          5209,
          3461,
          20,
          1009,
          5147,
          5520,
          5229,
          4109,
          3906,
          4881,
          5220,
          4709,
          4975,
          5283,
          4446,
          4562,
          5172,
          3767,
          5122,
          5125,
          5214,
          4316,
          3747,
          5050,
          5100,
          4531,
          1470,
          2307,
          1745,
          2115,
          4750,
          3836,
          5062,
          5080,
          5306,
          4240,
          3757,
          5679,
          6055,
          5398,
          5035,
          4659,
          4429,
          2787,
          4841,
          5219,
          5009,
          5107,
          5182,
          4280,
          3248,
          4373,
          5124,
          4934,
          3814,
          3402,
          1544,
          1379,
          746,
          573,
          432,
          1867,
          2451,
          1182,
          1432,
          2290
         ]
        },
        {
         "marker": {
          "color": "rgba(55, 128, 191, 0.6)",
          "line": {
           "color": "rgba(55, 128, 191, 1.0)",
           "width": 1
          }
         },
         "name": "casual",
         "orientation": "v",
         "text": "",
         "type": "bar",
         "x": [
          "2011-01-01",
          "2011-01-02",
          "2011-01-03",
          "2011-01-04",
          "2011-01-05",
          "2011-01-06",
          "2011-01-07",
          "2011-01-08",
          "2011-01-09",
          "2011-01-10",
          "2011-01-11",
          "2011-01-12",
          "2011-01-13",
          "2011-01-14",
          "2011-01-15",
          "2011-01-16",
          "2011-01-17",
          "2011-01-18",
          "2011-01-19",
          "2011-01-20",
          "2011-01-21",
          "2011-01-22",
          "2011-01-23",
          "2011-01-24",
          "2011-01-25",
          "2011-01-26",
          "2011-01-27",
          "2011-01-28",
          "2011-01-29",
          "2011-01-30",
          "2011-01-31",
          "2011-02-01",
          "2011-02-02",
          "2011-02-03",
          "2011-02-04",
          "2011-02-05",
          "2011-02-06",
          "2011-02-07",
          "2011-02-08",
          "2011-02-09",
          "2011-02-10",
          "2011-02-11",
          "2011-02-12",
          "2011-02-13",
          "2011-02-14",
          "2011-02-15",
          "2011-02-16",
          "2011-02-17",
          "2011-02-18",
          "2011-02-19",
          "2011-02-20",
          "2011-02-21",
          "2011-02-22",
          "2011-02-23",
          "2011-02-24",
          "2011-02-25",
          "2011-02-26",
          "2011-02-27",
          "2011-02-28",
          "2011-03-01",
          "2011-03-02",
          "2011-03-03",
          "2011-03-04",
          "2011-03-05",
          "2011-03-06",
          "2011-03-07",
          "2011-03-08",
          "2011-03-09",
          "2011-03-10",
          "2011-03-11",
          "2011-03-12",
          "2011-03-13",
          "2011-03-14",
          "2011-03-15",
          "2011-03-16",
          "2011-03-17",
          "2011-03-18",
          "2011-03-19",
          "2011-03-20",
          "2011-03-21",
          "2011-03-22",
          "2011-03-23",
          "2011-03-24",
          "2011-03-25",
          "2011-03-26",
          "2011-03-27",
          "2011-03-28",
          "2011-03-29",
          "2011-03-30",
          "2011-03-31",
          "2011-04-01",
          "2011-04-02",
          "2011-04-03",
          "2011-04-04",
          "2011-04-05",
          "2011-04-06",
          "2011-04-07",
          "2011-04-08",
          "2011-04-09",
          "2011-04-10",
          "2011-04-11",
          "2011-04-12",
          "2011-04-13",
          "2011-04-14",
          "2011-04-15",
          "2011-04-16",
          "2011-04-17",
          "2011-04-18",
          "2011-04-19",
          "2011-04-20",
          "2011-04-21",
          "2011-04-22",
          "2011-04-23",
          "2011-04-24",
          "2011-04-25",
          "2011-04-26",
          "2011-04-27",
          "2011-04-28",
          "2011-04-29",
          "2011-04-30",
          "2011-05-01",
          "2011-05-02",
          "2011-05-03",
          "2011-05-04",
          "2011-05-05",
          "2011-05-06",
          "2011-05-07",
          "2011-05-08",
          "2011-05-09",
          "2011-05-10",
          "2011-05-11",
          "2011-05-12",
          "2011-05-13",
          "2011-05-14",
          "2011-05-15",
          "2011-05-16",
          "2011-05-17",
          "2011-05-18",
          "2011-05-19",
          "2011-05-20",
          "2011-05-21",
          "2011-05-22",
          "2011-05-23",
          "2011-05-24",
          "2011-05-25",
          "2011-05-26",
          "2011-05-27",
          "2011-05-28",
          "2011-05-29",
          "2011-05-30",
          "2011-05-31",
          "2011-06-01",
          "2011-06-02",
          "2011-06-03",
          "2011-06-04",
          "2011-06-05",
          "2011-06-06",
          "2011-06-07",
          "2011-06-08",
          "2011-06-09",
          "2011-06-10",
          "2011-06-11",
          "2011-06-12",
          "2011-06-13",
          "2011-06-14",
          "2011-06-15",
          "2011-06-16",
          "2011-06-17",
          "2011-06-18",
          "2011-06-19",
          "2011-06-20",
          "2011-06-21",
          "2011-06-22",
          "2011-06-23",
          "2011-06-24",
          "2011-06-25",
          "2011-06-26",
          "2011-06-27",
          "2011-06-28",
          "2011-06-29",
          "2011-06-30",
          "2011-07-01",
          "2011-07-02",
          "2011-07-03",
          "2011-07-04",
          "2011-07-05",
          "2011-07-06",
          "2011-07-07",
          "2011-07-08",
          "2011-07-09",
          "2011-07-10",
          "2011-07-11",
          "2011-07-12",
          "2011-07-13",
          "2011-07-14",
          "2011-07-15",
          "2011-07-16",
          "2011-07-17",
          "2011-07-18",
          "2011-07-19",
          "2011-07-20",
          "2011-07-21",
          "2011-07-22",
          "2011-07-23",
          "2011-07-24",
          "2011-07-25",
          "2011-07-26",
          "2011-07-27",
          "2011-07-28",
          "2011-07-29",
          "2011-07-30",
          "2011-07-31",
          "2011-08-01",
          "2011-08-02",
          "2011-08-03",
          "2011-08-04",
          "2011-08-05",
          "2011-08-06",
          "2011-08-07",
          "2011-08-08",
          "2011-08-09",
          "2011-08-10",
          "2011-08-11",
          "2011-08-12",
          "2011-08-13",
          "2011-08-14",
          "2011-08-15",
          "2011-08-16",
          "2011-08-17",
          "2011-08-18",
          "2011-08-19",
          "2011-08-20",
          "2011-08-21",
          "2011-08-22",
          "2011-08-23",
          "2011-08-24",
          "2011-08-25",
          "2011-08-26",
          "2011-08-27",
          "2011-08-28",
          "2011-08-29",
          "2011-08-30",
          "2011-08-31",
          "2011-09-01",
          "2011-09-02",
          "2011-09-03",
          "2011-09-04",
          "2011-09-05",
          "2011-09-06",
          "2011-09-07",
          "2011-09-08",
          "2011-09-09",
          "2011-09-10",
          "2011-09-11",
          "2011-09-12",
          "2011-09-13",
          "2011-09-14",
          "2011-09-15",
          "2011-09-16",
          "2011-09-17",
          "2011-09-18",
          "2011-09-19",
          "2011-09-20",
          "2011-09-21",
          "2011-09-22",
          "2011-09-23",
          "2011-09-24",
          "2011-09-25",
          "2011-09-26",
          "2011-09-27",
          "2011-09-28",
          "2011-09-29",
          "2011-09-30",
          "2011-10-01",
          "2011-10-02",
          "2011-10-03",
          "2011-10-04",
          "2011-10-05",
          "2011-10-06",
          "2011-10-07",
          "2011-10-08",
          "2011-10-09",
          "2011-10-10",
          "2011-10-11",
          "2011-10-12",
          "2011-10-13",
          "2011-10-14",
          "2011-10-15",
          "2011-10-16",
          "2011-10-17",
          "2011-10-18",
          "2011-10-19",
          "2011-10-20",
          "2011-10-21",
          "2011-10-22",
          "2011-10-23",
          "2011-10-24",
          "2011-10-25",
          "2011-10-26",
          "2011-10-27",
          "2011-10-28",
          "2011-10-29",
          "2011-10-30",
          "2011-10-31",
          "2011-11-01",
          "2011-11-02",
          "2011-11-03",
          "2011-11-04",
          "2011-11-05",
          "2011-11-06",
          "2011-11-07",
          "2011-11-08",
          "2011-11-09",
          "2011-11-10",
          "2011-11-11",
          "2011-11-12",
          "2011-11-13",
          "2011-11-14",
          "2011-11-15",
          "2011-11-16",
          "2011-11-17",
          "2011-11-18",
          "2011-11-19",
          "2011-11-20",
          "2011-11-21",
          "2011-11-22",
          "2011-11-23",
          "2011-11-24",
          "2011-11-25",
          "2011-11-26",
          "2011-11-27",
          "2011-11-28",
          "2011-11-29",
          "2011-11-30",
          "2011-12-01",
          "2011-12-02",
          "2011-12-03",
          "2011-12-04",
          "2011-12-05",
          "2011-12-06",
          "2011-12-07",
          "2011-12-08",
          "2011-12-09",
          "2011-12-10",
          "2011-12-11",
          "2011-12-12",
          "2011-12-13",
          "2011-12-14",
          "2011-12-15",
          "2011-12-16",
          "2011-12-17",
          "2011-12-18",
          "2011-12-19",
          "2011-12-20",
          "2011-12-21",
          "2011-12-22",
          "2011-12-23",
          "2011-12-24",
          "2011-12-25",
          "2011-12-26",
          "2011-12-27",
          "2011-12-28",
          "2011-12-29",
          "2011-12-30",
          "2011-12-31",
          "2012-01-01",
          "2012-01-02",
          "2012-01-03",
          "2012-01-04",
          "2012-01-05",
          "2012-01-06",
          "2012-01-07",
          "2012-01-08",
          "2012-01-09",
          "2012-01-10",
          "2012-01-11",
          "2012-01-12",
          "2012-01-13",
          "2012-01-14",
          "2012-01-15",
          "2012-01-16",
          "2012-01-17",
          "2012-01-18",
          "2012-01-19",
          "2012-01-20",
          "2012-01-21",
          "2012-01-22",
          "2012-01-23",
          "2012-01-24",
          "2012-01-25",
          "2012-01-26",
          "2012-01-27",
          "2012-01-28",
          "2012-01-29",
          "2012-01-30",
          "2012-01-31",
          "2012-02-01",
          "2012-02-02",
          "2012-02-03",
          "2012-02-04",
          "2012-02-05",
          "2012-02-06",
          "2012-02-07",
          "2012-02-08",
          "2012-02-09",
          "2012-02-10",
          "2012-02-11",
          "2012-02-12",
          "2012-02-13",
          "2012-02-14",
          "2012-02-15",
          "2012-02-16",
          "2012-02-17",
          "2012-02-18",
          "2012-02-19",
          "2012-02-20",
          "2012-02-21",
          "2012-02-22",
          "2012-02-23",
          "2012-02-24",
          "2012-02-25",
          "2012-02-26",
          "2012-02-27",
          "2012-02-28",
          "2012-02-29",
          "2012-03-01",
          "2012-03-02",
          "2012-03-03",
          "2012-03-04",
          "2012-03-05",
          "2012-03-06",
          "2012-03-07",
          "2012-03-08",
          "2012-03-09",
          "2012-03-10",
          "2012-03-11",
          "2012-03-12",
          "2012-03-13",
          "2012-03-14",
          "2012-03-15",
          "2012-03-16",
          "2012-03-17",
          "2012-03-18",
          "2012-03-19",
          "2012-03-20",
          "2012-03-21",
          "2012-03-22",
          "2012-03-23",
          "2012-03-24",
          "2012-03-25",
          "2012-03-26",
          "2012-03-27",
          "2012-03-28",
          "2012-03-29",
          "2012-03-30",
          "2012-03-31",
          "2012-04-01",
          "2012-04-02",
          "2012-04-03",
          "2012-04-04",
          "2012-04-05",
          "2012-04-06",
          "2012-04-07",
          "2012-04-08",
          "2012-04-09",
          "2012-04-10",
          "2012-04-11",
          "2012-04-12",
          "2012-04-13",
          "2012-04-14",
          "2012-04-15",
          "2012-04-16",
          "2012-04-17",
          "2012-04-18",
          "2012-04-19",
          "2012-04-20",
          "2012-04-21",
          "2012-04-22",
          "2012-04-23",
          "2012-04-24",
          "2012-04-25",
          "2012-04-26",
          "2012-04-27",
          "2012-04-28",
          "2012-04-29",
          "2012-04-30",
          "2012-05-01",
          "2012-05-02",
          "2012-05-03",
          "2012-05-04",
          "2012-05-05",
          "2012-05-06",
          "2012-05-07",
          "2012-05-08",
          "2012-05-09",
          "2012-05-10",
          "2012-05-11",
          "2012-05-12",
          "2012-05-13",
          "2012-05-14",
          "2012-05-15",
          "2012-05-16",
          "2012-05-17",
          "2012-05-18",
          "2012-05-19",
          "2012-05-20",
          "2012-05-21",
          "2012-05-22",
          "2012-05-23",
          "2012-05-24",
          "2012-05-25",
          "2012-05-26",
          "2012-05-27",
          "2012-05-28",
          "2012-05-29",
          "2012-05-30",
          "2012-05-31",
          "2012-06-01",
          "2012-06-02",
          "2012-06-03",
          "2012-06-04",
          "2012-06-05",
          "2012-06-06",
          "2012-06-07",
          "2012-06-08",
          "2012-06-09",
          "2012-06-10",
          "2012-06-11",
          "2012-06-12",
          "2012-06-13",
          "2012-06-14",
          "2012-06-15",
          "2012-06-16",
          "2012-06-17",
          "2012-06-18",
          "2012-06-19",
          "2012-06-20",
          "2012-06-21",
          "2012-06-22",
          "2012-06-23",
          "2012-06-24",
          "2012-06-25",
          "2012-06-26",
          "2012-06-27",
          "2012-06-28",
          "2012-06-29",
          "2012-06-30",
          "2012-07-01",
          "2012-07-02",
          "2012-07-03",
          "2012-07-04",
          "2012-07-05",
          "2012-07-06",
          "2012-07-07",
          "2012-07-08",
          "2012-07-09",
          "2012-07-10",
          "2012-07-11",
          "2012-07-12",
          "2012-07-13",
          "2012-07-14",
          "2012-07-15",
          "2012-07-16",
          "2012-07-17",
          "2012-07-18",
          "2012-07-19",
          "2012-07-20",
          "2012-07-21",
          "2012-07-22",
          "2012-07-23",
          "2012-07-24",
          "2012-07-25",
          "2012-07-26",
          "2012-07-27",
          "2012-07-28",
          "2012-07-29",
          "2012-07-30",
          "2012-07-31",
          "2012-08-01",
          "2012-08-02",
          "2012-08-03",
          "2012-08-04",
          "2012-08-05",
          "2012-08-06",
          "2012-08-07",
          "2012-08-08",
          "2012-08-09",
          "2012-08-10",
          "2012-08-11",
          "2012-08-12",
          "2012-08-13",
          "2012-08-14",
          "2012-08-15",
          "2012-08-16",
          "2012-08-17",
          "2012-08-18",
          "2012-08-19",
          "2012-08-20",
          "2012-08-21",
          "2012-08-22",
          "2012-08-23",
          "2012-08-24",
          "2012-08-25",
          "2012-08-26",
          "2012-08-27",
          "2012-08-28",
          "2012-08-29",
          "2012-08-30",
          "2012-08-31",
          "2012-09-01",
          "2012-09-02",
          "2012-09-03",
          "2012-09-04",
          "2012-09-05",
          "2012-09-06",
          "2012-09-07",
          "2012-09-08",
          "2012-09-09",
          "2012-09-10",
          "2012-09-11",
          "2012-09-12",
          "2012-09-13",
          "2012-09-14",
          "2012-09-15",
          "2012-09-16",
          "2012-09-17",
          "2012-09-18",
          "2012-09-19",
          "2012-09-20",
          "2012-09-21",
          "2012-09-22",
          "2012-09-23",
          "2012-09-24",
          "2012-09-25",
          "2012-09-26",
          "2012-09-27",
          "2012-09-28",
          "2012-09-29",
          "2012-09-30",
          "2012-10-01",
          "2012-10-02",
          "2012-10-03",
          "2012-10-04",
          "2012-10-05",
          "2012-10-06",
          "2012-10-07",
          "2012-10-08",
          "2012-10-09",
          "2012-10-10",
          "2012-10-11",
          "2012-10-12",
          "2012-10-13",
          "2012-10-14",
          "2012-10-15",
          "2012-10-16",
          "2012-10-17",
          "2012-10-18",
          "2012-10-19",
          "2012-10-20",
          "2012-10-21",
          "2012-10-22",
          "2012-10-23",
          "2012-10-24",
          "2012-10-25",
          "2012-10-26",
          "2012-10-27",
          "2012-10-28",
          "2012-10-29",
          "2012-10-30",
          "2012-10-31",
          "2012-11-01",
          "2012-11-02",
          "2012-11-03",
          "2012-11-04",
          "2012-11-05",
          "2012-11-06",
          "2012-11-07",
          "2012-11-08",
          "2012-11-09",
          "2012-11-10",
          "2012-11-11",
          "2012-11-12",
          "2012-11-13",
          "2012-11-14",
          "2012-11-15",
          "2012-11-16",
          "2012-11-17",
          "2012-11-18",
          "2012-11-19",
          "2012-11-20",
          "2012-11-21",
          "2012-11-22",
          "2012-11-23",
          "2012-11-24",
          "2012-11-25",
          "2012-11-26",
          "2012-11-27",
          "2012-11-28",
          "2012-11-29",
          "2012-11-30",
          "2012-12-01",
          "2012-12-02",
          "2012-12-03",
          "2012-12-04",
          "2012-12-05",
          "2012-12-06",
          "2012-12-07",
          "2012-12-08",
          "2012-12-09",
          "2012-12-10",
          "2012-12-11",
          "2012-12-12",
          "2012-12-13",
          "2012-12-14",
          "2012-12-15",
          "2012-12-16",
          "2012-12-17",
          "2012-12-18",
          "2012-12-19",
          "2012-12-20",
          "2012-12-21",
          "2012-12-22",
          "2012-12-23",
          "2012-12-24",
          "2012-12-25",
          "2012-12-26",
          "2012-12-27",
          "2012-12-28",
          "2012-12-29",
          "2012-12-30",
          "2012-12-31"
         ],
         "y": [
          331,
          131,
          120,
          108,
          82,
          88,
          148,
          68,
          54,
          41,
          43,
          25,
          38,
          54,
          222,
          251,
          117,
          9,
          78,
          83,
          75,
          93,
          150,
          86,
          186,
          34,
          15,
          38,
          123,
          140,
          42,
          47,
          72,
          61,
          88,
          100,
          354,
          120,
          64,
          53,
          47,
          149,
          288,
          397,
          208,
          140,
          218,
          259,
          579,
          532,
          639,
          195,
          74,
          139,
          100,
          120,
          424,
          694,
          81,
          137,
          231,
          123,
          214,
          640,
          114,
          244,
          316,
          191,
          46,
          247,
          724,
          982,
          359,
          289,
          321,
          424,
          884,
          1424,
          1047,
          401,
          460,
          203,
          166,
          300,
          981,
          472,
          222,
          317,
          168,
          179,
          307,
          898,
          1651,
          734,
          167,
          413,
          571,
          172,
          879,
          1188,
          855,
          257,
          209,
          529,
          642,
          121,
          1558,
          669,
          409,
          613,
          745,
          177,
          1462,
          1710,
          773,
          678,
          547,
          569,
          878,
          1965,
          1138,
          847,
          603,
          255,
          614,
          894,
          1612,
          1401,
          664,
          694,
          550,
          695,
          692,
          902,
          1582,
          773,
          678,
          536,
          735,
          909,
          2258,
          1576,
          836,
          659,
          740,
          758,
          871,
          2001,
          2355,
          1549,
          673,
          513,
          736,
          898,
          1869,
          1685,
          673,
          763,
          676,
          563,
          815,
          1729,
          1467,
          863,
          727,
          769,
          545,
          863,
          1807,
          1639,
          699,
          774,
          661,
          746,
          969,
          1782,
          1920,
          854,
          732,
          848,
          1027,
          1246,
          2204,
          2282,
          3065,
          1031,
          784,
          754,
          692,
          1988,
          1743,
          723,
          662,
          748,
          888,
          1318,
          2418,
          2006,
          841,
          752,
          644,
          632,
          562,
          987,
          1050,
          568,
          750,
          755,
          606,
          670,
          1559,
          1524,
          729,
          801,
          467,
          799,
          1023,
          1521,
          1298,
          846,
          907,
          884,
          812,
          1051,
          1504,
          1338,
          775,
          721,
          668,
          639,
          797,
          1914,
          1249,
          833,
          1281,
          949,
          435,
          768,
          226,
          1415,
          729,
          775,
          688,
          783,
          875,
          1935,
          2521,
          1236,
          204,
          118,
          153,
          417,
          1750,
          1633,
          690,
          701,
          647,
          428,
          742,
          1434,
          1353,
          691,
          438,
          539,
          555,
          258,
          1776,
          1544,
          684,
          477,
          480,
          653,
          830,
          480,
          616,
          330,
          486,
          559,
          639,
          949,
          2235,
          2397,
          1514,
          667,
          217,
          290,
          529,
          1899,
          1748,
          713,
          637,
          254,
          471,
          676,
          1499,
          1619,
          699,
          695,
          404,
          240,
          456,
          57,
          885,
          362,
          410,
          370,
          318,
          470,
          1156,
          952,
          373,
          376,
          305,
          190,
          440,
          1275,
          1004,
          595,
          449,
          145,
          139,
          245,
          943,
          787,
          220,
          69,
          112,
          560,
          1095,
          1249,
          810,
          253,
          96,
          188,
          182,
          268,
          706,
          634,
          233,
          126,
          50,
          150,
          261,
          502,
          377,
          143,
          155,
          178,
          181,
          178,
          275,
          220,
          260,
          216,
          107,
          227,
          163,
          155,
          303,
          430,
          103,
          255,
          254,
          491,
          665,
          686,
          244,
          89,
          95,
          140,
          307,
          1070,
          599,
          106,
          173,
          92,
          269,
          174,
          333,
          284,
          217,
          127,
          109,
          130,
          115,
          67,
          196,
          145,
          439,
          467,
          244,
          269,
          775,
          558,
          126,
          324,
          304,
          190,
          310,
          384,
          318,
          206,
          199,
          109,
          163,
          227,
          192,
          73,
          94,
          135,
          141,
          74,
          349,
          1435,
          618,
          502,
          163,
          394,
          516,
          246,
          317,
          515,
          253,
          229,
          65,
          325,
          246,
          956,
          710,
          203,
          221,
          432,
          486,
          447,
          968,
          1658,
          838,
          762,
          997,
          1005,
          548,
          3155,
          2207,
          982,
          1051,
          1122,
          1334,
          2469,
          1033,
          1532,
          795,
          531,
          674,
          834,
          796,
          2301,
          2347,
          1208,
          1348,
          1058,
          1192,
          1807,
          3252,
          2230,
          905,
          819,
          482,
          663,
          1252,
          2795,
          2846,
          1198,
          989,
          347,
          846,
          1340,
          2541,
          120,
          195,
          518,
          655,
          475,
          1014,
          1120,
          2229,
          665,
          653,
          667,
          764,
          1069,
          2496,
          2135,
          1008,
          738,
          620,
          1026,
          1319,
          2622,
          2172,
          342,
          625,
          991,
          1242,
          1521,
          3410,
          2704,
          630,
          819,
          766,
          1059,
          1417,
          2855,
          3283,
          2557,
          880,
          745,
          1100,
          533,
          2795,
          2494,
          1071,
          968,
          1027,
          1038,
          1488,
          2708,
          2224,
          1017,
          477,
          1173,
          1180,
          1563,
          2963,
          2634,
          653,
          968,
          872,
          778,
          964,
          2657,
          2551,
          1139,
          1077,
          1077,
          921,
          829,
          1455,
          1421,
          904,
          1052,
          2562,
          1405,
          1366,
          1448,
          1203,
          998,
          954,
          975,
          1032,
          1511,
          2355,
          1920,
          1088,
          921,
          799,
          888,
          747,
          1264,
          2544,
          1135,
          1140,
          1383,
          1036,
          1259,
          2234,
          2153,
          1040,
          968,
          1074,
          983,
          1328,
          2345,
          1707,
          1233,
          1278,
          1263,
          1196,
          1065,
          2247,
          2182,
          1207,
          1128,
          1198,
          1338,
          1483,
          2827,
          1208,
          1026,
          1081,
          1094,
          1363,
          1325,
          1829,
          1483,
          989,
          935,
          1177,
          1172,
          1433,
          2352,
          2613,
          1965,
          867,
          832,
          611,
          1045,
          1557,
          2570,
          1118,
          1070,
          1050,
          1054,
          1379,
          3160,
          2166,
          1022,
          371,
          788,
          939,
          1250,
          2512,
          2454,
          1001,
          845,
          787,
          751,
          1045,
          2589,
          2015,
          763,
          315,
          728,
          891,
          1516,
          3031,
          781,
          874,
          601,
          780,
          834,
          1060,
          2252,
          2080,
          760,
          922,
          979,
          1008,
          753,
          2806,
          2132,
          830,
          841,
          795,
          875,
          1182,
          2643,
          998,
          2,
          87,
          419,
          466,
          618,
          1029,
          1201,
          378,
          466,
          326,
          340,
          709,
          2090,
          2290,
          1097,
          327,
          373,
          320,
          484,
          1313,
          922,
          449,
          534,
          615,
          955,
          1603,
          532,
          309,
          337,
          123,
          198,
          243,
          362,
          951,
          892,
          555,
          551,
          331,
          340,
          349,
          1153,
          441,
          329,
          282,
          310,
          425,
          429,
          767,
          538,
          212,
          433,
          333,
          314,
          221,
          205,
          408,
          174,
          440,
          9,
          247,
          644,
          159,
          364,
          439
         ]
        }
       ],
       "layout": {
        "legend": {
         "bgcolor": "#F5F6F9",
         "font": {
          "color": "#4D5663"
         }
        },
        "paper_bgcolor": "#F5F6F9",
        "plot_bgcolor": "#F5F6F9",
        "template": {
         "data": {
          "bar": [
           {
            "error_x": {
             "color": "#2a3f5f"
            },
            "error_y": {
             "color": "#2a3f5f"
            },
            "marker": {
             "line": {
              "color": "#E5ECF6",
              "width": 0.5
             }
            },
            "type": "bar"
           }
          ],
          "barpolar": [
           {
            "marker": {
             "line": {
              "color": "#E5ECF6",
              "width": 0.5
             }
            },
            "type": "barpolar"
           }
          ],
          "carpet": [
           {
            "aaxis": {
             "endlinecolor": "#2a3f5f",
             "gridcolor": "white",
             "linecolor": "white",
             "minorgridcolor": "white",
             "startlinecolor": "#2a3f5f"
            },
            "baxis": {
             "endlinecolor": "#2a3f5f",
             "gridcolor": "white",
             "linecolor": "white",
             "minorgridcolor": "white",
             "startlinecolor": "#2a3f5f"
            },
            "type": "carpet"
           }
          ],
          "choropleth": [
           {
            "colorbar": {
             "outlinewidth": 0,
             "ticks": ""
            },
            "type": "choropleth"
           }
          ],
          "contour": [
           {
            "colorbar": {
             "outlinewidth": 0,
             "ticks": ""
            },
            "colorscale": [
             [
              0,
              "#0d0887"
             ],
             [
              0.1111111111111111,
              "#46039f"
             ],
             [
              0.2222222222222222,
              "#7201a8"
             ],
             [
              0.3333333333333333,
              "#9c179e"
             ],
             [
              0.4444444444444444,
              "#bd3786"
             ],
             [
              0.5555555555555556,
              "#d8576b"
             ],
             [
              0.6666666666666666,
              "#ed7953"
             ],
             [
              0.7777777777777778,
              "#fb9f3a"
             ],
             [
              0.8888888888888888,
              "#fdca26"
             ],
             [
              1,
              "#f0f921"
             ]
            ],
            "type": "contour"
           }
          ],
          "contourcarpet": [
           {
            "colorbar": {
             "outlinewidth": 0,
             "ticks": ""
            },
            "type": "contourcarpet"
           }
          ],
          "heatmap": [
           {
            "colorbar": {
             "outlinewidth": 0,
             "ticks": ""
            },
            "colorscale": [
             [
              0,
              "#0d0887"
             ],
             [
              0.1111111111111111,
              "#46039f"
             ],
             [
              0.2222222222222222,
              "#7201a8"
             ],
             [
              0.3333333333333333,
              "#9c179e"
             ],
             [
              0.4444444444444444,
              "#bd3786"
             ],
             [
              0.5555555555555556,
              "#d8576b"
             ],
             [
              0.6666666666666666,
              "#ed7953"
             ],
             [
              0.7777777777777778,
              "#fb9f3a"
             ],
             [
              0.8888888888888888,
              "#fdca26"
             ],
             [
              1,
              "#f0f921"
             ]
            ],
            "type": "heatmap"
           }
          ],
          "heatmapgl": [
           {
            "colorbar": {
             "outlinewidth": 0,
             "ticks": ""
            },
            "colorscale": [
             [
              0,
              "#0d0887"
             ],
             [
              0.1111111111111111,
              "#46039f"
             ],
             [
              0.2222222222222222,
              "#7201a8"
             ],
             [
              0.3333333333333333,
              "#9c179e"
             ],
             [
              0.4444444444444444,
              "#bd3786"
             ],
             [
              0.5555555555555556,
              "#d8576b"
             ],
             [
              0.6666666666666666,
              "#ed7953"
             ],
             [
              0.7777777777777778,
              "#fb9f3a"
             ],
             [
              0.8888888888888888,
              "#fdca26"
             ],
             [
              1,
              "#f0f921"
             ]
            ],
            "type": "heatmapgl"
           }
          ],
          "histogram": [
           {
            "marker": {
             "colorbar": {
              "outlinewidth": 0,
              "ticks": ""
             }
            },
            "type": "histogram"
           }
          ],
          "histogram2d": [
           {
            "colorbar": {
             "outlinewidth": 0,
             "ticks": ""
            },
            "colorscale": [
             [
              0,
              "#0d0887"
             ],
             [
              0.1111111111111111,
              "#46039f"
             ],
             [
              0.2222222222222222,
              "#7201a8"
             ],
             [
              0.3333333333333333,
              "#9c179e"
             ],
             [
              0.4444444444444444,
              "#bd3786"
             ],
             [
              0.5555555555555556,
              "#d8576b"
             ],
             [
              0.6666666666666666,
              "#ed7953"
             ],
             [
              0.7777777777777778,
              "#fb9f3a"
             ],
             [
              0.8888888888888888,
              "#fdca26"
             ],
             [
              1,
              "#f0f921"
             ]
            ],
            "type": "histogram2d"
           }
          ],
          "histogram2dcontour": [
           {
            "colorbar": {
             "outlinewidth": 0,
             "ticks": ""
            },
            "colorscale": [
             [
              0,
              "#0d0887"
             ],
             [
              0.1111111111111111,
              "#46039f"
             ],
             [
              0.2222222222222222,
              "#7201a8"
             ],
             [
              0.3333333333333333,
              "#9c179e"
             ],
             [
              0.4444444444444444,
              "#bd3786"
             ],
             [
              0.5555555555555556,
              "#d8576b"
             ],
             [
              0.6666666666666666,
              "#ed7953"
             ],
             [
              0.7777777777777778,
              "#fb9f3a"
             ],
             [
              0.8888888888888888,
              "#fdca26"
             ],
             [
              1,
              "#f0f921"
             ]
            ],
            "type": "histogram2dcontour"
           }
          ],
          "mesh3d": [
           {
            "colorbar": {
             "outlinewidth": 0,
             "ticks": ""
            },
            "type": "mesh3d"
           }
          ],
          "parcoords": [
           {
            "line": {
             "colorbar": {
              "outlinewidth": 0,
              "ticks": ""
             }
            },
            "type": "parcoords"
           }
          ],
          "pie": [
           {
            "automargin": true,
            "type": "pie"
           }
          ],
          "scatter": [
           {
            "marker": {
             "colorbar": {
              "outlinewidth": 0,
              "ticks": ""
             }
            },
            "type": "scatter"
           }
          ],
          "scatter3d": [
           {
            "line": {
             "colorbar": {
              "outlinewidth": 0,
              "ticks": ""
             }
            },
            "marker": {
             "colorbar": {
              "outlinewidth": 0,
              "ticks": ""
             }
            },
            "type": "scatter3d"
           }
          ],
          "scattercarpet": [
           {
            "marker": {
             "colorbar": {
              "outlinewidth": 0,
              "ticks": ""
             }
            },
            "type": "scattercarpet"
           }
          ],
          "scattergeo": [
           {
            "marker": {
             "colorbar": {
              "outlinewidth": 0,
              "ticks": ""
             }
            },
            "type": "scattergeo"
           }
          ],
          "scattergl": [
           {
            "marker": {
             "colorbar": {
              "outlinewidth": 0,
              "ticks": ""
             }
            },
            "type": "scattergl"
           }
          ],
          "scattermapbox": [
           {
            "marker": {
             "colorbar": {
              "outlinewidth": 0,
              "ticks": ""
             }
            },
            "type": "scattermapbox"
           }
          ],
          "scatterpolar": [
           {
            "marker": {
             "colorbar": {
              "outlinewidth": 0,
              "ticks": ""
             }
            },
            "type": "scatterpolar"
           }
          ],
          "scatterpolargl": [
           {
            "marker": {
             "colorbar": {
              "outlinewidth": 0,
              "ticks": ""
             }
            },
            "type": "scatterpolargl"
           }
          ],
          "scatterternary": [
           {
            "marker": {
             "colorbar": {
              "outlinewidth": 0,
              "ticks": ""
             }
            },
            "type": "scatterternary"
           }
          ],
          "surface": [
           {
            "colorbar": {
             "outlinewidth": 0,
             "ticks": ""
            },
            "colorscale": [
             [
              0,
              "#0d0887"
             ],
             [
              0.1111111111111111,
              "#46039f"
             ],
             [
              0.2222222222222222,
              "#7201a8"
             ],
             [
              0.3333333333333333,
              "#9c179e"
             ],
             [
              0.4444444444444444,
              "#bd3786"
             ],
             [
              0.5555555555555556,
              "#d8576b"
             ],
             [
              0.6666666666666666,
              "#ed7953"
             ],
             [
              0.7777777777777778,
              "#fb9f3a"
             ],
             [
              0.8888888888888888,
              "#fdca26"
             ],
             [
              1,
              "#f0f921"
             ]
            ],
            "type": "surface"
           }
          ],
          "table": [
           {
            "cells": {
             "fill": {
              "color": "#EBF0F8"
             },
             "line": {
              "color": "white"
             }
            },
            "header": {
             "fill": {
              "color": "#C8D4E3"
             },
             "line": {
              "color": "white"
             }
            },
            "type": "table"
           }
          ]
         },
         "layout": {
          "annotationdefaults": {
           "arrowcolor": "#2a3f5f",
           "arrowhead": 0,
           "arrowwidth": 1
          },
          "coloraxis": {
           "colorbar": {
            "outlinewidth": 0,
            "ticks": ""
           }
          },
          "colorscale": {
           "diverging": [
            [
             0,
             "#8e0152"
            ],
            [
             0.1,
             "#c51b7d"
            ],
            [
             0.2,
             "#de77ae"
            ],
            [
             0.3,
             "#f1b6da"
            ],
            [
             0.4,
             "#fde0ef"
            ],
            [
             0.5,
             "#f7f7f7"
            ],
            [
             0.6,
             "#e6f5d0"
            ],
            [
             0.7,
             "#b8e186"
            ],
            [
             0.8,
             "#7fbc41"
            ],
            [
             0.9,
             "#4d9221"
            ],
            [
             1,
             "#276419"
            ]
           ],
           "sequential": [
            [
             0,
             "#0d0887"
            ],
            [
             0.1111111111111111,
             "#46039f"
            ],
            [
             0.2222222222222222,
             "#7201a8"
            ],
            [
             0.3333333333333333,
             "#9c179e"
            ],
            [
             0.4444444444444444,
             "#bd3786"
            ],
            [
             0.5555555555555556,
             "#d8576b"
            ],
            [
             0.6666666666666666,
             "#ed7953"
            ],
            [
             0.7777777777777778,
             "#fb9f3a"
            ],
            [
             0.8888888888888888,
             "#fdca26"
            ],
            [
             1,
             "#f0f921"
            ]
           ],
           "sequentialminus": [
            [
             0,
             "#0d0887"
            ],
            [
             0.1111111111111111,
             "#46039f"
            ],
            [
             0.2222222222222222,
             "#7201a8"
            ],
            [
             0.3333333333333333,
             "#9c179e"
            ],
            [
             0.4444444444444444,
             "#bd3786"
            ],
            [
             0.5555555555555556,
             "#d8576b"
            ],
            [
             0.6666666666666666,
             "#ed7953"
            ],
            [
             0.7777777777777778,
             "#fb9f3a"
            ],
            [
             0.8888888888888888,
             "#fdca26"
            ],
            [
             1,
             "#f0f921"
            ]
           ]
          },
          "colorway": [
           "#636efa",
           "#EF553B",
           "#00cc96",
           "#ab63fa",
           "#FFA15A",
           "#19d3f3",
           "#FF6692",
           "#B6E880",
           "#FF97FF",
           "#FECB52"
          ],
          "font": {
           "color": "#2a3f5f"
          },
          "geo": {
           "bgcolor": "white",
           "lakecolor": "white",
           "landcolor": "#E5ECF6",
           "showlakes": true,
           "showland": true,
           "subunitcolor": "white"
          },
          "hoverlabel": {
           "align": "left"
          },
          "hovermode": "closest",
          "mapbox": {
           "style": "light"
          },
          "paper_bgcolor": "white",
          "plot_bgcolor": "#E5ECF6",
          "polar": {
           "angularaxis": {
            "gridcolor": "white",
            "linecolor": "white",
            "ticks": ""
           },
           "bgcolor": "#E5ECF6",
           "radialaxis": {
            "gridcolor": "white",
            "linecolor": "white",
            "ticks": ""
           }
          },
          "scene": {
           "xaxis": {
            "backgroundcolor": "#E5ECF6",
            "gridcolor": "white",
            "gridwidth": 2,
            "linecolor": "white",
            "showbackground": true,
            "ticks": "",
            "zerolinecolor": "white"
           },
           "yaxis": {
            "backgroundcolor": "#E5ECF6",
            "gridcolor": "white",
            "gridwidth": 2,
            "linecolor": "white",
            "showbackground": true,
            "ticks": "",
            "zerolinecolor": "white"
           },
           "zaxis": {
            "backgroundcolor": "#E5ECF6",
            "gridcolor": "white",
            "gridwidth": 2,
            "linecolor": "white",
            "showbackground": true,
            "ticks": "",
            "zerolinecolor": "white"
           }
          },
          "shapedefaults": {
           "line": {
            "color": "#2a3f5f"
           }
          },
          "ternary": {
           "aaxis": {
            "gridcolor": "white",
            "linecolor": "white",
            "ticks": ""
           },
           "baxis": {
            "gridcolor": "white",
            "linecolor": "white",
            "ticks": ""
           },
           "bgcolor": "#E5ECF6",
           "caxis": {
            "gridcolor": "white",
            "linecolor": "white",
            "ticks": ""
           }
          },
          "title": {
           "x": 0.05
          },
          "xaxis": {
           "automargin": true,
           "gridcolor": "white",
           "linecolor": "white",
           "ticks": "",
           "title": {
            "standoff": 15
           },
           "zerolinecolor": "white",
           "zerolinewidth": 2
          },
          "yaxis": {
           "automargin": true,
           "gridcolor": "white",
           "linecolor": "white",
           "ticks": "",
           "title": {
            "standoff": 15
           },
           "zerolinecolor": "white",
           "zerolinewidth": 2
          }
         }
        },
        "title": {
         "font": {
          "color": "#4D5663"
         },
         "text": "Use of Registered bikes Vs Casual bikes by day"
        },
        "xaxis": {
         "gridcolor": "#E1E5ED",
         "showgrid": true,
         "tickfont": {
          "color": "#4D5663"
         },
         "title": {
          "font": {
           "color": "#4D5663"
          },
          "text": "Day"
         },
         "zerolinecolor": "#E1E5ED"
        },
        "yaxis": {
         "gridcolor": "#E1E5ED",
         "showgrid": true,
         "tickfont": {
          "color": "#4D5663"
         },
         "title": {
          "font": {
           "color": "#4D5663"
          },
          "text": "Number of users"
         },
         "zerolinecolor": "#E1E5ED"
        }
       }
      },
      "text/html": [
       "<div>                            <div id=\"3b2d4b70-8850-4d78-9610-1f21ef9ac0e8\" class=\"plotly-graph-div\" style=\"height:525px; width:100%;\"></div>            <script type=\"text/javascript\">                require([\"plotly\"], function(Plotly) {                    window.PLOTLYENV=window.PLOTLYENV || {};\n",
       "                    window.PLOTLYENV.BASE_URL='https://plot.ly';                                    if (document.getElementById(\"3b2d4b70-8850-4d78-9610-1f21ef9ac0e8\")) {                    Plotly.newPlot(                        \"3b2d4b70-8850-4d78-9610-1f21ef9ac0e8\",                        [{\"marker\": {\"color\": \"rgba(255, 153, 51, 0.6)\", \"line\": {\"color\": \"rgba(255, 153, 51, 1.0)\", \"width\": 1}}, \"name\": \"registered\", \"orientation\": \"v\", \"text\": \"\", \"type\": \"bar\", \"x\": [\"2011-01-01\", \"2011-01-02\", \"2011-01-03\", \"2011-01-04\", \"2011-01-05\", \"2011-01-06\", \"2011-01-07\", \"2011-01-08\", \"2011-01-09\", \"2011-01-10\", \"2011-01-11\", \"2011-01-12\", \"2011-01-13\", \"2011-01-14\", \"2011-01-15\", \"2011-01-16\", \"2011-01-17\", \"2011-01-18\", \"2011-01-19\", \"2011-01-20\", \"2011-01-21\", \"2011-01-22\", \"2011-01-23\", \"2011-01-24\", \"2011-01-25\", \"2011-01-26\", \"2011-01-27\", \"2011-01-28\", \"2011-01-29\", \"2011-01-30\", \"2011-01-31\", \"2011-02-01\", \"2011-02-02\", \"2011-02-03\", \"2011-02-04\", \"2011-02-05\", \"2011-02-06\", \"2011-02-07\", \"2011-02-08\", \"2011-02-09\", \"2011-02-10\", \"2011-02-11\", \"2011-02-12\", \"2011-02-13\", \"2011-02-14\", \"2011-02-15\", \"2011-02-16\", \"2011-02-17\", \"2011-02-18\", \"2011-02-19\", \"2011-02-20\", \"2011-02-21\", \"2011-02-22\", \"2011-02-23\", \"2011-02-24\", \"2011-02-25\", \"2011-02-26\", \"2011-02-27\", \"2011-02-28\", \"2011-03-01\", \"2011-03-02\", \"2011-03-03\", \"2011-03-04\", \"2011-03-05\", \"2011-03-06\", \"2011-03-07\", \"2011-03-08\", \"2011-03-09\", \"2011-03-10\", \"2011-03-11\", \"2011-03-12\", \"2011-03-13\", \"2011-03-14\", \"2011-03-15\", \"2011-03-16\", \"2011-03-17\", \"2011-03-18\", \"2011-03-19\", \"2011-03-20\", \"2011-03-21\", \"2011-03-22\", \"2011-03-23\", \"2011-03-24\", \"2011-03-25\", \"2011-03-26\", \"2011-03-27\", \"2011-03-28\", \"2011-03-29\", \"2011-03-30\", \"2011-03-31\", \"2011-04-01\", \"2011-04-02\", \"2011-04-03\", \"2011-04-04\", \"2011-04-05\", \"2011-04-06\", \"2011-04-07\", \"2011-04-08\", \"2011-04-09\", \"2011-04-10\", \"2011-04-11\", \"2011-04-12\", \"2011-04-13\", \"2011-04-14\", \"2011-04-15\", \"2011-04-16\", \"2011-04-17\", \"2011-04-18\", \"2011-04-19\", \"2011-04-20\", \"2011-04-21\", \"2011-04-22\", \"2011-04-23\", \"2011-04-24\", \"2011-04-25\", \"2011-04-26\", \"2011-04-27\", \"2011-04-28\", \"2011-04-29\", \"2011-04-30\", \"2011-05-01\", \"2011-05-02\", \"2011-05-03\", \"2011-05-04\", \"2011-05-05\", \"2011-05-06\", \"2011-05-07\", \"2011-05-08\", \"2011-05-09\", \"2011-05-10\", \"2011-05-11\", \"2011-05-12\", \"2011-05-13\", \"2011-05-14\", \"2011-05-15\", \"2011-05-16\", \"2011-05-17\", \"2011-05-18\", \"2011-05-19\", \"2011-05-20\", \"2011-05-21\", \"2011-05-22\", \"2011-05-23\", \"2011-05-24\", \"2011-05-25\", \"2011-05-26\", \"2011-05-27\", \"2011-05-28\", \"2011-05-29\", \"2011-05-30\", \"2011-05-31\", \"2011-06-01\", \"2011-06-02\", \"2011-06-03\", \"2011-06-04\", \"2011-06-05\", \"2011-06-06\", \"2011-06-07\", \"2011-06-08\", \"2011-06-09\", \"2011-06-10\", \"2011-06-11\", \"2011-06-12\", \"2011-06-13\", \"2011-06-14\", \"2011-06-15\", \"2011-06-16\", \"2011-06-17\", \"2011-06-18\", \"2011-06-19\", \"2011-06-20\", \"2011-06-21\", \"2011-06-22\", \"2011-06-23\", \"2011-06-24\", \"2011-06-25\", \"2011-06-26\", \"2011-06-27\", \"2011-06-28\", \"2011-06-29\", \"2011-06-30\", \"2011-07-01\", \"2011-07-02\", \"2011-07-03\", \"2011-07-04\", \"2011-07-05\", \"2011-07-06\", \"2011-07-07\", \"2011-07-08\", \"2011-07-09\", \"2011-07-10\", \"2011-07-11\", \"2011-07-12\", \"2011-07-13\", \"2011-07-14\", \"2011-07-15\", \"2011-07-16\", \"2011-07-17\", \"2011-07-18\", \"2011-07-19\", \"2011-07-20\", \"2011-07-21\", \"2011-07-22\", \"2011-07-23\", \"2011-07-24\", \"2011-07-25\", \"2011-07-26\", \"2011-07-27\", \"2011-07-28\", \"2011-07-29\", \"2011-07-30\", \"2011-07-31\", \"2011-08-01\", \"2011-08-02\", \"2011-08-03\", \"2011-08-04\", \"2011-08-05\", \"2011-08-06\", \"2011-08-07\", \"2011-08-08\", \"2011-08-09\", \"2011-08-10\", \"2011-08-11\", \"2011-08-12\", \"2011-08-13\", \"2011-08-14\", \"2011-08-15\", \"2011-08-16\", \"2011-08-17\", \"2011-08-18\", \"2011-08-19\", \"2011-08-20\", \"2011-08-21\", \"2011-08-22\", \"2011-08-23\", \"2011-08-24\", \"2011-08-25\", \"2011-08-26\", \"2011-08-27\", \"2011-08-28\", \"2011-08-29\", \"2011-08-30\", \"2011-08-31\", \"2011-09-01\", \"2011-09-02\", \"2011-09-03\", \"2011-09-04\", \"2011-09-05\", \"2011-09-06\", \"2011-09-07\", \"2011-09-08\", \"2011-09-09\", \"2011-09-10\", \"2011-09-11\", \"2011-09-12\", \"2011-09-13\", \"2011-09-14\", \"2011-09-15\", \"2011-09-16\", \"2011-09-17\", \"2011-09-18\", \"2011-09-19\", \"2011-09-20\", \"2011-09-21\", \"2011-09-22\", \"2011-09-23\", \"2011-09-24\", \"2011-09-25\", \"2011-09-26\", \"2011-09-27\", \"2011-09-28\", \"2011-09-29\", \"2011-09-30\", \"2011-10-01\", \"2011-10-02\", \"2011-10-03\", \"2011-10-04\", \"2011-10-05\", \"2011-10-06\", \"2011-10-07\", \"2011-10-08\", \"2011-10-09\", \"2011-10-10\", \"2011-10-11\", \"2011-10-12\", \"2011-10-13\", \"2011-10-14\", \"2011-10-15\", \"2011-10-16\", \"2011-10-17\", \"2011-10-18\", \"2011-10-19\", \"2011-10-20\", \"2011-10-21\", \"2011-10-22\", \"2011-10-23\", \"2011-10-24\", \"2011-10-25\", \"2011-10-26\", \"2011-10-27\", \"2011-10-28\", \"2011-10-29\", \"2011-10-30\", \"2011-10-31\", \"2011-11-01\", \"2011-11-02\", \"2011-11-03\", \"2011-11-04\", \"2011-11-05\", \"2011-11-06\", \"2011-11-07\", \"2011-11-08\", \"2011-11-09\", \"2011-11-10\", \"2011-11-11\", \"2011-11-12\", \"2011-11-13\", \"2011-11-14\", \"2011-11-15\", \"2011-11-16\", \"2011-11-17\", \"2011-11-18\", \"2011-11-19\", \"2011-11-20\", \"2011-11-21\", \"2011-11-22\", \"2011-11-23\", \"2011-11-24\", \"2011-11-25\", \"2011-11-26\", \"2011-11-27\", \"2011-11-28\", \"2011-11-29\", \"2011-11-30\", \"2011-12-01\", \"2011-12-02\", \"2011-12-03\", \"2011-12-04\", \"2011-12-05\", \"2011-12-06\", \"2011-12-07\", \"2011-12-08\", \"2011-12-09\", \"2011-12-10\", \"2011-12-11\", \"2011-12-12\", \"2011-12-13\", \"2011-12-14\", \"2011-12-15\", \"2011-12-16\", \"2011-12-17\", \"2011-12-18\", \"2011-12-19\", \"2011-12-20\", \"2011-12-21\", \"2011-12-22\", \"2011-12-23\", \"2011-12-24\", \"2011-12-25\", \"2011-12-26\", \"2011-12-27\", \"2011-12-28\", \"2011-12-29\", \"2011-12-30\", \"2011-12-31\", \"2012-01-01\", \"2012-01-02\", \"2012-01-03\", \"2012-01-04\", \"2012-01-05\", \"2012-01-06\", \"2012-01-07\", \"2012-01-08\", \"2012-01-09\", \"2012-01-10\", \"2012-01-11\", \"2012-01-12\", \"2012-01-13\", \"2012-01-14\", \"2012-01-15\", \"2012-01-16\", \"2012-01-17\", \"2012-01-18\", \"2012-01-19\", \"2012-01-20\", \"2012-01-21\", \"2012-01-22\", \"2012-01-23\", \"2012-01-24\", \"2012-01-25\", \"2012-01-26\", \"2012-01-27\", \"2012-01-28\", \"2012-01-29\", \"2012-01-30\", \"2012-01-31\", \"2012-02-01\", \"2012-02-02\", \"2012-02-03\", \"2012-02-04\", \"2012-02-05\", \"2012-02-06\", \"2012-02-07\", \"2012-02-08\", \"2012-02-09\", \"2012-02-10\", \"2012-02-11\", \"2012-02-12\", \"2012-02-13\", \"2012-02-14\", \"2012-02-15\", \"2012-02-16\", \"2012-02-17\", \"2012-02-18\", \"2012-02-19\", \"2012-02-20\", \"2012-02-21\", \"2012-02-22\", \"2012-02-23\", \"2012-02-24\", \"2012-02-25\", \"2012-02-26\", \"2012-02-27\", \"2012-02-28\", \"2012-02-29\", \"2012-03-01\", \"2012-03-02\", \"2012-03-03\", \"2012-03-04\", \"2012-03-05\", \"2012-03-06\", \"2012-03-07\", \"2012-03-08\", \"2012-03-09\", \"2012-03-10\", \"2012-03-11\", \"2012-03-12\", \"2012-03-13\", \"2012-03-14\", \"2012-03-15\", \"2012-03-16\", \"2012-03-17\", \"2012-03-18\", \"2012-03-19\", \"2012-03-20\", \"2012-03-21\", \"2012-03-22\", \"2012-03-23\", \"2012-03-24\", \"2012-03-25\", \"2012-03-26\", \"2012-03-27\", \"2012-03-28\", \"2012-03-29\", \"2012-03-30\", \"2012-03-31\", \"2012-04-01\", \"2012-04-02\", \"2012-04-03\", \"2012-04-04\", \"2012-04-05\", \"2012-04-06\", \"2012-04-07\", \"2012-04-08\", \"2012-04-09\", \"2012-04-10\", \"2012-04-11\", \"2012-04-12\", \"2012-04-13\", \"2012-04-14\", \"2012-04-15\", \"2012-04-16\", \"2012-04-17\", \"2012-04-18\", \"2012-04-19\", \"2012-04-20\", \"2012-04-21\", \"2012-04-22\", \"2012-04-23\", \"2012-04-24\", \"2012-04-25\", \"2012-04-26\", \"2012-04-27\", \"2012-04-28\", \"2012-04-29\", \"2012-04-30\", \"2012-05-01\", \"2012-05-02\", \"2012-05-03\", \"2012-05-04\", \"2012-05-05\", \"2012-05-06\", \"2012-05-07\", \"2012-05-08\", \"2012-05-09\", \"2012-05-10\", \"2012-05-11\", \"2012-05-12\", \"2012-05-13\", \"2012-05-14\", \"2012-05-15\", \"2012-05-16\", \"2012-05-17\", \"2012-05-18\", \"2012-05-19\", \"2012-05-20\", \"2012-05-21\", \"2012-05-22\", \"2012-05-23\", \"2012-05-24\", \"2012-05-25\", \"2012-05-26\", \"2012-05-27\", \"2012-05-28\", \"2012-05-29\", \"2012-05-30\", \"2012-05-31\", \"2012-06-01\", \"2012-06-02\", \"2012-06-03\", \"2012-06-04\", \"2012-06-05\", \"2012-06-06\", \"2012-06-07\", \"2012-06-08\", \"2012-06-09\", \"2012-06-10\", \"2012-06-11\", \"2012-06-12\", \"2012-06-13\", \"2012-06-14\", \"2012-06-15\", \"2012-06-16\", \"2012-06-17\", \"2012-06-18\", \"2012-06-19\", \"2012-06-20\", \"2012-06-21\", \"2012-06-22\", \"2012-06-23\", \"2012-06-24\", \"2012-06-25\", \"2012-06-26\", \"2012-06-27\", \"2012-06-28\", \"2012-06-29\", \"2012-06-30\", \"2012-07-01\", \"2012-07-02\", \"2012-07-03\", \"2012-07-04\", \"2012-07-05\", \"2012-07-06\", \"2012-07-07\", \"2012-07-08\", \"2012-07-09\", \"2012-07-10\", \"2012-07-11\", \"2012-07-12\", \"2012-07-13\", \"2012-07-14\", \"2012-07-15\", \"2012-07-16\", \"2012-07-17\", \"2012-07-18\", \"2012-07-19\", \"2012-07-20\", \"2012-07-21\", \"2012-07-22\", \"2012-07-23\", \"2012-07-24\", \"2012-07-25\", \"2012-07-26\", \"2012-07-27\", \"2012-07-28\", \"2012-07-29\", \"2012-07-30\", \"2012-07-31\", \"2012-08-01\", \"2012-08-02\", \"2012-08-03\", \"2012-08-04\", \"2012-08-05\", \"2012-08-06\", \"2012-08-07\", \"2012-08-08\", \"2012-08-09\", \"2012-08-10\", \"2012-08-11\", \"2012-08-12\", \"2012-08-13\", \"2012-08-14\", \"2012-08-15\", \"2012-08-16\", \"2012-08-17\", \"2012-08-18\", \"2012-08-19\", \"2012-08-20\", \"2012-08-21\", \"2012-08-22\", \"2012-08-23\", \"2012-08-24\", \"2012-08-25\", \"2012-08-26\", \"2012-08-27\", \"2012-08-28\", \"2012-08-29\", \"2012-08-30\", \"2012-08-31\", \"2012-09-01\", \"2012-09-02\", \"2012-09-03\", \"2012-09-04\", \"2012-09-05\", \"2012-09-06\", \"2012-09-07\", \"2012-09-08\", \"2012-09-09\", \"2012-09-10\", \"2012-09-11\", \"2012-09-12\", \"2012-09-13\", \"2012-09-14\", \"2012-09-15\", \"2012-09-16\", \"2012-09-17\", \"2012-09-18\", \"2012-09-19\", \"2012-09-20\", \"2012-09-21\", \"2012-09-22\", \"2012-09-23\", \"2012-09-24\", \"2012-09-25\", \"2012-09-26\", \"2012-09-27\", \"2012-09-28\", \"2012-09-29\", \"2012-09-30\", \"2012-10-01\", \"2012-10-02\", \"2012-10-03\", \"2012-10-04\", \"2012-10-05\", \"2012-10-06\", \"2012-10-07\", \"2012-10-08\", \"2012-10-09\", \"2012-10-10\", \"2012-10-11\", \"2012-10-12\", \"2012-10-13\", \"2012-10-14\", \"2012-10-15\", \"2012-10-16\", \"2012-10-17\", \"2012-10-18\", \"2012-10-19\", \"2012-10-20\", \"2012-10-21\", \"2012-10-22\", \"2012-10-23\", \"2012-10-24\", \"2012-10-25\", \"2012-10-26\", \"2012-10-27\", \"2012-10-28\", \"2012-10-29\", \"2012-10-30\", \"2012-10-31\", \"2012-11-01\", \"2012-11-02\", \"2012-11-03\", \"2012-11-04\", \"2012-11-05\", \"2012-11-06\", \"2012-11-07\", \"2012-11-08\", \"2012-11-09\", \"2012-11-10\", \"2012-11-11\", \"2012-11-12\", \"2012-11-13\", \"2012-11-14\", \"2012-11-15\", \"2012-11-16\", \"2012-11-17\", \"2012-11-18\", \"2012-11-19\", \"2012-11-20\", \"2012-11-21\", \"2012-11-22\", \"2012-11-23\", \"2012-11-24\", \"2012-11-25\", \"2012-11-26\", \"2012-11-27\", \"2012-11-28\", \"2012-11-29\", \"2012-11-30\", \"2012-12-01\", \"2012-12-02\", \"2012-12-03\", \"2012-12-04\", \"2012-12-05\", \"2012-12-06\", \"2012-12-07\", \"2012-12-08\", \"2012-12-09\", \"2012-12-10\", \"2012-12-11\", \"2012-12-12\", \"2012-12-13\", \"2012-12-14\", \"2012-12-15\", \"2012-12-16\", \"2012-12-17\", \"2012-12-18\", \"2012-12-19\", \"2012-12-20\", \"2012-12-21\", \"2012-12-22\", \"2012-12-23\", \"2012-12-24\", \"2012-12-25\", \"2012-12-26\", \"2012-12-27\", \"2012-12-28\", \"2012-12-29\", \"2012-12-30\", \"2012-12-31\"], \"y\": [654, 670, 1229, 1454, 1518, 1518, 1362, 891, 768, 1280, 1220, 1137, 1368, 1367, 1026, 953, 883, 674, 1572, 1844, 1468, 888, 836, 1330, 1799, 472, 416, 1129, 975, 956, 1459, 1313, 1454, 1489, 1620, 905, 1269, 1592, 1466, 1552, 1491, 1597, 1184, 1192, 1705, 1675, 1897, 2216, 2348, 1103, 1173, 912, 1376, 1778, 1707, 1341, 1545, 1708, 1365, 1714, 1903, 1562, 1730, 1437, 491, 1628, 1817, 1700, 577, 1730, 1408, 1435, 1687, 1767, 1871, 2320, 2355, 1693, 1424, 1676, 2243, 1918, 1699, 1910, 1515, 1221, 1806, 2108, 1368, 1506, 1920, 1354, 1598, 2381, 1628, 2395, 2570, 1299, 1576, 1707, 2493, 1777, 1953, 2738, 2484, 674, 2186, 2760, 2795, 3331, 3444, 1506, 2574, 2481, 3300, 3722, 3325, 3489, 3717, 3347, 2213, 3554, 3848, 2378, 3819, 3714, 3102, 2932, 3698, 4109, 3632, 4169, 3413, 2507, 2971, 3185, 3445, 3319, 3840, 4008, 3547, 3084, 3438, 3833, 4238, 3919, 3808, 2757, 2433, 2549, 3309, 3461, 4232, 4414, 3473, 3221, 3875, 4070, 3725, 3352, 3771, 3237, 2993, 4157, 4164, 4411, 3222, 3981, 3312, 3105, 3311, 4061, 3846, 4044, 4022, 3420, 3385, 3854, 3916, 4377, 4488, 4116, 2915, 2367, 2978, 3634, 3845, 3838, 3348, 3348, 3138, 3363, 3596, 3594, 4196, 4220, 3505, 3296, 3617, 3789, 3688, 3152, 2825, 2298, 2556, 3272, 3840, 3901, 3784, 3176, 2916, 2778, 3537, 4044, 3107, 3777, 3843, 2773, 2487, 3480, 3695, 3896, 3980, 3854, 2646, 2482, 3563, 4004, 4026, 3166, 3356, 3277, 2624, 3925, 4614, 4181, 3107, 3893, 889, 2919, 3905, 4429, 4370, 4332, 3852, 2549, 2419, 2115, 2506, 1878, 1689, 3127, 3595, 3413, 4023, 4062, 4138, 3231, 4018, 3077, 2921, 3848, 3203, 3813, 4240, 2137, 3647, 3466, 3946, 3643, 3427, 4186, 4372, 1949, 2302, 3240, 3970, 4267, 4126, 4036, 3174, 3114, 3603, 3896, 2199, 2623, 3115, 3318, 3293, 3857, 4111, 2170, 3724, 3628, 2809, 2762, 3488, 3992, 3490, 2419, 3291, 570, 2446, 3307, 3658, 3816, 3656, 3576, 2770, 2697, 3662, 3829, 3804, 2743, 2928, 2792, 2713, 3891, 3746, 1672, 2914, 3147, 2720, 2733, 2545, 1538, 2454, 935, 1697, 1819, 2261, 3614, 2818, 3425, 3545, 3672, 2908, 2851, 3578, 2468, 655, 3172, 3359, 2688, 2366, 3167, 3368, 3562, 3528, 3399, 2464, 2211, 3143, 3534, 2553, 2841, 2046, 856, 451, 887, 1059, 2047, 2169, 2508, 1820, 1608, 1707, 2147, 2273, 3132, 3791, 3451, 2826, 2270, 3425, 2085, 3828, 3040, 2160, 2027, 2081, 2808, 3267, 3162, 3048, 1234, 1781, 2287, 3900, 3803, 3831, 3187, 3248, 2685, 3498, 4185, 4275, 3571, 3841, 2448, 2629, 3578, 4176, 2693, 3667, 3604, 1977, 1456, 3328, 3787, 4028, 2931, 3805, 2883, 2071, 2627, 3614, 4379, 4546, 3241, 2415, 2874, 4069, 4134, 1769, 4665, 2948, 3110, 2713, 3130, 3735, 4484, 4896, 4122, 3150, 3253, 4460, 5085, 5315, 5187, 3830, 4681, 3685, 5171, 5042, 5108, 5537, 5893, 2339, 3464, 4763, 4571, 5024, 5299, 4663, 3934, 3694, 4728, 5424, 5378, 5265, 4653, 3605, 2939, 4680, 5099, 4380, 4746, 5146, 4665, 4286, 5172, 5702, 4020, 5719, 5950, 4083, 907, 3019, 5115, 5541, 4551, 5219, 3100, 4075, 4907, 5087, 5502, 5657, 5227, 4387, 4224, 5265, 4990, 4097, 5546, 5711, 4807, 3946, 2501, 4490, 6433, 6142, 6118, 4884, 4425, 3729, 5254, 4494, 5711, 5317, 3681, 3308, 3486, 4863, 6110, 6238, 3594, 5325, 5147, 5927, 6033, 6028, 6456, 6248, 4790, 4374, 5647, 4495, 6248, 6183, 6102, 4739, 4344, 4446, 5857, 5339, 5127, 4859, 4801, 4340, 5640, 6365, 6258, 5958, 4634, 4232, 4110, 5323, 5608, 4841, 4836, 4841, 3392, 3469, 5571, 5336, 6289, 6414, 5988, 4614, 4111, 5742, 5865, 4914, 5703, 5123, 3195, 4866, 5831, 6452, 6790, 5825, 5645, 4451, 4444, 6065, 6248, 6506, 6278, 5847, 4479, 3757, 5780, 5995, 6271, 6090, 4721, 4052, 4362, 5676, 5656, 6149, 6267, 5665, 5038, 3341, 5504, 5925, 6281, 6402, 6257, 4224, 3772, 5928, 6105, 6520, 6541, 5917, 3788, 3197, 4069, 5997, 6280, 5592, 6459, 4419, 5657, 6407, 6697, 6820, 6750, 6630, 5554, 5167, 5847, 3702, 6803, 6781, 6917, 5883, 5453, 6435, 6693, 6946, 6642, 6370, 5966, 4874, 6015, 4324, 6844, 6437, 6640, 4934, 2729, 4604, 5791, 6911, 6736, 6222, 4857, 4559, 5115, 6612, 6482, 6501, 4671, 5284, 4692, 6228, 6625, 6898, 6484, 6262, 5209, 3461, 20, 1009, 5147, 5520, 5229, 4109, 3906, 4881, 5220, 4709, 4975, 5283, 4446, 4562, 5172, 3767, 5122, 5125, 5214, 4316, 3747, 5050, 5100, 4531, 1470, 2307, 1745, 2115, 4750, 3836, 5062, 5080, 5306, 4240, 3757, 5679, 6055, 5398, 5035, 4659, 4429, 2787, 4841, 5219, 5009, 5107, 5182, 4280, 3248, 4373, 5124, 4934, 3814, 3402, 1544, 1379, 746, 573, 432, 1867, 2451, 1182, 1432, 2290]}, {\"marker\": {\"color\": \"rgba(55, 128, 191, 0.6)\", \"line\": {\"color\": \"rgba(55, 128, 191, 1.0)\", \"width\": 1}}, \"name\": \"casual\", \"orientation\": \"v\", \"text\": \"\", \"type\": \"bar\", \"x\": [\"2011-01-01\", \"2011-01-02\", \"2011-01-03\", \"2011-01-04\", \"2011-01-05\", \"2011-01-06\", \"2011-01-07\", \"2011-01-08\", \"2011-01-09\", \"2011-01-10\", \"2011-01-11\", \"2011-01-12\", \"2011-01-13\", \"2011-01-14\", \"2011-01-15\", \"2011-01-16\", \"2011-01-17\", \"2011-01-18\", \"2011-01-19\", \"2011-01-20\", \"2011-01-21\", \"2011-01-22\", \"2011-01-23\", \"2011-01-24\", \"2011-01-25\", \"2011-01-26\", \"2011-01-27\", \"2011-01-28\", \"2011-01-29\", \"2011-01-30\", \"2011-01-31\", \"2011-02-01\", \"2011-02-02\", \"2011-02-03\", \"2011-02-04\", \"2011-02-05\", \"2011-02-06\", \"2011-02-07\", \"2011-02-08\", \"2011-02-09\", \"2011-02-10\", \"2011-02-11\", \"2011-02-12\", \"2011-02-13\", \"2011-02-14\", \"2011-02-15\", \"2011-02-16\", \"2011-02-17\", \"2011-02-18\", \"2011-02-19\", \"2011-02-20\", \"2011-02-21\", \"2011-02-22\", \"2011-02-23\", \"2011-02-24\", \"2011-02-25\", \"2011-02-26\", \"2011-02-27\", \"2011-02-28\", \"2011-03-01\", \"2011-03-02\", \"2011-03-03\", \"2011-03-04\", \"2011-03-05\", \"2011-03-06\", \"2011-03-07\", \"2011-03-08\", \"2011-03-09\", \"2011-03-10\", \"2011-03-11\", \"2011-03-12\", \"2011-03-13\", \"2011-03-14\", \"2011-03-15\", \"2011-03-16\", \"2011-03-17\", \"2011-03-18\", \"2011-03-19\", \"2011-03-20\", \"2011-03-21\", \"2011-03-22\", \"2011-03-23\", \"2011-03-24\", \"2011-03-25\", \"2011-03-26\", \"2011-03-27\", \"2011-03-28\", \"2011-03-29\", \"2011-03-30\", \"2011-03-31\", \"2011-04-01\", \"2011-04-02\", \"2011-04-03\", \"2011-04-04\", \"2011-04-05\", \"2011-04-06\", \"2011-04-07\", \"2011-04-08\", \"2011-04-09\", \"2011-04-10\", \"2011-04-11\", \"2011-04-12\", \"2011-04-13\", \"2011-04-14\", \"2011-04-15\", \"2011-04-16\", \"2011-04-17\", \"2011-04-18\", \"2011-04-19\", \"2011-04-20\", \"2011-04-21\", \"2011-04-22\", \"2011-04-23\", \"2011-04-24\", \"2011-04-25\", \"2011-04-26\", \"2011-04-27\", \"2011-04-28\", \"2011-04-29\", \"2011-04-30\", \"2011-05-01\", \"2011-05-02\", \"2011-05-03\", \"2011-05-04\", \"2011-05-05\", \"2011-05-06\", \"2011-05-07\", \"2011-05-08\", \"2011-05-09\", \"2011-05-10\", \"2011-05-11\", \"2011-05-12\", \"2011-05-13\", \"2011-05-14\", \"2011-05-15\", \"2011-05-16\", \"2011-05-17\", \"2011-05-18\", \"2011-05-19\", \"2011-05-20\", \"2011-05-21\", \"2011-05-22\", \"2011-05-23\", \"2011-05-24\", \"2011-05-25\", \"2011-05-26\", \"2011-05-27\", \"2011-05-28\", \"2011-05-29\", \"2011-05-30\", \"2011-05-31\", \"2011-06-01\", \"2011-06-02\", \"2011-06-03\", \"2011-06-04\", \"2011-06-05\", \"2011-06-06\", \"2011-06-07\", \"2011-06-08\", \"2011-06-09\", \"2011-06-10\", \"2011-06-11\", \"2011-06-12\", \"2011-06-13\", \"2011-06-14\", \"2011-06-15\", \"2011-06-16\", \"2011-06-17\", \"2011-06-18\", \"2011-06-19\", \"2011-06-20\", \"2011-06-21\", \"2011-06-22\", \"2011-06-23\", \"2011-06-24\", \"2011-06-25\", \"2011-06-26\", \"2011-06-27\", \"2011-06-28\", \"2011-06-29\", \"2011-06-30\", \"2011-07-01\", \"2011-07-02\", \"2011-07-03\", \"2011-07-04\", \"2011-07-05\", \"2011-07-06\", \"2011-07-07\", \"2011-07-08\", \"2011-07-09\", \"2011-07-10\", \"2011-07-11\", \"2011-07-12\", \"2011-07-13\", \"2011-07-14\", \"2011-07-15\", \"2011-07-16\", \"2011-07-17\", \"2011-07-18\", \"2011-07-19\", \"2011-07-20\", \"2011-07-21\", \"2011-07-22\", \"2011-07-23\", \"2011-07-24\", \"2011-07-25\", \"2011-07-26\", \"2011-07-27\", \"2011-07-28\", \"2011-07-29\", \"2011-07-30\", \"2011-07-31\", \"2011-08-01\", \"2011-08-02\", \"2011-08-03\", \"2011-08-04\", \"2011-08-05\", \"2011-08-06\", \"2011-08-07\", \"2011-08-08\", \"2011-08-09\", \"2011-08-10\", \"2011-08-11\", \"2011-08-12\", \"2011-08-13\", \"2011-08-14\", \"2011-08-15\", \"2011-08-16\", \"2011-08-17\", \"2011-08-18\", \"2011-08-19\", \"2011-08-20\", \"2011-08-21\", \"2011-08-22\", \"2011-08-23\", \"2011-08-24\", \"2011-08-25\", \"2011-08-26\", \"2011-08-27\", \"2011-08-28\", \"2011-08-29\", \"2011-08-30\", \"2011-08-31\", \"2011-09-01\", \"2011-09-02\", \"2011-09-03\", \"2011-09-04\", \"2011-09-05\", \"2011-09-06\", \"2011-09-07\", \"2011-09-08\", \"2011-09-09\", \"2011-09-10\", \"2011-09-11\", \"2011-09-12\", \"2011-09-13\", \"2011-09-14\", \"2011-09-15\", \"2011-09-16\", \"2011-09-17\", \"2011-09-18\", \"2011-09-19\", \"2011-09-20\", \"2011-09-21\", \"2011-09-22\", \"2011-09-23\", \"2011-09-24\", \"2011-09-25\", \"2011-09-26\", \"2011-09-27\", \"2011-09-28\", \"2011-09-29\", \"2011-09-30\", \"2011-10-01\", \"2011-10-02\", \"2011-10-03\", \"2011-10-04\", \"2011-10-05\", \"2011-10-06\", \"2011-10-07\", \"2011-10-08\", \"2011-10-09\", \"2011-10-10\", \"2011-10-11\", \"2011-10-12\", \"2011-10-13\", \"2011-10-14\", \"2011-10-15\", \"2011-10-16\", \"2011-10-17\", \"2011-10-18\", \"2011-10-19\", \"2011-10-20\", \"2011-10-21\", \"2011-10-22\", \"2011-10-23\", \"2011-10-24\", \"2011-10-25\", \"2011-10-26\", \"2011-10-27\", \"2011-10-28\", \"2011-10-29\", \"2011-10-30\", \"2011-10-31\", \"2011-11-01\", \"2011-11-02\", \"2011-11-03\", \"2011-11-04\", \"2011-11-05\", \"2011-11-06\", \"2011-11-07\", \"2011-11-08\", \"2011-11-09\", \"2011-11-10\", \"2011-11-11\", \"2011-11-12\", \"2011-11-13\", \"2011-11-14\", \"2011-11-15\", \"2011-11-16\", \"2011-11-17\", \"2011-11-18\", \"2011-11-19\", \"2011-11-20\", \"2011-11-21\", \"2011-11-22\", \"2011-11-23\", \"2011-11-24\", \"2011-11-25\", \"2011-11-26\", \"2011-11-27\", \"2011-11-28\", \"2011-11-29\", \"2011-11-30\", \"2011-12-01\", \"2011-12-02\", \"2011-12-03\", \"2011-12-04\", \"2011-12-05\", \"2011-12-06\", \"2011-12-07\", \"2011-12-08\", \"2011-12-09\", \"2011-12-10\", \"2011-12-11\", \"2011-12-12\", \"2011-12-13\", \"2011-12-14\", \"2011-12-15\", \"2011-12-16\", \"2011-12-17\", \"2011-12-18\", \"2011-12-19\", \"2011-12-20\", \"2011-12-21\", \"2011-12-22\", \"2011-12-23\", \"2011-12-24\", \"2011-12-25\", \"2011-12-26\", \"2011-12-27\", \"2011-12-28\", \"2011-12-29\", \"2011-12-30\", \"2011-12-31\", \"2012-01-01\", \"2012-01-02\", \"2012-01-03\", \"2012-01-04\", \"2012-01-05\", \"2012-01-06\", \"2012-01-07\", \"2012-01-08\", \"2012-01-09\", \"2012-01-10\", \"2012-01-11\", \"2012-01-12\", \"2012-01-13\", \"2012-01-14\", \"2012-01-15\", \"2012-01-16\", \"2012-01-17\", \"2012-01-18\", \"2012-01-19\", \"2012-01-20\", \"2012-01-21\", \"2012-01-22\", \"2012-01-23\", \"2012-01-24\", \"2012-01-25\", \"2012-01-26\", \"2012-01-27\", \"2012-01-28\", \"2012-01-29\", \"2012-01-30\", \"2012-01-31\", \"2012-02-01\", \"2012-02-02\", \"2012-02-03\", \"2012-02-04\", \"2012-02-05\", \"2012-02-06\", \"2012-02-07\", \"2012-02-08\", \"2012-02-09\", \"2012-02-10\", \"2012-02-11\", \"2012-02-12\", \"2012-02-13\", \"2012-02-14\", \"2012-02-15\", \"2012-02-16\", \"2012-02-17\", \"2012-02-18\", \"2012-02-19\", \"2012-02-20\", \"2012-02-21\", \"2012-02-22\", \"2012-02-23\", \"2012-02-24\", \"2012-02-25\", \"2012-02-26\", \"2012-02-27\", \"2012-02-28\", \"2012-02-29\", \"2012-03-01\", \"2012-03-02\", \"2012-03-03\", \"2012-03-04\", \"2012-03-05\", \"2012-03-06\", \"2012-03-07\", \"2012-03-08\", \"2012-03-09\", \"2012-03-10\", \"2012-03-11\", \"2012-03-12\", \"2012-03-13\", \"2012-03-14\", \"2012-03-15\", \"2012-03-16\", \"2012-03-17\", \"2012-03-18\", \"2012-03-19\", \"2012-03-20\", \"2012-03-21\", \"2012-03-22\", \"2012-03-23\", \"2012-03-24\", \"2012-03-25\", \"2012-03-26\", \"2012-03-27\", \"2012-03-28\", \"2012-03-29\", \"2012-03-30\", \"2012-03-31\", \"2012-04-01\", \"2012-04-02\", \"2012-04-03\", \"2012-04-04\", \"2012-04-05\", \"2012-04-06\", \"2012-04-07\", \"2012-04-08\", \"2012-04-09\", \"2012-04-10\", \"2012-04-11\", \"2012-04-12\", \"2012-04-13\", \"2012-04-14\", \"2012-04-15\", \"2012-04-16\", \"2012-04-17\", \"2012-04-18\", \"2012-04-19\", \"2012-04-20\", \"2012-04-21\", \"2012-04-22\", \"2012-04-23\", \"2012-04-24\", \"2012-04-25\", \"2012-04-26\", \"2012-04-27\", \"2012-04-28\", \"2012-04-29\", \"2012-04-30\", \"2012-05-01\", \"2012-05-02\", \"2012-05-03\", \"2012-05-04\", \"2012-05-05\", \"2012-05-06\", \"2012-05-07\", \"2012-05-08\", \"2012-05-09\", \"2012-05-10\", \"2012-05-11\", \"2012-05-12\", \"2012-05-13\", \"2012-05-14\", \"2012-05-15\", \"2012-05-16\", \"2012-05-17\", \"2012-05-18\", \"2012-05-19\", \"2012-05-20\", \"2012-05-21\", \"2012-05-22\", \"2012-05-23\", \"2012-05-24\", \"2012-05-25\", \"2012-05-26\", \"2012-05-27\", \"2012-05-28\", \"2012-05-29\", \"2012-05-30\", \"2012-05-31\", \"2012-06-01\", \"2012-06-02\", \"2012-06-03\", \"2012-06-04\", \"2012-06-05\", \"2012-06-06\", \"2012-06-07\", \"2012-06-08\", \"2012-06-09\", \"2012-06-10\", \"2012-06-11\", \"2012-06-12\", \"2012-06-13\", \"2012-06-14\", \"2012-06-15\", \"2012-06-16\", \"2012-06-17\", \"2012-06-18\", \"2012-06-19\", \"2012-06-20\", \"2012-06-21\", \"2012-06-22\", \"2012-06-23\", \"2012-06-24\", \"2012-06-25\", \"2012-06-26\", \"2012-06-27\", \"2012-06-28\", \"2012-06-29\", \"2012-06-30\", \"2012-07-01\", \"2012-07-02\", \"2012-07-03\", \"2012-07-04\", \"2012-07-05\", \"2012-07-06\", \"2012-07-07\", \"2012-07-08\", \"2012-07-09\", \"2012-07-10\", \"2012-07-11\", \"2012-07-12\", \"2012-07-13\", \"2012-07-14\", \"2012-07-15\", \"2012-07-16\", \"2012-07-17\", \"2012-07-18\", \"2012-07-19\", \"2012-07-20\", \"2012-07-21\", \"2012-07-22\", \"2012-07-23\", \"2012-07-24\", \"2012-07-25\", \"2012-07-26\", \"2012-07-27\", \"2012-07-28\", \"2012-07-29\", \"2012-07-30\", \"2012-07-31\", \"2012-08-01\", \"2012-08-02\", \"2012-08-03\", \"2012-08-04\", \"2012-08-05\", \"2012-08-06\", \"2012-08-07\", \"2012-08-08\", \"2012-08-09\", \"2012-08-10\", \"2012-08-11\", \"2012-08-12\", \"2012-08-13\", \"2012-08-14\", \"2012-08-15\", \"2012-08-16\", \"2012-08-17\", \"2012-08-18\", \"2012-08-19\", \"2012-08-20\", \"2012-08-21\", \"2012-08-22\", \"2012-08-23\", \"2012-08-24\", \"2012-08-25\", \"2012-08-26\", \"2012-08-27\", \"2012-08-28\", \"2012-08-29\", \"2012-08-30\", \"2012-08-31\", \"2012-09-01\", \"2012-09-02\", \"2012-09-03\", \"2012-09-04\", \"2012-09-05\", \"2012-09-06\", \"2012-09-07\", \"2012-09-08\", \"2012-09-09\", \"2012-09-10\", \"2012-09-11\", \"2012-09-12\", \"2012-09-13\", \"2012-09-14\", \"2012-09-15\", \"2012-09-16\", \"2012-09-17\", \"2012-09-18\", \"2012-09-19\", \"2012-09-20\", \"2012-09-21\", \"2012-09-22\", \"2012-09-23\", \"2012-09-24\", \"2012-09-25\", \"2012-09-26\", \"2012-09-27\", \"2012-09-28\", \"2012-09-29\", \"2012-09-30\", \"2012-10-01\", \"2012-10-02\", \"2012-10-03\", \"2012-10-04\", \"2012-10-05\", \"2012-10-06\", \"2012-10-07\", \"2012-10-08\", \"2012-10-09\", \"2012-10-10\", \"2012-10-11\", \"2012-10-12\", \"2012-10-13\", \"2012-10-14\", \"2012-10-15\", \"2012-10-16\", \"2012-10-17\", \"2012-10-18\", \"2012-10-19\", \"2012-10-20\", \"2012-10-21\", \"2012-10-22\", \"2012-10-23\", \"2012-10-24\", \"2012-10-25\", \"2012-10-26\", \"2012-10-27\", \"2012-10-28\", \"2012-10-29\", \"2012-10-30\", \"2012-10-31\", \"2012-11-01\", \"2012-11-02\", \"2012-11-03\", \"2012-11-04\", \"2012-11-05\", \"2012-11-06\", \"2012-11-07\", \"2012-11-08\", \"2012-11-09\", \"2012-11-10\", \"2012-11-11\", \"2012-11-12\", \"2012-11-13\", \"2012-11-14\", \"2012-11-15\", \"2012-11-16\", \"2012-11-17\", \"2012-11-18\", \"2012-11-19\", \"2012-11-20\", \"2012-11-21\", \"2012-11-22\", \"2012-11-23\", \"2012-11-24\", \"2012-11-25\", \"2012-11-26\", \"2012-11-27\", \"2012-11-28\", \"2012-11-29\", \"2012-11-30\", \"2012-12-01\", \"2012-12-02\", \"2012-12-03\", \"2012-12-04\", \"2012-12-05\", \"2012-12-06\", \"2012-12-07\", \"2012-12-08\", \"2012-12-09\", \"2012-12-10\", \"2012-12-11\", \"2012-12-12\", \"2012-12-13\", \"2012-12-14\", \"2012-12-15\", \"2012-12-16\", \"2012-12-17\", \"2012-12-18\", \"2012-12-19\", \"2012-12-20\", \"2012-12-21\", \"2012-12-22\", \"2012-12-23\", \"2012-12-24\", \"2012-12-25\", \"2012-12-26\", \"2012-12-27\", \"2012-12-28\", \"2012-12-29\", \"2012-12-30\", \"2012-12-31\"], \"y\": [331, 131, 120, 108, 82, 88, 148, 68, 54, 41, 43, 25, 38, 54, 222, 251, 117, 9, 78, 83, 75, 93, 150, 86, 186, 34, 15, 38, 123, 140, 42, 47, 72, 61, 88, 100, 354, 120, 64, 53, 47, 149, 288, 397, 208, 140, 218, 259, 579, 532, 639, 195, 74, 139, 100, 120, 424, 694, 81, 137, 231, 123, 214, 640, 114, 244, 316, 191, 46, 247, 724, 982, 359, 289, 321, 424, 884, 1424, 1047, 401, 460, 203, 166, 300, 981, 472, 222, 317, 168, 179, 307, 898, 1651, 734, 167, 413, 571, 172, 879, 1188, 855, 257, 209, 529, 642, 121, 1558, 669, 409, 613, 745, 177, 1462, 1710, 773, 678, 547, 569, 878, 1965, 1138, 847, 603, 255, 614, 894, 1612, 1401, 664, 694, 550, 695, 692, 902, 1582, 773, 678, 536, 735, 909, 2258, 1576, 836, 659, 740, 758, 871, 2001, 2355, 1549, 673, 513, 736, 898, 1869, 1685, 673, 763, 676, 563, 815, 1729, 1467, 863, 727, 769, 545, 863, 1807, 1639, 699, 774, 661, 746, 969, 1782, 1920, 854, 732, 848, 1027, 1246, 2204, 2282, 3065, 1031, 784, 754, 692, 1988, 1743, 723, 662, 748, 888, 1318, 2418, 2006, 841, 752, 644, 632, 562, 987, 1050, 568, 750, 755, 606, 670, 1559, 1524, 729, 801, 467, 799, 1023, 1521, 1298, 846, 907, 884, 812, 1051, 1504, 1338, 775, 721, 668, 639, 797, 1914, 1249, 833, 1281, 949, 435, 768, 226, 1415, 729, 775, 688, 783, 875, 1935, 2521, 1236, 204, 118, 153, 417, 1750, 1633, 690, 701, 647, 428, 742, 1434, 1353, 691, 438, 539, 555, 258, 1776, 1544, 684, 477, 480, 653, 830, 480, 616, 330, 486, 559, 639, 949, 2235, 2397, 1514, 667, 217, 290, 529, 1899, 1748, 713, 637, 254, 471, 676, 1499, 1619, 699, 695, 404, 240, 456, 57, 885, 362, 410, 370, 318, 470, 1156, 952, 373, 376, 305, 190, 440, 1275, 1004, 595, 449, 145, 139, 245, 943, 787, 220, 69, 112, 560, 1095, 1249, 810, 253, 96, 188, 182, 268, 706, 634, 233, 126, 50, 150, 261, 502, 377, 143, 155, 178, 181, 178, 275, 220, 260, 216, 107, 227, 163, 155, 303, 430, 103, 255, 254, 491, 665, 686, 244, 89, 95, 140, 307, 1070, 599, 106, 173, 92, 269, 174, 333, 284, 217, 127, 109, 130, 115, 67, 196, 145, 439, 467, 244, 269, 775, 558, 126, 324, 304, 190, 310, 384, 318, 206, 199, 109, 163, 227, 192, 73, 94, 135, 141, 74, 349, 1435, 618, 502, 163, 394, 516, 246, 317, 515, 253, 229, 65, 325, 246, 956, 710, 203, 221, 432, 486, 447, 968, 1658, 838, 762, 997, 1005, 548, 3155, 2207, 982, 1051, 1122, 1334, 2469, 1033, 1532, 795, 531, 674, 834, 796, 2301, 2347, 1208, 1348, 1058, 1192, 1807, 3252, 2230, 905, 819, 482, 663, 1252, 2795, 2846, 1198, 989, 347, 846, 1340, 2541, 120, 195, 518, 655, 475, 1014, 1120, 2229, 665, 653, 667, 764, 1069, 2496, 2135, 1008, 738, 620, 1026, 1319, 2622, 2172, 342, 625, 991, 1242, 1521, 3410, 2704, 630, 819, 766, 1059, 1417, 2855, 3283, 2557, 880, 745, 1100, 533, 2795, 2494, 1071, 968, 1027, 1038, 1488, 2708, 2224, 1017, 477, 1173, 1180, 1563, 2963, 2634, 653, 968, 872, 778, 964, 2657, 2551, 1139, 1077, 1077, 921, 829, 1455, 1421, 904, 1052, 2562, 1405, 1366, 1448, 1203, 998, 954, 975, 1032, 1511, 2355, 1920, 1088, 921, 799, 888, 747, 1264, 2544, 1135, 1140, 1383, 1036, 1259, 2234, 2153, 1040, 968, 1074, 983, 1328, 2345, 1707, 1233, 1278, 1263, 1196, 1065, 2247, 2182, 1207, 1128, 1198, 1338, 1483, 2827, 1208, 1026, 1081, 1094, 1363, 1325, 1829, 1483, 989, 935, 1177, 1172, 1433, 2352, 2613, 1965, 867, 832, 611, 1045, 1557, 2570, 1118, 1070, 1050, 1054, 1379, 3160, 2166, 1022, 371, 788, 939, 1250, 2512, 2454, 1001, 845, 787, 751, 1045, 2589, 2015, 763, 315, 728, 891, 1516, 3031, 781, 874, 601, 780, 834, 1060, 2252, 2080, 760, 922, 979, 1008, 753, 2806, 2132, 830, 841, 795, 875, 1182, 2643, 998, 2, 87, 419, 466, 618, 1029, 1201, 378, 466, 326, 340, 709, 2090, 2290, 1097, 327, 373, 320, 484, 1313, 922, 449, 534, 615, 955, 1603, 532, 309, 337, 123, 198, 243, 362, 951, 892, 555, 551, 331, 340, 349, 1153, 441, 329, 282, 310, 425, 429, 767, 538, 212, 433, 333, 314, 221, 205, 408, 174, 440, 9, 247, 644, 159, 364, 439]}],                        {\"legend\": {\"bgcolor\": \"#F5F6F9\", \"font\": {\"color\": \"#4D5663\"}}, \"paper_bgcolor\": \"#F5F6F9\", \"plot_bgcolor\": \"#F5F6F9\", \"template\": {\"data\": {\"bar\": [{\"error_x\": {\"color\": \"#2a3f5f\"}, \"error_y\": {\"color\": \"#2a3f5f\"}, \"marker\": {\"line\": {\"color\": \"#E5ECF6\", \"width\": 0.5}}, \"type\": \"bar\"}], \"barpolar\": [{\"marker\": {\"line\": {\"color\": \"#E5ECF6\", \"width\": 0.5}}, \"type\": \"barpolar\"}], \"carpet\": [{\"aaxis\": {\"endlinecolor\": \"#2a3f5f\", \"gridcolor\": \"white\", \"linecolor\": \"white\", \"minorgridcolor\": \"white\", \"startlinecolor\": \"#2a3f5f\"}, \"baxis\": {\"endlinecolor\": \"#2a3f5f\", \"gridcolor\": \"white\", \"linecolor\": \"white\", \"minorgridcolor\": \"white\", \"startlinecolor\": \"#2a3f5f\"}, \"type\": \"carpet\"}], \"choropleth\": [{\"colorbar\": {\"outlinewidth\": 0, \"ticks\": \"\"}, \"type\": \"choropleth\"}], \"contour\": [{\"colorbar\": {\"outlinewidth\": 0, \"ticks\": \"\"}, \"colorscale\": [[0.0, \"#0d0887\"], [0.1111111111111111, \"#46039f\"], [0.2222222222222222, \"#7201a8\"], [0.3333333333333333, \"#9c179e\"], [0.4444444444444444, \"#bd3786\"], [0.5555555555555556, \"#d8576b\"], [0.6666666666666666, \"#ed7953\"], [0.7777777777777778, \"#fb9f3a\"], [0.8888888888888888, \"#fdca26\"], [1.0, \"#f0f921\"]], \"type\": \"contour\"}], \"contourcarpet\": [{\"colorbar\": {\"outlinewidth\": 0, \"ticks\": \"\"}, \"type\": \"contourcarpet\"}], \"heatmap\": [{\"colorbar\": {\"outlinewidth\": 0, \"ticks\": \"\"}, \"colorscale\": [[0.0, \"#0d0887\"], [0.1111111111111111, \"#46039f\"], [0.2222222222222222, \"#7201a8\"], [0.3333333333333333, \"#9c179e\"], [0.4444444444444444, \"#bd3786\"], [0.5555555555555556, \"#d8576b\"], [0.6666666666666666, \"#ed7953\"], [0.7777777777777778, \"#fb9f3a\"], [0.8888888888888888, \"#fdca26\"], [1.0, \"#f0f921\"]], \"type\": \"heatmap\"}], \"heatmapgl\": [{\"colorbar\": {\"outlinewidth\": 0, \"ticks\": \"\"}, \"colorscale\": [[0.0, \"#0d0887\"], [0.1111111111111111, \"#46039f\"], [0.2222222222222222, \"#7201a8\"], [0.3333333333333333, \"#9c179e\"], [0.4444444444444444, \"#bd3786\"], [0.5555555555555556, \"#d8576b\"], [0.6666666666666666, \"#ed7953\"], [0.7777777777777778, \"#fb9f3a\"], [0.8888888888888888, \"#fdca26\"], [1.0, \"#f0f921\"]], \"type\": \"heatmapgl\"}], \"histogram\": [{\"marker\": {\"colorbar\": {\"outlinewidth\": 0, \"ticks\": \"\"}}, \"type\": \"histogram\"}], \"histogram2d\": [{\"colorbar\": {\"outlinewidth\": 0, \"ticks\": \"\"}, \"colorscale\": [[0.0, \"#0d0887\"], [0.1111111111111111, \"#46039f\"], [0.2222222222222222, \"#7201a8\"], [0.3333333333333333, \"#9c179e\"], [0.4444444444444444, \"#bd3786\"], [0.5555555555555556, \"#d8576b\"], [0.6666666666666666, \"#ed7953\"], [0.7777777777777778, \"#fb9f3a\"], [0.8888888888888888, \"#fdca26\"], [1.0, \"#f0f921\"]], \"type\": \"histogram2d\"}], \"histogram2dcontour\": [{\"colorbar\": {\"outlinewidth\": 0, \"ticks\": \"\"}, \"colorscale\": [[0.0, \"#0d0887\"], [0.1111111111111111, \"#46039f\"], [0.2222222222222222, \"#7201a8\"], [0.3333333333333333, \"#9c179e\"], [0.4444444444444444, \"#bd3786\"], [0.5555555555555556, \"#d8576b\"], [0.6666666666666666, \"#ed7953\"], [0.7777777777777778, \"#fb9f3a\"], [0.8888888888888888, \"#fdca26\"], [1.0, \"#f0f921\"]], \"type\": \"histogram2dcontour\"}], \"mesh3d\": [{\"colorbar\": {\"outlinewidth\": 0, \"ticks\": \"\"}, \"type\": \"mesh3d\"}], \"parcoords\": [{\"line\": {\"colorbar\": {\"outlinewidth\": 0, \"ticks\": \"\"}}, \"type\": \"parcoords\"}], \"pie\": [{\"automargin\": true, \"type\": \"pie\"}], \"scatter\": [{\"marker\": {\"colorbar\": {\"outlinewidth\": 0, \"ticks\": \"\"}}, \"type\": \"scatter\"}], \"scatter3d\": [{\"line\": {\"colorbar\": {\"outlinewidth\": 0, \"ticks\": \"\"}}, \"marker\": {\"colorbar\": {\"outlinewidth\": 0, \"ticks\": \"\"}}, \"type\": \"scatter3d\"}], \"scattercarpet\": [{\"marker\": {\"colorbar\": {\"outlinewidth\": 0, \"ticks\": \"\"}}, \"type\": \"scattercarpet\"}], \"scattergeo\": [{\"marker\": {\"colorbar\": {\"outlinewidth\": 0, \"ticks\": \"\"}}, \"type\": \"scattergeo\"}], \"scattergl\": [{\"marker\": {\"colorbar\": {\"outlinewidth\": 0, \"ticks\": \"\"}}, \"type\": \"scattergl\"}], \"scattermapbox\": [{\"marker\": {\"colorbar\": {\"outlinewidth\": 0, \"ticks\": \"\"}}, \"type\": \"scattermapbox\"}], \"scatterpolar\": [{\"marker\": {\"colorbar\": {\"outlinewidth\": 0, \"ticks\": \"\"}}, \"type\": \"scatterpolar\"}], \"scatterpolargl\": [{\"marker\": {\"colorbar\": {\"outlinewidth\": 0, \"ticks\": \"\"}}, \"type\": \"scatterpolargl\"}], \"scatterternary\": [{\"marker\": {\"colorbar\": {\"outlinewidth\": 0, \"ticks\": \"\"}}, \"type\": \"scatterternary\"}], \"surface\": [{\"colorbar\": {\"outlinewidth\": 0, \"ticks\": \"\"}, \"colorscale\": [[0.0, \"#0d0887\"], [0.1111111111111111, \"#46039f\"], [0.2222222222222222, \"#7201a8\"], [0.3333333333333333, \"#9c179e\"], [0.4444444444444444, \"#bd3786\"], [0.5555555555555556, \"#d8576b\"], [0.6666666666666666, \"#ed7953\"], [0.7777777777777778, \"#fb9f3a\"], [0.8888888888888888, \"#fdca26\"], [1.0, \"#f0f921\"]], \"type\": \"surface\"}], \"table\": [{\"cells\": {\"fill\": {\"color\": \"#EBF0F8\"}, \"line\": {\"color\": \"white\"}}, \"header\": {\"fill\": {\"color\": \"#C8D4E3\"}, \"line\": {\"color\": \"white\"}}, \"type\": \"table\"}]}, \"layout\": {\"annotationdefaults\": {\"arrowcolor\": \"#2a3f5f\", \"arrowhead\": 0, \"arrowwidth\": 1}, \"coloraxis\": {\"colorbar\": {\"outlinewidth\": 0, \"ticks\": \"\"}}, \"colorscale\": {\"diverging\": [[0, \"#8e0152\"], [0.1, \"#c51b7d\"], [0.2, \"#de77ae\"], [0.3, \"#f1b6da\"], [0.4, \"#fde0ef\"], [0.5, \"#f7f7f7\"], [0.6, \"#e6f5d0\"], [0.7, \"#b8e186\"], [0.8, \"#7fbc41\"], [0.9, \"#4d9221\"], [1, \"#276419\"]], \"sequential\": [[0.0, \"#0d0887\"], [0.1111111111111111, \"#46039f\"], [0.2222222222222222, \"#7201a8\"], [0.3333333333333333, \"#9c179e\"], [0.4444444444444444, \"#bd3786\"], [0.5555555555555556, \"#d8576b\"], [0.6666666666666666, \"#ed7953\"], [0.7777777777777778, \"#fb9f3a\"], [0.8888888888888888, \"#fdca26\"], [1.0, \"#f0f921\"]], \"sequentialminus\": [[0.0, \"#0d0887\"], [0.1111111111111111, \"#46039f\"], [0.2222222222222222, \"#7201a8\"], [0.3333333333333333, \"#9c179e\"], [0.4444444444444444, \"#bd3786\"], [0.5555555555555556, \"#d8576b\"], [0.6666666666666666, \"#ed7953\"], [0.7777777777777778, \"#fb9f3a\"], [0.8888888888888888, \"#fdca26\"], [1.0, \"#f0f921\"]]}, \"colorway\": [\"#636efa\", \"#EF553B\", \"#00cc96\", \"#ab63fa\", \"#FFA15A\", \"#19d3f3\", \"#FF6692\", \"#B6E880\", \"#FF97FF\", \"#FECB52\"], \"font\": {\"color\": \"#2a3f5f\"}, \"geo\": {\"bgcolor\": \"white\", \"lakecolor\": \"white\", \"landcolor\": \"#E5ECF6\", \"showlakes\": true, \"showland\": true, \"subunitcolor\": \"white\"}, \"hoverlabel\": {\"align\": \"left\"}, \"hovermode\": \"closest\", \"mapbox\": {\"style\": \"light\"}, \"paper_bgcolor\": \"white\", \"plot_bgcolor\": \"#E5ECF6\", \"polar\": {\"angularaxis\": {\"gridcolor\": \"white\", \"linecolor\": \"white\", \"ticks\": \"\"}, \"bgcolor\": \"#E5ECF6\", \"radialaxis\": {\"gridcolor\": \"white\", \"linecolor\": \"white\", \"ticks\": \"\"}}, \"scene\": {\"xaxis\": {\"backgroundcolor\": \"#E5ECF6\", \"gridcolor\": \"white\", \"gridwidth\": 2, \"linecolor\": \"white\", \"showbackground\": true, \"ticks\": \"\", \"zerolinecolor\": \"white\"}, \"yaxis\": {\"backgroundcolor\": \"#E5ECF6\", \"gridcolor\": \"white\", \"gridwidth\": 2, \"linecolor\": \"white\", \"showbackground\": true, \"ticks\": \"\", \"zerolinecolor\": \"white\"}, \"zaxis\": {\"backgroundcolor\": \"#E5ECF6\", \"gridcolor\": \"white\", \"gridwidth\": 2, \"linecolor\": \"white\", \"showbackground\": true, \"ticks\": \"\", \"zerolinecolor\": \"white\"}}, \"shapedefaults\": {\"line\": {\"color\": \"#2a3f5f\"}}, \"ternary\": {\"aaxis\": {\"gridcolor\": \"white\", \"linecolor\": \"white\", \"ticks\": \"\"}, \"baxis\": {\"gridcolor\": \"white\", \"linecolor\": \"white\", \"ticks\": \"\"}, \"bgcolor\": \"#E5ECF6\", \"caxis\": {\"gridcolor\": \"white\", \"linecolor\": \"white\", \"ticks\": \"\"}}, \"title\": {\"x\": 0.05}, \"xaxis\": {\"automargin\": true, \"gridcolor\": \"white\", \"linecolor\": \"white\", \"ticks\": \"\", \"title\": {\"standoff\": 15}, \"zerolinecolor\": \"white\", \"zerolinewidth\": 2}, \"yaxis\": {\"automargin\": true, \"gridcolor\": \"white\", \"linecolor\": \"white\", \"ticks\": \"\", \"title\": {\"standoff\": 15}, \"zerolinecolor\": \"white\", \"zerolinewidth\": 2}}}, \"title\": {\"font\": {\"color\": \"#4D5663\"}, \"text\": \"Use of Registered bikes Vs Casual bikes by day\"}, \"xaxis\": {\"gridcolor\": \"#E1E5ED\", \"showgrid\": true, \"tickfont\": {\"color\": \"#4D5663\"}, \"title\": {\"font\": {\"color\": \"#4D5663\"}, \"text\": \"Day\"}, \"zerolinecolor\": \"#E1E5ED\"}, \"yaxis\": {\"gridcolor\": \"#E1E5ED\", \"showgrid\": true, \"tickfont\": {\"color\": \"#4D5663\"}, \"title\": {\"font\": {\"color\": \"#4D5663\"}, \"text\": \"Number of users\"}, \"zerolinecolor\": \"#E1E5ED\"}},                        {\"showLink\": true, \"linkText\": \"Export to plot.ly\", \"plotlyServerURL\": \"https://plot.ly\", \"responsive\": true}                    ).then(function(){\n",
       "                            \n",
       "var gd = document.getElementById('3b2d4b70-8850-4d78-9610-1f21ef9ac0e8');\n",
       "var x = new MutationObserver(function (mutations, observer) {{\n",
       "        var display = window.getComputedStyle(gd).display;\n",
       "        if (!display || display === 'none') {{\n",
       "            console.log([gd, 'removed!']);\n",
       "            Plotly.purge(gd);\n",
       "            observer.disconnect();\n",
       "        }}\n",
       "}});\n",
       "\n",
       "// Listen for the removal of the full notebook cells\n",
       "var notebookContainer = gd.closest('#notebook-container');\n",
       "if (notebookContainer) {{\n",
       "    x.observe(notebookContainer, {childList: true});\n",
       "}}\n",
       "\n",
       "// Listen for the clearing of the current output cell\n",
       "var outputEl = gd.closest('.output');\n",
       "if (outputEl) {{\n",
       "    x.observe(outputEl, {childList: true});\n",
       "}}\n",
       "\n",
       "                        })                };                });            </script>        </div>"
      ]
     },
     "metadata": {},
     "output_type": "display_data"
    }
   ],
   "source": [
    "daily[['registered','casual']].iplot(kind='bar',\n",
    "                            title='Use of Registered bikes Vs Casual bikes by day',         \n",
    "                            xTitle='Day',\n",
    "                            yTitle='Number of users')"
   ]
  },
  {
   "cell_type": "markdown",
   "metadata": {
    "ExecuteTime": {
     "end_time": "2020-12-10T07:24:31.527189Z",
     "start_time": "2020-12-10T07:24:31.509051Z"
    }
   },
   "source": [
    "## Better to use candle chart for the above figure"
   ]
  },
  {
   "cell_type": "markdown",
   "metadata": {},
   "source": [
    "<span style=\"background-color: #DAF7A6\">From the above scatter plot, we can make conclusions that, there was a significant rise in uses of bicycles in year 2012 compared to 2011. For the casual users, bikes were mostly used on May 19 (3,410 bikes),2012 whereas for registered users, most bikes (6,946 bikes) were used on September 26 2012.</span> "
   ]
  },
  {
   "cell_type": "markdown",
   "metadata": {},
   "source": [
    "# <span style=\"background-color: #CBBDB6\">Grouping by weekday"
   ]
  },
  {
   "cell_type": "code",
   "execution_count": 19,
   "metadata": {
    "ExecuteTime": {
     "end_time": "2020-12-10T11:13:49.245416Z",
     "start_time": "2020-12-10T11:13:49.224176Z"
    }
   },
   "outputs": [],
   "source": [
    "byWeekday = bike_share.groupby('weekday').sum()\n",
    "#byWeekday"
   ]
  },
  {
   "cell_type": "code",
   "execution_count": 20,
   "metadata": {
    "ExecuteTime": {
     "end_time": "2020-12-10T11:13:49.354460Z",
     "start_time": "2020-12-10T11:13:49.252065Z"
    }
   },
   "outputs": [
    {
     "data": {
      "application/vnd.plotly.v1+json": {
       "config": {
        "linkText": "Export to plot.ly",
        "plotlyServerURL": "https://plot.ly",
        "showLink": true
       },
       "data": [
        {
         "marker": {
          "color": "rgba(255, 153, 51, 0.6)",
          "line": {
           "color": "rgba(255, 153, 51, 1.0)",
           "width": 1
          }
         },
         "name": "registered",
         "orientation": "v",
         "text": "",
         "type": "bar",
         "x": [
          0,
          1,
          2,
          3,
          4,
          5,
          6
         ],
         "y": [
          303506,
          384719,
          411266,
          415729,
          423935,
          409552,
          323955
         ]
        },
        {
         "marker": {
          "color": "rgba(55, 128, 191, 0.6)",
          "line": {
           "color": "rgba(55, 128, 191, 1.0)",
           "width": 1
          }
         },
         "name": "casual",
         "orientation": "v",
         "text": "",
         "type": "bar",
         "x": [
          0,
          1,
          2,
          3,
          4,
          5,
          6
         ],
         "y": [
          140521,
          70784,
          57843,
          57319,
          61460,
          78238,
          153852
         ]
        }
       ],
       "layout": {
        "legend": {
         "bgcolor": "#F5F6F9",
         "font": {
          "color": "#4D5663"
         }
        },
        "paper_bgcolor": "#F5F6F9",
        "plot_bgcolor": "#F5F6F9",
        "template": {
         "data": {
          "bar": [
           {
            "error_x": {
             "color": "#2a3f5f"
            },
            "error_y": {
             "color": "#2a3f5f"
            },
            "marker": {
             "line": {
              "color": "#E5ECF6",
              "width": 0.5
             }
            },
            "type": "bar"
           }
          ],
          "barpolar": [
           {
            "marker": {
             "line": {
              "color": "#E5ECF6",
              "width": 0.5
             }
            },
            "type": "barpolar"
           }
          ],
          "carpet": [
           {
            "aaxis": {
             "endlinecolor": "#2a3f5f",
             "gridcolor": "white",
             "linecolor": "white",
             "minorgridcolor": "white",
             "startlinecolor": "#2a3f5f"
            },
            "baxis": {
             "endlinecolor": "#2a3f5f",
             "gridcolor": "white",
             "linecolor": "white",
             "minorgridcolor": "white",
             "startlinecolor": "#2a3f5f"
            },
            "type": "carpet"
           }
          ],
          "choropleth": [
           {
            "colorbar": {
             "outlinewidth": 0,
             "ticks": ""
            },
            "type": "choropleth"
           }
          ],
          "contour": [
           {
            "colorbar": {
             "outlinewidth": 0,
             "ticks": ""
            },
            "colorscale": [
             [
              0,
              "#0d0887"
             ],
             [
              0.1111111111111111,
              "#46039f"
             ],
             [
              0.2222222222222222,
              "#7201a8"
             ],
             [
              0.3333333333333333,
              "#9c179e"
             ],
             [
              0.4444444444444444,
              "#bd3786"
             ],
             [
              0.5555555555555556,
              "#d8576b"
             ],
             [
              0.6666666666666666,
              "#ed7953"
             ],
             [
              0.7777777777777778,
              "#fb9f3a"
             ],
             [
              0.8888888888888888,
              "#fdca26"
             ],
             [
              1,
              "#f0f921"
             ]
            ],
            "type": "contour"
           }
          ],
          "contourcarpet": [
           {
            "colorbar": {
             "outlinewidth": 0,
             "ticks": ""
            },
            "type": "contourcarpet"
           }
          ],
          "heatmap": [
           {
            "colorbar": {
             "outlinewidth": 0,
             "ticks": ""
            },
            "colorscale": [
             [
              0,
              "#0d0887"
             ],
             [
              0.1111111111111111,
              "#46039f"
             ],
             [
              0.2222222222222222,
              "#7201a8"
             ],
             [
              0.3333333333333333,
              "#9c179e"
             ],
             [
              0.4444444444444444,
              "#bd3786"
             ],
             [
              0.5555555555555556,
              "#d8576b"
             ],
             [
              0.6666666666666666,
              "#ed7953"
             ],
             [
              0.7777777777777778,
              "#fb9f3a"
             ],
             [
              0.8888888888888888,
              "#fdca26"
             ],
             [
              1,
              "#f0f921"
             ]
            ],
            "type": "heatmap"
           }
          ],
          "heatmapgl": [
           {
            "colorbar": {
             "outlinewidth": 0,
             "ticks": ""
            },
            "colorscale": [
             [
              0,
              "#0d0887"
             ],
             [
              0.1111111111111111,
              "#46039f"
             ],
             [
              0.2222222222222222,
              "#7201a8"
             ],
             [
              0.3333333333333333,
              "#9c179e"
             ],
             [
              0.4444444444444444,
              "#bd3786"
             ],
             [
              0.5555555555555556,
              "#d8576b"
             ],
             [
              0.6666666666666666,
              "#ed7953"
             ],
             [
              0.7777777777777778,
              "#fb9f3a"
             ],
             [
              0.8888888888888888,
              "#fdca26"
             ],
             [
              1,
              "#f0f921"
             ]
            ],
            "type": "heatmapgl"
           }
          ],
          "histogram": [
           {
            "marker": {
             "colorbar": {
              "outlinewidth": 0,
              "ticks": ""
             }
            },
            "type": "histogram"
           }
          ],
          "histogram2d": [
           {
            "colorbar": {
             "outlinewidth": 0,
             "ticks": ""
            },
            "colorscale": [
             [
              0,
              "#0d0887"
             ],
             [
              0.1111111111111111,
              "#46039f"
             ],
             [
              0.2222222222222222,
              "#7201a8"
             ],
             [
              0.3333333333333333,
              "#9c179e"
             ],
             [
              0.4444444444444444,
              "#bd3786"
             ],
             [
              0.5555555555555556,
              "#d8576b"
             ],
             [
              0.6666666666666666,
              "#ed7953"
             ],
             [
              0.7777777777777778,
              "#fb9f3a"
             ],
             [
              0.8888888888888888,
              "#fdca26"
             ],
             [
              1,
              "#f0f921"
             ]
            ],
            "type": "histogram2d"
           }
          ],
          "histogram2dcontour": [
           {
            "colorbar": {
             "outlinewidth": 0,
             "ticks": ""
            },
            "colorscale": [
             [
              0,
              "#0d0887"
             ],
             [
              0.1111111111111111,
              "#46039f"
             ],
             [
              0.2222222222222222,
              "#7201a8"
             ],
             [
              0.3333333333333333,
              "#9c179e"
             ],
             [
              0.4444444444444444,
              "#bd3786"
             ],
             [
              0.5555555555555556,
              "#d8576b"
             ],
             [
              0.6666666666666666,
              "#ed7953"
             ],
             [
              0.7777777777777778,
              "#fb9f3a"
             ],
             [
              0.8888888888888888,
              "#fdca26"
             ],
             [
              1,
              "#f0f921"
             ]
            ],
            "type": "histogram2dcontour"
           }
          ],
          "mesh3d": [
           {
            "colorbar": {
             "outlinewidth": 0,
             "ticks": ""
            },
            "type": "mesh3d"
           }
          ],
          "parcoords": [
           {
            "line": {
             "colorbar": {
              "outlinewidth": 0,
              "ticks": ""
             }
            },
            "type": "parcoords"
           }
          ],
          "pie": [
           {
            "automargin": true,
            "type": "pie"
           }
          ],
          "scatter": [
           {
            "marker": {
             "colorbar": {
              "outlinewidth": 0,
              "ticks": ""
             }
            },
            "type": "scatter"
           }
          ],
          "scatter3d": [
           {
            "line": {
             "colorbar": {
              "outlinewidth": 0,
              "ticks": ""
             }
            },
            "marker": {
             "colorbar": {
              "outlinewidth": 0,
              "ticks": ""
             }
            },
            "type": "scatter3d"
           }
          ],
          "scattercarpet": [
           {
            "marker": {
             "colorbar": {
              "outlinewidth": 0,
              "ticks": ""
             }
            },
            "type": "scattercarpet"
           }
          ],
          "scattergeo": [
           {
            "marker": {
             "colorbar": {
              "outlinewidth": 0,
              "ticks": ""
             }
            },
            "type": "scattergeo"
           }
          ],
          "scattergl": [
           {
            "marker": {
             "colorbar": {
              "outlinewidth": 0,
              "ticks": ""
             }
            },
            "type": "scattergl"
           }
          ],
          "scattermapbox": [
           {
            "marker": {
             "colorbar": {
              "outlinewidth": 0,
              "ticks": ""
             }
            },
            "type": "scattermapbox"
           }
          ],
          "scatterpolar": [
           {
            "marker": {
             "colorbar": {
              "outlinewidth": 0,
              "ticks": ""
             }
            },
            "type": "scatterpolar"
           }
          ],
          "scatterpolargl": [
           {
            "marker": {
             "colorbar": {
              "outlinewidth": 0,
              "ticks": ""
             }
            },
            "type": "scatterpolargl"
           }
          ],
          "scatterternary": [
           {
            "marker": {
             "colorbar": {
              "outlinewidth": 0,
              "ticks": ""
             }
            },
            "type": "scatterternary"
           }
          ],
          "surface": [
           {
            "colorbar": {
             "outlinewidth": 0,
             "ticks": ""
            },
            "colorscale": [
             [
              0,
              "#0d0887"
             ],
             [
              0.1111111111111111,
              "#46039f"
             ],
             [
              0.2222222222222222,
              "#7201a8"
             ],
             [
              0.3333333333333333,
              "#9c179e"
             ],
             [
              0.4444444444444444,
              "#bd3786"
             ],
             [
              0.5555555555555556,
              "#d8576b"
             ],
             [
              0.6666666666666666,
              "#ed7953"
             ],
             [
              0.7777777777777778,
              "#fb9f3a"
             ],
             [
              0.8888888888888888,
              "#fdca26"
             ],
             [
              1,
              "#f0f921"
             ]
            ],
            "type": "surface"
           }
          ],
          "table": [
           {
            "cells": {
             "fill": {
              "color": "#EBF0F8"
             },
             "line": {
              "color": "white"
             }
            },
            "header": {
             "fill": {
              "color": "#C8D4E3"
             },
             "line": {
              "color": "white"
             }
            },
            "type": "table"
           }
          ]
         },
         "layout": {
          "annotationdefaults": {
           "arrowcolor": "#2a3f5f",
           "arrowhead": 0,
           "arrowwidth": 1
          },
          "coloraxis": {
           "colorbar": {
            "outlinewidth": 0,
            "ticks": ""
           }
          },
          "colorscale": {
           "diverging": [
            [
             0,
             "#8e0152"
            ],
            [
             0.1,
             "#c51b7d"
            ],
            [
             0.2,
             "#de77ae"
            ],
            [
             0.3,
             "#f1b6da"
            ],
            [
             0.4,
             "#fde0ef"
            ],
            [
             0.5,
             "#f7f7f7"
            ],
            [
             0.6,
             "#e6f5d0"
            ],
            [
             0.7,
             "#b8e186"
            ],
            [
             0.8,
             "#7fbc41"
            ],
            [
             0.9,
             "#4d9221"
            ],
            [
             1,
             "#276419"
            ]
           ],
           "sequential": [
            [
             0,
             "#0d0887"
            ],
            [
             0.1111111111111111,
             "#46039f"
            ],
            [
             0.2222222222222222,
             "#7201a8"
            ],
            [
             0.3333333333333333,
             "#9c179e"
            ],
            [
             0.4444444444444444,
             "#bd3786"
            ],
            [
             0.5555555555555556,
             "#d8576b"
            ],
            [
             0.6666666666666666,
             "#ed7953"
            ],
            [
             0.7777777777777778,
             "#fb9f3a"
            ],
            [
             0.8888888888888888,
             "#fdca26"
            ],
            [
             1,
             "#f0f921"
            ]
           ],
           "sequentialminus": [
            [
             0,
             "#0d0887"
            ],
            [
             0.1111111111111111,
             "#46039f"
            ],
            [
             0.2222222222222222,
             "#7201a8"
            ],
            [
             0.3333333333333333,
             "#9c179e"
            ],
            [
             0.4444444444444444,
             "#bd3786"
            ],
            [
             0.5555555555555556,
             "#d8576b"
            ],
            [
             0.6666666666666666,
             "#ed7953"
            ],
            [
             0.7777777777777778,
             "#fb9f3a"
            ],
            [
             0.8888888888888888,
             "#fdca26"
            ],
            [
             1,
             "#f0f921"
            ]
           ]
          },
          "colorway": [
           "#636efa",
           "#EF553B",
           "#00cc96",
           "#ab63fa",
           "#FFA15A",
           "#19d3f3",
           "#FF6692",
           "#B6E880",
           "#FF97FF",
           "#FECB52"
          ],
          "font": {
           "color": "#2a3f5f"
          },
          "geo": {
           "bgcolor": "white",
           "lakecolor": "white",
           "landcolor": "#E5ECF6",
           "showlakes": true,
           "showland": true,
           "subunitcolor": "white"
          },
          "hoverlabel": {
           "align": "left"
          },
          "hovermode": "closest",
          "mapbox": {
           "style": "light"
          },
          "paper_bgcolor": "white",
          "plot_bgcolor": "#E5ECF6",
          "polar": {
           "angularaxis": {
            "gridcolor": "white",
            "linecolor": "white",
            "ticks": ""
           },
           "bgcolor": "#E5ECF6",
           "radialaxis": {
            "gridcolor": "white",
            "linecolor": "white",
            "ticks": ""
           }
          },
          "scene": {
           "xaxis": {
            "backgroundcolor": "#E5ECF6",
            "gridcolor": "white",
            "gridwidth": 2,
            "linecolor": "white",
            "showbackground": true,
            "ticks": "",
            "zerolinecolor": "white"
           },
           "yaxis": {
            "backgroundcolor": "#E5ECF6",
            "gridcolor": "white",
            "gridwidth": 2,
            "linecolor": "white",
            "showbackground": true,
            "ticks": "",
            "zerolinecolor": "white"
           },
           "zaxis": {
            "backgroundcolor": "#E5ECF6",
            "gridcolor": "white",
            "gridwidth": 2,
            "linecolor": "white",
            "showbackground": true,
            "ticks": "",
            "zerolinecolor": "white"
           }
          },
          "shapedefaults": {
           "line": {
            "color": "#2a3f5f"
           }
          },
          "ternary": {
           "aaxis": {
            "gridcolor": "white",
            "linecolor": "white",
            "ticks": ""
           },
           "baxis": {
            "gridcolor": "white",
            "linecolor": "white",
            "ticks": ""
           },
           "bgcolor": "#E5ECF6",
           "caxis": {
            "gridcolor": "white",
            "linecolor": "white",
            "ticks": ""
           }
          },
          "title": {
           "x": 0.05
          },
          "xaxis": {
           "automargin": true,
           "gridcolor": "white",
           "linecolor": "white",
           "ticks": "",
           "title": {
            "standoff": 15
           },
           "zerolinecolor": "white",
           "zerolinewidth": 2
          },
          "yaxis": {
           "automargin": true,
           "gridcolor": "white",
           "linecolor": "white",
           "ticks": "",
           "title": {
            "standoff": 15
           },
           "zerolinecolor": "white",
           "zerolinewidth": 2
          }
         }
        },
        "title": {
         "font": {
          "color": "#4D5663"
         },
         "text": "Use of Registered bikes Vs Casual bikes by Weekdays"
        },
        "xaxis": {
         "gridcolor": "#E1E5ED",
         "showgrid": true,
         "tickfont": {
          "color": "#4D5663"
         },
         "title": {
          "font": {
           "color": "#4D5663"
          },
          "text": "Weekdays (1=Monday)"
         },
         "zerolinecolor": "#E1E5ED"
        },
        "yaxis": {
         "gridcolor": "#E1E5ED",
         "showgrid": true,
         "tickfont": {
          "color": "#4D5663"
         },
         "title": {
          "font": {
           "color": "#4D5663"
          },
          "text": "Number of users"
         },
         "zerolinecolor": "#E1E5ED"
        }
       }
      },
      "text/html": [
       "<div>                            <div id=\"f5d9f02f-f7a2-4f4b-952d-73f7e3389b65\" class=\"plotly-graph-div\" style=\"height:525px; width:100%;\"></div>            <script type=\"text/javascript\">                require([\"plotly\"], function(Plotly) {                    window.PLOTLYENV=window.PLOTLYENV || {};\n",
       "                    window.PLOTLYENV.BASE_URL='https://plot.ly';                                    if (document.getElementById(\"f5d9f02f-f7a2-4f4b-952d-73f7e3389b65\")) {                    Plotly.newPlot(                        \"f5d9f02f-f7a2-4f4b-952d-73f7e3389b65\",                        [{\"marker\": {\"color\": \"rgba(255, 153, 51, 0.6)\", \"line\": {\"color\": \"rgba(255, 153, 51, 1.0)\", \"width\": 1}}, \"name\": \"registered\", \"orientation\": \"v\", \"text\": \"\", \"type\": \"bar\", \"x\": [0, 1, 2, 3, 4, 5, 6], \"y\": [303506, 384719, 411266, 415729, 423935, 409552, 323955]}, {\"marker\": {\"color\": \"rgba(55, 128, 191, 0.6)\", \"line\": {\"color\": \"rgba(55, 128, 191, 1.0)\", \"width\": 1}}, \"name\": \"casual\", \"orientation\": \"v\", \"text\": \"\", \"type\": \"bar\", \"x\": [0, 1, 2, 3, 4, 5, 6], \"y\": [140521, 70784, 57843, 57319, 61460, 78238, 153852]}],                        {\"legend\": {\"bgcolor\": \"#F5F6F9\", \"font\": {\"color\": \"#4D5663\"}}, \"paper_bgcolor\": \"#F5F6F9\", \"plot_bgcolor\": \"#F5F6F9\", \"template\": {\"data\": {\"bar\": [{\"error_x\": {\"color\": \"#2a3f5f\"}, \"error_y\": {\"color\": \"#2a3f5f\"}, \"marker\": {\"line\": {\"color\": \"#E5ECF6\", \"width\": 0.5}}, \"type\": \"bar\"}], \"barpolar\": [{\"marker\": {\"line\": {\"color\": \"#E5ECF6\", \"width\": 0.5}}, \"type\": \"barpolar\"}], \"carpet\": [{\"aaxis\": {\"endlinecolor\": \"#2a3f5f\", \"gridcolor\": \"white\", \"linecolor\": \"white\", \"minorgridcolor\": \"white\", \"startlinecolor\": \"#2a3f5f\"}, \"baxis\": {\"endlinecolor\": \"#2a3f5f\", \"gridcolor\": \"white\", \"linecolor\": \"white\", \"minorgridcolor\": \"white\", \"startlinecolor\": \"#2a3f5f\"}, \"type\": \"carpet\"}], \"choropleth\": [{\"colorbar\": {\"outlinewidth\": 0, \"ticks\": \"\"}, \"type\": \"choropleth\"}], \"contour\": [{\"colorbar\": {\"outlinewidth\": 0, \"ticks\": \"\"}, \"colorscale\": [[0.0, \"#0d0887\"], [0.1111111111111111, \"#46039f\"], [0.2222222222222222, \"#7201a8\"], [0.3333333333333333, \"#9c179e\"], [0.4444444444444444, \"#bd3786\"], [0.5555555555555556, \"#d8576b\"], [0.6666666666666666, \"#ed7953\"], [0.7777777777777778, \"#fb9f3a\"], [0.8888888888888888, \"#fdca26\"], [1.0, \"#f0f921\"]], \"type\": \"contour\"}], \"contourcarpet\": [{\"colorbar\": {\"outlinewidth\": 0, \"ticks\": \"\"}, \"type\": \"contourcarpet\"}], \"heatmap\": [{\"colorbar\": {\"outlinewidth\": 0, \"ticks\": \"\"}, \"colorscale\": [[0.0, \"#0d0887\"], [0.1111111111111111, \"#46039f\"], [0.2222222222222222, \"#7201a8\"], [0.3333333333333333, \"#9c179e\"], [0.4444444444444444, \"#bd3786\"], [0.5555555555555556, \"#d8576b\"], [0.6666666666666666, \"#ed7953\"], [0.7777777777777778, \"#fb9f3a\"], [0.8888888888888888, \"#fdca26\"], [1.0, \"#f0f921\"]], \"type\": \"heatmap\"}], \"heatmapgl\": [{\"colorbar\": {\"outlinewidth\": 0, \"ticks\": \"\"}, \"colorscale\": [[0.0, \"#0d0887\"], [0.1111111111111111, \"#46039f\"], [0.2222222222222222, \"#7201a8\"], [0.3333333333333333, \"#9c179e\"], [0.4444444444444444, \"#bd3786\"], [0.5555555555555556, \"#d8576b\"], [0.6666666666666666, \"#ed7953\"], [0.7777777777777778, \"#fb9f3a\"], [0.8888888888888888, \"#fdca26\"], [1.0, \"#f0f921\"]], \"type\": \"heatmapgl\"}], \"histogram\": [{\"marker\": {\"colorbar\": {\"outlinewidth\": 0, \"ticks\": \"\"}}, \"type\": \"histogram\"}], \"histogram2d\": [{\"colorbar\": {\"outlinewidth\": 0, \"ticks\": \"\"}, \"colorscale\": [[0.0, \"#0d0887\"], [0.1111111111111111, \"#46039f\"], [0.2222222222222222, \"#7201a8\"], [0.3333333333333333, \"#9c179e\"], [0.4444444444444444, \"#bd3786\"], [0.5555555555555556, \"#d8576b\"], [0.6666666666666666, \"#ed7953\"], [0.7777777777777778, \"#fb9f3a\"], [0.8888888888888888, \"#fdca26\"], [1.0, \"#f0f921\"]], \"type\": \"histogram2d\"}], \"histogram2dcontour\": [{\"colorbar\": {\"outlinewidth\": 0, \"ticks\": \"\"}, \"colorscale\": [[0.0, \"#0d0887\"], [0.1111111111111111, \"#46039f\"], [0.2222222222222222, \"#7201a8\"], [0.3333333333333333, \"#9c179e\"], [0.4444444444444444, \"#bd3786\"], [0.5555555555555556, \"#d8576b\"], [0.6666666666666666, \"#ed7953\"], [0.7777777777777778, \"#fb9f3a\"], [0.8888888888888888, \"#fdca26\"], [1.0, \"#f0f921\"]], \"type\": \"histogram2dcontour\"}], \"mesh3d\": [{\"colorbar\": {\"outlinewidth\": 0, \"ticks\": \"\"}, \"type\": \"mesh3d\"}], \"parcoords\": [{\"line\": {\"colorbar\": {\"outlinewidth\": 0, \"ticks\": \"\"}}, \"type\": \"parcoords\"}], \"pie\": [{\"automargin\": true, \"type\": \"pie\"}], \"scatter\": [{\"marker\": {\"colorbar\": {\"outlinewidth\": 0, \"ticks\": \"\"}}, \"type\": \"scatter\"}], \"scatter3d\": [{\"line\": {\"colorbar\": {\"outlinewidth\": 0, \"ticks\": \"\"}}, \"marker\": {\"colorbar\": {\"outlinewidth\": 0, \"ticks\": \"\"}}, \"type\": \"scatter3d\"}], \"scattercarpet\": [{\"marker\": {\"colorbar\": {\"outlinewidth\": 0, \"ticks\": \"\"}}, \"type\": \"scattercarpet\"}], \"scattergeo\": [{\"marker\": {\"colorbar\": {\"outlinewidth\": 0, \"ticks\": \"\"}}, \"type\": \"scattergeo\"}], \"scattergl\": [{\"marker\": {\"colorbar\": {\"outlinewidth\": 0, \"ticks\": \"\"}}, \"type\": \"scattergl\"}], \"scattermapbox\": [{\"marker\": {\"colorbar\": {\"outlinewidth\": 0, \"ticks\": \"\"}}, \"type\": \"scattermapbox\"}], \"scatterpolar\": [{\"marker\": {\"colorbar\": {\"outlinewidth\": 0, \"ticks\": \"\"}}, \"type\": \"scatterpolar\"}], \"scatterpolargl\": [{\"marker\": {\"colorbar\": {\"outlinewidth\": 0, \"ticks\": \"\"}}, \"type\": \"scatterpolargl\"}], \"scatterternary\": [{\"marker\": {\"colorbar\": {\"outlinewidth\": 0, \"ticks\": \"\"}}, \"type\": \"scatterternary\"}], \"surface\": [{\"colorbar\": {\"outlinewidth\": 0, \"ticks\": \"\"}, \"colorscale\": [[0.0, \"#0d0887\"], [0.1111111111111111, \"#46039f\"], [0.2222222222222222, \"#7201a8\"], [0.3333333333333333, \"#9c179e\"], [0.4444444444444444, \"#bd3786\"], [0.5555555555555556, \"#d8576b\"], [0.6666666666666666, \"#ed7953\"], [0.7777777777777778, \"#fb9f3a\"], [0.8888888888888888, \"#fdca26\"], [1.0, \"#f0f921\"]], \"type\": \"surface\"}], \"table\": [{\"cells\": {\"fill\": {\"color\": \"#EBF0F8\"}, \"line\": {\"color\": \"white\"}}, \"header\": {\"fill\": {\"color\": \"#C8D4E3\"}, \"line\": {\"color\": \"white\"}}, \"type\": \"table\"}]}, \"layout\": {\"annotationdefaults\": {\"arrowcolor\": \"#2a3f5f\", \"arrowhead\": 0, \"arrowwidth\": 1}, \"coloraxis\": {\"colorbar\": {\"outlinewidth\": 0, \"ticks\": \"\"}}, \"colorscale\": {\"diverging\": [[0, \"#8e0152\"], [0.1, \"#c51b7d\"], [0.2, \"#de77ae\"], [0.3, \"#f1b6da\"], [0.4, \"#fde0ef\"], [0.5, \"#f7f7f7\"], [0.6, \"#e6f5d0\"], [0.7, \"#b8e186\"], [0.8, \"#7fbc41\"], [0.9, \"#4d9221\"], [1, \"#276419\"]], \"sequential\": [[0.0, \"#0d0887\"], [0.1111111111111111, \"#46039f\"], [0.2222222222222222, \"#7201a8\"], [0.3333333333333333, \"#9c179e\"], [0.4444444444444444, \"#bd3786\"], [0.5555555555555556, \"#d8576b\"], [0.6666666666666666, \"#ed7953\"], [0.7777777777777778, \"#fb9f3a\"], [0.8888888888888888, \"#fdca26\"], [1.0, \"#f0f921\"]], \"sequentialminus\": [[0.0, \"#0d0887\"], [0.1111111111111111, \"#46039f\"], [0.2222222222222222, \"#7201a8\"], [0.3333333333333333, \"#9c179e\"], [0.4444444444444444, \"#bd3786\"], [0.5555555555555556, \"#d8576b\"], [0.6666666666666666, \"#ed7953\"], [0.7777777777777778, \"#fb9f3a\"], [0.8888888888888888, \"#fdca26\"], [1.0, \"#f0f921\"]]}, \"colorway\": [\"#636efa\", \"#EF553B\", \"#00cc96\", \"#ab63fa\", \"#FFA15A\", \"#19d3f3\", \"#FF6692\", \"#B6E880\", \"#FF97FF\", \"#FECB52\"], \"font\": {\"color\": \"#2a3f5f\"}, \"geo\": {\"bgcolor\": \"white\", \"lakecolor\": \"white\", \"landcolor\": \"#E5ECF6\", \"showlakes\": true, \"showland\": true, \"subunitcolor\": \"white\"}, \"hoverlabel\": {\"align\": \"left\"}, \"hovermode\": \"closest\", \"mapbox\": {\"style\": \"light\"}, \"paper_bgcolor\": \"white\", \"plot_bgcolor\": \"#E5ECF6\", \"polar\": {\"angularaxis\": {\"gridcolor\": \"white\", \"linecolor\": \"white\", \"ticks\": \"\"}, \"bgcolor\": \"#E5ECF6\", \"radialaxis\": {\"gridcolor\": \"white\", \"linecolor\": \"white\", \"ticks\": \"\"}}, \"scene\": {\"xaxis\": {\"backgroundcolor\": \"#E5ECF6\", \"gridcolor\": \"white\", \"gridwidth\": 2, \"linecolor\": \"white\", \"showbackground\": true, \"ticks\": \"\", \"zerolinecolor\": \"white\"}, \"yaxis\": {\"backgroundcolor\": \"#E5ECF6\", \"gridcolor\": \"white\", \"gridwidth\": 2, \"linecolor\": \"white\", \"showbackground\": true, \"ticks\": \"\", \"zerolinecolor\": \"white\"}, \"zaxis\": {\"backgroundcolor\": \"#E5ECF6\", \"gridcolor\": \"white\", \"gridwidth\": 2, \"linecolor\": \"white\", \"showbackground\": true, \"ticks\": \"\", \"zerolinecolor\": \"white\"}}, \"shapedefaults\": {\"line\": {\"color\": \"#2a3f5f\"}}, \"ternary\": {\"aaxis\": {\"gridcolor\": \"white\", \"linecolor\": \"white\", \"ticks\": \"\"}, \"baxis\": {\"gridcolor\": \"white\", \"linecolor\": \"white\", \"ticks\": \"\"}, \"bgcolor\": \"#E5ECF6\", \"caxis\": {\"gridcolor\": \"white\", \"linecolor\": \"white\", \"ticks\": \"\"}}, \"title\": {\"x\": 0.05}, \"xaxis\": {\"automargin\": true, \"gridcolor\": \"white\", \"linecolor\": \"white\", \"ticks\": \"\", \"title\": {\"standoff\": 15}, \"zerolinecolor\": \"white\", \"zerolinewidth\": 2}, \"yaxis\": {\"automargin\": true, \"gridcolor\": \"white\", \"linecolor\": \"white\", \"ticks\": \"\", \"title\": {\"standoff\": 15}, \"zerolinecolor\": \"white\", \"zerolinewidth\": 2}}}, \"title\": {\"font\": {\"color\": \"#4D5663\"}, \"text\": \"Use of Registered bikes Vs Casual bikes by Weekdays\"}, \"xaxis\": {\"gridcolor\": \"#E1E5ED\", \"showgrid\": true, \"tickfont\": {\"color\": \"#4D5663\"}, \"title\": {\"font\": {\"color\": \"#4D5663\"}, \"text\": \"Weekdays (1=Monday)\"}, \"zerolinecolor\": \"#E1E5ED\"}, \"yaxis\": {\"gridcolor\": \"#E1E5ED\", \"showgrid\": true, \"tickfont\": {\"color\": \"#4D5663\"}, \"title\": {\"font\": {\"color\": \"#4D5663\"}, \"text\": \"Number of users\"}, \"zerolinecolor\": \"#E1E5ED\"}},                        {\"showLink\": true, \"linkText\": \"Export to plot.ly\", \"plotlyServerURL\": \"https://plot.ly\", \"responsive\": true}                    ).then(function(){\n",
       "                            \n",
       "var gd = document.getElementById('f5d9f02f-f7a2-4f4b-952d-73f7e3389b65');\n",
       "var x = new MutationObserver(function (mutations, observer) {{\n",
       "        var display = window.getComputedStyle(gd).display;\n",
       "        if (!display || display === 'none') {{\n",
       "            console.log([gd, 'removed!']);\n",
       "            Plotly.purge(gd);\n",
       "            observer.disconnect();\n",
       "        }}\n",
       "}});\n",
       "\n",
       "// Listen for the removal of the full notebook cells\n",
       "var notebookContainer = gd.closest('#notebook-container');\n",
       "if (notebookContainer) {{\n",
       "    x.observe(notebookContainer, {childList: true});\n",
       "}}\n",
       "\n",
       "// Listen for the clearing of the current output cell\n",
       "var outputEl = gd.closest('.output');\n",
       "if (outputEl) {{\n",
       "    x.observe(outputEl, {childList: true});\n",
       "}}\n",
       "\n",
       "                        })                };                });            </script>        </div>"
      ]
     },
     "metadata": {},
     "output_type": "display_data"
    }
   ],
   "source": [
    "byWeekday[['registered','casual']].iplot(kind='bar',bins=1,\n",
    "                            title='Use of Registered bikes Vs Casual bikes by Weekdays',         \n",
    "                            xTitle='Weekdays (1=Monday)',\n",
    "                            yTitle='Number of users')"
   ]
  },
  {
   "cell_type": "markdown",
   "metadata": {},
   "source": [
    "<span style=\"background-color: #DAF7A6\"> The conclusions that we can make from the above diagram is that there are more registered bike users on Thursdays whereas the casual users are more on Saturdays. </span>"
   ]
  },
  {
   "cell_type": "code",
   "execution_count": null,
   "metadata": {
    "ExecuteTime": {
     "end_time": "2020-12-06T09:08:38.856693Z",
     "start_time": "2020-12-06T09:08:38.809640Z"
    }
   },
   "outputs": [],
   "source": []
  },
  {
   "cell_type": "markdown",
   "metadata": {},
   "source": [
    "# <span style=\"background-color: #CBBDB6\">Resampling by month"
   ]
  },
  {
   "cell_type": "code",
   "execution_count": 21,
   "metadata": {
    "ExecuteTime": {
     "end_time": "2020-12-10T11:13:49.413096Z",
     "start_time": "2020-12-10T11:13:49.367377Z"
    }
   },
   "outputs": [
    {
     "data": {
      "text/html": [
       "<div>\n",
       "<style scoped>\n",
       "    .dataframe tbody tr th:only-of-type {\n",
       "        vertical-align: middle;\n",
       "    }\n",
       "\n",
       "    .dataframe tbody tr th {\n",
       "        vertical-align: top;\n",
       "    }\n",
       "\n",
       "    .dataframe thead th {\n",
       "        text-align: right;\n",
       "    }\n",
       "</style>\n",
       "<table border=\"1\" class=\"dataframe\">\n",
       "  <thead>\n",
       "    <tr style=\"text-align: right;\">\n",
       "      <th></th>\n",
       "      <th>season</th>\n",
       "      <th>hr</th>\n",
       "      <th>holiday</th>\n",
       "      <th>weekday</th>\n",
       "      <th>workingday</th>\n",
       "      <th>weathersit</th>\n",
       "      <th>temp</th>\n",
       "      <th>atemp</th>\n",
       "      <th>hum</th>\n",
       "      <th>windspeed</th>\n",
       "      <th>casual</th>\n",
       "      <th>registered</th>\n",
       "      <th>cnt</th>\n",
       "    </tr>\n",
       "    <tr>\n",
       "      <th>dteday</th>\n",
       "      <th></th>\n",
       "      <th></th>\n",
       "      <th></th>\n",
       "      <th></th>\n",
       "      <th></th>\n",
       "      <th></th>\n",
       "      <th></th>\n",
       "      <th></th>\n",
       "      <th></th>\n",
       "      <th></th>\n",
       "      <th></th>\n",
       "      <th></th>\n",
       "      <th></th>\n",
       "    </tr>\n",
       "  </thead>\n",
       "  <tbody>\n",
       "    <tr>\n",
       "      <th>2011-01-31</th>\n",
       "      <td>688</td>\n",
       "      <td>8168</td>\n",
       "      <td>24</td>\n",
       "      <td>2018</td>\n",
       "      <td>429</td>\n",
       "      <td>1014</td>\n",
       "      <td>135.82</td>\n",
       "      <td>140.1854</td>\n",
       "      <td>394.95</td>\n",
       "      <td>135.8697</td>\n",
       "      <td>3073</td>\n",
       "      <td>35116</td>\n",
       "      <td>38189</td>\n",
       "    </tr>\n",
       "    <tr>\n",
       "      <th>2011-02-28</th>\n",
       "      <td>649</td>\n",
       "      <td>7649</td>\n",
       "      <td>24</td>\n",
       "      <td>1957</td>\n",
       "      <td>436</td>\n",
       "      <td>944</td>\n",
       "      <td>184.30</td>\n",
       "      <td>185.4385</td>\n",
       "      <td>363.25</td>\n",
       "      <td>148.9139</td>\n",
       "      <td>6242</td>\n",
       "      <td>41973</td>\n",
       "      <td>48215</td>\n",
       "    </tr>\n",
       "  </tbody>\n",
       "</table>\n",
       "</div>"
      ],
      "text/plain": [
       "            season    hr  holiday  weekday  workingday  weathersit    temp  \\\n",
       "dteday                                                                       \n",
       "2011-01-31     688  8168       24     2018         429        1014  135.82   \n",
       "2011-02-28     649  7649       24     1957         436         944  184.30   \n",
       "\n",
       "               atemp     hum  windspeed  casual  registered    cnt  \n",
       "dteday                                                              \n",
       "2011-01-31  140.1854  394.95   135.8697    3073       35116  38189  \n",
       "2011-02-28  185.4385  363.25   148.9139    6242       41973  48215  "
      ]
     },
     "execution_count": 21,
     "metadata": {},
     "output_type": "execute_result"
    }
   ],
   "source": [
    "monthly = bikes.resample('M').sum()\n",
    "monthly.head(2)\n",
    " "
   ]
  },
  {
   "cell_type": "code",
   "execution_count": 22,
   "metadata": {
    "ExecuteTime": {
     "end_time": "2020-12-10T11:13:49.513991Z",
     "start_time": "2020-12-10T11:13:49.423456Z"
    }
   },
   "outputs": [
    {
     "data": {
      "application/vnd.plotly.v1+json": {
       "config": {
        "linkText": "Export to plot.ly",
        "plotlyServerURL": "https://plot.ly",
        "showLink": true
       },
       "data": [
        {
         "marker": {
          "color": "rgba(255, 153, 51, 0.6)",
          "line": {
           "color": "rgba(255, 153, 51, 1.0)",
           "width": 1
          }
         },
         "name": "registered",
         "orientation": "v",
         "text": "",
         "type": "bar",
         "x": [
          "2011-01-31",
          "2011-02-28",
          "2011-03-31",
          "2011-04-30",
          "2011-05-31",
          "2011-06-30",
          "2011-07-31",
          "2011-08-31",
          "2011-09-30",
          "2011-10-31",
          "2011-11-30",
          "2011-12-31",
          "2012-01-31",
          "2012-02-29",
          "2012-03-31",
          "2012-04-30",
          "2012-05-31",
          "2012-06-30",
          "2012-07-31",
          "2012-08-31",
          "2012-09-30",
          "2012-10-31",
          "2012-11-30",
          "2012-12-31"
         ],
         "y": [
          35116,
          41973,
          51219,
          72524,
          104771,
          112900,
          104889,
          107849,
          100873,
          98289,
          86573,
          78875,
          87775,
          94416,
          133257,
          135768,
          151630,
          159536,
          161902,
          171306,
          174795,
          164303,
          131655,
          110468
         ]
        },
        {
         "marker": {
          "color": "rgba(55, 128, 191, 0.6)",
          "line": {
           "color": "rgba(55, 128, 191, 1.0)",
           "width": 1
          }
         },
         "name": "casual",
         "orientation": "v",
         "text": "",
         "type": "bar",
         "x": [
          "2011-01-31",
          "2011-02-28",
          "2011-03-31",
          "2011-04-30",
          "2011-05-31",
          "2011-06-30",
          "2011-07-31",
          "2011-08-31",
          "2011-09-30",
          "2011-10-31",
          "2011-11-30",
          "2011-12-31",
          "2012-01-31",
          "2012-02-29",
          "2012-03-31",
          "2012-04-30",
          "2012-05-31",
          "2012-06-30",
          "2012-07-31",
          "2012-08-31",
          "2012-09-30",
          "2012-10-31",
          "2012-11-30",
          "2012-12-31"
         ],
         "y": [
          3073,
          6242,
          12826,
          22346,
          31050,
          30612,
          36452,
          28842,
          26545,
          25222,
          15594,
          8448,
          8969,
          8721,
          31618,
          38456,
          44235,
          43294,
          41705,
          43197,
          43778,
          34538,
          21009,
          13245
         ]
        }
       ],
       "layout": {
        "legend": {
         "bgcolor": "#F5F6F9",
         "font": {
          "color": "#4D5663"
         }
        },
        "paper_bgcolor": "#F5F6F9",
        "plot_bgcolor": "#F5F6F9",
        "template": {
         "data": {
          "bar": [
           {
            "error_x": {
             "color": "#2a3f5f"
            },
            "error_y": {
             "color": "#2a3f5f"
            },
            "marker": {
             "line": {
              "color": "#E5ECF6",
              "width": 0.5
             }
            },
            "type": "bar"
           }
          ],
          "barpolar": [
           {
            "marker": {
             "line": {
              "color": "#E5ECF6",
              "width": 0.5
             }
            },
            "type": "barpolar"
           }
          ],
          "carpet": [
           {
            "aaxis": {
             "endlinecolor": "#2a3f5f",
             "gridcolor": "white",
             "linecolor": "white",
             "minorgridcolor": "white",
             "startlinecolor": "#2a3f5f"
            },
            "baxis": {
             "endlinecolor": "#2a3f5f",
             "gridcolor": "white",
             "linecolor": "white",
             "minorgridcolor": "white",
             "startlinecolor": "#2a3f5f"
            },
            "type": "carpet"
           }
          ],
          "choropleth": [
           {
            "colorbar": {
             "outlinewidth": 0,
             "ticks": ""
            },
            "type": "choropleth"
           }
          ],
          "contour": [
           {
            "colorbar": {
             "outlinewidth": 0,
             "ticks": ""
            },
            "colorscale": [
             [
              0,
              "#0d0887"
             ],
             [
              0.1111111111111111,
              "#46039f"
             ],
             [
              0.2222222222222222,
              "#7201a8"
             ],
             [
              0.3333333333333333,
              "#9c179e"
             ],
             [
              0.4444444444444444,
              "#bd3786"
             ],
             [
              0.5555555555555556,
              "#d8576b"
             ],
             [
              0.6666666666666666,
              "#ed7953"
             ],
             [
              0.7777777777777778,
              "#fb9f3a"
             ],
             [
              0.8888888888888888,
              "#fdca26"
             ],
             [
              1,
              "#f0f921"
             ]
            ],
            "type": "contour"
           }
          ],
          "contourcarpet": [
           {
            "colorbar": {
             "outlinewidth": 0,
             "ticks": ""
            },
            "type": "contourcarpet"
           }
          ],
          "heatmap": [
           {
            "colorbar": {
             "outlinewidth": 0,
             "ticks": ""
            },
            "colorscale": [
             [
              0,
              "#0d0887"
             ],
             [
              0.1111111111111111,
              "#46039f"
             ],
             [
              0.2222222222222222,
              "#7201a8"
             ],
             [
              0.3333333333333333,
              "#9c179e"
             ],
             [
              0.4444444444444444,
              "#bd3786"
             ],
             [
              0.5555555555555556,
              "#d8576b"
             ],
             [
              0.6666666666666666,
              "#ed7953"
             ],
             [
              0.7777777777777778,
              "#fb9f3a"
             ],
             [
              0.8888888888888888,
              "#fdca26"
             ],
             [
              1,
              "#f0f921"
             ]
            ],
            "type": "heatmap"
           }
          ],
          "heatmapgl": [
           {
            "colorbar": {
             "outlinewidth": 0,
             "ticks": ""
            },
            "colorscale": [
             [
              0,
              "#0d0887"
             ],
             [
              0.1111111111111111,
              "#46039f"
             ],
             [
              0.2222222222222222,
              "#7201a8"
             ],
             [
              0.3333333333333333,
              "#9c179e"
             ],
             [
              0.4444444444444444,
              "#bd3786"
             ],
             [
              0.5555555555555556,
              "#d8576b"
             ],
             [
              0.6666666666666666,
              "#ed7953"
             ],
             [
              0.7777777777777778,
              "#fb9f3a"
             ],
             [
              0.8888888888888888,
              "#fdca26"
             ],
             [
              1,
              "#f0f921"
             ]
            ],
            "type": "heatmapgl"
           }
          ],
          "histogram": [
           {
            "marker": {
             "colorbar": {
              "outlinewidth": 0,
              "ticks": ""
             }
            },
            "type": "histogram"
           }
          ],
          "histogram2d": [
           {
            "colorbar": {
             "outlinewidth": 0,
             "ticks": ""
            },
            "colorscale": [
             [
              0,
              "#0d0887"
             ],
             [
              0.1111111111111111,
              "#46039f"
             ],
             [
              0.2222222222222222,
              "#7201a8"
             ],
             [
              0.3333333333333333,
              "#9c179e"
             ],
             [
              0.4444444444444444,
              "#bd3786"
             ],
             [
              0.5555555555555556,
              "#d8576b"
             ],
             [
              0.6666666666666666,
              "#ed7953"
             ],
             [
              0.7777777777777778,
              "#fb9f3a"
             ],
             [
              0.8888888888888888,
              "#fdca26"
             ],
             [
              1,
              "#f0f921"
             ]
            ],
            "type": "histogram2d"
           }
          ],
          "histogram2dcontour": [
           {
            "colorbar": {
             "outlinewidth": 0,
             "ticks": ""
            },
            "colorscale": [
             [
              0,
              "#0d0887"
             ],
             [
              0.1111111111111111,
              "#46039f"
             ],
             [
              0.2222222222222222,
              "#7201a8"
             ],
             [
              0.3333333333333333,
              "#9c179e"
             ],
             [
              0.4444444444444444,
              "#bd3786"
             ],
             [
              0.5555555555555556,
              "#d8576b"
             ],
             [
              0.6666666666666666,
              "#ed7953"
             ],
             [
              0.7777777777777778,
              "#fb9f3a"
             ],
             [
              0.8888888888888888,
              "#fdca26"
             ],
             [
              1,
              "#f0f921"
             ]
            ],
            "type": "histogram2dcontour"
           }
          ],
          "mesh3d": [
           {
            "colorbar": {
             "outlinewidth": 0,
             "ticks": ""
            },
            "type": "mesh3d"
           }
          ],
          "parcoords": [
           {
            "line": {
             "colorbar": {
              "outlinewidth": 0,
              "ticks": ""
             }
            },
            "type": "parcoords"
           }
          ],
          "pie": [
           {
            "automargin": true,
            "type": "pie"
           }
          ],
          "scatter": [
           {
            "marker": {
             "colorbar": {
              "outlinewidth": 0,
              "ticks": ""
             }
            },
            "type": "scatter"
           }
          ],
          "scatter3d": [
           {
            "line": {
             "colorbar": {
              "outlinewidth": 0,
              "ticks": ""
             }
            },
            "marker": {
             "colorbar": {
              "outlinewidth": 0,
              "ticks": ""
             }
            },
            "type": "scatter3d"
           }
          ],
          "scattercarpet": [
           {
            "marker": {
             "colorbar": {
              "outlinewidth": 0,
              "ticks": ""
             }
            },
            "type": "scattercarpet"
           }
          ],
          "scattergeo": [
           {
            "marker": {
             "colorbar": {
              "outlinewidth": 0,
              "ticks": ""
             }
            },
            "type": "scattergeo"
           }
          ],
          "scattergl": [
           {
            "marker": {
             "colorbar": {
              "outlinewidth": 0,
              "ticks": ""
             }
            },
            "type": "scattergl"
           }
          ],
          "scattermapbox": [
           {
            "marker": {
             "colorbar": {
              "outlinewidth": 0,
              "ticks": ""
             }
            },
            "type": "scattermapbox"
           }
          ],
          "scatterpolar": [
           {
            "marker": {
             "colorbar": {
              "outlinewidth": 0,
              "ticks": ""
             }
            },
            "type": "scatterpolar"
           }
          ],
          "scatterpolargl": [
           {
            "marker": {
             "colorbar": {
              "outlinewidth": 0,
              "ticks": ""
             }
            },
            "type": "scatterpolargl"
           }
          ],
          "scatterternary": [
           {
            "marker": {
             "colorbar": {
              "outlinewidth": 0,
              "ticks": ""
             }
            },
            "type": "scatterternary"
           }
          ],
          "surface": [
           {
            "colorbar": {
             "outlinewidth": 0,
             "ticks": ""
            },
            "colorscale": [
             [
              0,
              "#0d0887"
             ],
             [
              0.1111111111111111,
              "#46039f"
             ],
             [
              0.2222222222222222,
              "#7201a8"
             ],
             [
              0.3333333333333333,
              "#9c179e"
             ],
             [
              0.4444444444444444,
              "#bd3786"
             ],
             [
              0.5555555555555556,
              "#d8576b"
             ],
             [
              0.6666666666666666,
              "#ed7953"
             ],
             [
              0.7777777777777778,
              "#fb9f3a"
             ],
             [
              0.8888888888888888,
              "#fdca26"
             ],
             [
              1,
              "#f0f921"
             ]
            ],
            "type": "surface"
           }
          ],
          "table": [
           {
            "cells": {
             "fill": {
              "color": "#EBF0F8"
             },
             "line": {
              "color": "white"
             }
            },
            "header": {
             "fill": {
              "color": "#C8D4E3"
             },
             "line": {
              "color": "white"
             }
            },
            "type": "table"
           }
          ]
         },
         "layout": {
          "annotationdefaults": {
           "arrowcolor": "#2a3f5f",
           "arrowhead": 0,
           "arrowwidth": 1
          },
          "coloraxis": {
           "colorbar": {
            "outlinewidth": 0,
            "ticks": ""
           }
          },
          "colorscale": {
           "diverging": [
            [
             0,
             "#8e0152"
            ],
            [
             0.1,
             "#c51b7d"
            ],
            [
             0.2,
             "#de77ae"
            ],
            [
             0.3,
             "#f1b6da"
            ],
            [
             0.4,
             "#fde0ef"
            ],
            [
             0.5,
             "#f7f7f7"
            ],
            [
             0.6,
             "#e6f5d0"
            ],
            [
             0.7,
             "#b8e186"
            ],
            [
             0.8,
             "#7fbc41"
            ],
            [
             0.9,
             "#4d9221"
            ],
            [
             1,
             "#276419"
            ]
           ],
           "sequential": [
            [
             0,
             "#0d0887"
            ],
            [
             0.1111111111111111,
             "#46039f"
            ],
            [
             0.2222222222222222,
             "#7201a8"
            ],
            [
             0.3333333333333333,
             "#9c179e"
            ],
            [
             0.4444444444444444,
             "#bd3786"
            ],
            [
             0.5555555555555556,
             "#d8576b"
            ],
            [
             0.6666666666666666,
             "#ed7953"
            ],
            [
             0.7777777777777778,
             "#fb9f3a"
            ],
            [
             0.8888888888888888,
             "#fdca26"
            ],
            [
             1,
             "#f0f921"
            ]
           ],
           "sequentialminus": [
            [
             0,
             "#0d0887"
            ],
            [
             0.1111111111111111,
             "#46039f"
            ],
            [
             0.2222222222222222,
             "#7201a8"
            ],
            [
             0.3333333333333333,
             "#9c179e"
            ],
            [
             0.4444444444444444,
             "#bd3786"
            ],
            [
             0.5555555555555556,
             "#d8576b"
            ],
            [
             0.6666666666666666,
             "#ed7953"
            ],
            [
             0.7777777777777778,
             "#fb9f3a"
            ],
            [
             0.8888888888888888,
             "#fdca26"
            ],
            [
             1,
             "#f0f921"
            ]
           ]
          },
          "colorway": [
           "#636efa",
           "#EF553B",
           "#00cc96",
           "#ab63fa",
           "#FFA15A",
           "#19d3f3",
           "#FF6692",
           "#B6E880",
           "#FF97FF",
           "#FECB52"
          ],
          "font": {
           "color": "#2a3f5f"
          },
          "geo": {
           "bgcolor": "white",
           "lakecolor": "white",
           "landcolor": "#E5ECF6",
           "showlakes": true,
           "showland": true,
           "subunitcolor": "white"
          },
          "hoverlabel": {
           "align": "left"
          },
          "hovermode": "closest",
          "mapbox": {
           "style": "light"
          },
          "paper_bgcolor": "white",
          "plot_bgcolor": "#E5ECF6",
          "polar": {
           "angularaxis": {
            "gridcolor": "white",
            "linecolor": "white",
            "ticks": ""
           },
           "bgcolor": "#E5ECF6",
           "radialaxis": {
            "gridcolor": "white",
            "linecolor": "white",
            "ticks": ""
           }
          },
          "scene": {
           "xaxis": {
            "backgroundcolor": "#E5ECF6",
            "gridcolor": "white",
            "gridwidth": 2,
            "linecolor": "white",
            "showbackground": true,
            "ticks": "",
            "zerolinecolor": "white"
           },
           "yaxis": {
            "backgroundcolor": "#E5ECF6",
            "gridcolor": "white",
            "gridwidth": 2,
            "linecolor": "white",
            "showbackground": true,
            "ticks": "",
            "zerolinecolor": "white"
           },
           "zaxis": {
            "backgroundcolor": "#E5ECF6",
            "gridcolor": "white",
            "gridwidth": 2,
            "linecolor": "white",
            "showbackground": true,
            "ticks": "",
            "zerolinecolor": "white"
           }
          },
          "shapedefaults": {
           "line": {
            "color": "#2a3f5f"
           }
          },
          "ternary": {
           "aaxis": {
            "gridcolor": "white",
            "linecolor": "white",
            "ticks": ""
           },
           "baxis": {
            "gridcolor": "white",
            "linecolor": "white",
            "ticks": ""
           },
           "bgcolor": "#E5ECF6",
           "caxis": {
            "gridcolor": "white",
            "linecolor": "white",
            "ticks": ""
           }
          },
          "title": {
           "x": 0.05
          },
          "xaxis": {
           "automargin": true,
           "gridcolor": "white",
           "linecolor": "white",
           "ticks": "",
           "title": {
            "standoff": 15
           },
           "zerolinecolor": "white",
           "zerolinewidth": 2
          },
          "yaxis": {
           "automargin": true,
           "gridcolor": "white",
           "linecolor": "white",
           "ticks": "",
           "title": {
            "standoff": 15
           },
           "zerolinecolor": "white",
           "zerolinewidth": 2
          }
         }
        },
        "title": {
         "font": {
          "color": "#4D5663"
         },
         "text": "Use of Registered bikes Vs Casual bikes by month"
        },
        "xaxis": {
         "gridcolor": "#E1E5ED",
         "showgrid": true,
         "tickfont": {
          "color": "#4D5663"
         },
         "title": {
          "font": {
           "color": "#4D5663"
          },
          "text": "Months"
         },
         "zerolinecolor": "#E1E5ED"
        },
        "yaxis": {
         "gridcolor": "#E1E5ED",
         "showgrid": true,
         "tickfont": {
          "color": "#4D5663"
         },
         "title": {
          "font": {
           "color": "#4D5663"
          },
          "text": "Number of users"
         },
         "zerolinecolor": "#E1E5ED"
        }
       }
      },
      "text/html": [
       "<div>                            <div id=\"bdaf313b-4765-4266-99c0-bd02e0c87bb0\" class=\"plotly-graph-div\" style=\"height:525px; width:100%;\"></div>            <script type=\"text/javascript\">                require([\"plotly\"], function(Plotly) {                    window.PLOTLYENV=window.PLOTLYENV || {};\n",
       "                    window.PLOTLYENV.BASE_URL='https://plot.ly';                                    if (document.getElementById(\"bdaf313b-4765-4266-99c0-bd02e0c87bb0\")) {                    Plotly.newPlot(                        \"bdaf313b-4765-4266-99c0-bd02e0c87bb0\",                        [{\"marker\": {\"color\": \"rgba(255, 153, 51, 0.6)\", \"line\": {\"color\": \"rgba(255, 153, 51, 1.0)\", \"width\": 1}}, \"name\": \"registered\", \"orientation\": \"v\", \"text\": \"\", \"type\": \"bar\", \"x\": [\"2011-01-31\", \"2011-02-28\", \"2011-03-31\", \"2011-04-30\", \"2011-05-31\", \"2011-06-30\", \"2011-07-31\", \"2011-08-31\", \"2011-09-30\", \"2011-10-31\", \"2011-11-30\", \"2011-12-31\", \"2012-01-31\", \"2012-02-29\", \"2012-03-31\", \"2012-04-30\", \"2012-05-31\", \"2012-06-30\", \"2012-07-31\", \"2012-08-31\", \"2012-09-30\", \"2012-10-31\", \"2012-11-30\", \"2012-12-31\"], \"y\": [35116, 41973, 51219, 72524, 104771, 112900, 104889, 107849, 100873, 98289, 86573, 78875, 87775, 94416, 133257, 135768, 151630, 159536, 161902, 171306, 174795, 164303, 131655, 110468]}, {\"marker\": {\"color\": \"rgba(55, 128, 191, 0.6)\", \"line\": {\"color\": \"rgba(55, 128, 191, 1.0)\", \"width\": 1}}, \"name\": \"casual\", \"orientation\": \"v\", \"text\": \"\", \"type\": \"bar\", \"x\": [\"2011-01-31\", \"2011-02-28\", \"2011-03-31\", \"2011-04-30\", \"2011-05-31\", \"2011-06-30\", \"2011-07-31\", \"2011-08-31\", \"2011-09-30\", \"2011-10-31\", \"2011-11-30\", \"2011-12-31\", \"2012-01-31\", \"2012-02-29\", \"2012-03-31\", \"2012-04-30\", \"2012-05-31\", \"2012-06-30\", \"2012-07-31\", \"2012-08-31\", \"2012-09-30\", \"2012-10-31\", \"2012-11-30\", \"2012-12-31\"], \"y\": [3073, 6242, 12826, 22346, 31050, 30612, 36452, 28842, 26545, 25222, 15594, 8448, 8969, 8721, 31618, 38456, 44235, 43294, 41705, 43197, 43778, 34538, 21009, 13245]}],                        {\"legend\": {\"bgcolor\": \"#F5F6F9\", \"font\": {\"color\": \"#4D5663\"}}, \"paper_bgcolor\": \"#F5F6F9\", \"plot_bgcolor\": \"#F5F6F9\", \"template\": {\"data\": {\"bar\": [{\"error_x\": {\"color\": \"#2a3f5f\"}, \"error_y\": {\"color\": \"#2a3f5f\"}, \"marker\": {\"line\": {\"color\": \"#E5ECF6\", \"width\": 0.5}}, \"type\": \"bar\"}], \"barpolar\": [{\"marker\": {\"line\": {\"color\": \"#E5ECF6\", \"width\": 0.5}}, \"type\": \"barpolar\"}], \"carpet\": [{\"aaxis\": {\"endlinecolor\": \"#2a3f5f\", \"gridcolor\": \"white\", \"linecolor\": \"white\", \"minorgridcolor\": \"white\", \"startlinecolor\": \"#2a3f5f\"}, \"baxis\": {\"endlinecolor\": \"#2a3f5f\", \"gridcolor\": \"white\", \"linecolor\": \"white\", \"minorgridcolor\": \"white\", \"startlinecolor\": \"#2a3f5f\"}, \"type\": \"carpet\"}], \"choropleth\": [{\"colorbar\": {\"outlinewidth\": 0, \"ticks\": \"\"}, \"type\": \"choropleth\"}], \"contour\": [{\"colorbar\": {\"outlinewidth\": 0, \"ticks\": \"\"}, \"colorscale\": [[0.0, \"#0d0887\"], [0.1111111111111111, \"#46039f\"], [0.2222222222222222, \"#7201a8\"], [0.3333333333333333, \"#9c179e\"], [0.4444444444444444, \"#bd3786\"], [0.5555555555555556, \"#d8576b\"], [0.6666666666666666, \"#ed7953\"], [0.7777777777777778, \"#fb9f3a\"], [0.8888888888888888, \"#fdca26\"], [1.0, \"#f0f921\"]], \"type\": \"contour\"}], \"contourcarpet\": [{\"colorbar\": {\"outlinewidth\": 0, \"ticks\": \"\"}, \"type\": \"contourcarpet\"}], \"heatmap\": [{\"colorbar\": {\"outlinewidth\": 0, \"ticks\": \"\"}, \"colorscale\": [[0.0, \"#0d0887\"], [0.1111111111111111, \"#46039f\"], [0.2222222222222222, \"#7201a8\"], [0.3333333333333333, \"#9c179e\"], [0.4444444444444444, \"#bd3786\"], [0.5555555555555556, \"#d8576b\"], [0.6666666666666666, \"#ed7953\"], [0.7777777777777778, \"#fb9f3a\"], [0.8888888888888888, \"#fdca26\"], [1.0, \"#f0f921\"]], \"type\": \"heatmap\"}], \"heatmapgl\": [{\"colorbar\": {\"outlinewidth\": 0, \"ticks\": \"\"}, \"colorscale\": [[0.0, \"#0d0887\"], [0.1111111111111111, \"#46039f\"], [0.2222222222222222, \"#7201a8\"], [0.3333333333333333, \"#9c179e\"], [0.4444444444444444, \"#bd3786\"], [0.5555555555555556, \"#d8576b\"], [0.6666666666666666, \"#ed7953\"], [0.7777777777777778, \"#fb9f3a\"], [0.8888888888888888, \"#fdca26\"], [1.0, \"#f0f921\"]], \"type\": \"heatmapgl\"}], \"histogram\": [{\"marker\": {\"colorbar\": {\"outlinewidth\": 0, \"ticks\": \"\"}}, \"type\": \"histogram\"}], \"histogram2d\": [{\"colorbar\": {\"outlinewidth\": 0, \"ticks\": \"\"}, \"colorscale\": [[0.0, \"#0d0887\"], [0.1111111111111111, \"#46039f\"], [0.2222222222222222, \"#7201a8\"], [0.3333333333333333, \"#9c179e\"], [0.4444444444444444, \"#bd3786\"], [0.5555555555555556, \"#d8576b\"], [0.6666666666666666, \"#ed7953\"], [0.7777777777777778, \"#fb9f3a\"], [0.8888888888888888, \"#fdca26\"], [1.0, \"#f0f921\"]], \"type\": \"histogram2d\"}], \"histogram2dcontour\": [{\"colorbar\": {\"outlinewidth\": 0, \"ticks\": \"\"}, \"colorscale\": [[0.0, \"#0d0887\"], [0.1111111111111111, \"#46039f\"], [0.2222222222222222, \"#7201a8\"], [0.3333333333333333, \"#9c179e\"], [0.4444444444444444, \"#bd3786\"], [0.5555555555555556, \"#d8576b\"], [0.6666666666666666, \"#ed7953\"], [0.7777777777777778, \"#fb9f3a\"], [0.8888888888888888, \"#fdca26\"], [1.0, \"#f0f921\"]], \"type\": \"histogram2dcontour\"}], \"mesh3d\": [{\"colorbar\": {\"outlinewidth\": 0, \"ticks\": \"\"}, \"type\": \"mesh3d\"}], \"parcoords\": [{\"line\": {\"colorbar\": {\"outlinewidth\": 0, \"ticks\": \"\"}}, \"type\": \"parcoords\"}], \"pie\": [{\"automargin\": true, \"type\": \"pie\"}], \"scatter\": [{\"marker\": {\"colorbar\": {\"outlinewidth\": 0, \"ticks\": \"\"}}, \"type\": \"scatter\"}], \"scatter3d\": [{\"line\": {\"colorbar\": {\"outlinewidth\": 0, \"ticks\": \"\"}}, \"marker\": {\"colorbar\": {\"outlinewidth\": 0, \"ticks\": \"\"}}, \"type\": \"scatter3d\"}], \"scattercarpet\": [{\"marker\": {\"colorbar\": {\"outlinewidth\": 0, \"ticks\": \"\"}}, \"type\": \"scattercarpet\"}], \"scattergeo\": [{\"marker\": {\"colorbar\": {\"outlinewidth\": 0, \"ticks\": \"\"}}, \"type\": \"scattergeo\"}], \"scattergl\": [{\"marker\": {\"colorbar\": {\"outlinewidth\": 0, \"ticks\": \"\"}}, \"type\": \"scattergl\"}], \"scattermapbox\": [{\"marker\": {\"colorbar\": {\"outlinewidth\": 0, \"ticks\": \"\"}}, \"type\": \"scattermapbox\"}], \"scatterpolar\": [{\"marker\": {\"colorbar\": {\"outlinewidth\": 0, \"ticks\": \"\"}}, \"type\": \"scatterpolar\"}], \"scatterpolargl\": [{\"marker\": {\"colorbar\": {\"outlinewidth\": 0, \"ticks\": \"\"}}, \"type\": \"scatterpolargl\"}], \"scatterternary\": [{\"marker\": {\"colorbar\": {\"outlinewidth\": 0, \"ticks\": \"\"}}, \"type\": \"scatterternary\"}], \"surface\": [{\"colorbar\": {\"outlinewidth\": 0, \"ticks\": \"\"}, \"colorscale\": [[0.0, \"#0d0887\"], [0.1111111111111111, \"#46039f\"], [0.2222222222222222, \"#7201a8\"], [0.3333333333333333, \"#9c179e\"], [0.4444444444444444, \"#bd3786\"], [0.5555555555555556, \"#d8576b\"], [0.6666666666666666, \"#ed7953\"], [0.7777777777777778, \"#fb9f3a\"], [0.8888888888888888, \"#fdca26\"], [1.0, \"#f0f921\"]], \"type\": \"surface\"}], \"table\": [{\"cells\": {\"fill\": {\"color\": \"#EBF0F8\"}, \"line\": {\"color\": \"white\"}}, \"header\": {\"fill\": {\"color\": \"#C8D4E3\"}, \"line\": {\"color\": \"white\"}}, \"type\": \"table\"}]}, \"layout\": {\"annotationdefaults\": {\"arrowcolor\": \"#2a3f5f\", \"arrowhead\": 0, \"arrowwidth\": 1}, \"coloraxis\": {\"colorbar\": {\"outlinewidth\": 0, \"ticks\": \"\"}}, \"colorscale\": {\"diverging\": [[0, \"#8e0152\"], [0.1, \"#c51b7d\"], [0.2, \"#de77ae\"], [0.3, \"#f1b6da\"], [0.4, \"#fde0ef\"], [0.5, \"#f7f7f7\"], [0.6, \"#e6f5d0\"], [0.7, \"#b8e186\"], [0.8, \"#7fbc41\"], [0.9, \"#4d9221\"], [1, \"#276419\"]], \"sequential\": [[0.0, \"#0d0887\"], [0.1111111111111111, \"#46039f\"], [0.2222222222222222, \"#7201a8\"], [0.3333333333333333, \"#9c179e\"], [0.4444444444444444, \"#bd3786\"], [0.5555555555555556, \"#d8576b\"], [0.6666666666666666, \"#ed7953\"], [0.7777777777777778, \"#fb9f3a\"], [0.8888888888888888, \"#fdca26\"], [1.0, \"#f0f921\"]], \"sequentialminus\": [[0.0, \"#0d0887\"], [0.1111111111111111, \"#46039f\"], [0.2222222222222222, \"#7201a8\"], [0.3333333333333333, \"#9c179e\"], [0.4444444444444444, \"#bd3786\"], [0.5555555555555556, \"#d8576b\"], [0.6666666666666666, \"#ed7953\"], [0.7777777777777778, \"#fb9f3a\"], [0.8888888888888888, \"#fdca26\"], [1.0, \"#f0f921\"]]}, \"colorway\": [\"#636efa\", \"#EF553B\", \"#00cc96\", \"#ab63fa\", \"#FFA15A\", \"#19d3f3\", \"#FF6692\", \"#B6E880\", \"#FF97FF\", \"#FECB52\"], \"font\": {\"color\": \"#2a3f5f\"}, \"geo\": {\"bgcolor\": \"white\", \"lakecolor\": \"white\", \"landcolor\": \"#E5ECF6\", \"showlakes\": true, \"showland\": true, \"subunitcolor\": \"white\"}, \"hoverlabel\": {\"align\": \"left\"}, \"hovermode\": \"closest\", \"mapbox\": {\"style\": \"light\"}, \"paper_bgcolor\": \"white\", \"plot_bgcolor\": \"#E5ECF6\", \"polar\": {\"angularaxis\": {\"gridcolor\": \"white\", \"linecolor\": \"white\", \"ticks\": \"\"}, \"bgcolor\": \"#E5ECF6\", \"radialaxis\": {\"gridcolor\": \"white\", \"linecolor\": \"white\", \"ticks\": \"\"}}, \"scene\": {\"xaxis\": {\"backgroundcolor\": \"#E5ECF6\", \"gridcolor\": \"white\", \"gridwidth\": 2, \"linecolor\": \"white\", \"showbackground\": true, \"ticks\": \"\", \"zerolinecolor\": \"white\"}, \"yaxis\": {\"backgroundcolor\": \"#E5ECF6\", \"gridcolor\": \"white\", \"gridwidth\": 2, \"linecolor\": \"white\", \"showbackground\": true, \"ticks\": \"\", \"zerolinecolor\": \"white\"}, \"zaxis\": {\"backgroundcolor\": \"#E5ECF6\", \"gridcolor\": \"white\", \"gridwidth\": 2, \"linecolor\": \"white\", \"showbackground\": true, \"ticks\": \"\", \"zerolinecolor\": \"white\"}}, \"shapedefaults\": {\"line\": {\"color\": \"#2a3f5f\"}}, \"ternary\": {\"aaxis\": {\"gridcolor\": \"white\", \"linecolor\": \"white\", \"ticks\": \"\"}, \"baxis\": {\"gridcolor\": \"white\", \"linecolor\": \"white\", \"ticks\": \"\"}, \"bgcolor\": \"#E5ECF6\", \"caxis\": {\"gridcolor\": \"white\", \"linecolor\": \"white\", \"ticks\": \"\"}}, \"title\": {\"x\": 0.05}, \"xaxis\": {\"automargin\": true, \"gridcolor\": \"white\", \"linecolor\": \"white\", \"ticks\": \"\", \"title\": {\"standoff\": 15}, \"zerolinecolor\": \"white\", \"zerolinewidth\": 2}, \"yaxis\": {\"automargin\": true, \"gridcolor\": \"white\", \"linecolor\": \"white\", \"ticks\": \"\", \"title\": {\"standoff\": 15}, \"zerolinecolor\": \"white\", \"zerolinewidth\": 2}}}, \"title\": {\"font\": {\"color\": \"#4D5663\"}, \"text\": \"Use of Registered bikes Vs Casual bikes by month\"}, \"xaxis\": {\"gridcolor\": \"#E1E5ED\", \"showgrid\": true, \"tickfont\": {\"color\": \"#4D5663\"}, \"title\": {\"font\": {\"color\": \"#4D5663\"}, \"text\": \"Months\"}, \"zerolinecolor\": \"#E1E5ED\"}, \"yaxis\": {\"gridcolor\": \"#E1E5ED\", \"showgrid\": true, \"tickfont\": {\"color\": \"#4D5663\"}, \"title\": {\"font\": {\"color\": \"#4D5663\"}, \"text\": \"Number of users\"}, \"zerolinecolor\": \"#E1E5ED\"}},                        {\"showLink\": true, \"linkText\": \"Export to plot.ly\", \"plotlyServerURL\": \"https://plot.ly\", \"responsive\": true}                    ).then(function(){\n",
       "                            \n",
       "var gd = document.getElementById('bdaf313b-4765-4266-99c0-bd02e0c87bb0');\n",
       "var x = new MutationObserver(function (mutations, observer) {{\n",
       "        var display = window.getComputedStyle(gd).display;\n",
       "        if (!display || display === 'none') {{\n",
       "            console.log([gd, 'removed!']);\n",
       "            Plotly.purge(gd);\n",
       "            observer.disconnect();\n",
       "        }}\n",
       "}});\n",
       "\n",
       "// Listen for the removal of the full notebook cells\n",
       "var notebookContainer = gd.closest('#notebook-container');\n",
       "if (notebookContainer) {{\n",
       "    x.observe(notebookContainer, {childList: true});\n",
       "}}\n",
       "\n",
       "// Listen for the clearing of the current output cell\n",
       "var outputEl = gd.closest('.output');\n",
       "if (outputEl) {{\n",
       "    x.observe(outputEl, {childList: true});\n",
       "}}\n",
       "\n",
       "                        })                };                });            </script>        </div>"
      ]
     },
     "metadata": {},
     "output_type": "display_data"
    }
   ],
   "source": [
    "monthly[['registered','casual']].iplot(kind='bar',\n",
    "                            title='Use of Registered bikes Vs Casual bikes by month',         \n",
    "                            xTitle='Months',\n",
    "                            yTitle='Number of users')"
   ]
  },
  {
   "cell_type": "markdown",
   "metadata": {},
   "source": [
    "<span style=\"background-color: #DAF7A6\">The above figure concludes that May 2012 has the most casual bike users whereas for the registered users, it was the month of September 2012.</span>"
   ]
  },
  {
   "cell_type": "markdown",
   "metadata": {},
   "source": [
    "# <span style=\"background-color: #CBBDB6\">Grouping by season"
   ]
  },
  {
   "cell_type": "code",
   "execution_count": 23,
   "metadata": {
    "ExecuteTime": {
     "end_time": "2020-12-10T11:13:49.573966Z",
     "start_time": "2020-12-10T11:13:49.550919Z"
    }
   },
   "outputs": [],
   "source": [
    "bySeason = bike_share.groupby('season').sum()\n",
    "#bySeason\n"
   ]
  },
  {
   "cell_type": "code",
   "execution_count": 24,
   "metadata": {
    "ExecuteTime": {
     "end_time": "2020-12-10T11:13:49.615646Z",
     "start_time": "2020-12-10T11:13:49.595007Z"
    }
   },
   "outputs": [],
   "source": [
    "#sns.kdeplot(bySeason['casual'],shade=True)\n",
    "#sns.kdeplot(bySeason['registered'],shade=True)\n",
    "#plt.show()"
   ]
  },
  {
   "cell_type": "code",
   "execution_count": 25,
   "metadata": {
    "ExecuteTime": {
     "end_time": "2020-12-10T11:13:49.771780Z",
     "start_time": "2020-12-10T11:13:49.643049Z"
    }
   },
   "outputs": [
    {
     "data": {
      "application/vnd.plotly.v1+json": {
       "config": {
        "linkText": "Export to plot.ly",
        "plotlyServerURL": "https://plot.ly",
        "showLink": true
       },
       "data": [
        {
         "marker": {
          "color": "rgba(255, 153, 51, 0.6)",
          "line": {
           "color": "rgba(255, 153, 51, 1.0)",
           "width": 1
          }
         },
         "name": "registered",
         "orientation": "v",
         "text": "",
         "type": "bar",
         "x": [
          1,
          2,
          3,
          4
         ],
         "y": [
          410726,
          715067,
          835038,
          711831
         ]
        },
        {
         "marker": {
          "color": "rgba(55, 128, 191, 0.6)",
          "line": {
           "color": "rgba(55, 128, 191, 1.0)",
           "width": 1
          }
         },
         "name": "casual",
         "orientation": "v",
         "text": "",
         "type": "bar",
         "x": [
          1,
          2,
          3,
          4
         ],
         "y": [
          60622,
          203522,
          226091,
          129782
         ]
        }
       ],
       "layout": {
        "legend": {
         "bgcolor": "#F5F6F9",
         "font": {
          "color": "#4D5663"
         }
        },
        "paper_bgcolor": "#F5F6F9",
        "plot_bgcolor": "#F5F6F9",
        "template": {
         "data": {
          "bar": [
           {
            "error_x": {
             "color": "#2a3f5f"
            },
            "error_y": {
             "color": "#2a3f5f"
            },
            "marker": {
             "line": {
              "color": "#E5ECF6",
              "width": 0.5
             }
            },
            "type": "bar"
           }
          ],
          "barpolar": [
           {
            "marker": {
             "line": {
              "color": "#E5ECF6",
              "width": 0.5
             }
            },
            "type": "barpolar"
           }
          ],
          "carpet": [
           {
            "aaxis": {
             "endlinecolor": "#2a3f5f",
             "gridcolor": "white",
             "linecolor": "white",
             "minorgridcolor": "white",
             "startlinecolor": "#2a3f5f"
            },
            "baxis": {
             "endlinecolor": "#2a3f5f",
             "gridcolor": "white",
             "linecolor": "white",
             "minorgridcolor": "white",
             "startlinecolor": "#2a3f5f"
            },
            "type": "carpet"
           }
          ],
          "choropleth": [
           {
            "colorbar": {
             "outlinewidth": 0,
             "ticks": ""
            },
            "type": "choropleth"
           }
          ],
          "contour": [
           {
            "colorbar": {
             "outlinewidth": 0,
             "ticks": ""
            },
            "colorscale": [
             [
              0,
              "#0d0887"
             ],
             [
              0.1111111111111111,
              "#46039f"
             ],
             [
              0.2222222222222222,
              "#7201a8"
             ],
             [
              0.3333333333333333,
              "#9c179e"
             ],
             [
              0.4444444444444444,
              "#bd3786"
             ],
             [
              0.5555555555555556,
              "#d8576b"
             ],
             [
              0.6666666666666666,
              "#ed7953"
             ],
             [
              0.7777777777777778,
              "#fb9f3a"
             ],
             [
              0.8888888888888888,
              "#fdca26"
             ],
             [
              1,
              "#f0f921"
             ]
            ],
            "type": "contour"
           }
          ],
          "contourcarpet": [
           {
            "colorbar": {
             "outlinewidth": 0,
             "ticks": ""
            },
            "type": "contourcarpet"
           }
          ],
          "heatmap": [
           {
            "colorbar": {
             "outlinewidth": 0,
             "ticks": ""
            },
            "colorscale": [
             [
              0,
              "#0d0887"
             ],
             [
              0.1111111111111111,
              "#46039f"
             ],
             [
              0.2222222222222222,
              "#7201a8"
             ],
             [
              0.3333333333333333,
              "#9c179e"
             ],
             [
              0.4444444444444444,
              "#bd3786"
             ],
             [
              0.5555555555555556,
              "#d8576b"
             ],
             [
              0.6666666666666666,
              "#ed7953"
             ],
             [
              0.7777777777777778,
              "#fb9f3a"
             ],
             [
              0.8888888888888888,
              "#fdca26"
             ],
             [
              1,
              "#f0f921"
             ]
            ],
            "type": "heatmap"
           }
          ],
          "heatmapgl": [
           {
            "colorbar": {
             "outlinewidth": 0,
             "ticks": ""
            },
            "colorscale": [
             [
              0,
              "#0d0887"
             ],
             [
              0.1111111111111111,
              "#46039f"
             ],
             [
              0.2222222222222222,
              "#7201a8"
             ],
             [
              0.3333333333333333,
              "#9c179e"
             ],
             [
              0.4444444444444444,
              "#bd3786"
             ],
             [
              0.5555555555555556,
              "#d8576b"
             ],
             [
              0.6666666666666666,
              "#ed7953"
             ],
             [
              0.7777777777777778,
              "#fb9f3a"
             ],
             [
              0.8888888888888888,
              "#fdca26"
             ],
             [
              1,
              "#f0f921"
             ]
            ],
            "type": "heatmapgl"
           }
          ],
          "histogram": [
           {
            "marker": {
             "colorbar": {
              "outlinewidth": 0,
              "ticks": ""
             }
            },
            "type": "histogram"
           }
          ],
          "histogram2d": [
           {
            "colorbar": {
             "outlinewidth": 0,
             "ticks": ""
            },
            "colorscale": [
             [
              0,
              "#0d0887"
             ],
             [
              0.1111111111111111,
              "#46039f"
             ],
             [
              0.2222222222222222,
              "#7201a8"
             ],
             [
              0.3333333333333333,
              "#9c179e"
             ],
             [
              0.4444444444444444,
              "#bd3786"
             ],
             [
              0.5555555555555556,
              "#d8576b"
             ],
             [
              0.6666666666666666,
              "#ed7953"
             ],
             [
              0.7777777777777778,
              "#fb9f3a"
             ],
             [
              0.8888888888888888,
              "#fdca26"
             ],
             [
              1,
              "#f0f921"
             ]
            ],
            "type": "histogram2d"
           }
          ],
          "histogram2dcontour": [
           {
            "colorbar": {
             "outlinewidth": 0,
             "ticks": ""
            },
            "colorscale": [
             [
              0,
              "#0d0887"
             ],
             [
              0.1111111111111111,
              "#46039f"
             ],
             [
              0.2222222222222222,
              "#7201a8"
             ],
             [
              0.3333333333333333,
              "#9c179e"
             ],
             [
              0.4444444444444444,
              "#bd3786"
             ],
             [
              0.5555555555555556,
              "#d8576b"
             ],
             [
              0.6666666666666666,
              "#ed7953"
             ],
             [
              0.7777777777777778,
              "#fb9f3a"
             ],
             [
              0.8888888888888888,
              "#fdca26"
             ],
             [
              1,
              "#f0f921"
             ]
            ],
            "type": "histogram2dcontour"
           }
          ],
          "mesh3d": [
           {
            "colorbar": {
             "outlinewidth": 0,
             "ticks": ""
            },
            "type": "mesh3d"
           }
          ],
          "parcoords": [
           {
            "line": {
             "colorbar": {
              "outlinewidth": 0,
              "ticks": ""
             }
            },
            "type": "parcoords"
           }
          ],
          "pie": [
           {
            "automargin": true,
            "type": "pie"
           }
          ],
          "scatter": [
           {
            "marker": {
             "colorbar": {
              "outlinewidth": 0,
              "ticks": ""
             }
            },
            "type": "scatter"
           }
          ],
          "scatter3d": [
           {
            "line": {
             "colorbar": {
              "outlinewidth": 0,
              "ticks": ""
             }
            },
            "marker": {
             "colorbar": {
              "outlinewidth": 0,
              "ticks": ""
             }
            },
            "type": "scatter3d"
           }
          ],
          "scattercarpet": [
           {
            "marker": {
             "colorbar": {
              "outlinewidth": 0,
              "ticks": ""
             }
            },
            "type": "scattercarpet"
           }
          ],
          "scattergeo": [
           {
            "marker": {
             "colorbar": {
              "outlinewidth": 0,
              "ticks": ""
             }
            },
            "type": "scattergeo"
           }
          ],
          "scattergl": [
           {
            "marker": {
             "colorbar": {
              "outlinewidth": 0,
              "ticks": ""
             }
            },
            "type": "scattergl"
           }
          ],
          "scattermapbox": [
           {
            "marker": {
             "colorbar": {
              "outlinewidth": 0,
              "ticks": ""
             }
            },
            "type": "scattermapbox"
           }
          ],
          "scatterpolar": [
           {
            "marker": {
             "colorbar": {
              "outlinewidth": 0,
              "ticks": ""
             }
            },
            "type": "scatterpolar"
           }
          ],
          "scatterpolargl": [
           {
            "marker": {
             "colorbar": {
              "outlinewidth": 0,
              "ticks": ""
             }
            },
            "type": "scatterpolargl"
           }
          ],
          "scatterternary": [
           {
            "marker": {
             "colorbar": {
              "outlinewidth": 0,
              "ticks": ""
             }
            },
            "type": "scatterternary"
           }
          ],
          "surface": [
           {
            "colorbar": {
             "outlinewidth": 0,
             "ticks": ""
            },
            "colorscale": [
             [
              0,
              "#0d0887"
             ],
             [
              0.1111111111111111,
              "#46039f"
             ],
             [
              0.2222222222222222,
              "#7201a8"
             ],
             [
              0.3333333333333333,
              "#9c179e"
             ],
             [
              0.4444444444444444,
              "#bd3786"
             ],
             [
              0.5555555555555556,
              "#d8576b"
             ],
             [
              0.6666666666666666,
              "#ed7953"
             ],
             [
              0.7777777777777778,
              "#fb9f3a"
             ],
             [
              0.8888888888888888,
              "#fdca26"
             ],
             [
              1,
              "#f0f921"
             ]
            ],
            "type": "surface"
           }
          ],
          "table": [
           {
            "cells": {
             "fill": {
              "color": "#EBF0F8"
             },
             "line": {
              "color": "white"
             }
            },
            "header": {
             "fill": {
              "color": "#C8D4E3"
             },
             "line": {
              "color": "white"
             }
            },
            "type": "table"
           }
          ]
         },
         "layout": {
          "annotationdefaults": {
           "arrowcolor": "#2a3f5f",
           "arrowhead": 0,
           "arrowwidth": 1
          },
          "coloraxis": {
           "colorbar": {
            "outlinewidth": 0,
            "ticks": ""
           }
          },
          "colorscale": {
           "diverging": [
            [
             0,
             "#8e0152"
            ],
            [
             0.1,
             "#c51b7d"
            ],
            [
             0.2,
             "#de77ae"
            ],
            [
             0.3,
             "#f1b6da"
            ],
            [
             0.4,
             "#fde0ef"
            ],
            [
             0.5,
             "#f7f7f7"
            ],
            [
             0.6,
             "#e6f5d0"
            ],
            [
             0.7,
             "#b8e186"
            ],
            [
             0.8,
             "#7fbc41"
            ],
            [
             0.9,
             "#4d9221"
            ],
            [
             1,
             "#276419"
            ]
           ],
           "sequential": [
            [
             0,
             "#0d0887"
            ],
            [
             0.1111111111111111,
             "#46039f"
            ],
            [
             0.2222222222222222,
             "#7201a8"
            ],
            [
             0.3333333333333333,
             "#9c179e"
            ],
            [
             0.4444444444444444,
             "#bd3786"
            ],
            [
             0.5555555555555556,
             "#d8576b"
            ],
            [
             0.6666666666666666,
             "#ed7953"
            ],
            [
             0.7777777777777778,
             "#fb9f3a"
            ],
            [
             0.8888888888888888,
             "#fdca26"
            ],
            [
             1,
             "#f0f921"
            ]
           ],
           "sequentialminus": [
            [
             0,
             "#0d0887"
            ],
            [
             0.1111111111111111,
             "#46039f"
            ],
            [
             0.2222222222222222,
             "#7201a8"
            ],
            [
             0.3333333333333333,
             "#9c179e"
            ],
            [
             0.4444444444444444,
             "#bd3786"
            ],
            [
             0.5555555555555556,
             "#d8576b"
            ],
            [
             0.6666666666666666,
             "#ed7953"
            ],
            [
             0.7777777777777778,
             "#fb9f3a"
            ],
            [
             0.8888888888888888,
             "#fdca26"
            ],
            [
             1,
             "#f0f921"
            ]
           ]
          },
          "colorway": [
           "#636efa",
           "#EF553B",
           "#00cc96",
           "#ab63fa",
           "#FFA15A",
           "#19d3f3",
           "#FF6692",
           "#B6E880",
           "#FF97FF",
           "#FECB52"
          ],
          "font": {
           "color": "#2a3f5f"
          },
          "geo": {
           "bgcolor": "white",
           "lakecolor": "white",
           "landcolor": "#E5ECF6",
           "showlakes": true,
           "showland": true,
           "subunitcolor": "white"
          },
          "hoverlabel": {
           "align": "left"
          },
          "hovermode": "closest",
          "mapbox": {
           "style": "light"
          },
          "paper_bgcolor": "white",
          "plot_bgcolor": "#E5ECF6",
          "polar": {
           "angularaxis": {
            "gridcolor": "white",
            "linecolor": "white",
            "ticks": ""
           },
           "bgcolor": "#E5ECF6",
           "radialaxis": {
            "gridcolor": "white",
            "linecolor": "white",
            "ticks": ""
           }
          },
          "scene": {
           "xaxis": {
            "backgroundcolor": "#E5ECF6",
            "gridcolor": "white",
            "gridwidth": 2,
            "linecolor": "white",
            "showbackground": true,
            "ticks": "",
            "zerolinecolor": "white"
           },
           "yaxis": {
            "backgroundcolor": "#E5ECF6",
            "gridcolor": "white",
            "gridwidth": 2,
            "linecolor": "white",
            "showbackground": true,
            "ticks": "",
            "zerolinecolor": "white"
           },
           "zaxis": {
            "backgroundcolor": "#E5ECF6",
            "gridcolor": "white",
            "gridwidth": 2,
            "linecolor": "white",
            "showbackground": true,
            "ticks": "",
            "zerolinecolor": "white"
           }
          },
          "shapedefaults": {
           "line": {
            "color": "#2a3f5f"
           }
          },
          "ternary": {
           "aaxis": {
            "gridcolor": "white",
            "linecolor": "white",
            "ticks": ""
           },
           "baxis": {
            "gridcolor": "white",
            "linecolor": "white",
            "ticks": ""
           },
           "bgcolor": "#E5ECF6",
           "caxis": {
            "gridcolor": "white",
            "linecolor": "white",
            "ticks": ""
           }
          },
          "title": {
           "x": 0.05
          },
          "xaxis": {
           "automargin": true,
           "gridcolor": "white",
           "linecolor": "white",
           "ticks": "",
           "title": {
            "standoff": 15
           },
           "zerolinecolor": "white",
           "zerolinewidth": 2
          },
          "yaxis": {
           "automargin": true,
           "gridcolor": "white",
           "linecolor": "white",
           "ticks": "",
           "title": {
            "standoff": 15
           },
           "zerolinecolor": "white",
           "zerolinewidth": 2
          }
         }
        },
        "title": {
         "font": {
          "color": "#4D5663"
         },
         "text": "Use of Registered bikes Vs Casual bikes by seasons"
        },
        "xaxis": {
         "gridcolor": "#E1E5ED",
         "showgrid": true,
         "tickfont": {
          "color": "#4D5663"
         },
         "title": {
          "font": {
           "color": "#4D5663"
          },
          "text": "Seasons (1:spring, 2:summer, 3:fall, 4:winter)"
         },
         "zerolinecolor": "#E1E5ED"
        },
        "yaxis": {
         "gridcolor": "#E1E5ED",
         "showgrid": true,
         "tickfont": {
          "color": "#4D5663"
         },
         "title": {
          "font": {
           "color": "#4D5663"
          },
          "text": "Number of users"
         },
         "zerolinecolor": "#E1E5ED"
        }
       }
      },
      "text/html": [
       "<div>                            <div id=\"97845db9-5514-49fa-ae3f-4af8f2a88917\" class=\"plotly-graph-div\" style=\"height:525px; width:100%;\"></div>            <script type=\"text/javascript\">                require([\"plotly\"], function(Plotly) {                    window.PLOTLYENV=window.PLOTLYENV || {};\n",
       "                    window.PLOTLYENV.BASE_URL='https://plot.ly';                                    if (document.getElementById(\"97845db9-5514-49fa-ae3f-4af8f2a88917\")) {                    Plotly.newPlot(                        \"97845db9-5514-49fa-ae3f-4af8f2a88917\",                        [{\"marker\": {\"color\": \"rgba(255, 153, 51, 0.6)\", \"line\": {\"color\": \"rgba(255, 153, 51, 1.0)\", \"width\": 1}}, \"name\": \"registered\", \"orientation\": \"v\", \"text\": \"\", \"type\": \"bar\", \"x\": [1, 2, 3, 4], \"y\": [410726, 715067, 835038, 711831]}, {\"marker\": {\"color\": \"rgba(55, 128, 191, 0.6)\", \"line\": {\"color\": \"rgba(55, 128, 191, 1.0)\", \"width\": 1}}, \"name\": \"casual\", \"orientation\": \"v\", \"text\": \"\", \"type\": \"bar\", \"x\": [1, 2, 3, 4], \"y\": [60622, 203522, 226091, 129782]}],                        {\"legend\": {\"bgcolor\": \"#F5F6F9\", \"font\": {\"color\": \"#4D5663\"}}, \"paper_bgcolor\": \"#F5F6F9\", \"plot_bgcolor\": \"#F5F6F9\", \"template\": {\"data\": {\"bar\": [{\"error_x\": {\"color\": \"#2a3f5f\"}, \"error_y\": {\"color\": \"#2a3f5f\"}, \"marker\": {\"line\": {\"color\": \"#E5ECF6\", \"width\": 0.5}}, \"type\": \"bar\"}], \"barpolar\": [{\"marker\": {\"line\": {\"color\": \"#E5ECF6\", \"width\": 0.5}}, \"type\": \"barpolar\"}], \"carpet\": [{\"aaxis\": {\"endlinecolor\": \"#2a3f5f\", \"gridcolor\": \"white\", \"linecolor\": \"white\", \"minorgridcolor\": \"white\", \"startlinecolor\": \"#2a3f5f\"}, \"baxis\": {\"endlinecolor\": \"#2a3f5f\", \"gridcolor\": \"white\", \"linecolor\": \"white\", \"minorgridcolor\": \"white\", \"startlinecolor\": \"#2a3f5f\"}, \"type\": \"carpet\"}], \"choropleth\": [{\"colorbar\": {\"outlinewidth\": 0, \"ticks\": \"\"}, \"type\": \"choropleth\"}], \"contour\": [{\"colorbar\": {\"outlinewidth\": 0, \"ticks\": \"\"}, \"colorscale\": [[0.0, \"#0d0887\"], [0.1111111111111111, \"#46039f\"], [0.2222222222222222, \"#7201a8\"], [0.3333333333333333, \"#9c179e\"], [0.4444444444444444, \"#bd3786\"], [0.5555555555555556, \"#d8576b\"], [0.6666666666666666, \"#ed7953\"], [0.7777777777777778, \"#fb9f3a\"], [0.8888888888888888, \"#fdca26\"], [1.0, \"#f0f921\"]], \"type\": \"contour\"}], \"contourcarpet\": [{\"colorbar\": {\"outlinewidth\": 0, \"ticks\": \"\"}, \"type\": \"contourcarpet\"}], \"heatmap\": [{\"colorbar\": {\"outlinewidth\": 0, \"ticks\": \"\"}, \"colorscale\": [[0.0, \"#0d0887\"], [0.1111111111111111, \"#46039f\"], [0.2222222222222222, \"#7201a8\"], [0.3333333333333333, \"#9c179e\"], [0.4444444444444444, \"#bd3786\"], [0.5555555555555556, \"#d8576b\"], [0.6666666666666666, \"#ed7953\"], [0.7777777777777778, \"#fb9f3a\"], [0.8888888888888888, \"#fdca26\"], [1.0, \"#f0f921\"]], \"type\": \"heatmap\"}], \"heatmapgl\": [{\"colorbar\": {\"outlinewidth\": 0, \"ticks\": \"\"}, \"colorscale\": [[0.0, \"#0d0887\"], [0.1111111111111111, \"#46039f\"], [0.2222222222222222, \"#7201a8\"], [0.3333333333333333, \"#9c179e\"], [0.4444444444444444, \"#bd3786\"], [0.5555555555555556, \"#d8576b\"], [0.6666666666666666, \"#ed7953\"], [0.7777777777777778, \"#fb9f3a\"], [0.8888888888888888, \"#fdca26\"], [1.0, \"#f0f921\"]], \"type\": \"heatmapgl\"}], \"histogram\": [{\"marker\": {\"colorbar\": {\"outlinewidth\": 0, \"ticks\": \"\"}}, \"type\": \"histogram\"}], \"histogram2d\": [{\"colorbar\": {\"outlinewidth\": 0, \"ticks\": \"\"}, \"colorscale\": [[0.0, \"#0d0887\"], [0.1111111111111111, \"#46039f\"], [0.2222222222222222, \"#7201a8\"], [0.3333333333333333, \"#9c179e\"], [0.4444444444444444, \"#bd3786\"], [0.5555555555555556, \"#d8576b\"], [0.6666666666666666, \"#ed7953\"], [0.7777777777777778, \"#fb9f3a\"], [0.8888888888888888, \"#fdca26\"], [1.0, \"#f0f921\"]], \"type\": \"histogram2d\"}], \"histogram2dcontour\": [{\"colorbar\": {\"outlinewidth\": 0, \"ticks\": \"\"}, \"colorscale\": [[0.0, \"#0d0887\"], [0.1111111111111111, \"#46039f\"], [0.2222222222222222, \"#7201a8\"], [0.3333333333333333, \"#9c179e\"], [0.4444444444444444, \"#bd3786\"], [0.5555555555555556, \"#d8576b\"], [0.6666666666666666, \"#ed7953\"], [0.7777777777777778, \"#fb9f3a\"], [0.8888888888888888, \"#fdca26\"], [1.0, \"#f0f921\"]], \"type\": \"histogram2dcontour\"}], \"mesh3d\": [{\"colorbar\": {\"outlinewidth\": 0, \"ticks\": \"\"}, \"type\": \"mesh3d\"}], \"parcoords\": [{\"line\": {\"colorbar\": {\"outlinewidth\": 0, \"ticks\": \"\"}}, \"type\": \"parcoords\"}], \"pie\": [{\"automargin\": true, \"type\": \"pie\"}], \"scatter\": [{\"marker\": {\"colorbar\": {\"outlinewidth\": 0, \"ticks\": \"\"}}, \"type\": \"scatter\"}], \"scatter3d\": [{\"line\": {\"colorbar\": {\"outlinewidth\": 0, \"ticks\": \"\"}}, \"marker\": {\"colorbar\": {\"outlinewidth\": 0, \"ticks\": \"\"}}, \"type\": \"scatter3d\"}], \"scattercarpet\": [{\"marker\": {\"colorbar\": {\"outlinewidth\": 0, \"ticks\": \"\"}}, \"type\": \"scattercarpet\"}], \"scattergeo\": [{\"marker\": {\"colorbar\": {\"outlinewidth\": 0, \"ticks\": \"\"}}, \"type\": \"scattergeo\"}], \"scattergl\": [{\"marker\": {\"colorbar\": {\"outlinewidth\": 0, \"ticks\": \"\"}}, \"type\": \"scattergl\"}], \"scattermapbox\": [{\"marker\": {\"colorbar\": {\"outlinewidth\": 0, \"ticks\": \"\"}}, \"type\": \"scattermapbox\"}], \"scatterpolar\": [{\"marker\": {\"colorbar\": {\"outlinewidth\": 0, \"ticks\": \"\"}}, \"type\": \"scatterpolar\"}], \"scatterpolargl\": [{\"marker\": {\"colorbar\": {\"outlinewidth\": 0, \"ticks\": \"\"}}, \"type\": \"scatterpolargl\"}], \"scatterternary\": [{\"marker\": {\"colorbar\": {\"outlinewidth\": 0, \"ticks\": \"\"}}, \"type\": \"scatterternary\"}], \"surface\": [{\"colorbar\": {\"outlinewidth\": 0, \"ticks\": \"\"}, \"colorscale\": [[0.0, \"#0d0887\"], [0.1111111111111111, \"#46039f\"], [0.2222222222222222, \"#7201a8\"], [0.3333333333333333, \"#9c179e\"], [0.4444444444444444, \"#bd3786\"], [0.5555555555555556, \"#d8576b\"], [0.6666666666666666, \"#ed7953\"], [0.7777777777777778, \"#fb9f3a\"], [0.8888888888888888, \"#fdca26\"], [1.0, \"#f0f921\"]], \"type\": \"surface\"}], \"table\": [{\"cells\": {\"fill\": {\"color\": \"#EBF0F8\"}, \"line\": {\"color\": \"white\"}}, \"header\": {\"fill\": {\"color\": \"#C8D4E3\"}, \"line\": {\"color\": \"white\"}}, \"type\": \"table\"}]}, \"layout\": {\"annotationdefaults\": {\"arrowcolor\": \"#2a3f5f\", \"arrowhead\": 0, \"arrowwidth\": 1}, \"coloraxis\": {\"colorbar\": {\"outlinewidth\": 0, \"ticks\": \"\"}}, \"colorscale\": {\"diverging\": [[0, \"#8e0152\"], [0.1, \"#c51b7d\"], [0.2, \"#de77ae\"], [0.3, \"#f1b6da\"], [0.4, \"#fde0ef\"], [0.5, \"#f7f7f7\"], [0.6, \"#e6f5d0\"], [0.7, \"#b8e186\"], [0.8, \"#7fbc41\"], [0.9, \"#4d9221\"], [1, \"#276419\"]], \"sequential\": [[0.0, \"#0d0887\"], [0.1111111111111111, \"#46039f\"], [0.2222222222222222, \"#7201a8\"], [0.3333333333333333, \"#9c179e\"], [0.4444444444444444, \"#bd3786\"], [0.5555555555555556, \"#d8576b\"], [0.6666666666666666, \"#ed7953\"], [0.7777777777777778, \"#fb9f3a\"], [0.8888888888888888, \"#fdca26\"], [1.0, \"#f0f921\"]], \"sequentialminus\": [[0.0, \"#0d0887\"], [0.1111111111111111, \"#46039f\"], [0.2222222222222222, \"#7201a8\"], [0.3333333333333333, \"#9c179e\"], [0.4444444444444444, \"#bd3786\"], [0.5555555555555556, \"#d8576b\"], [0.6666666666666666, \"#ed7953\"], [0.7777777777777778, \"#fb9f3a\"], [0.8888888888888888, \"#fdca26\"], [1.0, \"#f0f921\"]]}, \"colorway\": [\"#636efa\", \"#EF553B\", \"#00cc96\", \"#ab63fa\", \"#FFA15A\", \"#19d3f3\", \"#FF6692\", \"#B6E880\", \"#FF97FF\", \"#FECB52\"], \"font\": {\"color\": \"#2a3f5f\"}, \"geo\": {\"bgcolor\": \"white\", \"lakecolor\": \"white\", \"landcolor\": \"#E5ECF6\", \"showlakes\": true, \"showland\": true, \"subunitcolor\": \"white\"}, \"hoverlabel\": {\"align\": \"left\"}, \"hovermode\": \"closest\", \"mapbox\": {\"style\": \"light\"}, \"paper_bgcolor\": \"white\", \"plot_bgcolor\": \"#E5ECF6\", \"polar\": {\"angularaxis\": {\"gridcolor\": \"white\", \"linecolor\": \"white\", \"ticks\": \"\"}, \"bgcolor\": \"#E5ECF6\", \"radialaxis\": {\"gridcolor\": \"white\", \"linecolor\": \"white\", \"ticks\": \"\"}}, \"scene\": {\"xaxis\": {\"backgroundcolor\": \"#E5ECF6\", \"gridcolor\": \"white\", \"gridwidth\": 2, \"linecolor\": \"white\", \"showbackground\": true, \"ticks\": \"\", \"zerolinecolor\": \"white\"}, \"yaxis\": {\"backgroundcolor\": \"#E5ECF6\", \"gridcolor\": \"white\", \"gridwidth\": 2, \"linecolor\": \"white\", \"showbackground\": true, \"ticks\": \"\", \"zerolinecolor\": \"white\"}, \"zaxis\": {\"backgroundcolor\": \"#E5ECF6\", \"gridcolor\": \"white\", \"gridwidth\": 2, \"linecolor\": \"white\", \"showbackground\": true, \"ticks\": \"\", \"zerolinecolor\": \"white\"}}, \"shapedefaults\": {\"line\": {\"color\": \"#2a3f5f\"}}, \"ternary\": {\"aaxis\": {\"gridcolor\": \"white\", \"linecolor\": \"white\", \"ticks\": \"\"}, \"baxis\": {\"gridcolor\": \"white\", \"linecolor\": \"white\", \"ticks\": \"\"}, \"bgcolor\": \"#E5ECF6\", \"caxis\": {\"gridcolor\": \"white\", \"linecolor\": \"white\", \"ticks\": \"\"}}, \"title\": {\"x\": 0.05}, \"xaxis\": {\"automargin\": true, \"gridcolor\": \"white\", \"linecolor\": \"white\", \"ticks\": \"\", \"title\": {\"standoff\": 15}, \"zerolinecolor\": \"white\", \"zerolinewidth\": 2}, \"yaxis\": {\"automargin\": true, \"gridcolor\": \"white\", \"linecolor\": \"white\", \"ticks\": \"\", \"title\": {\"standoff\": 15}, \"zerolinecolor\": \"white\", \"zerolinewidth\": 2}}}, \"title\": {\"font\": {\"color\": \"#4D5663\"}, \"text\": \"Use of Registered bikes Vs Casual bikes by seasons\"}, \"xaxis\": {\"gridcolor\": \"#E1E5ED\", \"showgrid\": true, \"tickfont\": {\"color\": \"#4D5663\"}, \"title\": {\"font\": {\"color\": \"#4D5663\"}, \"text\": \"Seasons (1:spring, 2:summer, 3:fall, 4:winter)\"}, \"zerolinecolor\": \"#E1E5ED\"}, \"yaxis\": {\"gridcolor\": \"#E1E5ED\", \"showgrid\": true, \"tickfont\": {\"color\": \"#4D5663\"}, \"title\": {\"font\": {\"color\": \"#4D5663\"}, \"text\": \"Number of users\"}, \"zerolinecolor\": \"#E1E5ED\"}},                        {\"showLink\": true, \"linkText\": \"Export to plot.ly\", \"plotlyServerURL\": \"https://plot.ly\", \"responsive\": true}                    ).then(function(){\n",
       "                            \n",
       "var gd = document.getElementById('97845db9-5514-49fa-ae3f-4af8f2a88917');\n",
       "var x = new MutationObserver(function (mutations, observer) {{\n",
       "        var display = window.getComputedStyle(gd).display;\n",
       "        if (!display || display === 'none') {{\n",
       "            console.log([gd, 'removed!']);\n",
       "            Plotly.purge(gd);\n",
       "            observer.disconnect();\n",
       "        }}\n",
       "}});\n",
       "\n",
       "// Listen for the removal of the full notebook cells\n",
       "var notebookContainer = gd.closest('#notebook-container');\n",
       "if (notebookContainer) {{\n",
       "    x.observe(notebookContainer, {childList: true});\n",
       "}}\n",
       "\n",
       "// Listen for the clearing of the current output cell\n",
       "var outputEl = gd.closest('.output');\n",
       "if (outputEl) {{\n",
       "    x.observe(outputEl, {childList: true});\n",
       "}}\n",
       "\n",
       "                        })                };                });            </script>        </div>"
      ]
     },
     "metadata": {},
     "output_type": "display_data"
    }
   ],
   "source": [
    "bySeason[['registered','casual']].iplot(kind='bar',\n",
    "                            title='Use of Registered bikes Vs Casual bikes by seasons',         \n",
    "                            xTitle='Seasons (1:spring, 2:summer, 3:fall, 4:winter)',\n",
    "                            yTitle='Number of users')"
   ]
  },
  {
   "cell_type": "markdown",
   "metadata": {},
   "source": [
    "<span style=\"background-color: #DAF7A6\"> The number of bicycle users are more in the fall for both registered users and casual users. The users are comparatively less in spring. </span>"
   ]
  },
  {
   "cell_type": "markdown",
   "metadata": {
    "ExecuteTime": {
     "end_time": "2020-12-06T06:15:32.495937Z",
     "start_time": "2020-12-06T06:15:32.468165Z"
    }
   },
   "source": [
    "# <span style=\"background-color: #CBBDB6\">Resampling by year"
   ]
  },
  {
   "cell_type": "code",
   "execution_count": 26,
   "metadata": {
    "ExecuteTime": {
     "end_time": "2020-12-10T11:13:49.807298Z",
     "start_time": "2020-12-10T11:13:49.785995Z"
    }
   },
   "outputs": [],
   "source": [
    "yearly = bikes.resample('Y').sum()\n",
    "#yearly"
   ]
  },
  {
   "cell_type": "code",
   "execution_count": 27,
   "metadata": {
    "ExecuteTime": {
     "end_time": "2020-12-10T11:13:49.915919Z",
     "start_time": "2020-12-10T11:13:49.820243Z"
    }
   },
   "outputs": [
    {
     "data": {
      "application/vnd.plotly.v1+json": {
       "config": {
        "linkText": "Export to plot.ly",
        "plotlyServerURL": "https://plot.ly",
        "showLink": true
       },
       "data": [
        {
         "marker": {
          "color": "rgba(255, 153, 51, 0.6)",
          "line": {
           "color": "rgba(255, 153, 51, 1.0)",
           "width": 1
          }
         },
         "name": "registered",
         "orientation": "v",
         "text": "",
         "type": "bar",
         "x": [
          "2011-12-31",
          "2012-12-31"
         ],
         "y": [
          995851,
          1676811
         ]
        },
        {
         "marker": {
          "color": "rgba(55, 128, 191, 0.6)",
          "line": {
           "color": "rgba(55, 128, 191, 1.0)",
           "width": 1
          }
         },
         "name": "casual",
         "orientation": "v",
         "text": "",
         "type": "bar",
         "x": [
          "2011-12-31",
          "2012-12-31"
         ],
         "y": [
          247252,
          372765
         ]
        }
       ],
       "layout": {
        "legend": {
         "bgcolor": "#F5F6F9",
         "font": {
          "color": "#4D5663"
         }
        },
        "paper_bgcolor": "#F5F6F9",
        "plot_bgcolor": "#F5F6F9",
        "template": {
         "data": {
          "bar": [
           {
            "error_x": {
             "color": "#2a3f5f"
            },
            "error_y": {
             "color": "#2a3f5f"
            },
            "marker": {
             "line": {
              "color": "#E5ECF6",
              "width": 0.5
             }
            },
            "type": "bar"
           }
          ],
          "barpolar": [
           {
            "marker": {
             "line": {
              "color": "#E5ECF6",
              "width": 0.5
             }
            },
            "type": "barpolar"
           }
          ],
          "carpet": [
           {
            "aaxis": {
             "endlinecolor": "#2a3f5f",
             "gridcolor": "white",
             "linecolor": "white",
             "minorgridcolor": "white",
             "startlinecolor": "#2a3f5f"
            },
            "baxis": {
             "endlinecolor": "#2a3f5f",
             "gridcolor": "white",
             "linecolor": "white",
             "minorgridcolor": "white",
             "startlinecolor": "#2a3f5f"
            },
            "type": "carpet"
           }
          ],
          "choropleth": [
           {
            "colorbar": {
             "outlinewidth": 0,
             "ticks": ""
            },
            "type": "choropleth"
           }
          ],
          "contour": [
           {
            "colorbar": {
             "outlinewidth": 0,
             "ticks": ""
            },
            "colorscale": [
             [
              0,
              "#0d0887"
             ],
             [
              0.1111111111111111,
              "#46039f"
             ],
             [
              0.2222222222222222,
              "#7201a8"
             ],
             [
              0.3333333333333333,
              "#9c179e"
             ],
             [
              0.4444444444444444,
              "#bd3786"
             ],
             [
              0.5555555555555556,
              "#d8576b"
             ],
             [
              0.6666666666666666,
              "#ed7953"
             ],
             [
              0.7777777777777778,
              "#fb9f3a"
             ],
             [
              0.8888888888888888,
              "#fdca26"
             ],
             [
              1,
              "#f0f921"
             ]
            ],
            "type": "contour"
           }
          ],
          "contourcarpet": [
           {
            "colorbar": {
             "outlinewidth": 0,
             "ticks": ""
            },
            "type": "contourcarpet"
           }
          ],
          "heatmap": [
           {
            "colorbar": {
             "outlinewidth": 0,
             "ticks": ""
            },
            "colorscale": [
             [
              0,
              "#0d0887"
             ],
             [
              0.1111111111111111,
              "#46039f"
             ],
             [
              0.2222222222222222,
              "#7201a8"
             ],
             [
              0.3333333333333333,
              "#9c179e"
             ],
             [
              0.4444444444444444,
              "#bd3786"
             ],
             [
              0.5555555555555556,
              "#d8576b"
             ],
             [
              0.6666666666666666,
              "#ed7953"
             ],
             [
              0.7777777777777778,
              "#fb9f3a"
             ],
             [
              0.8888888888888888,
              "#fdca26"
             ],
             [
              1,
              "#f0f921"
             ]
            ],
            "type": "heatmap"
           }
          ],
          "heatmapgl": [
           {
            "colorbar": {
             "outlinewidth": 0,
             "ticks": ""
            },
            "colorscale": [
             [
              0,
              "#0d0887"
             ],
             [
              0.1111111111111111,
              "#46039f"
             ],
             [
              0.2222222222222222,
              "#7201a8"
             ],
             [
              0.3333333333333333,
              "#9c179e"
             ],
             [
              0.4444444444444444,
              "#bd3786"
             ],
             [
              0.5555555555555556,
              "#d8576b"
             ],
             [
              0.6666666666666666,
              "#ed7953"
             ],
             [
              0.7777777777777778,
              "#fb9f3a"
             ],
             [
              0.8888888888888888,
              "#fdca26"
             ],
             [
              1,
              "#f0f921"
             ]
            ],
            "type": "heatmapgl"
           }
          ],
          "histogram": [
           {
            "marker": {
             "colorbar": {
              "outlinewidth": 0,
              "ticks": ""
             }
            },
            "type": "histogram"
           }
          ],
          "histogram2d": [
           {
            "colorbar": {
             "outlinewidth": 0,
             "ticks": ""
            },
            "colorscale": [
             [
              0,
              "#0d0887"
             ],
             [
              0.1111111111111111,
              "#46039f"
             ],
             [
              0.2222222222222222,
              "#7201a8"
             ],
             [
              0.3333333333333333,
              "#9c179e"
             ],
             [
              0.4444444444444444,
              "#bd3786"
             ],
             [
              0.5555555555555556,
              "#d8576b"
             ],
             [
              0.6666666666666666,
              "#ed7953"
             ],
             [
              0.7777777777777778,
              "#fb9f3a"
             ],
             [
              0.8888888888888888,
              "#fdca26"
             ],
             [
              1,
              "#f0f921"
             ]
            ],
            "type": "histogram2d"
           }
          ],
          "histogram2dcontour": [
           {
            "colorbar": {
             "outlinewidth": 0,
             "ticks": ""
            },
            "colorscale": [
             [
              0,
              "#0d0887"
             ],
             [
              0.1111111111111111,
              "#46039f"
             ],
             [
              0.2222222222222222,
              "#7201a8"
             ],
             [
              0.3333333333333333,
              "#9c179e"
             ],
             [
              0.4444444444444444,
              "#bd3786"
             ],
             [
              0.5555555555555556,
              "#d8576b"
             ],
             [
              0.6666666666666666,
              "#ed7953"
             ],
             [
              0.7777777777777778,
              "#fb9f3a"
             ],
             [
              0.8888888888888888,
              "#fdca26"
             ],
             [
              1,
              "#f0f921"
             ]
            ],
            "type": "histogram2dcontour"
           }
          ],
          "mesh3d": [
           {
            "colorbar": {
             "outlinewidth": 0,
             "ticks": ""
            },
            "type": "mesh3d"
           }
          ],
          "parcoords": [
           {
            "line": {
             "colorbar": {
              "outlinewidth": 0,
              "ticks": ""
             }
            },
            "type": "parcoords"
           }
          ],
          "pie": [
           {
            "automargin": true,
            "type": "pie"
           }
          ],
          "scatter": [
           {
            "marker": {
             "colorbar": {
              "outlinewidth": 0,
              "ticks": ""
             }
            },
            "type": "scatter"
           }
          ],
          "scatter3d": [
           {
            "line": {
             "colorbar": {
              "outlinewidth": 0,
              "ticks": ""
             }
            },
            "marker": {
             "colorbar": {
              "outlinewidth": 0,
              "ticks": ""
             }
            },
            "type": "scatter3d"
           }
          ],
          "scattercarpet": [
           {
            "marker": {
             "colorbar": {
              "outlinewidth": 0,
              "ticks": ""
             }
            },
            "type": "scattercarpet"
           }
          ],
          "scattergeo": [
           {
            "marker": {
             "colorbar": {
              "outlinewidth": 0,
              "ticks": ""
             }
            },
            "type": "scattergeo"
           }
          ],
          "scattergl": [
           {
            "marker": {
             "colorbar": {
              "outlinewidth": 0,
              "ticks": ""
             }
            },
            "type": "scattergl"
           }
          ],
          "scattermapbox": [
           {
            "marker": {
             "colorbar": {
              "outlinewidth": 0,
              "ticks": ""
             }
            },
            "type": "scattermapbox"
           }
          ],
          "scatterpolar": [
           {
            "marker": {
             "colorbar": {
              "outlinewidth": 0,
              "ticks": ""
             }
            },
            "type": "scatterpolar"
           }
          ],
          "scatterpolargl": [
           {
            "marker": {
             "colorbar": {
              "outlinewidth": 0,
              "ticks": ""
             }
            },
            "type": "scatterpolargl"
           }
          ],
          "scatterternary": [
           {
            "marker": {
             "colorbar": {
              "outlinewidth": 0,
              "ticks": ""
             }
            },
            "type": "scatterternary"
           }
          ],
          "surface": [
           {
            "colorbar": {
             "outlinewidth": 0,
             "ticks": ""
            },
            "colorscale": [
             [
              0,
              "#0d0887"
             ],
             [
              0.1111111111111111,
              "#46039f"
             ],
             [
              0.2222222222222222,
              "#7201a8"
             ],
             [
              0.3333333333333333,
              "#9c179e"
             ],
             [
              0.4444444444444444,
              "#bd3786"
             ],
             [
              0.5555555555555556,
              "#d8576b"
             ],
             [
              0.6666666666666666,
              "#ed7953"
             ],
             [
              0.7777777777777778,
              "#fb9f3a"
             ],
             [
              0.8888888888888888,
              "#fdca26"
             ],
             [
              1,
              "#f0f921"
             ]
            ],
            "type": "surface"
           }
          ],
          "table": [
           {
            "cells": {
             "fill": {
              "color": "#EBF0F8"
             },
             "line": {
              "color": "white"
             }
            },
            "header": {
             "fill": {
              "color": "#C8D4E3"
             },
             "line": {
              "color": "white"
             }
            },
            "type": "table"
           }
          ]
         },
         "layout": {
          "annotationdefaults": {
           "arrowcolor": "#2a3f5f",
           "arrowhead": 0,
           "arrowwidth": 1
          },
          "coloraxis": {
           "colorbar": {
            "outlinewidth": 0,
            "ticks": ""
           }
          },
          "colorscale": {
           "diverging": [
            [
             0,
             "#8e0152"
            ],
            [
             0.1,
             "#c51b7d"
            ],
            [
             0.2,
             "#de77ae"
            ],
            [
             0.3,
             "#f1b6da"
            ],
            [
             0.4,
             "#fde0ef"
            ],
            [
             0.5,
             "#f7f7f7"
            ],
            [
             0.6,
             "#e6f5d0"
            ],
            [
             0.7,
             "#b8e186"
            ],
            [
             0.8,
             "#7fbc41"
            ],
            [
             0.9,
             "#4d9221"
            ],
            [
             1,
             "#276419"
            ]
           ],
           "sequential": [
            [
             0,
             "#0d0887"
            ],
            [
             0.1111111111111111,
             "#46039f"
            ],
            [
             0.2222222222222222,
             "#7201a8"
            ],
            [
             0.3333333333333333,
             "#9c179e"
            ],
            [
             0.4444444444444444,
             "#bd3786"
            ],
            [
             0.5555555555555556,
             "#d8576b"
            ],
            [
             0.6666666666666666,
             "#ed7953"
            ],
            [
             0.7777777777777778,
             "#fb9f3a"
            ],
            [
             0.8888888888888888,
             "#fdca26"
            ],
            [
             1,
             "#f0f921"
            ]
           ],
           "sequentialminus": [
            [
             0,
             "#0d0887"
            ],
            [
             0.1111111111111111,
             "#46039f"
            ],
            [
             0.2222222222222222,
             "#7201a8"
            ],
            [
             0.3333333333333333,
             "#9c179e"
            ],
            [
             0.4444444444444444,
             "#bd3786"
            ],
            [
             0.5555555555555556,
             "#d8576b"
            ],
            [
             0.6666666666666666,
             "#ed7953"
            ],
            [
             0.7777777777777778,
             "#fb9f3a"
            ],
            [
             0.8888888888888888,
             "#fdca26"
            ],
            [
             1,
             "#f0f921"
            ]
           ]
          },
          "colorway": [
           "#636efa",
           "#EF553B",
           "#00cc96",
           "#ab63fa",
           "#FFA15A",
           "#19d3f3",
           "#FF6692",
           "#B6E880",
           "#FF97FF",
           "#FECB52"
          ],
          "font": {
           "color": "#2a3f5f"
          },
          "geo": {
           "bgcolor": "white",
           "lakecolor": "white",
           "landcolor": "#E5ECF6",
           "showlakes": true,
           "showland": true,
           "subunitcolor": "white"
          },
          "hoverlabel": {
           "align": "left"
          },
          "hovermode": "closest",
          "mapbox": {
           "style": "light"
          },
          "paper_bgcolor": "white",
          "plot_bgcolor": "#E5ECF6",
          "polar": {
           "angularaxis": {
            "gridcolor": "white",
            "linecolor": "white",
            "ticks": ""
           },
           "bgcolor": "#E5ECF6",
           "radialaxis": {
            "gridcolor": "white",
            "linecolor": "white",
            "ticks": ""
           }
          },
          "scene": {
           "xaxis": {
            "backgroundcolor": "#E5ECF6",
            "gridcolor": "white",
            "gridwidth": 2,
            "linecolor": "white",
            "showbackground": true,
            "ticks": "",
            "zerolinecolor": "white"
           },
           "yaxis": {
            "backgroundcolor": "#E5ECF6",
            "gridcolor": "white",
            "gridwidth": 2,
            "linecolor": "white",
            "showbackground": true,
            "ticks": "",
            "zerolinecolor": "white"
           },
           "zaxis": {
            "backgroundcolor": "#E5ECF6",
            "gridcolor": "white",
            "gridwidth": 2,
            "linecolor": "white",
            "showbackground": true,
            "ticks": "",
            "zerolinecolor": "white"
           }
          },
          "shapedefaults": {
           "line": {
            "color": "#2a3f5f"
           }
          },
          "ternary": {
           "aaxis": {
            "gridcolor": "white",
            "linecolor": "white",
            "ticks": ""
           },
           "baxis": {
            "gridcolor": "white",
            "linecolor": "white",
            "ticks": ""
           },
           "bgcolor": "#E5ECF6",
           "caxis": {
            "gridcolor": "white",
            "linecolor": "white",
            "ticks": ""
           }
          },
          "title": {
           "x": 0.05
          },
          "xaxis": {
           "automargin": true,
           "gridcolor": "white",
           "linecolor": "white",
           "ticks": "",
           "title": {
            "standoff": 15
           },
           "zerolinecolor": "white",
           "zerolinewidth": 2
          },
          "yaxis": {
           "automargin": true,
           "gridcolor": "white",
           "linecolor": "white",
           "ticks": "",
           "title": {
            "standoff": 15
           },
           "zerolinecolor": "white",
           "zerolinewidth": 2
          }
         }
        },
        "title": {
         "font": {
          "color": "#4D5663"
         },
         "text": "Use of Registered bikes Vs Casual bikes by year"
        },
        "xaxis": {
         "gridcolor": "#E1E5ED",
         "showgrid": true,
         "tickfont": {
          "color": "#4D5663"
         },
         "title": {
          "font": {
           "color": "#4D5663"
          },
          "text": "Year"
         },
         "zerolinecolor": "#E1E5ED"
        },
        "yaxis": {
         "gridcolor": "#E1E5ED",
         "showgrid": true,
         "tickfont": {
          "color": "#4D5663"
         },
         "title": {
          "font": {
           "color": "#4D5663"
          },
          "text": "Number of users"
         },
         "zerolinecolor": "#E1E5ED"
        }
       }
      },
      "text/html": [
       "<div>                            <div id=\"a94be0d1-2617-43fc-9757-67f37da7f456\" class=\"plotly-graph-div\" style=\"height:525px; width:100%;\"></div>            <script type=\"text/javascript\">                require([\"plotly\"], function(Plotly) {                    window.PLOTLYENV=window.PLOTLYENV || {};\n",
       "                    window.PLOTLYENV.BASE_URL='https://plot.ly';                                    if (document.getElementById(\"a94be0d1-2617-43fc-9757-67f37da7f456\")) {                    Plotly.newPlot(                        \"a94be0d1-2617-43fc-9757-67f37da7f456\",                        [{\"marker\": {\"color\": \"rgba(255, 153, 51, 0.6)\", \"line\": {\"color\": \"rgba(255, 153, 51, 1.0)\", \"width\": 1}}, \"name\": \"registered\", \"orientation\": \"v\", \"text\": \"\", \"type\": \"bar\", \"x\": [\"2011-12-31\", \"2012-12-31\"], \"y\": [995851, 1676811]}, {\"marker\": {\"color\": \"rgba(55, 128, 191, 0.6)\", \"line\": {\"color\": \"rgba(55, 128, 191, 1.0)\", \"width\": 1}}, \"name\": \"casual\", \"orientation\": \"v\", \"text\": \"\", \"type\": \"bar\", \"x\": [\"2011-12-31\", \"2012-12-31\"], \"y\": [247252, 372765]}],                        {\"legend\": {\"bgcolor\": \"#F5F6F9\", \"font\": {\"color\": \"#4D5663\"}}, \"paper_bgcolor\": \"#F5F6F9\", \"plot_bgcolor\": \"#F5F6F9\", \"template\": {\"data\": {\"bar\": [{\"error_x\": {\"color\": \"#2a3f5f\"}, \"error_y\": {\"color\": \"#2a3f5f\"}, \"marker\": {\"line\": {\"color\": \"#E5ECF6\", \"width\": 0.5}}, \"type\": \"bar\"}], \"barpolar\": [{\"marker\": {\"line\": {\"color\": \"#E5ECF6\", \"width\": 0.5}}, \"type\": \"barpolar\"}], \"carpet\": [{\"aaxis\": {\"endlinecolor\": \"#2a3f5f\", \"gridcolor\": \"white\", \"linecolor\": \"white\", \"minorgridcolor\": \"white\", \"startlinecolor\": \"#2a3f5f\"}, \"baxis\": {\"endlinecolor\": \"#2a3f5f\", \"gridcolor\": \"white\", \"linecolor\": \"white\", \"minorgridcolor\": \"white\", \"startlinecolor\": \"#2a3f5f\"}, \"type\": \"carpet\"}], \"choropleth\": [{\"colorbar\": {\"outlinewidth\": 0, \"ticks\": \"\"}, \"type\": \"choropleth\"}], \"contour\": [{\"colorbar\": {\"outlinewidth\": 0, \"ticks\": \"\"}, \"colorscale\": [[0.0, \"#0d0887\"], [0.1111111111111111, \"#46039f\"], [0.2222222222222222, \"#7201a8\"], [0.3333333333333333, \"#9c179e\"], [0.4444444444444444, \"#bd3786\"], [0.5555555555555556, \"#d8576b\"], [0.6666666666666666, \"#ed7953\"], [0.7777777777777778, \"#fb9f3a\"], [0.8888888888888888, \"#fdca26\"], [1.0, \"#f0f921\"]], \"type\": \"contour\"}], \"contourcarpet\": [{\"colorbar\": {\"outlinewidth\": 0, \"ticks\": \"\"}, \"type\": \"contourcarpet\"}], \"heatmap\": [{\"colorbar\": {\"outlinewidth\": 0, \"ticks\": \"\"}, \"colorscale\": [[0.0, \"#0d0887\"], [0.1111111111111111, \"#46039f\"], [0.2222222222222222, \"#7201a8\"], [0.3333333333333333, \"#9c179e\"], [0.4444444444444444, \"#bd3786\"], [0.5555555555555556, \"#d8576b\"], [0.6666666666666666, \"#ed7953\"], [0.7777777777777778, \"#fb9f3a\"], [0.8888888888888888, \"#fdca26\"], [1.0, \"#f0f921\"]], \"type\": \"heatmap\"}], \"heatmapgl\": [{\"colorbar\": {\"outlinewidth\": 0, \"ticks\": \"\"}, \"colorscale\": [[0.0, \"#0d0887\"], [0.1111111111111111, \"#46039f\"], [0.2222222222222222, \"#7201a8\"], [0.3333333333333333, \"#9c179e\"], [0.4444444444444444, \"#bd3786\"], [0.5555555555555556, \"#d8576b\"], [0.6666666666666666, \"#ed7953\"], [0.7777777777777778, \"#fb9f3a\"], [0.8888888888888888, \"#fdca26\"], [1.0, \"#f0f921\"]], \"type\": \"heatmapgl\"}], \"histogram\": [{\"marker\": {\"colorbar\": {\"outlinewidth\": 0, \"ticks\": \"\"}}, \"type\": \"histogram\"}], \"histogram2d\": [{\"colorbar\": {\"outlinewidth\": 0, \"ticks\": \"\"}, \"colorscale\": [[0.0, \"#0d0887\"], [0.1111111111111111, \"#46039f\"], [0.2222222222222222, \"#7201a8\"], [0.3333333333333333, \"#9c179e\"], [0.4444444444444444, \"#bd3786\"], [0.5555555555555556, \"#d8576b\"], [0.6666666666666666, \"#ed7953\"], [0.7777777777777778, \"#fb9f3a\"], [0.8888888888888888, \"#fdca26\"], [1.0, \"#f0f921\"]], \"type\": \"histogram2d\"}], \"histogram2dcontour\": [{\"colorbar\": {\"outlinewidth\": 0, \"ticks\": \"\"}, \"colorscale\": [[0.0, \"#0d0887\"], [0.1111111111111111, \"#46039f\"], [0.2222222222222222, \"#7201a8\"], [0.3333333333333333, \"#9c179e\"], [0.4444444444444444, \"#bd3786\"], [0.5555555555555556, \"#d8576b\"], [0.6666666666666666, \"#ed7953\"], [0.7777777777777778, \"#fb9f3a\"], [0.8888888888888888, \"#fdca26\"], [1.0, \"#f0f921\"]], \"type\": \"histogram2dcontour\"}], \"mesh3d\": [{\"colorbar\": {\"outlinewidth\": 0, \"ticks\": \"\"}, \"type\": \"mesh3d\"}], \"parcoords\": [{\"line\": {\"colorbar\": {\"outlinewidth\": 0, \"ticks\": \"\"}}, \"type\": \"parcoords\"}], \"pie\": [{\"automargin\": true, \"type\": \"pie\"}], \"scatter\": [{\"marker\": {\"colorbar\": {\"outlinewidth\": 0, \"ticks\": \"\"}}, \"type\": \"scatter\"}], \"scatter3d\": [{\"line\": {\"colorbar\": {\"outlinewidth\": 0, \"ticks\": \"\"}}, \"marker\": {\"colorbar\": {\"outlinewidth\": 0, \"ticks\": \"\"}}, \"type\": \"scatter3d\"}], \"scattercarpet\": [{\"marker\": {\"colorbar\": {\"outlinewidth\": 0, \"ticks\": \"\"}}, \"type\": \"scattercarpet\"}], \"scattergeo\": [{\"marker\": {\"colorbar\": {\"outlinewidth\": 0, \"ticks\": \"\"}}, \"type\": \"scattergeo\"}], \"scattergl\": [{\"marker\": {\"colorbar\": {\"outlinewidth\": 0, \"ticks\": \"\"}}, \"type\": \"scattergl\"}], \"scattermapbox\": [{\"marker\": {\"colorbar\": {\"outlinewidth\": 0, \"ticks\": \"\"}}, \"type\": \"scattermapbox\"}], \"scatterpolar\": [{\"marker\": {\"colorbar\": {\"outlinewidth\": 0, \"ticks\": \"\"}}, \"type\": \"scatterpolar\"}], \"scatterpolargl\": [{\"marker\": {\"colorbar\": {\"outlinewidth\": 0, \"ticks\": \"\"}}, \"type\": \"scatterpolargl\"}], \"scatterternary\": [{\"marker\": {\"colorbar\": {\"outlinewidth\": 0, \"ticks\": \"\"}}, \"type\": \"scatterternary\"}], \"surface\": [{\"colorbar\": {\"outlinewidth\": 0, \"ticks\": \"\"}, \"colorscale\": [[0.0, \"#0d0887\"], [0.1111111111111111, \"#46039f\"], [0.2222222222222222, \"#7201a8\"], [0.3333333333333333, \"#9c179e\"], [0.4444444444444444, \"#bd3786\"], [0.5555555555555556, \"#d8576b\"], [0.6666666666666666, \"#ed7953\"], [0.7777777777777778, \"#fb9f3a\"], [0.8888888888888888, \"#fdca26\"], [1.0, \"#f0f921\"]], \"type\": \"surface\"}], \"table\": [{\"cells\": {\"fill\": {\"color\": \"#EBF0F8\"}, \"line\": {\"color\": \"white\"}}, \"header\": {\"fill\": {\"color\": \"#C8D4E3\"}, \"line\": {\"color\": \"white\"}}, \"type\": \"table\"}]}, \"layout\": {\"annotationdefaults\": {\"arrowcolor\": \"#2a3f5f\", \"arrowhead\": 0, \"arrowwidth\": 1}, \"coloraxis\": {\"colorbar\": {\"outlinewidth\": 0, \"ticks\": \"\"}}, \"colorscale\": {\"diverging\": [[0, \"#8e0152\"], [0.1, \"#c51b7d\"], [0.2, \"#de77ae\"], [0.3, \"#f1b6da\"], [0.4, \"#fde0ef\"], [0.5, \"#f7f7f7\"], [0.6, \"#e6f5d0\"], [0.7, \"#b8e186\"], [0.8, \"#7fbc41\"], [0.9, \"#4d9221\"], [1, \"#276419\"]], \"sequential\": [[0.0, \"#0d0887\"], [0.1111111111111111, \"#46039f\"], [0.2222222222222222, \"#7201a8\"], [0.3333333333333333, \"#9c179e\"], [0.4444444444444444, \"#bd3786\"], [0.5555555555555556, \"#d8576b\"], [0.6666666666666666, \"#ed7953\"], [0.7777777777777778, \"#fb9f3a\"], [0.8888888888888888, \"#fdca26\"], [1.0, \"#f0f921\"]], \"sequentialminus\": [[0.0, \"#0d0887\"], [0.1111111111111111, \"#46039f\"], [0.2222222222222222, \"#7201a8\"], [0.3333333333333333, \"#9c179e\"], [0.4444444444444444, \"#bd3786\"], [0.5555555555555556, \"#d8576b\"], [0.6666666666666666, \"#ed7953\"], [0.7777777777777778, \"#fb9f3a\"], [0.8888888888888888, \"#fdca26\"], [1.0, \"#f0f921\"]]}, \"colorway\": [\"#636efa\", \"#EF553B\", \"#00cc96\", \"#ab63fa\", \"#FFA15A\", \"#19d3f3\", \"#FF6692\", \"#B6E880\", \"#FF97FF\", \"#FECB52\"], \"font\": {\"color\": \"#2a3f5f\"}, \"geo\": {\"bgcolor\": \"white\", \"lakecolor\": \"white\", \"landcolor\": \"#E5ECF6\", \"showlakes\": true, \"showland\": true, \"subunitcolor\": \"white\"}, \"hoverlabel\": {\"align\": \"left\"}, \"hovermode\": \"closest\", \"mapbox\": {\"style\": \"light\"}, \"paper_bgcolor\": \"white\", \"plot_bgcolor\": \"#E5ECF6\", \"polar\": {\"angularaxis\": {\"gridcolor\": \"white\", \"linecolor\": \"white\", \"ticks\": \"\"}, \"bgcolor\": \"#E5ECF6\", \"radialaxis\": {\"gridcolor\": \"white\", \"linecolor\": \"white\", \"ticks\": \"\"}}, \"scene\": {\"xaxis\": {\"backgroundcolor\": \"#E5ECF6\", \"gridcolor\": \"white\", \"gridwidth\": 2, \"linecolor\": \"white\", \"showbackground\": true, \"ticks\": \"\", \"zerolinecolor\": \"white\"}, \"yaxis\": {\"backgroundcolor\": \"#E5ECF6\", \"gridcolor\": \"white\", \"gridwidth\": 2, \"linecolor\": \"white\", \"showbackground\": true, \"ticks\": \"\", \"zerolinecolor\": \"white\"}, \"zaxis\": {\"backgroundcolor\": \"#E5ECF6\", \"gridcolor\": \"white\", \"gridwidth\": 2, \"linecolor\": \"white\", \"showbackground\": true, \"ticks\": \"\", \"zerolinecolor\": \"white\"}}, \"shapedefaults\": {\"line\": {\"color\": \"#2a3f5f\"}}, \"ternary\": {\"aaxis\": {\"gridcolor\": \"white\", \"linecolor\": \"white\", \"ticks\": \"\"}, \"baxis\": {\"gridcolor\": \"white\", \"linecolor\": \"white\", \"ticks\": \"\"}, \"bgcolor\": \"#E5ECF6\", \"caxis\": {\"gridcolor\": \"white\", \"linecolor\": \"white\", \"ticks\": \"\"}}, \"title\": {\"x\": 0.05}, \"xaxis\": {\"automargin\": true, \"gridcolor\": \"white\", \"linecolor\": \"white\", \"ticks\": \"\", \"title\": {\"standoff\": 15}, \"zerolinecolor\": \"white\", \"zerolinewidth\": 2}, \"yaxis\": {\"automargin\": true, \"gridcolor\": \"white\", \"linecolor\": \"white\", \"ticks\": \"\", \"title\": {\"standoff\": 15}, \"zerolinecolor\": \"white\", \"zerolinewidth\": 2}}}, \"title\": {\"font\": {\"color\": \"#4D5663\"}, \"text\": \"Use of Registered bikes Vs Casual bikes by year\"}, \"xaxis\": {\"gridcolor\": \"#E1E5ED\", \"showgrid\": true, \"tickfont\": {\"color\": \"#4D5663\"}, \"title\": {\"font\": {\"color\": \"#4D5663\"}, \"text\": \"Year\"}, \"zerolinecolor\": \"#E1E5ED\"}, \"yaxis\": {\"gridcolor\": \"#E1E5ED\", \"showgrid\": true, \"tickfont\": {\"color\": \"#4D5663\"}, \"title\": {\"font\": {\"color\": \"#4D5663\"}, \"text\": \"Number of users\"}, \"zerolinecolor\": \"#E1E5ED\"}},                        {\"showLink\": true, \"linkText\": \"Export to plot.ly\", \"plotlyServerURL\": \"https://plot.ly\", \"responsive\": true}                    ).then(function(){\n",
       "                            \n",
       "var gd = document.getElementById('a94be0d1-2617-43fc-9757-67f37da7f456');\n",
       "var x = new MutationObserver(function (mutations, observer) {{\n",
       "        var display = window.getComputedStyle(gd).display;\n",
       "        if (!display || display === 'none') {{\n",
       "            console.log([gd, 'removed!']);\n",
       "            Plotly.purge(gd);\n",
       "            observer.disconnect();\n",
       "        }}\n",
       "}});\n",
       "\n",
       "// Listen for the removal of the full notebook cells\n",
       "var notebookContainer = gd.closest('#notebook-container');\n",
       "if (notebookContainer) {{\n",
       "    x.observe(notebookContainer, {childList: true});\n",
       "}}\n",
       "\n",
       "// Listen for the clearing of the current output cell\n",
       "var outputEl = gd.closest('.output');\n",
       "if (outputEl) {{\n",
       "    x.observe(outputEl, {childList: true});\n",
       "}}\n",
       "\n",
       "                        })                };                });            </script>        </div>"
      ]
     },
     "metadata": {},
     "output_type": "display_data"
    }
   ],
   "source": [
    "yearly[['registered','casual']].iplot(kind='bar',\n",
    "                            title='Use of Registered bikes Vs Casual bikes by year',         \n",
    "                            xTitle='Year',\n",
    "                            yTitle='Number of users')"
   ]
  },
  {
   "cell_type": "markdown",
   "metadata": {},
   "source": [
    "<span style=\"background-color: #DAF7A6\"> There are 1,25,513 more casual bike users in 2012 compared to 2011. The number of registered bike users have been increased by 680,960. There has been quite an increase in bike users from 2011 to 2012</span>"
   ]
  },
  {
   "cell_type": "markdown",
   "metadata": {},
   "source": [
    "# <span style=\"background-color: #CBBDB6\">Grouping by holiday"
   ]
  },
  {
   "cell_type": "code",
   "execution_count": 28,
   "metadata": {
    "ExecuteTime": {
     "end_time": "2020-12-10T11:13:49.944966Z",
     "start_time": "2020-12-10T11:13:49.926457Z"
    }
   },
   "outputs": [],
   "source": [
    "byHoliday = bike_share.groupby('holiday').sum()\n",
    "#byHoliday"
   ]
  },
  {
   "cell_type": "code",
   "execution_count": 29,
   "metadata": {
    "ExecuteTime": {
     "end_time": "2020-12-10T11:13:50.033725Z",
     "start_time": "2020-12-10T11:13:49.951363Z"
    }
   },
   "outputs": [
    {
     "data": {
      "application/vnd.plotly.v1+json": {
       "config": {
        "linkText": "Export to plot.ly",
        "plotlyServerURL": "https://plot.ly",
        "showLink": true
       },
       "data": [
        {
         "marker": {
          "color": "rgba(255, 153, 51, 0.6)",
          "line": {
           "color": "rgba(255, 153, 51, 1.0)",
           "width": 1
          }
         },
         "name": "registered",
         "orientation": "v",
         "text": "",
         "type": "bar",
         "x": [
          0,
          1
         ],
         "y": [
          2616586,
          56076
         ]
        },
        {
         "marker": {
          "color": "rgba(55, 128, 191, 0.6)",
          "line": {
           "color": "rgba(55, 128, 191, 1.0)",
           "width": 1
          }
         },
         "name": "casual",
         "orientation": "v",
         "text": "",
         "type": "bar",
         "x": [
          0,
          1
         ],
         "y": [
          597658,
          22359
         ]
        }
       ],
       "layout": {
        "legend": {
         "bgcolor": "#F5F6F9",
         "font": {
          "color": "#4D5663"
         }
        },
        "paper_bgcolor": "#F5F6F9",
        "plot_bgcolor": "#F5F6F9",
        "template": {
         "data": {
          "bar": [
           {
            "error_x": {
             "color": "#2a3f5f"
            },
            "error_y": {
             "color": "#2a3f5f"
            },
            "marker": {
             "line": {
              "color": "#E5ECF6",
              "width": 0.5
             }
            },
            "type": "bar"
           }
          ],
          "barpolar": [
           {
            "marker": {
             "line": {
              "color": "#E5ECF6",
              "width": 0.5
             }
            },
            "type": "barpolar"
           }
          ],
          "carpet": [
           {
            "aaxis": {
             "endlinecolor": "#2a3f5f",
             "gridcolor": "white",
             "linecolor": "white",
             "minorgridcolor": "white",
             "startlinecolor": "#2a3f5f"
            },
            "baxis": {
             "endlinecolor": "#2a3f5f",
             "gridcolor": "white",
             "linecolor": "white",
             "minorgridcolor": "white",
             "startlinecolor": "#2a3f5f"
            },
            "type": "carpet"
           }
          ],
          "choropleth": [
           {
            "colorbar": {
             "outlinewidth": 0,
             "ticks": ""
            },
            "type": "choropleth"
           }
          ],
          "contour": [
           {
            "colorbar": {
             "outlinewidth": 0,
             "ticks": ""
            },
            "colorscale": [
             [
              0,
              "#0d0887"
             ],
             [
              0.1111111111111111,
              "#46039f"
             ],
             [
              0.2222222222222222,
              "#7201a8"
             ],
             [
              0.3333333333333333,
              "#9c179e"
             ],
             [
              0.4444444444444444,
              "#bd3786"
             ],
             [
              0.5555555555555556,
              "#d8576b"
             ],
             [
              0.6666666666666666,
              "#ed7953"
             ],
             [
              0.7777777777777778,
              "#fb9f3a"
             ],
             [
              0.8888888888888888,
              "#fdca26"
             ],
             [
              1,
              "#f0f921"
             ]
            ],
            "type": "contour"
           }
          ],
          "contourcarpet": [
           {
            "colorbar": {
             "outlinewidth": 0,
             "ticks": ""
            },
            "type": "contourcarpet"
           }
          ],
          "heatmap": [
           {
            "colorbar": {
             "outlinewidth": 0,
             "ticks": ""
            },
            "colorscale": [
             [
              0,
              "#0d0887"
             ],
             [
              0.1111111111111111,
              "#46039f"
             ],
             [
              0.2222222222222222,
              "#7201a8"
             ],
             [
              0.3333333333333333,
              "#9c179e"
             ],
             [
              0.4444444444444444,
              "#bd3786"
             ],
             [
              0.5555555555555556,
              "#d8576b"
             ],
             [
              0.6666666666666666,
              "#ed7953"
             ],
             [
              0.7777777777777778,
              "#fb9f3a"
             ],
             [
              0.8888888888888888,
              "#fdca26"
             ],
             [
              1,
              "#f0f921"
             ]
            ],
            "type": "heatmap"
           }
          ],
          "heatmapgl": [
           {
            "colorbar": {
             "outlinewidth": 0,
             "ticks": ""
            },
            "colorscale": [
             [
              0,
              "#0d0887"
             ],
             [
              0.1111111111111111,
              "#46039f"
             ],
             [
              0.2222222222222222,
              "#7201a8"
             ],
             [
              0.3333333333333333,
              "#9c179e"
             ],
             [
              0.4444444444444444,
              "#bd3786"
             ],
             [
              0.5555555555555556,
              "#d8576b"
             ],
             [
              0.6666666666666666,
              "#ed7953"
             ],
             [
              0.7777777777777778,
              "#fb9f3a"
             ],
             [
              0.8888888888888888,
              "#fdca26"
             ],
             [
              1,
              "#f0f921"
             ]
            ],
            "type": "heatmapgl"
           }
          ],
          "histogram": [
           {
            "marker": {
             "colorbar": {
              "outlinewidth": 0,
              "ticks": ""
             }
            },
            "type": "histogram"
           }
          ],
          "histogram2d": [
           {
            "colorbar": {
             "outlinewidth": 0,
             "ticks": ""
            },
            "colorscale": [
             [
              0,
              "#0d0887"
             ],
             [
              0.1111111111111111,
              "#46039f"
             ],
             [
              0.2222222222222222,
              "#7201a8"
             ],
             [
              0.3333333333333333,
              "#9c179e"
             ],
             [
              0.4444444444444444,
              "#bd3786"
             ],
             [
              0.5555555555555556,
              "#d8576b"
             ],
             [
              0.6666666666666666,
              "#ed7953"
             ],
             [
              0.7777777777777778,
              "#fb9f3a"
             ],
             [
              0.8888888888888888,
              "#fdca26"
             ],
             [
              1,
              "#f0f921"
             ]
            ],
            "type": "histogram2d"
           }
          ],
          "histogram2dcontour": [
           {
            "colorbar": {
             "outlinewidth": 0,
             "ticks": ""
            },
            "colorscale": [
             [
              0,
              "#0d0887"
             ],
             [
              0.1111111111111111,
              "#46039f"
             ],
             [
              0.2222222222222222,
              "#7201a8"
             ],
             [
              0.3333333333333333,
              "#9c179e"
             ],
             [
              0.4444444444444444,
              "#bd3786"
             ],
             [
              0.5555555555555556,
              "#d8576b"
             ],
             [
              0.6666666666666666,
              "#ed7953"
             ],
             [
              0.7777777777777778,
              "#fb9f3a"
             ],
             [
              0.8888888888888888,
              "#fdca26"
             ],
             [
              1,
              "#f0f921"
             ]
            ],
            "type": "histogram2dcontour"
           }
          ],
          "mesh3d": [
           {
            "colorbar": {
             "outlinewidth": 0,
             "ticks": ""
            },
            "type": "mesh3d"
           }
          ],
          "parcoords": [
           {
            "line": {
             "colorbar": {
              "outlinewidth": 0,
              "ticks": ""
             }
            },
            "type": "parcoords"
           }
          ],
          "pie": [
           {
            "automargin": true,
            "type": "pie"
           }
          ],
          "scatter": [
           {
            "marker": {
             "colorbar": {
              "outlinewidth": 0,
              "ticks": ""
             }
            },
            "type": "scatter"
           }
          ],
          "scatter3d": [
           {
            "line": {
             "colorbar": {
              "outlinewidth": 0,
              "ticks": ""
             }
            },
            "marker": {
             "colorbar": {
              "outlinewidth": 0,
              "ticks": ""
             }
            },
            "type": "scatter3d"
           }
          ],
          "scattercarpet": [
           {
            "marker": {
             "colorbar": {
              "outlinewidth": 0,
              "ticks": ""
             }
            },
            "type": "scattercarpet"
           }
          ],
          "scattergeo": [
           {
            "marker": {
             "colorbar": {
              "outlinewidth": 0,
              "ticks": ""
             }
            },
            "type": "scattergeo"
           }
          ],
          "scattergl": [
           {
            "marker": {
             "colorbar": {
              "outlinewidth": 0,
              "ticks": ""
             }
            },
            "type": "scattergl"
           }
          ],
          "scattermapbox": [
           {
            "marker": {
             "colorbar": {
              "outlinewidth": 0,
              "ticks": ""
             }
            },
            "type": "scattermapbox"
           }
          ],
          "scatterpolar": [
           {
            "marker": {
             "colorbar": {
              "outlinewidth": 0,
              "ticks": ""
             }
            },
            "type": "scatterpolar"
           }
          ],
          "scatterpolargl": [
           {
            "marker": {
             "colorbar": {
              "outlinewidth": 0,
              "ticks": ""
             }
            },
            "type": "scatterpolargl"
           }
          ],
          "scatterternary": [
           {
            "marker": {
             "colorbar": {
              "outlinewidth": 0,
              "ticks": ""
             }
            },
            "type": "scatterternary"
           }
          ],
          "surface": [
           {
            "colorbar": {
             "outlinewidth": 0,
             "ticks": ""
            },
            "colorscale": [
             [
              0,
              "#0d0887"
             ],
             [
              0.1111111111111111,
              "#46039f"
             ],
             [
              0.2222222222222222,
              "#7201a8"
             ],
             [
              0.3333333333333333,
              "#9c179e"
             ],
             [
              0.4444444444444444,
              "#bd3786"
             ],
             [
              0.5555555555555556,
              "#d8576b"
             ],
             [
              0.6666666666666666,
              "#ed7953"
             ],
             [
              0.7777777777777778,
              "#fb9f3a"
             ],
             [
              0.8888888888888888,
              "#fdca26"
             ],
             [
              1,
              "#f0f921"
             ]
            ],
            "type": "surface"
           }
          ],
          "table": [
           {
            "cells": {
             "fill": {
              "color": "#EBF0F8"
             },
             "line": {
              "color": "white"
             }
            },
            "header": {
             "fill": {
              "color": "#C8D4E3"
             },
             "line": {
              "color": "white"
             }
            },
            "type": "table"
           }
          ]
         },
         "layout": {
          "annotationdefaults": {
           "arrowcolor": "#2a3f5f",
           "arrowhead": 0,
           "arrowwidth": 1
          },
          "coloraxis": {
           "colorbar": {
            "outlinewidth": 0,
            "ticks": ""
           }
          },
          "colorscale": {
           "diverging": [
            [
             0,
             "#8e0152"
            ],
            [
             0.1,
             "#c51b7d"
            ],
            [
             0.2,
             "#de77ae"
            ],
            [
             0.3,
             "#f1b6da"
            ],
            [
             0.4,
             "#fde0ef"
            ],
            [
             0.5,
             "#f7f7f7"
            ],
            [
             0.6,
             "#e6f5d0"
            ],
            [
             0.7,
             "#b8e186"
            ],
            [
             0.8,
             "#7fbc41"
            ],
            [
             0.9,
             "#4d9221"
            ],
            [
             1,
             "#276419"
            ]
           ],
           "sequential": [
            [
             0,
             "#0d0887"
            ],
            [
             0.1111111111111111,
             "#46039f"
            ],
            [
             0.2222222222222222,
             "#7201a8"
            ],
            [
             0.3333333333333333,
             "#9c179e"
            ],
            [
             0.4444444444444444,
             "#bd3786"
            ],
            [
             0.5555555555555556,
             "#d8576b"
            ],
            [
             0.6666666666666666,
             "#ed7953"
            ],
            [
             0.7777777777777778,
             "#fb9f3a"
            ],
            [
             0.8888888888888888,
             "#fdca26"
            ],
            [
             1,
             "#f0f921"
            ]
           ],
           "sequentialminus": [
            [
             0,
             "#0d0887"
            ],
            [
             0.1111111111111111,
             "#46039f"
            ],
            [
             0.2222222222222222,
             "#7201a8"
            ],
            [
             0.3333333333333333,
             "#9c179e"
            ],
            [
             0.4444444444444444,
             "#bd3786"
            ],
            [
             0.5555555555555556,
             "#d8576b"
            ],
            [
             0.6666666666666666,
             "#ed7953"
            ],
            [
             0.7777777777777778,
             "#fb9f3a"
            ],
            [
             0.8888888888888888,
             "#fdca26"
            ],
            [
             1,
             "#f0f921"
            ]
           ]
          },
          "colorway": [
           "#636efa",
           "#EF553B",
           "#00cc96",
           "#ab63fa",
           "#FFA15A",
           "#19d3f3",
           "#FF6692",
           "#B6E880",
           "#FF97FF",
           "#FECB52"
          ],
          "font": {
           "color": "#2a3f5f"
          },
          "geo": {
           "bgcolor": "white",
           "lakecolor": "white",
           "landcolor": "#E5ECF6",
           "showlakes": true,
           "showland": true,
           "subunitcolor": "white"
          },
          "hoverlabel": {
           "align": "left"
          },
          "hovermode": "closest",
          "mapbox": {
           "style": "light"
          },
          "paper_bgcolor": "white",
          "plot_bgcolor": "#E5ECF6",
          "polar": {
           "angularaxis": {
            "gridcolor": "white",
            "linecolor": "white",
            "ticks": ""
           },
           "bgcolor": "#E5ECF6",
           "radialaxis": {
            "gridcolor": "white",
            "linecolor": "white",
            "ticks": ""
           }
          },
          "scene": {
           "xaxis": {
            "backgroundcolor": "#E5ECF6",
            "gridcolor": "white",
            "gridwidth": 2,
            "linecolor": "white",
            "showbackground": true,
            "ticks": "",
            "zerolinecolor": "white"
           },
           "yaxis": {
            "backgroundcolor": "#E5ECF6",
            "gridcolor": "white",
            "gridwidth": 2,
            "linecolor": "white",
            "showbackground": true,
            "ticks": "",
            "zerolinecolor": "white"
           },
           "zaxis": {
            "backgroundcolor": "#E5ECF6",
            "gridcolor": "white",
            "gridwidth": 2,
            "linecolor": "white",
            "showbackground": true,
            "ticks": "",
            "zerolinecolor": "white"
           }
          },
          "shapedefaults": {
           "line": {
            "color": "#2a3f5f"
           }
          },
          "ternary": {
           "aaxis": {
            "gridcolor": "white",
            "linecolor": "white",
            "ticks": ""
           },
           "baxis": {
            "gridcolor": "white",
            "linecolor": "white",
            "ticks": ""
           },
           "bgcolor": "#E5ECF6",
           "caxis": {
            "gridcolor": "white",
            "linecolor": "white",
            "ticks": ""
           }
          },
          "title": {
           "x": 0.05
          },
          "xaxis": {
           "automargin": true,
           "gridcolor": "white",
           "linecolor": "white",
           "ticks": "",
           "title": {
            "standoff": 15
           },
           "zerolinecolor": "white",
           "zerolinewidth": 2
          },
          "yaxis": {
           "automargin": true,
           "gridcolor": "white",
           "linecolor": "white",
           "ticks": "",
           "title": {
            "standoff": 15
           },
           "zerolinecolor": "white",
           "zerolinewidth": 2
          }
         }
        },
        "title": {
         "font": {
          "color": "#4D5663"
         },
         "text": "Use of Registered bikes Vs Casual bikes by holiday"
        },
        "xaxis": {
         "gridcolor": "#E1E5ED",
         "showgrid": true,
         "tickfont": {
          "color": "#4D5663"
         },
         "title": {
          "font": {
           "color": "#4D5663"
          },
          "text": "Holidays"
         },
         "zerolinecolor": "#E1E5ED"
        },
        "yaxis": {
         "gridcolor": "#E1E5ED",
         "showgrid": true,
         "tickfont": {
          "color": "#4D5663"
         },
         "title": {
          "font": {
           "color": "#4D5663"
          },
          "text": "Number of users"
         },
         "zerolinecolor": "#E1E5ED"
        }
       }
      },
      "text/html": [
       "<div>                            <div id=\"ff4163fc-a551-4e4d-bc7c-2d898dd4b247\" class=\"plotly-graph-div\" style=\"height:525px; width:100%;\"></div>            <script type=\"text/javascript\">                require([\"plotly\"], function(Plotly) {                    window.PLOTLYENV=window.PLOTLYENV || {};\n",
       "                    window.PLOTLYENV.BASE_URL='https://plot.ly';                                    if (document.getElementById(\"ff4163fc-a551-4e4d-bc7c-2d898dd4b247\")) {                    Plotly.newPlot(                        \"ff4163fc-a551-4e4d-bc7c-2d898dd4b247\",                        [{\"marker\": {\"color\": \"rgba(255, 153, 51, 0.6)\", \"line\": {\"color\": \"rgba(255, 153, 51, 1.0)\", \"width\": 1}}, \"name\": \"registered\", \"orientation\": \"v\", \"text\": \"\", \"type\": \"bar\", \"x\": [0, 1], \"y\": [2616586, 56076]}, {\"marker\": {\"color\": \"rgba(55, 128, 191, 0.6)\", \"line\": {\"color\": \"rgba(55, 128, 191, 1.0)\", \"width\": 1}}, \"name\": \"casual\", \"orientation\": \"v\", \"text\": \"\", \"type\": \"bar\", \"x\": [0, 1], \"y\": [597658, 22359]}],                        {\"legend\": {\"bgcolor\": \"#F5F6F9\", \"font\": {\"color\": \"#4D5663\"}}, \"paper_bgcolor\": \"#F5F6F9\", \"plot_bgcolor\": \"#F5F6F9\", \"template\": {\"data\": {\"bar\": [{\"error_x\": {\"color\": \"#2a3f5f\"}, \"error_y\": {\"color\": \"#2a3f5f\"}, \"marker\": {\"line\": {\"color\": \"#E5ECF6\", \"width\": 0.5}}, \"type\": \"bar\"}], \"barpolar\": [{\"marker\": {\"line\": {\"color\": \"#E5ECF6\", \"width\": 0.5}}, \"type\": \"barpolar\"}], \"carpet\": [{\"aaxis\": {\"endlinecolor\": \"#2a3f5f\", \"gridcolor\": \"white\", \"linecolor\": \"white\", \"minorgridcolor\": \"white\", \"startlinecolor\": \"#2a3f5f\"}, \"baxis\": {\"endlinecolor\": \"#2a3f5f\", \"gridcolor\": \"white\", \"linecolor\": \"white\", \"minorgridcolor\": \"white\", \"startlinecolor\": \"#2a3f5f\"}, \"type\": \"carpet\"}], \"choropleth\": [{\"colorbar\": {\"outlinewidth\": 0, \"ticks\": \"\"}, \"type\": \"choropleth\"}], \"contour\": [{\"colorbar\": {\"outlinewidth\": 0, \"ticks\": \"\"}, \"colorscale\": [[0.0, \"#0d0887\"], [0.1111111111111111, \"#46039f\"], [0.2222222222222222, \"#7201a8\"], [0.3333333333333333, \"#9c179e\"], [0.4444444444444444, \"#bd3786\"], [0.5555555555555556, \"#d8576b\"], [0.6666666666666666, \"#ed7953\"], [0.7777777777777778, \"#fb9f3a\"], [0.8888888888888888, \"#fdca26\"], [1.0, \"#f0f921\"]], \"type\": \"contour\"}], \"contourcarpet\": [{\"colorbar\": {\"outlinewidth\": 0, \"ticks\": \"\"}, \"type\": \"contourcarpet\"}], \"heatmap\": [{\"colorbar\": {\"outlinewidth\": 0, \"ticks\": \"\"}, \"colorscale\": [[0.0, \"#0d0887\"], [0.1111111111111111, \"#46039f\"], [0.2222222222222222, \"#7201a8\"], [0.3333333333333333, \"#9c179e\"], [0.4444444444444444, \"#bd3786\"], [0.5555555555555556, \"#d8576b\"], [0.6666666666666666, \"#ed7953\"], [0.7777777777777778, \"#fb9f3a\"], [0.8888888888888888, \"#fdca26\"], [1.0, \"#f0f921\"]], \"type\": \"heatmap\"}], \"heatmapgl\": [{\"colorbar\": {\"outlinewidth\": 0, \"ticks\": \"\"}, \"colorscale\": [[0.0, \"#0d0887\"], [0.1111111111111111, \"#46039f\"], [0.2222222222222222, \"#7201a8\"], [0.3333333333333333, \"#9c179e\"], [0.4444444444444444, \"#bd3786\"], [0.5555555555555556, \"#d8576b\"], [0.6666666666666666, \"#ed7953\"], [0.7777777777777778, \"#fb9f3a\"], [0.8888888888888888, \"#fdca26\"], [1.0, \"#f0f921\"]], \"type\": \"heatmapgl\"}], \"histogram\": [{\"marker\": {\"colorbar\": {\"outlinewidth\": 0, \"ticks\": \"\"}}, \"type\": \"histogram\"}], \"histogram2d\": [{\"colorbar\": {\"outlinewidth\": 0, \"ticks\": \"\"}, \"colorscale\": [[0.0, \"#0d0887\"], [0.1111111111111111, \"#46039f\"], [0.2222222222222222, \"#7201a8\"], [0.3333333333333333, \"#9c179e\"], [0.4444444444444444, \"#bd3786\"], [0.5555555555555556, \"#d8576b\"], [0.6666666666666666, \"#ed7953\"], [0.7777777777777778, \"#fb9f3a\"], [0.8888888888888888, \"#fdca26\"], [1.0, \"#f0f921\"]], \"type\": \"histogram2d\"}], \"histogram2dcontour\": [{\"colorbar\": {\"outlinewidth\": 0, \"ticks\": \"\"}, \"colorscale\": [[0.0, \"#0d0887\"], [0.1111111111111111, \"#46039f\"], [0.2222222222222222, \"#7201a8\"], [0.3333333333333333, \"#9c179e\"], [0.4444444444444444, \"#bd3786\"], [0.5555555555555556, \"#d8576b\"], [0.6666666666666666, \"#ed7953\"], [0.7777777777777778, \"#fb9f3a\"], [0.8888888888888888, \"#fdca26\"], [1.0, \"#f0f921\"]], \"type\": \"histogram2dcontour\"}], \"mesh3d\": [{\"colorbar\": {\"outlinewidth\": 0, \"ticks\": \"\"}, \"type\": \"mesh3d\"}], \"parcoords\": [{\"line\": {\"colorbar\": {\"outlinewidth\": 0, \"ticks\": \"\"}}, \"type\": \"parcoords\"}], \"pie\": [{\"automargin\": true, \"type\": \"pie\"}], \"scatter\": [{\"marker\": {\"colorbar\": {\"outlinewidth\": 0, \"ticks\": \"\"}}, \"type\": \"scatter\"}], \"scatter3d\": [{\"line\": {\"colorbar\": {\"outlinewidth\": 0, \"ticks\": \"\"}}, \"marker\": {\"colorbar\": {\"outlinewidth\": 0, \"ticks\": \"\"}}, \"type\": \"scatter3d\"}], \"scattercarpet\": [{\"marker\": {\"colorbar\": {\"outlinewidth\": 0, \"ticks\": \"\"}}, \"type\": \"scattercarpet\"}], \"scattergeo\": [{\"marker\": {\"colorbar\": {\"outlinewidth\": 0, \"ticks\": \"\"}}, \"type\": \"scattergeo\"}], \"scattergl\": [{\"marker\": {\"colorbar\": {\"outlinewidth\": 0, \"ticks\": \"\"}}, \"type\": \"scattergl\"}], \"scattermapbox\": [{\"marker\": {\"colorbar\": {\"outlinewidth\": 0, \"ticks\": \"\"}}, \"type\": \"scattermapbox\"}], \"scatterpolar\": [{\"marker\": {\"colorbar\": {\"outlinewidth\": 0, \"ticks\": \"\"}}, \"type\": \"scatterpolar\"}], \"scatterpolargl\": [{\"marker\": {\"colorbar\": {\"outlinewidth\": 0, \"ticks\": \"\"}}, \"type\": \"scatterpolargl\"}], \"scatterternary\": [{\"marker\": {\"colorbar\": {\"outlinewidth\": 0, \"ticks\": \"\"}}, \"type\": \"scatterternary\"}], \"surface\": [{\"colorbar\": {\"outlinewidth\": 0, \"ticks\": \"\"}, \"colorscale\": [[0.0, \"#0d0887\"], [0.1111111111111111, \"#46039f\"], [0.2222222222222222, \"#7201a8\"], [0.3333333333333333, \"#9c179e\"], [0.4444444444444444, \"#bd3786\"], [0.5555555555555556, \"#d8576b\"], [0.6666666666666666, \"#ed7953\"], [0.7777777777777778, \"#fb9f3a\"], [0.8888888888888888, \"#fdca26\"], [1.0, \"#f0f921\"]], \"type\": \"surface\"}], \"table\": [{\"cells\": {\"fill\": {\"color\": \"#EBF0F8\"}, \"line\": {\"color\": \"white\"}}, \"header\": {\"fill\": {\"color\": \"#C8D4E3\"}, \"line\": {\"color\": \"white\"}}, \"type\": \"table\"}]}, \"layout\": {\"annotationdefaults\": {\"arrowcolor\": \"#2a3f5f\", \"arrowhead\": 0, \"arrowwidth\": 1}, \"coloraxis\": {\"colorbar\": {\"outlinewidth\": 0, \"ticks\": \"\"}}, \"colorscale\": {\"diverging\": [[0, \"#8e0152\"], [0.1, \"#c51b7d\"], [0.2, \"#de77ae\"], [0.3, \"#f1b6da\"], [0.4, \"#fde0ef\"], [0.5, \"#f7f7f7\"], [0.6, \"#e6f5d0\"], [0.7, \"#b8e186\"], [0.8, \"#7fbc41\"], [0.9, \"#4d9221\"], [1, \"#276419\"]], \"sequential\": [[0.0, \"#0d0887\"], [0.1111111111111111, \"#46039f\"], [0.2222222222222222, \"#7201a8\"], [0.3333333333333333, \"#9c179e\"], [0.4444444444444444, \"#bd3786\"], [0.5555555555555556, \"#d8576b\"], [0.6666666666666666, \"#ed7953\"], [0.7777777777777778, \"#fb9f3a\"], [0.8888888888888888, \"#fdca26\"], [1.0, \"#f0f921\"]], \"sequentialminus\": [[0.0, \"#0d0887\"], [0.1111111111111111, \"#46039f\"], [0.2222222222222222, \"#7201a8\"], [0.3333333333333333, \"#9c179e\"], [0.4444444444444444, \"#bd3786\"], [0.5555555555555556, \"#d8576b\"], [0.6666666666666666, \"#ed7953\"], [0.7777777777777778, \"#fb9f3a\"], [0.8888888888888888, \"#fdca26\"], [1.0, \"#f0f921\"]]}, \"colorway\": [\"#636efa\", \"#EF553B\", \"#00cc96\", \"#ab63fa\", \"#FFA15A\", \"#19d3f3\", \"#FF6692\", \"#B6E880\", \"#FF97FF\", \"#FECB52\"], \"font\": {\"color\": \"#2a3f5f\"}, \"geo\": {\"bgcolor\": \"white\", \"lakecolor\": \"white\", \"landcolor\": \"#E5ECF6\", \"showlakes\": true, \"showland\": true, \"subunitcolor\": \"white\"}, \"hoverlabel\": {\"align\": \"left\"}, \"hovermode\": \"closest\", \"mapbox\": {\"style\": \"light\"}, \"paper_bgcolor\": \"white\", \"plot_bgcolor\": \"#E5ECF6\", \"polar\": {\"angularaxis\": {\"gridcolor\": \"white\", \"linecolor\": \"white\", \"ticks\": \"\"}, \"bgcolor\": \"#E5ECF6\", \"radialaxis\": {\"gridcolor\": \"white\", \"linecolor\": \"white\", \"ticks\": \"\"}}, \"scene\": {\"xaxis\": {\"backgroundcolor\": \"#E5ECF6\", \"gridcolor\": \"white\", \"gridwidth\": 2, \"linecolor\": \"white\", \"showbackground\": true, \"ticks\": \"\", \"zerolinecolor\": \"white\"}, \"yaxis\": {\"backgroundcolor\": \"#E5ECF6\", \"gridcolor\": \"white\", \"gridwidth\": 2, \"linecolor\": \"white\", \"showbackground\": true, \"ticks\": \"\", \"zerolinecolor\": \"white\"}, \"zaxis\": {\"backgroundcolor\": \"#E5ECF6\", \"gridcolor\": \"white\", \"gridwidth\": 2, \"linecolor\": \"white\", \"showbackground\": true, \"ticks\": \"\", \"zerolinecolor\": \"white\"}}, \"shapedefaults\": {\"line\": {\"color\": \"#2a3f5f\"}}, \"ternary\": {\"aaxis\": {\"gridcolor\": \"white\", \"linecolor\": \"white\", \"ticks\": \"\"}, \"baxis\": {\"gridcolor\": \"white\", \"linecolor\": \"white\", \"ticks\": \"\"}, \"bgcolor\": \"#E5ECF6\", \"caxis\": {\"gridcolor\": \"white\", \"linecolor\": \"white\", \"ticks\": \"\"}}, \"title\": {\"x\": 0.05}, \"xaxis\": {\"automargin\": true, \"gridcolor\": \"white\", \"linecolor\": \"white\", \"ticks\": \"\", \"title\": {\"standoff\": 15}, \"zerolinecolor\": \"white\", \"zerolinewidth\": 2}, \"yaxis\": {\"automargin\": true, \"gridcolor\": \"white\", \"linecolor\": \"white\", \"ticks\": \"\", \"title\": {\"standoff\": 15}, \"zerolinecolor\": \"white\", \"zerolinewidth\": 2}}}, \"title\": {\"font\": {\"color\": \"#4D5663\"}, \"text\": \"Use of Registered bikes Vs Casual bikes by holiday\"}, \"xaxis\": {\"gridcolor\": \"#E1E5ED\", \"showgrid\": true, \"tickfont\": {\"color\": \"#4D5663\"}, \"title\": {\"font\": {\"color\": \"#4D5663\"}, \"text\": \"Holidays\"}, \"zerolinecolor\": \"#E1E5ED\"}, \"yaxis\": {\"gridcolor\": \"#E1E5ED\", \"showgrid\": true, \"tickfont\": {\"color\": \"#4D5663\"}, \"title\": {\"font\": {\"color\": \"#4D5663\"}, \"text\": \"Number of users\"}, \"zerolinecolor\": \"#E1E5ED\"}},                        {\"showLink\": true, \"linkText\": \"Export to plot.ly\", \"plotlyServerURL\": \"https://plot.ly\", \"responsive\": true}                    ).then(function(){\n",
       "                            \n",
       "var gd = document.getElementById('ff4163fc-a551-4e4d-bc7c-2d898dd4b247');\n",
       "var x = new MutationObserver(function (mutations, observer) {{\n",
       "        var display = window.getComputedStyle(gd).display;\n",
       "        if (!display || display === 'none') {{\n",
       "            console.log([gd, 'removed!']);\n",
       "            Plotly.purge(gd);\n",
       "            observer.disconnect();\n",
       "        }}\n",
       "}});\n",
       "\n",
       "// Listen for the removal of the full notebook cells\n",
       "var notebookContainer = gd.closest('#notebook-container');\n",
       "if (notebookContainer) {{\n",
       "    x.observe(notebookContainer, {childList: true});\n",
       "}}\n",
       "\n",
       "// Listen for the clearing of the current output cell\n",
       "var outputEl = gd.closest('.output');\n",
       "if (outputEl) {{\n",
       "    x.observe(outputEl, {childList: true});\n",
       "}}\n",
       "\n",
       "                        })                };                });            </script>        </div>"
      ]
     },
     "metadata": {},
     "output_type": "display_data"
    }
   ],
   "source": [
    "byHoliday[['registered','casual']].iplot(kind='bar',\n",
    "                            title='Use of Registered bikes Vs Casual bikes by holiday',         \n",
    "                            xTitle='Holidays',\n",
    "                            yTitle='Number of users')"
   ]
  },
  {
   "cell_type": "markdown",
   "metadata": {
    "ExecuteTime": {
     "end_time": "2020-12-06T14:42:45.627011Z",
     "start_time": "2020-12-06T14:42:45.622747Z"
    }
   },
   "source": [
    "<span style=\"background-color: #DAF7A6\">During holidays the use of bicycles has decreased dramatically. When thee are no holidays, there are quite higher number of registered users compared to casual users.</span>"
   ]
  },
  {
   "cell_type": "markdown",
   "metadata": {},
   "source": [
    "# <span style=\"background-color: #CBBDB6\">Grouping by weather"
   ]
  },
  {
   "cell_type": "code",
   "execution_count": 30,
   "metadata": {
    "ExecuteTime": {
     "end_time": "2020-12-10T11:13:50.058529Z",
     "start_time": "2020-12-10T11:13:50.040352Z"
    }
   },
   "outputs": [],
   "source": [
    "byWeather = bike_share.groupby('weathersit').mean()\n",
    "#byWeather"
   ]
  },
  {
   "cell_type": "markdown",
   "metadata": {
    "ExecuteTime": {
     "end_time": "2020-12-06T08:51:34.428979Z",
     "start_time": "2020-12-06T08:51:34.421528Z"
    }
   },
   "source": [
    "1- Clear, Few clouds, Partly cloudy, Partly cloudy\n",
    "\n",
    "2- Mist + Cloudy, Mist + Broken clouds, Mist + Few clouds, Mist\n",
    "\n",
    "3- Light Snow, Light Rain + Thunderstorm + Scattered clouds, Light Rain + Scattered clouds\n",
    "\n",
    "4- Heavy Rain + Ice Pallets + Thunderstorm + Mist, Snow + Fog"
   ]
  },
  {
   "cell_type": "code",
   "execution_count": 31,
   "metadata": {
    "ExecuteTime": {
     "end_time": "2020-12-10T11:13:50.177828Z",
     "start_time": "2020-12-10T11:13:50.063556Z"
    }
   },
   "outputs": [
    {
     "data": {
      "application/vnd.plotly.v1+json": {
       "config": {
        "linkText": "Export to plot.ly",
        "plotlyServerURL": "https://plot.ly",
        "showLink": true
       },
       "data": [
        {
         "marker": {
          "color": "rgba(255, 153, 51, 0.6)",
          "line": {
           "color": "rgba(255, 153, 51, 1.0)",
           "width": 1
          }
         },
         "name": "registered",
         "orientation": "v",
         "text": "",
         "type": "bar",
         "x": [
          1,
          2,
          3,
          4
         ],
         "y": [
          164.3238412336809,
          145.57020246478874,
          95.52360817477097,
          71.66666666666667
         ]
        },
        {
         "marker": {
          "color": "rgba(55, 128, 191, 0.6)",
          "line": {
           "color": "rgba(55, 128, 191, 1.0)",
           "width": 1
          }
         },
         "name": "casual",
         "orientation": "v",
         "text": "",
         "type": "bar",
         "x": [
          1,
          2,
          3,
          4
         ],
         "y": [
          40.545430649259615,
          29.595290492957748,
          16.05567300916138,
          2.6666666666666665
         ]
        }
       ],
       "layout": {
        "legend": {
         "bgcolor": "#F5F6F9",
         "font": {
          "color": "#4D5663"
         }
        },
        "paper_bgcolor": "#F5F6F9",
        "plot_bgcolor": "#F5F6F9",
        "template": {
         "data": {
          "bar": [
           {
            "error_x": {
             "color": "#2a3f5f"
            },
            "error_y": {
             "color": "#2a3f5f"
            },
            "marker": {
             "line": {
              "color": "#E5ECF6",
              "width": 0.5
             }
            },
            "type": "bar"
           }
          ],
          "barpolar": [
           {
            "marker": {
             "line": {
              "color": "#E5ECF6",
              "width": 0.5
             }
            },
            "type": "barpolar"
           }
          ],
          "carpet": [
           {
            "aaxis": {
             "endlinecolor": "#2a3f5f",
             "gridcolor": "white",
             "linecolor": "white",
             "minorgridcolor": "white",
             "startlinecolor": "#2a3f5f"
            },
            "baxis": {
             "endlinecolor": "#2a3f5f",
             "gridcolor": "white",
             "linecolor": "white",
             "minorgridcolor": "white",
             "startlinecolor": "#2a3f5f"
            },
            "type": "carpet"
           }
          ],
          "choropleth": [
           {
            "colorbar": {
             "outlinewidth": 0,
             "ticks": ""
            },
            "type": "choropleth"
           }
          ],
          "contour": [
           {
            "colorbar": {
             "outlinewidth": 0,
             "ticks": ""
            },
            "colorscale": [
             [
              0,
              "#0d0887"
             ],
             [
              0.1111111111111111,
              "#46039f"
             ],
             [
              0.2222222222222222,
              "#7201a8"
             ],
             [
              0.3333333333333333,
              "#9c179e"
             ],
             [
              0.4444444444444444,
              "#bd3786"
             ],
             [
              0.5555555555555556,
              "#d8576b"
             ],
             [
              0.6666666666666666,
              "#ed7953"
             ],
             [
              0.7777777777777778,
              "#fb9f3a"
             ],
             [
              0.8888888888888888,
              "#fdca26"
             ],
             [
              1,
              "#f0f921"
             ]
            ],
            "type": "contour"
           }
          ],
          "contourcarpet": [
           {
            "colorbar": {
             "outlinewidth": 0,
             "ticks": ""
            },
            "type": "contourcarpet"
           }
          ],
          "heatmap": [
           {
            "colorbar": {
             "outlinewidth": 0,
             "ticks": ""
            },
            "colorscale": [
             [
              0,
              "#0d0887"
             ],
             [
              0.1111111111111111,
              "#46039f"
             ],
             [
              0.2222222222222222,
              "#7201a8"
             ],
             [
              0.3333333333333333,
              "#9c179e"
             ],
             [
              0.4444444444444444,
              "#bd3786"
             ],
             [
              0.5555555555555556,
              "#d8576b"
             ],
             [
              0.6666666666666666,
              "#ed7953"
             ],
             [
              0.7777777777777778,
              "#fb9f3a"
             ],
             [
              0.8888888888888888,
              "#fdca26"
             ],
             [
              1,
              "#f0f921"
             ]
            ],
            "type": "heatmap"
           }
          ],
          "heatmapgl": [
           {
            "colorbar": {
             "outlinewidth": 0,
             "ticks": ""
            },
            "colorscale": [
             [
              0,
              "#0d0887"
             ],
             [
              0.1111111111111111,
              "#46039f"
             ],
             [
              0.2222222222222222,
              "#7201a8"
             ],
             [
              0.3333333333333333,
              "#9c179e"
             ],
             [
              0.4444444444444444,
              "#bd3786"
             ],
             [
              0.5555555555555556,
              "#d8576b"
             ],
             [
              0.6666666666666666,
              "#ed7953"
             ],
             [
              0.7777777777777778,
              "#fb9f3a"
             ],
             [
              0.8888888888888888,
              "#fdca26"
             ],
             [
              1,
              "#f0f921"
             ]
            ],
            "type": "heatmapgl"
           }
          ],
          "histogram": [
           {
            "marker": {
             "colorbar": {
              "outlinewidth": 0,
              "ticks": ""
             }
            },
            "type": "histogram"
           }
          ],
          "histogram2d": [
           {
            "colorbar": {
             "outlinewidth": 0,
             "ticks": ""
            },
            "colorscale": [
             [
              0,
              "#0d0887"
             ],
             [
              0.1111111111111111,
              "#46039f"
             ],
             [
              0.2222222222222222,
              "#7201a8"
             ],
             [
              0.3333333333333333,
              "#9c179e"
             ],
             [
              0.4444444444444444,
              "#bd3786"
             ],
             [
              0.5555555555555556,
              "#d8576b"
             ],
             [
              0.6666666666666666,
              "#ed7953"
             ],
             [
              0.7777777777777778,
              "#fb9f3a"
             ],
             [
              0.8888888888888888,
              "#fdca26"
             ],
             [
              1,
              "#f0f921"
             ]
            ],
            "type": "histogram2d"
           }
          ],
          "histogram2dcontour": [
           {
            "colorbar": {
             "outlinewidth": 0,
             "ticks": ""
            },
            "colorscale": [
             [
              0,
              "#0d0887"
             ],
             [
              0.1111111111111111,
              "#46039f"
             ],
             [
              0.2222222222222222,
              "#7201a8"
             ],
             [
              0.3333333333333333,
              "#9c179e"
             ],
             [
              0.4444444444444444,
              "#bd3786"
             ],
             [
              0.5555555555555556,
              "#d8576b"
             ],
             [
              0.6666666666666666,
              "#ed7953"
             ],
             [
              0.7777777777777778,
              "#fb9f3a"
             ],
             [
              0.8888888888888888,
              "#fdca26"
             ],
             [
              1,
              "#f0f921"
             ]
            ],
            "type": "histogram2dcontour"
           }
          ],
          "mesh3d": [
           {
            "colorbar": {
             "outlinewidth": 0,
             "ticks": ""
            },
            "type": "mesh3d"
           }
          ],
          "parcoords": [
           {
            "line": {
             "colorbar": {
              "outlinewidth": 0,
              "ticks": ""
             }
            },
            "type": "parcoords"
           }
          ],
          "pie": [
           {
            "automargin": true,
            "type": "pie"
           }
          ],
          "scatter": [
           {
            "marker": {
             "colorbar": {
              "outlinewidth": 0,
              "ticks": ""
             }
            },
            "type": "scatter"
           }
          ],
          "scatter3d": [
           {
            "line": {
             "colorbar": {
              "outlinewidth": 0,
              "ticks": ""
             }
            },
            "marker": {
             "colorbar": {
              "outlinewidth": 0,
              "ticks": ""
             }
            },
            "type": "scatter3d"
           }
          ],
          "scattercarpet": [
           {
            "marker": {
             "colorbar": {
              "outlinewidth": 0,
              "ticks": ""
             }
            },
            "type": "scattercarpet"
           }
          ],
          "scattergeo": [
           {
            "marker": {
             "colorbar": {
              "outlinewidth": 0,
              "ticks": ""
             }
            },
            "type": "scattergeo"
           }
          ],
          "scattergl": [
           {
            "marker": {
             "colorbar": {
              "outlinewidth": 0,
              "ticks": ""
             }
            },
            "type": "scattergl"
           }
          ],
          "scattermapbox": [
           {
            "marker": {
             "colorbar": {
              "outlinewidth": 0,
              "ticks": ""
             }
            },
            "type": "scattermapbox"
           }
          ],
          "scatterpolar": [
           {
            "marker": {
             "colorbar": {
              "outlinewidth": 0,
              "ticks": ""
             }
            },
            "type": "scatterpolar"
           }
          ],
          "scatterpolargl": [
           {
            "marker": {
             "colorbar": {
              "outlinewidth": 0,
              "ticks": ""
             }
            },
            "type": "scatterpolargl"
           }
          ],
          "scatterternary": [
           {
            "marker": {
             "colorbar": {
              "outlinewidth": 0,
              "ticks": ""
             }
            },
            "type": "scatterternary"
           }
          ],
          "surface": [
           {
            "colorbar": {
             "outlinewidth": 0,
             "ticks": ""
            },
            "colorscale": [
             [
              0,
              "#0d0887"
             ],
             [
              0.1111111111111111,
              "#46039f"
             ],
             [
              0.2222222222222222,
              "#7201a8"
             ],
             [
              0.3333333333333333,
              "#9c179e"
             ],
             [
              0.4444444444444444,
              "#bd3786"
             ],
             [
              0.5555555555555556,
              "#d8576b"
             ],
             [
              0.6666666666666666,
              "#ed7953"
             ],
             [
              0.7777777777777778,
              "#fb9f3a"
             ],
             [
              0.8888888888888888,
              "#fdca26"
             ],
             [
              1,
              "#f0f921"
             ]
            ],
            "type": "surface"
           }
          ],
          "table": [
           {
            "cells": {
             "fill": {
              "color": "#EBF0F8"
             },
             "line": {
              "color": "white"
             }
            },
            "header": {
             "fill": {
              "color": "#C8D4E3"
             },
             "line": {
              "color": "white"
             }
            },
            "type": "table"
           }
          ]
         },
         "layout": {
          "annotationdefaults": {
           "arrowcolor": "#2a3f5f",
           "arrowhead": 0,
           "arrowwidth": 1
          },
          "coloraxis": {
           "colorbar": {
            "outlinewidth": 0,
            "ticks": ""
           }
          },
          "colorscale": {
           "diverging": [
            [
             0,
             "#8e0152"
            ],
            [
             0.1,
             "#c51b7d"
            ],
            [
             0.2,
             "#de77ae"
            ],
            [
             0.3,
             "#f1b6da"
            ],
            [
             0.4,
             "#fde0ef"
            ],
            [
             0.5,
             "#f7f7f7"
            ],
            [
             0.6,
             "#e6f5d0"
            ],
            [
             0.7,
             "#b8e186"
            ],
            [
             0.8,
             "#7fbc41"
            ],
            [
             0.9,
             "#4d9221"
            ],
            [
             1,
             "#276419"
            ]
           ],
           "sequential": [
            [
             0,
             "#0d0887"
            ],
            [
             0.1111111111111111,
             "#46039f"
            ],
            [
             0.2222222222222222,
             "#7201a8"
            ],
            [
             0.3333333333333333,
             "#9c179e"
            ],
            [
             0.4444444444444444,
             "#bd3786"
            ],
            [
             0.5555555555555556,
             "#d8576b"
            ],
            [
             0.6666666666666666,
             "#ed7953"
            ],
            [
             0.7777777777777778,
             "#fb9f3a"
            ],
            [
             0.8888888888888888,
             "#fdca26"
            ],
            [
             1,
             "#f0f921"
            ]
           ],
           "sequentialminus": [
            [
             0,
             "#0d0887"
            ],
            [
             0.1111111111111111,
             "#46039f"
            ],
            [
             0.2222222222222222,
             "#7201a8"
            ],
            [
             0.3333333333333333,
             "#9c179e"
            ],
            [
             0.4444444444444444,
             "#bd3786"
            ],
            [
             0.5555555555555556,
             "#d8576b"
            ],
            [
             0.6666666666666666,
             "#ed7953"
            ],
            [
             0.7777777777777778,
             "#fb9f3a"
            ],
            [
             0.8888888888888888,
             "#fdca26"
            ],
            [
             1,
             "#f0f921"
            ]
           ]
          },
          "colorway": [
           "#636efa",
           "#EF553B",
           "#00cc96",
           "#ab63fa",
           "#FFA15A",
           "#19d3f3",
           "#FF6692",
           "#B6E880",
           "#FF97FF",
           "#FECB52"
          ],
          "font": {
           "color": "#2a3f5f"
          },
          "geo": {
           "bgcolor": "white",
           "lakecolor": "white",
           "landcolor": "#E5ECF6",
           "showlakes": true,
           "showland": true,
           "subunitcolor": "white"
          },
          "hoverlabel": {
           "align": "left"
          },
          "hovermode": "closest",
          "mapbox": {
           "style": "light"
          },
          "paper_bgcolor": "white",
          "plot_bgcolor": "#E5ECF6",
          "polar": {
           "angularaxis": {
            "gridcolor": "white",
            "linecolor": "white",
            "ticks": ""
           },
           "bgcolor": "#E5ECF6",
           "radialaxis": {
            "gridcolor": "white",
            "linecolor": "white",
            "ticks": ""
           }
          },
          "scene": {
           "xaxis": {
            "backgroundcolor": "#E5ECF6",
            "gridcolor": "white",
            "gridwidth": 2,
            "linecolor": "white",
            "showbackground": true,
            "ticks": "",
            "zerolinecolor": "white"
           },
           "yaxis": {
            "backgroundcolor": "#E5ECF6",
            "gridcolor": "white",
            "gridwidth": 2,
            "linecolor": "white",
            "showbackground": true,
            "ticks": "",
            "zerolinecolor": "white"
           },
           "zaxis": {
            "backgroundcolor": "#E5ECF6",
            "gridcolor": "white",
            "gridwidth": 2,
            "linecolor": "white",
            "showbackground": true,
            "ticks": "",
            "zerolinecolor": "white"
           }
          },
          "shapedefaults": {
           "line": {
            "color": "#2a3f5f"
           }
          },
          "ternary": {
           "aaxis": {
            "gridcolor": "white",
            "linecolor": "white",
            "ticks": ""
           },
           "baxis": {
            "gridcolor": "white",
            "linecolor": "white",
            "ticks": ""
           },
           "bgcolor": "#E5ECF6",
           "caxis": {
            "gridcolor": "white",
            "linecolor": "white",
            "ticks": ""
           }
          },
          "title": {
           "x": 0.05
          },
          "xaxis": {
           "automargin": true,
           "gridcolor": "white",
           "linecolor": "white",
           "ticks": "",
           "title": {
            "standoff": 15
           },
           "zerolinecolor": "white",
           "zerolinewidth": 2
          },
          "yaxis": {
           "automargin": true,
           "gridcolor": "white",
           "linecolor": "white",
           "ticks": "",
           "title": {
            "standoff": 15
           },
           "zerolinecolor": "white",
           "zerolinewidth": 2
          }
         }
        },
        "title": {
         "font": {
          "color": "#4D5663"
         },
         "text": "Use of Registered bikes Vs Casual bikes by Weather"
        },
        "xaxis": {
         "gridcolor": "#E1E5ED",
         "showgrid": true,
         "tickfont": {
          "color": "#4D5663"
         },
         "title": {
          "font": {
           "color": "#4D5663"
          },
          "text": "Weather (1,2,3,4)"
         },
         "zerolinecolor": "#E1E5ED"
        },
        "yaxis": {
         "gridcolor": "#E1E5ED",
         "showgrid": true,
         "tickfont": {
          "color": "#4D5663"
         },
         "title": {
          "font": {
           "color": "#4D5663"
          },
          "text": "Number of users"
         },
         "zerolinecolor": "#E1E5ED"
        }
       }
      },
      "text/html": [
       "<div>                            <div id=\"9f98c8cc-1fb6-4757-8876-7979a8416caf\" class=\"plotly-graph-div\" style=\"height:525px; width:100%;\"></div>            <script type=\"text/javascript\">                require([\"plotly\"], function(Plotly) {                    window.PLOTLYENV=window.PLOTLYENV || {};\n",
       "                    window.PLOTLYENV.BASE_URL='https://plot.ly';                                    if (document.getElementById(\"9f98c8cc-1fb6-4757-8876-7979a8416caf\")) {                    Plotly.newPlot(                        \"9f98c8cc-1fb6-4757-8876-7979a8416caf\",                        [{\"marker\": {\"color\": \"rgba(255, 153, 51, 0.6)\", \"line\": {\"color\": \"rgba(255, 153, 51, 1.0)\", \"width\": 1}}, \"name\": \"registered\", \"orientation\": \"v\", \"text\": \"\", \"type\": \"bar\", \"x\": [1, 2, 3, 4], \"y\": [164.3238412336809, 145.57020246478874, 95.52360817477097, 71.66666666666667]}, {\"marker\": {\"color\": \"rgba(55, 128, 191, 0.6)\", \"line\": {\"color\": \"rgba(55, 128, 191, 1.0)\", \"width\": 1}}, \"name\": \"casual\", \"orientation\": \"v\", \"text\": \"\", \"type\": \"bar\", \"x\": [1, 2, 3, 4], \"y\": [40.545430649259615, 29.595290492957748, 16.05567300916138, 2.6666666666666665]}],                        {\"legend\": {\"bgcolor\": \"#F5F6F9\", \"font\": {\"color\": \"#4D5663\"}}, \"paper_bgcolor\": \"#F5F6F9\", \"plot_bgcolor\": \"#F5F6F9\", \"template\": {\"data\": {\"bar\": [{\"error_x\": {\"color\": \"#2a3f5f\"}, \"error_y\": {\"color\": \"#2a3f5f\"}, \"marker\": {\"line\": {\"color\": \"#E5ECF6\", \"width\": 0.5}}, \"type\": \"bar\"}], \"barpolar\": [{\"marker\": {\"line\": {\"color\": \"#E5ECF6\", \"width\": 0.5}}, \"type\": \"barpolar\"}], \"carpet\": [{\"aaxis\": {\"endlinecolor\": \"#2a3f5f\", \"gridcolor\": \"white\", \"linecolor\": \"white\", \"minorgridcolor\": \"white\", \"startlinecolor\": \"#2a3f5f\"}, \"baxis\": {\"endlinecolor\": \"#2a3f5f\", \"gridcolor\": \"white\", \"linecolor\": \"white\", \"minorgridcolor\": \"white\", \"startlinecolor\": \"#2a3f5f\"}, \"type\": \"carpet\"}], \"choropleth\": [{\"colorbar\": {\"outlinewidth\": 0, \"ticks\": \"\"}, \"type\": \"choropleth\"}], \"contour\": [{\"colorbar\": {\"outlinewidth\": 0, \"ticks\": \"\"}, \"colorscale\": [[0.0, \"#0d0887\"], [0.1111111111111111, \"#46039f\"], [0.2222222222222222, \"#7201a8\"], [0.3333333333333333, \"#9c179e\"], [0.4444444444444444, \"#bd3786\"], [0.5555555555555556, \"#d8576b\"], [0.6666666666666666, \"#ed7953\"], [0.7777777777777778, \"#fb9f3a\"], [0.8888888888888888, \"#fdca26\"], [1.0, \"#f0f921\"]], \"type\": \"contour\"}], \"contourcarpet\": [{\"colorbar\": {\"outlinewidth\": 0, \"ticks\": \"\"}, \"type\": \"contourcarpet\"}], \"heatmap\": [{\"colorbar\": {\"outlinewidth\": 0, \"ticks\": \"\"}, \"colorscale\": [[0.0, \"#0d0887\"], [0.1111111111111111, \"#46039f\"], [0.2222222222222222, \"#7201a8\"], [0.3333333333333333, \"#9c179e\"], [0.4444444444444444, \"#bd3786\"], [0.5555555555555556, \"#d8576b\"], [0.6666666666666666, \"#ed7953\"], [0.7777777777777778, \"#fb9f3a\"], [0.8888888888888888, \"#fdca26\"], [1.0, \"#f0f921\"]], \"type\": \"heatmap\"}], \"heatmapgl\": [{\"colorbar\": {\"outlinewidth\": 0, \"ticks\": \"\"}, \"colorscale\": [[0.0, \"#0d0887\"], [0.1111111111111111, \"#46039f\"], [0.2222222222222222, \"#7201a8\"], [0.3333333333333333, \"#9c179e\"], [0.4444444444444444, \"#bd3786\"], [0.5555555555555556, \"#d8576b\"], [0.6666666666666666, \"#ed7953\"], [0.7777777777777778, \"#fb9f3a\"], [0.8888888888888888, \"#fdca26\"], [1.0, \"#f0f921\"]], \"type\": \"heatmapgl\"}], \"histogram\": [{\"marker\": {\"colorbar\": {\"outlinewidth\": 0, \"ticks\": \"\"}}, \"type\": \"histogram\"}], \"histogram2d\": [{\"colorbar\": {\"outlinewidth\": 0, \"ticks\": \"\"}, \"colorscale\": [[0.0, \"#0d0887\"], [0.1111111111111111, \"#46039f\"], [0.2222222222222222, \"#7201a8\"], [0.3333333333333333, \"#9c179e\"], [0.4444444444444444, \"#bd3786\"], [0.5555555555555556, \"#d8576b\"], [0.6666666666666666, \"#ed7953\"], [0.7777777777777778, \"#fb9f3a\"], [0.8888888888888888, \"#fdca26\"], [1.0, \"#f0f921\"]], \"type\": \"histogram2d\"}], \"histogram2dcontour\": [{\"colorbar\": {\"outlinewidth\": 0, \"ticks\": \"\"}, \"colorscale\": [[0.0, \"#0d0887\"], [0.1111111111111111, \"#46039f\"], [0.2222222222222222, \"#7201a8\"], [0.3333333333333333, \"#9c179e\"], [0.4444444444444444, \"#bd3786\"], [0.5555555555555556, \"#d8576b\"], [0.6666666666666666, \"#ed7953\"], [0.7777777777777778, \"#fb9f3a\"], [0.8888888888888888, \"#fdca26\"], [1.0, \"#f0f921\"]], \"type\": \"histogram2dcontour\"}], \"mesh3d\": [{\"colorbar\": {\"outlinewidth\": 0, \"ticks\": \"\"}, \"type\": \"mesh3d\"}], \"parcoords\": [{\"line\": {\"colorbar\": {\"outlinewidth\": 0, \"ticks\": \"\"}}, \"type\": \"parcoords\"}], \"pie\": [{\"automargin\": true, \"type\": \"pie\"}], \"scatter\": [{\"marker\": {\"colorbar\": {\"outlinewidth\": 0, \"ticks\": \"\"}}, \"type\": \"scatter\"}], \"scatter3d\": [{\"line\": {\"colorbar\": {\"outlinewidth\": 0, \"ticks\": \"\"}}, \"marker\": {\"colorbar\": {\"outlinewidth\": 0, \"ticks\": \"\"}}, \"type\": \"scatter3d\"}], \"scattercarpet\": [{\"marker\": {\"colorbar\": {\"outlinewidth\": 0, \"ticks\": \"\"}}, \"type\": \"scattercarpet\"}], \"scattergeo\": [{\"marker\": {\"colorbar\": {\"outlinewidth\": 0, \"ticks\": \"\"}}, \"type\": \"scattergeo\"}], \"scattergl\": [{\"marker\": {\"colorbar\": {\"outlinewidth\": 0, \"ticks\": \"\"}}, \"type\": \"scattergl\"}], \"scattermapbox\": [{\"marker\": {\"colorbar\": {\"outlinewidth\": 0, \"ticks\": \"\"}}, \"type\": \"scattermapbox\"}], \"scatterpolar\": [{\"marker\": {\"colorbar\": {\"outlinewidth\": 0, \"ticks\": \"\"}}, \"type\": \"scatterpolar\"}], \"scatterpolargl\": [{\"marker\": {\"colorbar\": {\"outlinewidth\": 0, \"ticks\": \"\"}}, \"type\": \"scatterpolargl\"}], \"scatterternary\": [{\"marker\": {\"colorbar\": {\"outlinewidth\": 0, \"ticks\": \"\"}}, \"type\": \"scatterternary\"}], \"surface\": [{\"colorbar\": {\"outlinewidth\": 0, \"ticks\": \"\"}, \"colorscale\": [[0.0, \"#0d0887\"], [0.1111111111111111, \"#46039f\"], [0.2222222222222222, \"#7201a8\"], [0.3333333333333333, \"#9c179e\"], [0.4444444444444444, \"#bd3786\"], [0.5555555555555556, \"#d8576b\"], [0.6666666666666666, \"#ed7953\"], [0.7777777777777778, \"#fb9f3a\"], [0.8888888888888888, \"#fdca26\"], [1.0, \"#f0f921\"]], \"type\": \"surface\"}], \"table\": [{\"cells\": {\"fill\": {\"color\": \"#EBF0F8\"}, \"line\": {\"color\": \"white\"}}, \"header\": {\"fill\": {\"color\": \"#C8D4E3\"}, \"line\": {\"color\": \"white\"}}, \"type\": \"table\"}]}, \"layout\": {\"annotationdefaults\": {\"arrowcolor\": \"#2a3f5f\", \"arrowhead\": 0, \"arrowwidth\": 1}, \"coloraxis\": {\"colorbar\": {\"outlinewidth\": 0, \"ticks\": \"\"}}, \"colorscale\": {\"diverging\": [[0, \"#8e0152\"], [0.1, \"#c51b7d\"], [0.2, \"#de77ae\"], [0.3, \"#f1b6da\"], [0.4, \"#fde0ef\"], [0.5, \"#f7f7f7\"], [0.6, \"#e6f5d0\"], [0.7, \"#b8e186\"], [0.8, \"#7fbc41\"], [0.9, \"#4d9221\"], [1, \"#276419\"]], \"sequential\": [[0.0, \"#0d0887\"], [0.1111111111111111, \"#46039f\"], [0.2222222222222222, \"#7201a8\"], [0.3333333333333333, \"#9c179e\"], [0.4444444444444444, \"#bd3786\"], [0.5555555555555556, \"#d8576b\"], [0.6666666666666666, \"#ed7953\"], [0.7777777777777778, \"#fb9f3a\"], [0.8888888888888888, \"#fdca26\"], [1.0, \"#f0f921\"]], \"sequentialminus\": [[0.0, \"#0d0887\"], [0.1111111111111111, \"#46039f\"], [0.2222222222222222, \"#7201a8\"], [0.3333333333333333, \"#9c179e\"], [0.4444444444444444, \"#bd3786\"], [0.5555555555555556, \"#d8576b\"], [0.6666666666666666, \"#ed7953\"], [0.7777777777777778, \"#fb9f3a\"], [0.8888888888888888, \"#fdca26\"], [1.0, \"#f0f921\"]]}, \"colorway\": [\"#636efa\", \"#EF553B\", \"#00cc96\", \"#ab63fa\", \"#FFA15A\", \"#19d3f3\", \"#FF6692\", \"#B6E880\", \"#FF97FF\", \"#FECB52\"], \"font\": {\"color\": \"#2a3f5f\"}, \"geo\": {\"bgcolor\": \"white\", \"lakecolor\": \"white\", \"landcolor\": \"#E5ECF6\", \"showlakes\": true, \"showland\": true, \"subunitcolor\": \"white\"}, \"hoverlabel\": {\"align\": \"left\"}, \"hovermode\": \"closest\", \"mapbox\": {\"style\": \"light\"}, \"paper_bgcolor\": \"white\", \"plot_bgcolor\": \"#E5ECF6\", \"polar\": {\"angularaxis\": {\"gridcolor\": \"white\", \"linecolor\": \"white\", \"ticks\": \"\"}, \"bgcolor\": \"#E5ECF6\", \"radialaxis\": {\"gridcolor\": \"white\", \"linecolor\": \"white\", \"ticks\": \"\"}}, \"scene\": {\"xaxis\": {\"backgroundcolor\": \"#E5ECF6\", \"gridcolor\": \"white\", \"gridwidth\": 2, \"linecolor\": \"white\", \"showbackground\": true, \"ticks\": \"\", \"zerolinecolor\": \"white\"}, \"yaxis\": {\"backgroundcolor\": \"#E5ECF6\", \"gridcolor\": \"white\", \"gridwidth\": 2, \"linecolor\": \"white\", \"showbackground\": true, \"ticks\": \"\", \"zerolinecolor\": \"white\"}, \"zaxis\": {\"backgroundcolor\": \"#E5ECF6\", \"gridcolor\": \"white\", \"gridwidth\": 2, \"linecolor\": \"white\", \"showbackground\": true, \"ticks\": \"\", \"zerolinecolor\": \"white\"}}, \"shapedefaults\": {\"line\": {\"color\": \"#2a3f5f\"}}, \"ternary\": {\"aaxis\": {\"gridcolor\": \"white\", \"linecolor\": \"white\", \"ticks\": \"\"}, \"baxis\": {\"gridcolor\": \"white\", \"linecolor\": \"white\", \"ticks\": \"\"}, \"bgcolor\": \"#E5ECF6\", \"caxis\": {\"gridcolor\": \"white\", \"linecolor\": \"white\", \"ticks\": \"\"}}, \"title\": {\"x\": 0.05}, \"xaxis\": {\"automargin\": true, \"gridcolor\": \"white\", \"linecolor\": \"white\", \"ticks\": \"\", \"title\": {\"standoff\": 15}, \"zerolinecolor\": \"white\", \"zerolinewidth\": 2}, \"yaxis\": {\"automargin\": true, \"gridcolor\": \"white\", \"linecolor\": \"white\", \"ticks\": \"\", \"title\": {\"standoff\": 15}, \"zerolinecolor\": \"white\", \"zerolinewidth\": 2}}}, \"title\": {\"font\": {\"color\": \"#4D5663\"}, \"text\": \"Use of Registered bikes Vs Casual bikes by Weather\"}, \"xaxis\": {\"gridcolor\": \"#E1E5ED\", \"showgrid\": true, \"tickfont\": {\"color\": \"#4D5663\"}, \"title\": {\"font\": {\"color\": \"#4D5663\"}, \"text\": \"Weather (1,2,3,4)\"}, \"zerolinecolor\": \"#E1E5ED\"}, \"yaxis\": {\"gridcolor\": \"#E1E5ED\", \"showgrid\": true, \"tickfont\": {\"color\": \"#4D5663\"}, \"title\": {\"font\": {\"color\": \"#4D5663\"}, \"text\": \"Number of users\"}, \"zerolinecolor\": \"#E1E5ED\"}},                        {\"showLink\": true, \"linkText\": \"Export to plot.ly\", \"plotlyServerURL\": \"https://plot.ly\", \"responsive\": true}                    ).then(function(){\n",
       "                            \n",
       "var gd = document.getElementById('9f98c8cc-1fb6-4757-8876-7979a8416caf');\n",
       "var x = new MutationObserver(function (mutations, observer) {{\n",
       "        var display = window.getComputedStyle(gd).display;\n",
       "        if (!display || display === 'none') {{\n",
       "            console.log([gd, 'removed!']);\n",
       "            Plotly.purge(gd);\n",
       "            observer.disconnect();\n",
       "        }}\n",
       "}});\n",
       "\n",
       "// Listen for the removal of the full notebook cells\n",
       "var notebookContainer = gd.closest('#notebook-container');\n",
       "if (notebookContainer) {{\n",
       "    x.observe(notebookContainer, {childList: true});\n",
       "}}\n",
       "\n",
       "// Listen for the clearing of the current output cell\n",
       "var outputEl = gd.closest('.output');\n",
       "if (outputEl) {{\n",
       "    x.observe(outputEl, {childList: true});\n",
       "}}\n",
       "\n",
       "                        })                };                });            </script>        </div>"
      ]
     },
     "metadata": {},
     "output_type": "display_data"
    }
   ],
   "source": [
    "byWeather[['registered','casual']].iplot(kind='bar',\n",
    "                            title='Use of Registered bikes Vs Casual bikes by Weather',         \n",
    "                            xTitle='Weather (1,2,3,4)',\n",
    "                            yTitle='Number of users')"
   ]
  },
  {
   "cell_type": "markdown",
   "metadata": {},
   "source": [
    "<span style=\"background-color: #DAF7A6\"> From the figure above, we can see that the use of bicycles is heavily dependent on weather. As the weather deteriorites, use of bikes significantly drops down </span>"
   ]
  },
  {
   "cell_type": "markdown",
   "metadata": {},
   "source": [
    "# <span style=\"background-color: #CBBDB6\">Final conclusion"
   ]
  },
  {
   "cell_type": "markdown",
   "metadata": {},
   "source": [
    "<span style=\"background-color: #DAF7A6\"> From this data analysis, we can conclude that there has been a significant increase in registered users of bikes from 2011 to 2012.In case of casual users the trend also shows an increase but significantly less compared to registered users. The use of bikes is higher in weekdays compared to weekends.    </span>"
   ]
  },
  {
   "cell_type": "code",
   "execution_count": null,
   "metadata": {},
   "outputs": [],
   "source": []
  },
  {
   "cell_type": "code",
   "execution_count": null,
   "metadata": {},
   "outputs": [],
   "source": []
  }
 ],
 "metadata": {
  "kernelspec": {
   "display_name": "Python 3",
   "language": "python",
   "name": "python3"
  },
  "language_info": {
   "codemirror_mode": {
    "name": "ipython",
    "version": 3
   },
   "file_extension": ".py",
   "mimetype": "text/x-python",
   "name": "python",
   "nbconvert_exporter": "python",
   "pygments_lexer": "ipython3",
   "version": "3.8.3"
  }
 },
 "nbformat": 4,
 "nbformat_minor": 4
}
